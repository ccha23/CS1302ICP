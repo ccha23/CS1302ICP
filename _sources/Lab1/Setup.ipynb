{
 "cells": [
  {
   "cell_type": "markdown",
   "metadata": {
    "slideshow": {
     "slide_type": "slide"
    }
   },
   "source": [
    "# Setup\n",
    "CS1302 Introduction to Computer Programming\n",
    "___"
   ]
  },
  {
   "cell_type": "markdown",
   "metadata": {
    "slideshow": {
     "slide_type": "slide"
    }
   },
   "source": [
    "## JupyterHub"
   ]
  },
  {
   "cell_type": "markdown",
   "metadata": {
    "slideshow": {
     "slide_type": "subslide"
    }
   },
   "source": [
    "### How to access the JupyterHub Server?"
   ]
  },
  {
   "cell_type": "markdown",
   "metadata": {
    "nbgrader": {
     "grade": false,
     "grade_id": "Login",
     "locked": true,
     "schema_version": 3,
     "solution": false,
     "task": false
    },
    "slideshow": {
     "slide_type": "fragment"
    }
   },
   "source": [
    "1. Enter the url of the Jupyterhub server [ltjh.cs.cityu.edu.hk](https://ltjh.cs.cityu.edu.hk) in a web browser.\n",
    "1. Enter your [EID](https://www.cityu.edu.hk/esu/eid.htm) and Password in the fields `Username` and `Password` respectively.\n",
    "1. Click the `Sign In` button."
   ]
  },
  {
   "cell_type": "markdown",
   "metadata": {
    "slideshow": {
     "slide_type": "-"
    }
   },
   "source": [
    "<img src=\"https://www.cs.cityu.edu.hk/~ccha23/cs1302/Login.gif\" />"
   ]
  },
  {
   "cell_type": "markdown",
   "metadata": {
    "slideshow": {
     "slide_type": "subslide"
    }
   },
   "source": [
    "**Tips**\n",
    "- If the browser is stuck at the following page loading the server, `refresh` your browser.  \n",
    "  ![server stuck](https://www.cs.cityu.edu.hk/~ccha23/cs1302/server_stuck.png)\n",
    "- If you see the following page with ``My Server`` button, click on that button.  \n",
    "  ![server start](https://www.cs.cityu.edu.hk/~ccha23/cs1302/server_start.png)\n",
    "- If you see the ``Start My Server`` button instead, click on that button to start your server.  \n",
    "  ![server stopped](https://www.cs.cityu.edu.hk/~ccha23/cs1302/server_stopped.png)\n",
    "- For other issues, try logging out using the `Logout` button at the top right-hand corner, and then logging in again. You may also click the `Control Panel` button and restart your server."
   ]
  },
  {
   "cell_type": "markdown",
   "metadata": {
    "slideshow": {
     "slide_type": "slide"
    }
   },
   "source": [
    "### How to access course materials?"
   ]
  },
  {
   "cell_type": "markdown",
   "metadata": {
    "nbgrader": {
     "grade": false,
     "grade_id": "Fetch",
     "locked": true,
     "schema_version": 3,
     "solution": false,
     "task": false
    },
    "slideshow": {
     "slide_type": "fragment"
    }
   },
   "source": [
    "1. Click on the `Assignments` tab, and ensure `cs1302` is chosen in the drop down list.\n",
    "1. In the `Released assignments panel`, click the button `Fetch` to download `Lab1`. \n",
    "1. `Lab1` should appear in the `Downloaded assignments panel`. \n",
    "1. Click on the little arrow next to `Lab1` to show its content.  \n",
    "1. Ctrl-Click on `Lab1` to open the assignment folder on a new browser tab. \n",
    "1. On the new browser, click the folder `cs1302` to navigate to the notebook `Setup.ipynb`.\n",
    "1. Click on `Setup.ipynb` to open the notebook."
   ]
  },
  {
   "cell_type": "markdown",
   "metadata": {
    "slideshow": {
     "slide_type": "-"
    }
   },
   "source": [
    "<img src=\"https://www.cs.cityu.edu.hk/~ccha23/cs1302/Fetch.gif\" />"
   ]
  },
  {
   "cell_type": "markdown",
   "metadata": {
    "slideshow": {
     "slide_type": "fragment"
    }
   },
   "source": [
    "**Tips**\n",
    "1. Note that all the downloaded course materials will be placed under the `cs1302` folder of your home directory by default, so you need not go to the `Assignments` tab again to open the downloaded materials. \n",
    "E.g., you can access the `Setup.ipynb` notebook as follows:\n",
    "    1. Going to the `File` tab, which is the default JupyterHub homepage after login or when you click the logo on the top left-hand corner.\n",
    "    1. Enter the notebook URL [ltjh.cs.cityu.edu.hk/user-redirect/tree/cs1302/Lab1/Setup.ipynb](https://ltjh.cs.cityu.edu.hk/user-redirect/tree/cs1302/Lab1/Setup.ipynb). (See the [documentation](https://jupyterhub.readthedocs.io/en/stable/reference/urls.html) for details.)\n",
    "1. If for any reason you want to Fetch `Lab1` again, you have to first rename your `Lab1` folder to a different name such as `Lab1_orig`. You can do so by selecting the folder and click rename. You can also remove the folder by evaluating `!rm -rf ~/cs1302/Lab1` in a code cell. (Be very cautious as removed folders cannot be recovered.)"
   ]
  },
  {
   "cell_type": "markdown",
   "metadata": {
    "slideshow": {
     "slide_type": "slide"
    }
   },
   "source": [
    "## Jupyter Notebook"
   ]
  },
  {
   "cell_type": "markdown",
   "metadata": {
    "slideshow": {
     "slide_type": "subslide"
    }
   },
   "source": [
    "### How to complete a lab assignment?"
   ]
  },
  {
   "cell_type": "markdown",
   "metadata": {
    "slideshow": {
     "slide_type": "fragment"
    }
   },
   "source": [
    "After opening the `Lab1` notebook `Setup.ipynb`:\n",
    "1. Click `Help->User Interface Tour` to learn the jupyter notebook interface. \n",
    "1. Click `Help->Notebook Help` and skim through the tutorials on `Running Code` and `Working with Markdown Cells`."
   ]
  },
  {
   "cell_type": "markdown",
   "metadata": {
    "nbgrader": {
     "grade": false,
     "grade_id": "qHelloWorld",
     "locked": true,
     "schema_version": 3,
     "solution": false,
     "task": false
    },
    "slideshow": {
     "slide_type": "fragment"
    }
   },
   "source": [
    "**Exercise** In learning a new computer language, the first program to write is often the [\"Hello, World!\"](https://en.wikipedia.org/wiki/%22Hello,_World!%22_program) program, which says Hello to the world. Type the program `print('Hello, World!')` below and run it with `Shift+Enter`."
   ]
  },
  {
   "cell_type": "code",
   "execution_count": 1,
   "metadata": {
    "ExecuteTime": {
     "end_time": "2020-12-22T09:09:57.923284Z",
     "start_time": "2020-12-22T09:09:57.919345Z"
    },
    "nbgrader": {
     "grade": false,
     "grade_id": "HelloWorld",
     "locked": false,
     "schema_version": 3,
     "solution": true,
     "task": false
    },
    "scrolled": true,
    "slideshow": {
     "slide_type": "-"
    }
   },
   "outputs": [
    {
     "name": "stdout",
     "output_type": "stream",
     "text": [
      "Hello, World!\n"
     ]
    }
   ],
   "source": [
    "### BEGIN SOLUTION\n",
    "print('Hello, World!')\n",
    "### END SOLUTION"
   ]
  },
  {
   "cell_type": "markdown",
   "metadata": {
    "slideshow": {
     "slide_type": "subslide"
    }
   },
   "source": [
    "We often ask you to write a code in a particular cell. Make sure you fill in any place that says `YOUR CODE HERE` or \"YOUR ANSWER HERE\"."
   ]
  },
  {
   "cell_type": "markdown",
   "metadata": {
    "slideshow": {
     "slide_type": "fragment"
    }
   },
   "source": [
    "In order to check your work thoroughly, there will visible and hidden test cases. The following is a visible test you can run to check your answer: The test returns an assertion error only if your program does not print the correct message."
   ]
  },
  {
   "cell_type": "code",
   "execution_count": 2,
   "metadata": {
    "ExecuteTime": {
     "end_time": "2020-12-22T09:09:59.534795Z",
     "start_time": "2020-12-22T09:09:59.530988Z"
    },
    "nbgrader": {
     "grade": true,
     "grade_id": "cell-4b2418298822abb8",
     "locked": true,
     "points": 1,
     "schema_version": 3,
     "solution": false,
     "task": false
    },
    "slideshow": {
     "slide_type": "-"
    }
   },
   "outputs": [],
   "source": [
    "# Run this test cell right after running your \"Hello, World!\" program.\n",
    "import sys, io\n",
    "old_stdout, sys.stdout = sys.stdout, io.StringIO()\n",
    "exec(In[-2])\n",
    "printed = sys.stdout.getvalue()\n",
    "sys.stdout = old_stdout\n",
    "assert printed == 'Hello, World!\\n'"
   ]
  },
  {
   "cell_type": "markdown",
   "metadata": {
    "slideshow": {
     "slide_type": "subslide"
    }
   },
   "source": [
    "**Tips**\n",
    "1. You can repeatedly modify your solution and run the test cell until your solution passes the test. You are not required to know how the test cell is written. \n",
    "1. To assess your solution thoroughly, we often run new tests hidden from you after you have submitted your notebook. There is no partial credit for a partially correct solution that works for the visible test but fails for the hidden test. Therefore, *you should ensure your solution works in general rather than just the visible tests*.\n",
    "1. You can click the `Validate` button to run all the visible tests.\n",
    "1. If you open the same notebook multiple times in different browser windows, be careful in making changes in different windows. Inconsistent changes may lead to conflicts or loss of your data.\n",
    "1. If your notebook fails to run any code, the Kernel might have died. You can restart the kernel with `Kernel->Restart`. If restarting fails, check your code cells to see if there is any code that breaks the kernel."
   ]
  },
  {
   "cell_type": "markdown",
   "metadata": {
    "slideshow": {
     "slide_type": "slide"
    }
   },
   "source": [
    "### How to submit a notebook"
   ]
  },
  {
   "cell_type": "markdown",
   "metadata": {
    "nbgrader": {
     "grade": false,
     "grade_id": "Check",
     "locked": true,
     "schema_version": 3,
     "solution": false,
     "task": false
    },
    "slideshow": {
     "slide_type": "fragment"
    }
   },
   "source": [
    "- Although Lab1 does not count towards your final grade, you are required to submit it, to get familiar with the procedure.\n",
    "- Before you submit, make sure everything runs as expected:\n",
    "    1. **Restart the kernel**: `Kernel->Restart` \n",
    "    1. **run all cells**: `Cell->Run All`"
   ]
  },
  {
   "cell_type": "markdown",
   "metadata": {
    "nbgrader": {
     "grade": false,
     "grade_id": "Submit",
     "locked": true,
     "schema_version": 3,
     "solution": false,
     "task": false
    },
    "slideshow": {
     "slide_type": "fragment"
    }
   },
   "source": [
    "To submit your notebook:\n",
    "1. Go to `Assignment` tab of JupyterHub where you fetched the Lab assignment. \n",
    "1. Expand the Lab1 folder and click the `validate` button next to the notebook(s) to check if all visible tests pass.\n",
    "1. Click `Submit` to submit your notebook. \n",
    "1. You may submit as many times as you wish before the due date as we collect your latest submission for grading. \n",
    "    - *No late submission* will be collected without valid justifications.\n",
    "    - *Double check* that you have submitted the correct Lab assignment.\n",
    "    - You are responsible for *recording your submission attempt* with a valid timestamp in case of technical issues."
   ]
  },
  {
   "cell_type": "markdown",
   "metadata": {
    "slideshow": {
     "slide_type": "fragment"
    }
   },
   "source": [
    "**Tips**\n",
    "1. You normally have at least 5 days to work on the lab after your lab session. \n",
    "1. You can check the due dates of all the labs from the course homepage. \n",
    "1. You may seek help from us or your classmates. However, you must write your own solution and indicate who your collaborators are using the code:"
   ]
  },
  {
   "cell_type": "code",
   "execution_count": 7,
   "metadata": {
    "ExecuteTime": {
     "end_time": "2020-12-22T09:54:09.363720Z",
     "start_time": "2020-12-22T09:54:09.360063Z"
    }
   },
   "outputs": [],
   "source": [
    "COLLABORATORS = ['WONG Xiu Fong', 'LEE Man Kit']"
   ]
  },
  {
   "cell_type": "markdown",
   "metadata": {},
   "source": [
    "## Advanced Usage"
   ]
  },
  {
   "cell_type": "markdown",
   "metadata": {
    "slideshow": {
     "slide_type": "slide"
    }
   },
   "source": [
    "### How to print or backup a notebook?"
   ]
  },
  {
   "cell_type": "markdown",
   "metadata": {
    "slideshow": {
     "slide_type": "fragment"
    }
   },
   "source": [
    "To convert a notebook to pdf, we can print it to pdf instead: \n",
    "- `File->Print Preview`\n",
    "\n",
    "However, animation and video cannot be properly printed. You are highly recommended to takes notes on the dynamic notebook instead on the hard copy."
   ]
  },
  {
   "cell_type": "markdown",
   "metadata": {
    "slideshow": {
     "slide_type": "fragment"
    }
   },
   "source": [
    "To download a copy of your notebook:\n",
    "- `File->Download as->Notebook (.ipynb)`\n",
    "\n",
    "You can run the notebook\n",
    "- locally using [Anaconda](https://www.anaconda.com/products/individual), or\n",
    "- remotely on other JupyHub services such as [Google Colab](https://colab.research.google.com/).\n",
    "\n",
    "However, you would need to learn how to manage and install the additional packages required by the course."
   ]
  },
  {
   "cell_type": "markdown",
   "metadata": {},
   "source": [
    "### Jupyter Lab and extensions"
   ]
  },
  {
   "cell_type": "markdown",
   "metadata": {},
   "source": [
    "Instead of the classic notebook interface, you may also play with the new interface called JupyterLab by visiting [ltjh.cs.cityu.edu.hk/user-redirect/lab/](https://ltjh.cs.cityu.edu.hk/user-redirect/lab/). \n",
    "\n",
    "\n",
    "Note that the new interface does not support the validation and submission of lab assignment. It is currently under [active development on GitHub](https://github.com/jupyterlab/jupyterlab), so be prepared to see [bugs](https://en.wikipedia.org/wiki/Software_bug)."
   ]
  },
  {
   "cell_type": "markdown",
   "metadata": {},
   "source": [
    "You may use the [visual debugger](https://github.com/jupyterlab/debugger) in JupyterLab to debug a jupyter notebook. To do you, you should open the notebook and choose XPython as the kernel."
   ]
  },
  {
   "cell_type": "markdown",
   "metadata": {
    "slideshow": {
     "slide_type": "fragment"
    }
   },
   "source": [
    "Both the notebook/lab interface is extensible. For the notebook interface, you can enable extensions from the [nbextensions page](https://ltjh.cs.cityu.edu.hk/user-redirect/nbextensions)."
   ]
  },
  {
   "cell_type": "markdown",
   "metadata": {},
   "source": [
    "### Visual Studio Code"
   ]
  },
  {
   "cell_type": "markdown",
   "metadata": {},
   "source": [
    "For a complete IDE experience, you can open VS Code as follows:\n",
    "- [ltjh.cs.cityu.edu.hk/user-redirect/vscode/](https://ltjh.cs.cityu.edu.hk/user-redirect/vscode/)\n",
    "- In classic notebook interface: `File` tab -> `New` menu -> `VS Code` menu item.\n",
    "- In JupyterLab interface: `File` menu -> `New Launcher` menu item -> `VS Code` icon"
   ]
  }
 ],
 "metadata": {
  "kernelspec": {
   "display_name": "Python 3.7",
   "language": "python",
   "name": "python3"
  },
  "language_info": {
   "codemirror_mode": {
    "name": "ipython",
    "version": 3
   },
   "file_extension": ".py",
   "mimetype": "text/x-python",
   "name": "python",
   "nbconvert_exporter": "python",
   "pygments_lexer": "ipython3",
   "version": "3.7.9"
  },
  "latex_envs": {
   "LaTeX_envs_menu_present": true,
   "autoclose": false,
   "autocomplete": true,
   "bibliofile": "biblio.bib",
   "cite_by": "apalike",
   "current_citInitial": 1,
   "eqLabelWithNumbers": true,
   "eqNumInitial": 1,
   "hotkeys": {
    "equation": "Ctrl-E",
    "itemize": "Ctrl-I"
   },
   "labels_anchors": false,
   "latex_user_defs": false,
   "report_style_numbering": false,
   "user_envs_cfg": false
  },
  "toc": {
   "base_numbering": 1,
   "nav_menu": {},
   "number_sections": true,
   "sideBar": true,
   "skip_h1_title": true,
   "title_cell": "Table of Contents",
   "title_sidebar": "Contents",
   "toc_cell": false,
   "toc_position": {
    "height": "calc(100% - 180px)",
    "left": "10px",
    "top": "150px",
    "width": "283.396px"
   },
   "toc_section_display": true,
   "toc_window_display": true
  }
 },
 "nbformat": 4,
 "nbformat_minor": 4
}
