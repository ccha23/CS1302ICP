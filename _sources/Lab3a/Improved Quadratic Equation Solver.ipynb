{
 "cells": [
  {
   "cell_type": "markdown",
   "metadata": {
    "slideshow": {
     "slide_type": "slide"
    }
   },
   "source": [
    "# Improved Quadratic Equation Solver"
   ]
  },
  {
   "cell_type": "markdown",
   "metadata": {
    "slideshow": {
     "slide_type": "-"
    },
    "tags": [
     "remove-cell"
    ]
   },
   "source": [
    "**CS1302 Introduction to Computer Programming**\n",
    "___"
   ]
  },
  {
   "cell_type": "markdown",
   "metadata": {
    "ExecuteTime": {
     "end_time": "2020-09-13T01:19:41.712043Z",
     "start_time": "2020-09-13T01:19:41.704733Z"
    },
    "slideshow": {
     "slide_type": "subslide"
    }
   },
   "source": [
    "In this notebook, we will improve the quadratic equation solver in the previous lab using conditional executions.  \n",
    "First of all, run the following to setup the environment."
   ]
  },
  {
   "cell_type": "code",
   "execution_count": null,
   "metadata": {
    "ExecuteTime": {
     "end_time": "2020-09-30T07:13:52.446186Z",
     "start_time": "2020-09-30T07:13:52.388694Z"
    },
    "slideshow": {
     "slide_type": "skip"
    }
   },
   "outputs": [],
   "source": [
    "%reset -f\n",
    "from ipywidgets import interact\n",
    "import math"
   ]
  },
  {
   "cell_type": "markdown",
   "metadata": {
    "slideshow": {
     "slide_type": "subslide"
    }
   },
   "source": [
    "## Zero Discriminant"
   ]
  },
  {
   "cell_type": "markdown",
   "metadata": {
    "slideshow": {
     "slide_type": "fragment"
    }
   },
   "source": [
    "Recall that the quadratic equation is\n",
    "\n",
    "$$\n",
    "ax^2+bx+c=0\n",
    "$$\n",
    "where $a$, $b$, and $c$ are real-valued coefficients, and $x$ is the unknown variable. The roots are normally given by\n",
    "\n",
    "$$\n",
    "\\frac{-b-\\sqrt{b^2-4ac}}{2a}, \\frac{-b+\\sqrt{b^2-4ac}}{2a}.\n",
    "$$"
   ]
  },
  {
   "cell_type": "markdown",
   "metadata": {
    "slideshow": {
     "slide_type": "fragment"
    }
   },
   "source": [
    "The roots are the same (repeated) when the discriminant $b^2-4ac$ is zero."
   ]
  },
  {
   "cell_type": "markdown",
   "metadata": {
    "slideshow": {
     "slide_type": "subslide"
    }
   },
   "source": [
    "**Exercise** Assign to `roots` only one root when the discriminant is zero. E.g., if $(a,b,c)=(1,-2,1)$, then `roots` should be assigned the value `1.0` instead of `1.0, 1.0`. If there are two roots, give them in the order of the above formula."
   ]
  },
  {
   "cell_type": "markdown",
   "metadata": {
    "slideshow": {
     "slide_type": "fragment"
    }
   },
   "source": [
    "*Hint*: Use the [`if` statement](https://docs.python.org/3/reference/compound_stmts.html#if)."
   ]
  },
  {
   "cell_type": "markdown",
   "metadata": {},
   "source": [
    "*Hint:* The following is a solution template with some missing code. You are NOT required to follow the template.\n",
    "```Python\n",
    "def get_roots(a, b, c):\n",
    "    d = b**2 - 4 * a * c    # discriminant\n",
    "    if math.isclose(d, 0):\n",
    "        roots = __________  # repeated root\n",
    "    else:\n",
    "        d **= 0.5\n",
    "        roots = __________________________________\n",
    "    return roots\n",
    "```"
   ]
  },
  {
   "cell_type": "code",
   "execution_count": null,
   "metadata": {
    "ExecuteTime": {
     "end_time": "2020-09-30T07:13:54.943039Z",
     "start_time": "2020-09-30T07:13:54.938479Z"
    },
    "deletable": false,
    "nbgrader": {
     "cell_type": "code",
     "checksum": "d714929836f19c943b792e1658f5a8e1",
     "grade": false,
     "grade_id": "zero_determininant",
     "locked": false,
     "schema_version": 3,
     "solution": true,
     "task": false
    },
    "slideshow": {
     "slide_type": "fragment"
    }
   },
   "outputs": [],
   "source": [
    "def get_roots(a, b, c):\n",
    "    d = b**2 - 4 * a * c    # discriminant\n",
    "    if math.isclose(d, 0):\n",
    "    # YOUR CODE HERE\n",
    "    raise NotImplementedError()\n",
    "    return roots"
   ]
  },
  {
   "cell_type": "code",
   "execution_count": null,
   "metadata": {
    "ExecuteTime": {
     "end_time": "2020-09-30T07:13:55.344046Z",
     "start_time": "2020-09-30T07:13:55.331474Z"
    },
    "code_folding": [
     0
    ],
    "deletable": false,
    "editable": false,
    "nbgrader": {
     "cell_type": "code",
     "checksum": "5552d9f5d7b0e36e7e1f1404c894644e",
     "grade": true,
     "grade_id": "test-zero_determinant",
     "locked": true,
     "points": 1,
     "schema_version": 3,
     "solution": false,
     "task": false
    }
   },
   "outputs": [],
   "source": [
    "# tests\n",
    "def test_get_roots(roots, a, b, c):\n",
    "    roots_ = get_roots(a, b, c)\n",
    "    if roots is None:\n",
    "        correct = roots_ is None\n",
    "    elif isinstance(roots, float):\n",
    "        correct = isinstance(roots_, float) and math.isclose(roots, roots_)\n",
    "    else:\n",
    "        correct = isinstance(roots_, tuple) and len(roots_) == 2 and all([\n",
    "            math.isclose(root, roots_) for root, roots_ in zip(roots, roots_)\n",
    "        ])\n",
    "    if not correct:\n",
    "        print(f'With (a, b, c)={a,b,c}, roots should be {roots} not {roots_}.')\n",
    "    assert correct\n",
    "\n",
    "test_get_roots((-1.0, 0.0), 1, 1, 0)\n",
    "test_get_roots(0.0, 1, 0, 0)"
   ]
  },
  {
   "cell_type": "markdown",
   "metadata": {
    "slideshow": {
     "slide_type": "fragment"
    }
   },
   "source": [
    "**Exercise** Why use `math.isclose(d,0)` instead of `d == 0`?"
   ]
  },
  {
   "cell_type": "markdown",
   "metadata": {
    "deletable": false,
    "nbgrader": {
     "cell_type": "markdown",
     "checksum": "12889805830e3af64988ae0de141f1b7",
     "grade": true,
     "grade_id": "isclose",
     "locked": false,
     "points": 1,
     "schema_version": 3,
     "solution": true,
     "task": false
    },
    "slideshow": {
     "slide_type": "fragment"
    }
   },
   "source": [
    "YOUR ANSWER HERE"
   ]
  },
  {
   "cell_type": "markdown",
   "metadata": {
    "slideshow": {
     "slide_type": "slide"
    }
   },
   "source": [
    "## Linear Equation"
   ]
  },
  {
   "cell_type": "markdown",
   "metadata": {
    "slideshow": {
     "slide_type": "fragment"
    }
   },
   "source": [
    "If $a=0$, the earlier formula for the roots are invalid due to division by zero. Nevertheless, the equation remains valid:\n",
    "\n",
    "$$\n",
    "bx + c=0.\n",
    "$$"
   ]
  },
  {
   "cell_type": "markdown",
   "metadata": {},
   "source": [
    "**Exercise** Improve the function `get_roots` to return the root $-\\frac{c}{b}$ if $a=0$."
   ]
  },
  {
   "cell_type": "markdown",
   "metadata": {},
   "source": [
    "*Hint:* Solution template:\n",
    "```Python\n",
    "def get_roots(a, b, c):\n",
    "    d = b**2 - 4 * a * c    # discriminant\n",
    "    if __________________:\n",
    "        roots = ______\n",
    "    elif math.isclose(d, 0):\n",
    "        roots = __________  # repeated root\n",
    "    else:\n",
    "        d **= 0.5\n",
    "        roots = __________________________________\n",
    "    return roots\n",
    "```"
   ]
  },
  {
   "cell_type": "code",
   "execution_count": null,
   "metadata": {
    "ExecuteTime": {
     "end_time": "2020-09-30T07:16:42.747865Z",
     "start_time": "2020-09-30T07:16:42.739888Z"
    },
    "deletable": false,
    "nbgrader": {
     "cell_type": "code",
     "checksum": "91cb96a126c80c4bee75a1b75d10817d",
     "grade": false,
     "grade_id": "linear",
     "locked": false,
     "schema_version": 3,
     "solution": true,
     "task": false
    }
   },
   "outputs": [],
   "source": [
    "def get_roots(a, b, c):\n",
    "    d = b**2 - 4 * a * c\n",
    "    # YOUR CODE HERE\n",
    "    raise NotImplementedError()\n",
    "    return roots"
   ]
  },
  {
   "cell_type": "code",
   "execution_count": null,
   "metadata": {
    "ExecuteTime": {
     "end_time": "2020-09-30T07:16:43.336666Z",
     "start_time": "2020-09-30T07:16:43.323048Z"
    },
    "code_folding": [],
    "deletable": false,
    "editable": false,
    "nbgrader": {
     "cell_type": "code",
     "checksum": "47f6be09ce133d9baa3d28a34873e52c",
     "grade": true,
     "grade_id": "test-linear",
     "locked": true,
     "points": 1,
     "schema_version": 3,
     "solution": false,
     "task": false
    }
   },
   "outputs": [],
   "source": [
    "# tests\n",
    "def test_get_roots(roots, a, b, c):\n",
    "    roots_ = get_roots(a, b, c)\n",
    "    if roots is None:\n",
    "        correct = roots_ is None\n",
    "    elif isinstance(roots, float):\n",
    "        correct = isinstance(roots_, float) and math.isclose(roots, roots_)\n",
    "    else:\n",
    "        correct = isinstance(roots_, tuple) and len(roots_) == 2 and all([\n",
    "            math.isclose(root, roots_) for root, roots_ in zip(roots, roots_)\n",
    "        ])\n",
    "    if not correct:\n",
    "        print(f'With (a, b, c)={a,b,c}, roots should be {roots} not {roots_}.')\n",
    "    assert correct\n",
    "\n",
    "\n",
    "test_get_roots((-1.0, -0.0), 1, 1, 0)\n",
    "test_get_roots(0.0, 1, 0, 0)\n",
    "test_get_roots(0.5, 0, -2, 1)"
   ]
  },
  {
   "cell_type": "markdown",
   "metadata": {},
   "source": [
    "## Degenerate Cases"
   ]
  },
  {
   "cell_type": "markdown",
   "metadata": {},
   "source": [
    "What if $a=b=0$? In that case, the equation becomes\n",
    "\n",
    "$$\n",
    "c = 0\n",
    "$$\n",
    "which is always satisfied if $c=0$, but never satisfied if $c\\neq 0$. "
   ]
  },
  {
   "cell_type": "markdown",
   "metadata": {
    "slideshow": {
     "slide_type": "fragment"
    }
   },
   "source": [
    "**Exercise** Improve the function `get_roots` to return root(s) under all cases:\n",
    "- If $a=0$ and $b\\neq 0$, assign `roots` to the single root $-\\frac{c}{b}$. \n",
    "- If $a=b=0$ and $c\\neq 0$, assign `roots` to `None`.  \n",
    "    Note that `None` is an object, not a string.\n",
    "- If $a=b=c=0$, there are infinitely many roots. Assign to `roots` the tuple `-float('inf'), float('inf')`.  \n",
    "    Note that `float('inf')` converts the string `'inf'` to a floating point value that represents $\\infty$."
   ]
  },
  {
   "cell_type": "markdown",
   "metadata": {
    "slideshow": {
     "slide_type": "fragment"
    }
   },
   "source": [
    "*Hint:* Use nested `if` statements such as the followings (with the blanks filled in properly):\n",
    "```Python\n",
    "def get_roots(a, b, c):\n",
    "    d = b**2 - 4 * a * c\n",
    "    if __________________:\n",
    "        if __________________:\n",
    "            if __________________:\n",
    "                roots = -float('inf'), float('inf')\n",
    "            else:\n",
    "                roots = None\n",
    "        else:\n",
    "            ______________\n",
    "    elif math.isclose(d, 0):\n",
    "        roots = __________  # repeated root\n",
    "    else:\n",
    "        d **= 0.5\n",
    "        roots = __________________________________\n",
    "    return roots\n",
    "```"
   ]
  },
  {
   "cell_type": "code",
   "execution_count": null,
   "metadata": {
    "ExecuteTime": {
     "end_time": "2020-09-30T07:17:00.087417Z",
     "start_time": "2020-09-30T07:17:00.077212Z"
    },
    "deletable": false,
    "nbgrader": {
     "cell_type": "code",
     "checksum": "6aaa3285d06d9abdffda6e734b924ac1",
     "grade": false,
     "grade_id": "degenerate",
     "locked": false,
     "schema_version": 3,
     "solution": true,
     "task": false
    },
    "slideshow": {
     "slide_type": "skip"
    }
   },
   "outputs": [],
   "source": [
    "def get_roots(a, b, c):\n",
    "    d = b**2 - 4 * a * c\n",
    "    # YOUR CODE HERE\n",
    "    raise NotImplementedError()\n",
    "    return roots"
   ]
  },
  {
   "cell_type": "code",
   "execution_count": null,
   "metadata": {
    "ExecuteTime": {
     "end_time": "2020-09-30T07:17:23.281883Z",
     "start_time": "2020-09-30T07:17:23.268054Z"
    },
    "code_folding": [
     0
    ],
    "deletable": false,
    "editable": false,
    "nbgrader": {
     "cell_type": "code",
     "checksum": "86a68b255e7148cc7a610bbd93f61ecc",
     "grade": true,
     "grade_id": "test_degenerate",
     "locked": true,
     "points": 1,
     "schema_version": 3,
     "solution": false,
     "task": false
    },
    "slideshow": {
     "slide_type": "skip"
    }
   },
   "outputs": [],
   "source": [
    "# tests\n",
    "def test_get_roots(roots, a, b, c):\n",
    "    roots_ = get_roots(a, b, c)\n",
    "    if roots is None:\n",
    "        correct = roots_ is None\n",
    "    elif isinstance(roots, float):\n",
    "        correct = isinstance(roots_, float) and math.isclose(roots, roots_)\n",
    "    else:\n",
    "        correct = isinstance(roots_, tuple) and len(roots_) == 2 and all([\n",
    "            math.isclose(root, roots_) for root, roots_ in zip(roots, roots_)\n",
    "        ])\n",
    "    if not correct:\n",
    "        print(f'With (a, b, c)={a,b,c}, roots should be {roots} not {roots_}.')\n",
    "    assert correct\n",
    "\n",
    "\n",
    "test_get_roots((-1.0, 0.0), 1, 1, 0)\n",
    "test_get_roots(0.0, 1, 0, 0)\n",
    "test_get_roots((-float('inf'), float('inf')), 0, 0, 0)\n",
    "test_get_roots(None, 0, 0, 1)\n",
    "test_get_roots(0.5, 0, -2, 1)\n",
    "test_get_roots(1.0, 1, -2, 1)"
   ]
  },
  {
   "cell_type": "markdown",
   "metadata": {},
   "source": [
    "## Run the calculator"
   ]
  },
  {
   "cell_type": "markdown",
   "metadata": {},
   "source": [
    "After you have complete the exercises, you can run your robust solver below:"
   ]
  },
  {
   "cell_type": "code",
   "execution_count": null,
   "metadata": {
    "ExecuteTime": {
     "end_time": "2020-09-30T07:17:34.287625Z",
     "start_time": "2020-09-30T07:17:34.242675Z"
    },
    "code_folding": [
     0
    ],
    "slideshow": {
     "slide_type": "-"
    }
   },
   "outputs": [],
   "source": [
    "# quadratic equations solver\n",
    "@interact(a=(-10,10,1),b=(-10,10,1),c=(-10,10,1))\n",
    "def quadratic_equation_solver(a=1,b=2,c=1):\n",
    "    print('Root(s):',get_roots(a,b,c))"
   ]
  }
 ],
 "metadata": {
  "kernelspec": {
   "display_name": "Python 3.7",
   "language": "python",
   "name": "python3"
  },
  "language_info": {
   "codemirror_mode": {
    "name": "ipython",
    "version": 3
   },
   "file_extension": ".py",
   "mimetype": "text/x-python",
   "name": "python",
   "nbconvert_exporter": "python",
   "pygments_lexer": "ipython3",
   "version": "3.7.6"
  },
  "latex_envs": {
   "LaTeX_envs_menu_present": true,
   "autoclose": false,
   "autocomplete": true,
   "bibliofile": "biblio.bib",
   "cite_by": "apalike",
   "current_citInitial": 1,
   "eqLabelWithNumbers": true,
   "eqNumInitial": 1,
   "hotkeys": {
    "equation": "Ctrl-E",
    "itemize": "Ctrl-I"
   },
   "labels_anchors": false,
   "latex_user_defs": false,
   "report_style_numbering": false,
   "user_envs_cfg": false
  },
  "rise": {
   "enable_chalkboard": true,
   "scroll": true,
   "theme": "white"
  },
  "toc": {
   "base_numbering": 1,
   "nav_menu": {
    "height": "195px",
    "width": "330px"
   },
   "number_sections": true,
   "sideBar": true,
   "skip_h1_title": true,
   "title_cell": "Table of Contents",
   "title_sidebar": "Contents",
   "toc_cell": false,
   "toc_position": {
    "height": "454.418px",
    "left": "1533px",
    "top": "110.284px",
    "width": "435.327px"
   },
   "toc_section_display": true,
   "toc_window_display": false
  }
 },
 "nbformat": 4,
 "nbformat_minor": 4
}
