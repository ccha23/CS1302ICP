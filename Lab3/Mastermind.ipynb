{
 "cells": [
  {
   "cell_type": "markdown",
   "metadata": {
    "slideshow": {
     "slide_type": "slide"
    }
   },
   "source": [
    "# Mastermind\n",
    "**CS1302 Introduction to Computer Programming**\n",
    "___"
   ]
  },
  {
   "cell_type": "code",
   "execution_count": null,
   "metadata": {
    "ExecuteTime": {
     "end_time": "2020-09-13T12:35:47.226281Z",
     "start_time": "2020-09-13T12:35:47.187955Z"
    },
    "init_cell": true,
    "slideshow": {
     "slide_type": "skip"
    }
   },
   "outputs": [],
   "source": [
    "%reset -f\n",
    "import random"
   ]
  },
  {
   "cell_type": "markdown",
   "metadata": {
    "slideshow": {
     "slide_type": "subslide"
    }
   },
   "source": [
    "In this notebook, you will write a game called [*Mastermind*](https://en.wikipedia.org/wiki/Mastermind_(board_game)). Play the video below to learn about the rule of the game."
   ]
  },
  {
   "cell_type": "code",
   "execution_count": null,
   "metadata": {
    "ExecuteTime": {
     "end_time": "2020-09-11T16:29:57.571633Z",
     "start_time": "2020-09-11T16:29:57.564180Z"
    },
    "code_folding": [
     0
    ],
    "slideshow": {
     "slide_type": "-"
    }
   },
   "outputs": [],
   "source": [
    "%%html\n",
    "<iframe width=\"912\" height=\"513\" src=\"https://www.youtube.com/embed/wsYPsrzCKiA\" frameborder=\"0\" allow=\"accelerometer; autoplay; encrypted-media; gyroscope; picture-in-picture\" allowfullscreen></iframe>"
   ]
  },
  {
   "cell_type": "markdown",
   "metadata": {
    "slideshow": {
     "slide_type": "slide"
    }
   },
   "source": [
    "## Code Generation (Demo)"
   ]
  },
  {
   "cell_type": "markdown",
   "metadata": {
    "ExecuteTime": {
     "end_time": "2020-09-11T16:09:41.993857Z",
     "start_time": "2020-09-11T16:09:41.988680Z"
    },
    "slideshow": {
     "slide_type": "fragment"
    }
   },
   "source": [
    "The following function generates a random code, which is \n",
    "- a string of length `code_length` \n",
    "- with characters randomly chosen from those of the string `colors` with replacement."
   ]
  },
  {
   "cell_type": "code",
   "execution_count": null,
   "metadata": {
    "ExecuteTime": {
     "end_time": "2020-09-13T10:24:01.640550Z",
     "start_time": "2020-09-13T10:24:01.636447Z"
    },
    "slideshow": {
     "slide_type": "-"
    }
   },
   "outputs": [],
   "source": [
    "def get_code(colors, code_length):\n",
    "    code = ''\n",
    "    for i in range(code_length):\n",
    "        code += random.choice(colors)\n",
    "    return code"
   ]
  },
  {
   "cell_type": "markdown",
   "metadata": {
    "slideshow": {
     "slide_type": "fragment"
    }
   },
   "source": [
    "We can run the following to generate a code of `4` code pegs randomly with colors chosen from `'R'`ed, `'O'`range, `'Y'`ellow, `'G'`reen, `'B'`lue, and `'P'`urple. "
   ]
  },
  {
   "cell_type": "code",
   "execution_count": null,
   "metadata": {
    "ExecuteTime": {
     "end_time": "2020-09-13T02:42:42.684592Z",
     "start_time": "2020-09-13T02:42:42.666740Z"
    },
    "slideshow": {
     "slide_type": "-"
    }
   },
   "outputs": [],
   "source": [
    "get_code('ROYGBP', 4)"
   ]
  },
  {
   "cell_type": "markdown",
   "metadata": {
    "slideshow": {
     "slide_type": "subslide"
    }
   },
   "source": [
    "## Guess Validation"
   ]
  },
  {
   "cell_type": "markdown",
   "metadata": {
    "slideshow": {
     "slide_type": "fragment"
    }
   },
   "source": [
    "**Exercise** Given `colors` and `code_length`, check if `guess` is a valid code, i.e., a string of length `code_length` with characters from those of `colors`."
   ]
  },
  {
   "cell_type": "markdown",
   "metadata": {
    "slideshow": {
     "slide_type": "fragment"
    }
   },
   "source": [
    "*Hint:* Solution template:\n",
    "```Python\n",
    "def valid_code(colors, code_length, guess):\n",
    "    if len(guess) __ code_length:\n",
    "        is_valid = ____\n",
    "    else:\n",
    "        for peg in code:\n",
    "            for color in colors:\n",
    "                if peg == color: ____\n",
    "            else:\n",
    "                is_valid = _____\n",
    "                ____\n",
    "        else:\n",
    "            is_valid = ____\n",
    "    return is_valid\n",
    "```"
   ]
  },
  {
   "cell_type": "code",
   "execution_count": null,
   "metadata": {
    "ExecuteTime": {
     "end_time": "2020-09-13T10:10:50.958074Z",
     "start_time": "2020-09-13T10:10:50.950672Z"
    },
    "deletable": false,
    "nbgrader": {
     "cell_type": "code",
     "checksum": "9566e4c91b8a23ba99c7f87280964a02",
     "grade": false,
     "grade_id": "valid_code",
     "locked": false,
     "schema_version": 3,
     "solution": true,
     "task": false
    },
    "slideshow": {
     "slide_type": "skip"
    }
   },
   "outputs": [],
   "source": [
    "def valid_code(colors, code_length, guess):\n",
    "    # YOUR CODE HERE\n",
    "    raise NotImplementedError()\n",
    "    return is_valid"
   ]
  },
  {
   "cell_type": "code",
   "execution_count": null,
   "metadata": {
    "ExecuteTime": {
     "end_time": "2020-09-13T10:14:18.072723Z",
     "start_time": "2020-09-13T10:14:18.065255Z"
    },
    "code_folding": [
     0
    ],
    "deletable": false,
    "editable": false,
    "nbgrader": {
     "cell_type": "code",
     "checksum": "1fdfdcf1fb8fa0aaae27d03aa30dcd4f",
     "grade": true,
     "grade_id": "test-valid_code",
     "locked": true,
     "points": 1,
     "schema_version": 3,
     "solution": false,
     "task": false
    },
    "slideshow": {
     "slide_type": "skip"
    }
   },
   "outputs": [],
   "source": [
    "# tests\n",
    "assert valid_code('RBG',1,'R') == True\n",
    "assert valid_code('RBG',2,'B') == False\n",
    "assert valid_code('RBG',2,'RP') == False\n",
    "assert valid_code('RBG',0,'') == True"
   ]
  },
  {
   "cell_type": "markdown",
   "metadata": {
    "slideshow": {
     "slide_type": "subslide"
    }
   },
   "source": [
    "## Feedback Generation"
   ]
  },
  {
   "cell_type": "markdown",
   "metadata": {
    "slideshow": {
     "slide_type": "fragment"
    }
   },
   "source": [
    "**Exercise** Given `code` and `guess`, assign to `key` a feedback string, which starts with `black_key_pegs_count` characters of `'b'` (black key pegs) followed by `white_key_pegs_count` characters of `'w'` (white key pegs). "
   ]
  },
  {
   "cell_type": "markdown",
   "metadata": {
    "slideshow": {
     "slide_type": "fragment"
    }
   },
   "source": [
    "*Hint:* Solution template:\n",
    "```Python\n",
    "def get_feedback(code, guess):\n",
    "    black_key_pegs_count = white_key_pegs_count = counted = 0\n",
    "    for i in range(len(guess)):\n",
    "        if ___________________: \n",
    "            black_key_pegs_count += 1\n",
    "            counted += 2**i\n",
    "    for i in range(len(guess)):\n",
    "        for j in range(len(code)):\n",
    "            if  ______________________________ and not counted // 2**j % 2:\n",
    "                white_key_pegs_count += 1\n",
    "                counted += 2**j\n",
    "                break\n",
    "    key = 'b' * black_key_pegs_count + 'w' * white_key_pegs_count\n",
    "    return key\n",
    "```"
   ]
  },
  {
   "cell_type": "code",
   "execution_count": null,
   "metadata": {
    "ExecuteTime": {
     "end_time": "2020-09-13T11:52:46.122980Z",
     "start_time": "2020-09-13T11:52:46.113180Z"
    },
    "deletable": false,
    "nbgrader": {
     "cell_type": "code",
     "checksum": "d4186d6c8f3ef5dfcfa3d81468909cb8",
     "grade": false,
     "grade_id": "get_feedback",
     "locked": false,
     "schema_version": 3,
     "solution": true,
     "task": false
    },
    "slideshow": {
     "slide_type": "skip"
    }
   },
   "outputs": [],
   "source": [
    "def get_feedback(code, guess):\n",
    "    black_key_pegs_count = white_key_pegs_count = counted = 0\n",
    "    # YOUR CODE HERE\n",
    "    raise NotImplementedError()\n",
    "    key = 'b' * black_key_pegs_count + 'w' * white_key_pegs_count\n",
    "    return key"
   ]
  },
  {
   "cell_type": "code",
   "execution_count": null,
   "metadata": {
    "ExecuteTime": {
     "end_time": "2020-09-13T11:47:05.272757Z",
     "start_time": "2020-09-13T11:47:05.258891Z"
    },
    "code_folding": [
     0
    ],
    "deletable": false,
    "editable": false,
    "nbgrader": {
     "cell_type": "code",
     "checksum": "3bdec566e8122108e2f6508c1782c9b2",
     "grade": true,
     "grade_id": "test-get_feedback",
     "locked": true,
     "points": 1,
     "schema_version": 3,
     "solution": false,
     "task": false
    },
    "slideshow": {
     "slide_type": "skip"
    }
   },
   "outputs": [],
   "source": [
    "# tests\n",
    "def test_get_feedback(feedback,code,guess):\n",
    "    feedback_ = get_feedback(code,guess)\n",
    "    correct = feedback == feedback_\n",
    "    if not correct:\n",
    "        print(\n",
    "            f'With code=\"{code}\" and guess=\"{guess}\", feedback should be \"{feedback}\", not \"{feedback_}\".'\n",
    "        )\n",
    "    assert correct\n",
    "\n",
    "test_get_feedback(10*'b'+'w'*0,\"RGBRGBRGBY\",\"RGBRGBRGBY\")\n",
    "test_get_feedback(0*'b'+'w'*10,\"RGBRGBRGBY\",\"YRGBRGBRGB\")\n",
    "test_get_feedback(8*'b'+'w'*0,\"RGRGRGRG\",\"RGRGRGRG\")\n",
    "test_get_feedback(0*'b'+'w'*8,\"RGRGRGRG\",\"GRGRGRGR\")\n",
    "test_get_feedback(0*'b'+'w'*6,\"RRRRGGG\",\"GGGGRRR\")\n",
    "test_get_feedback(1*'b'+'w'*6,\"RRRRGGG\",\"GGGRRRR\")\n",
    "test_get_feedback(5*'b'+'w'*2,\"RRRRGGG\",\"RRRGGGR\")\n",
    "test_get_feedback(1*'b'+'w'*0,\"RRRRGGG\",\"RYYPPBB\")\n",
    "test_get_feedback(0*'b'+'w'*1,\"RRRRG\",\"GBBBB\")\n",
    "test_get_feedback(0*'b'+'w'*0,\"RRRRG\",\"YBBBB\")"
   ]
  },
  {
   "cell_type": "markdown",
   "metadata": {
    "slideshow": {
     "slide_type": "slide"
    }
   },
   "source": [
    "## Play the Game"
   ]
  },
  {
   "cell_type": "markdown",
   "metadata": {
    "slideshow": {
     "slide_type": "fragment"
    }
   },
   "source": [
    "After finishing the previous exercises, you can play the game as a code breaker against a random mastermind."
   ]
  },
  {
   "cell_type": "code",
   "execution_count": null,
   "metadata": {
    "ExecuteTime": {
     "end_time": "2020-09-13T11:59:36.950530Z",
     "start_time": "2020-09-13T11:58:55.670278Z"
    },
    "code_folding": [
     0
    ],
    "slideshow": {
     "slide_type": "-"
    }
   },
   "outputs": [],
   "source": [
    "# mastermind\n",
    "max_num_guesses = 10\n",
    "colors = 'ROYGBP'\n",
    "code_length = 4\n",
    "\n",
    "code = get_code(colors,code_length)\n",
    "for i in range(max_num_guesses):\n",
    "    while True:\n",
    "        guess = input('Guess #{}: '.format(i))        \n",
    "        if valid_code(colors,code_length,guess):\n",
    "            break\n",
    "        else:\n",
    "            print('Invalid guess.')\n",
    "    feedback = get_feedback(code,guess)\n",
    "    print('Key:',feedback)\n",
    "    if feedback == 'b'* code_length:\n",
    "        print('You won!')\n",
    "        break\n",
    "else:\n",
    "    print('You lose...')"
   ]
  }
 ],
 "metadata": {
  "kernelspec": {
   "display_name": "Python 3.7",
   "language": "python",
   "name": "python3"
  },
  "language_info": {
   "codemirror_mode": {
    "name": "ipython",
    "version": 3
   },
   "file_extension": ".py",
   "mimetype": "text/x-python",
   "name": "python",
   "nbconvert_exporter": "python",
   "pygments_lexer": "ipython3",
   "version": "3.7.7"
  },
  "latex_envs": {
   "LaTeX_envs_menu_present": true,
   "autoclose": false,
   "autocomplete": true,
   "bibliofile": "biblio.bib",
   "cite_by": "apalike",
   "current_citInitial": 1,
   "eqLabelWithNumbers": true,
   "eqNumInitial": 1,
   "hotkeys": {
    "equation": "Ctrl-E",
    "itemize": "Ctrl-I"
   },
   "labels_anchors": false,
   "latex_user_defs": false,
   "report_style_numbering": false,
   "user_envs_cfg": false
  },
  "rise": {
   "enable_chalkboard": true,
   "scroll": true,
   "theme": "white"
  },
  "toc": {
   "base_numbering": 1,
   "nav_menu": {
    "height": "195px",
    "width": "330px"
   },
   "number_sections": true,
   "sideBar": true,
   "skip_h1_title": true,
   "title_cell": "Table of Contents",
   "title_sidebar": "Contents",
   "toc_cell": false,
   "toc_position": {
    "height": "454.418px",
    "left": "1533px",
    "top": "110.284px",
    "width": "435.327px"
   },
   "toc_section_display": true,
   "toc_window_display": false
  }
 },
 "nbformat": 4,
 "nbformat_minor": 4
}
