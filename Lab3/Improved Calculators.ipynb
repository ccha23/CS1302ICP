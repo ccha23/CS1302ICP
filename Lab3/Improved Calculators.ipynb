{
 "cells": [
  {
   "cell_type": "markdown",
   "metadata": {
    "slideshow": {
     "slide_type": "slide"
    }
   },
   "source": [
    "# Improved Calculators\n",
    "**CS1302 Introduction to Computer Programming**\n",
    "___"
   ]
  },
  {
   "cell_type": "code",
   "execution_count": null,
   "metadata": {
    "ExecuteTime": {
     "end_time": "2020-09-16T02:50:45.503647Z",
     "start_time": "2020-09-16T02:50:45.409626Z"
    },
    "init_cell": true,
    "slideshow": {
     "slide_type": "skip"
    }
   },
   "outputs": [],
   "source": [
    "%reset -f\n",
    "from ipywidgets import interact\n",
    "import matplotlib.pyplot as plt\n",
    "import numpy as np\n",
    "import sys, io\n",
    "import math\n",
    "from math import log, exp, sin, cos, tan, pi"
   ]
  },
  {
   "cell_type": "markdown",
   "metadata": {
    "ExecuteTime": {
     "end_time": "2020-09-13T01:19:41.712043Z",
     "start_time": "2020-09-13T01:19:41.704733Z"
    },
    "slideshow": {
     "slide_type": "subslide"
    }
   },
   "source": [
    "In this notebook, we will improve the calculators in the previous lab."
   ]
  },
  {
   "cell_type": "markdown",
   "metadata": {
    "slideshow": {
     "slide_type": "fragment"
    }
   },
   "source": [
    "To get started, the following is a calculator that stays on until \n",
    "- you interrupt the kernel or \n",
    "- enter an invalid expression."
   ]
  },
  {
   "cell_type": "code",
   "execution_count": null,
   "metadata": {
    "ExecuteTime": {
     "end_time": "2020-09-13T12:28:48.133407Z",
     "start_time": "2020-09-13T12:28:21.093545Z"
    },
    "slideshow": {
     "slide_type": "-"
    }
   },
   "outputs": [],
   "source": [
    "while True: print(eval(input('>') or '\"Enter something please.\"'))"
   ]
  },
  {
   "cell_type": "markdown",
   "metadata": {
    "slideshow": {
     "slide_type": "slide"
    }
   },
   "source": [
    "## Quadratic Equation under Different Cases"
   ]
  },
  {
   "cell_type": "markdown",
   "metadata": {
    "slideshow": {
     "slide_type": "subslide"
    }
   },
   "source": [
    "### Zero Discriminant (Demo)"
   ]
  },
  {
   "cell_type": "markdown",
   "metadata": {
    "slideshow": {
     "slide_type": "fragment"
    }
   },
   "source": [
    "Recall from the previous lab that for the quadratic equation \n",
    "$$ax^2+bx+c=0$$\n",
    "where $a$, $b$, and $c$ are real-valued coefficients, and $x$ is the unknown variable, the roots are given by\n",
    "$$\\frac{-b-\\sqrt{b^2-4ac}}{2a}, \\frac{-b+\\sqrt{b^2-4ac}}{2a}.$$"
   ]
  },
  {
   "cell_type": "markdown",
   "metadata": {
    "slideshow": {
     "slide_type": "fragment"
    }
   },
   "source": [
    "The roots are the same (repeated) when the discriminant $b^2-4ac$ is zero."
   ]
  },
  {
   "cell_type": "markdown",
   "metadata": {
    "slideshow": {
     "slide_type": "subslide"
    }
   },
   "source": [
    "**How to return only one root when the discriminant is zero?**"
   ]
  },
  {
   "cell_type": "markdown",
   "metadata": {
    "slideshow": {
     "slide_type": "fragment"
    }
   },
   "source": [
    "We can use the [`if` statement](https://docs.python.org/3/reference/compound_stmts.html#if)."
   ]
  },
  {
   "cell_type": "code",
   "execution_count": null,
   "metadata": {
    "ExecuteTime": {
     "end_time": "2020-09-13T12:29:03.906685Z",
     "start_time": "2020-09-13T12:29:03.899903Z"
    },
    "slideshow": {
     "slide_type": "fragment"
    }
   },
   "outputs": [],
   "source": [
    "def get_roots(a, b, c):\n",
    "    d = b**2 - 4 * a * c    # discriminant\n",
    "    if math.isclose(d, 0):\n",
    "        roots = -b / 2 / a  # repeated root\n",
    "    else:\n",
    "        d **= 0.5           # *\n",
    "        roots = -(b - d) / 2 / a, -(b + d) / 2 / a\n",
    "    return roots"
   ]
  },
  {
   "cell_type": "code",
   "execution_count": null,
   "metadata": {
    "ExecuteTime": {
     "end_time": "2020-09-13T12:29:05.280054Z",
     "start_time": "2020-09-13T12:29:05.210709Z"
    },
    "code_folding": [
     0
    ],
    "slideshow": {
     "slide_type": "-"
    }
   },
   "outputs": [],
   "source": [
    "# quadratic equations solver\n",
    "@interact(a=(-10,10,1),b=(-10,10,1),c=(-10,10,1))\n",
    "def quadratic_equation_solver(a=1,b=2,c=1):\n",
    "    print('Root(s):',get_roots(a,b,c))"
   ]
  },
  {
   "cell_type": "markdown",
   "metadata": {
    "slideshow": {
     "slide_type": "fragment"
    }
   },
   "source": [
    "**Why use `math.isclose(d,0)` instead of `d == 0`?**"
   ]
  },
  {
   "cell_type": "markdown",
   "metadata": {
    "slideshow": {
     "slide_type": "fragment"
    }
   },
   "source": [
    "Since floating point numbers are not *precise*, `d == 0` may be false due to finite precision error even when the discriminant is supposed to be zero."
   ]
  },
  {
   "cell_type": "markdown",
   "metadata": {
    "slideshow": {
     "slide_type": "fragment"
    }
   },
   "source": [
    "<b>Can we move the line `d**0.5` before the if statement?</b>"
   ]
  },
  {
   "cell_type": "markdown",
   "metadata": {
    "slideshow": {
     "slide_type": "fragment"
    }
   },
   "source": [
    "`math.isclose` can take as arguments integers or floats but not complex numbers.  \n",
    "However, `d**0.5` can be a complex number if `d < 0`."
   ]
  },
  {
   "cell_type": "markdown",
   "metadata": {
    "slideshow": {
     "slide_type": "slide"
    }
   },
   "source": [
    "### Zero coefficients"
   ]
  },
  {
   "cell_type": "markdown",
   "metadata": {
    "slideshow": {
     "slide_type": "fragment"
    }
   },
   "source": [
    "If $a=0$, the earlier formula for the roots are invalid due to division by (zero) $a$. Nevertheless, the equation remain valid:\n",
    "$$bx + c=0.$$"
   ]
  },
  {
   "cell_type": "markdown",
   "metadata": {
    "slideshow": {
     "slide_type": "fragment"
    }
   },
   "source": [
    "**Exercise** Improve the function `get_roots` to return root(s) under all cases:\n",
    "- If $a=0$ and $b\\neq 0$, assign `roots` to the single root $-\\frac{c}{b}$. \n",
    "- If $a=b=0$ and $c\\neq 0$, assign `roots` to `None`.  \n",
    "    Note that `None` is an object, not a string.\n",
    "- If $a=b=c=0$, there are infinitely many roots. Assign to `roots` the tuple `-float('inf'), float('inf')`.  \n",
    "    Note that `float('inf')` converts the string `'inf'` to a floating point value that represents $\\infty$."
   ]
  },
  {
   "cell_type": "markdown",
   "metadata": {
    "slideshow": {
     "slide_type": "fragment"
    }
   },
   "source": [
    "*Hint:* Use nested `if` statements such as the followings (with the blanks filled in properly):\n",
    "```Python\n",
    "def get_roots(a, b, c):\n",
    "    d = b**2 - 4 * a * c\n",
    "    if __________________:\n",
    "        if __________________:\n",
    "            if __________________:\n",
    "                roots = -float('inf'), float('inf')\n",
    "            else:\n",
    "                roots = None\n",
    "        else:\n",
    "            roots = -c / b\n",
    "    elif math.isclose(d, 0):\n",
    "        roots = -b / 2 / a\n",
    "    else:\n",
    "        d **= 0.5\n",
    "        roots = -(b - d) / 2 / a, -(b + d) / 2 / a\n",
    "    return roots\n",
    "```"
   ]
  },
  {
   "cell_type": "code",
   "execution_count": null,
   "metadata": {
    "ExecuteTime": {
     "end_time": "2020-09-13T12:29:12.791017Z",
     "start_time": "2020-09-13T12:29:12.784949Z"
    },
    "deletable": false,
    "nbgrader": {
     "cell_type": "code",
     "checksum": "a47c56de78cc373025d8bd2192dd9760",
     "grade": false,
     "grade_id": "get_roots",
     "locked": false,
     "schema_version": 3,
     "solution": true,
     "task": false
    },
    "slideshow": {
     "slide_type": "skip"
    }
   },
   "outputs": [],
   "source": [
    "def get_roots(a, b, c):\n",
    "    d = b**2 - 4 * a * c\n",
    "    # YOUR CODE HERE\n",
    "    raise NotImplementedError()\n",
    "    elif math.isclose(d, 0):\n",
    "        roots = -b / 2 / a\n",
    "    else:\n",
    "        d **= 0.5\n",
    "        roots = -(b - d) / 2 / a, -(b + d) / 2 / a\n",
    "    return roots"
   ]
  },
  {
   "cell_type": "code",
   "execution_count": null,
   "metadata": {
    "ExecuteTime": {
     "end_time": "2020-09-13T12:29:13.387669Z",
     "start_time": "2020-09-13T12:29:13.373886Z"
    },
    "code_folding": [
     0
    ],
    "deletable": false,
    "editable": false,
    "nbgrader": {
     "cell_type": "code",
     "checksum": "56024d9dc46cfdd83862bb10f2b83340",
     "grade": true,
     "grade_id": "test_get_roots",
     "locked": true,
     "points": 1,
     "schema_version": 3,
     "solution": false,
     "task": false
    },
    "slideshow": {
     "slide_type": "skip"
    }
   },
   "outputs": [],
   "source": [
    "# tests\n",
    "def test_get_roots(roots, a, b, c):\n",
    "    roots_ = get_roots(a, b, c)\n",
    "    if roots is None:\n",
    "        correct = roots_ is None\n",
    "    elif isinstance(roots, float):\n",
    "        correct = isinstance(roots_, float) and math.isclose(roots, roots_)\n",
    "    else:\n",
    "        correct = isinstance(roots_, tuple) and len(roots_) == 2 and all([\n",
    "            math.isclose(root, roots_) for root, roots_ in zip(roots, roots_)\n",
    "        ])\n",
    "    if not correct:\n",
    "        print(f'With (a, b, c)={a,b,c}, roots should be {roots} not {roots_}.')\n",
    "    assert correct\n",
    "\n",
    "\n",
    "test_get_roots((-0.0, -1.0), 1, 1, 0)\n",
    "test_get_roots(0.0, 1, 0, 0)\n",
    "test_get_roots((-float('inf'), float('inf')), 0, 0, 0)\n",
    "test_get_roots(None, 0, 0, 1)\n",
    "test_get_roots(0.5, 0, -2, 1)\n",
    "test_get_roots(1.0, 1, -2, 1)"
   ]
  },
  {
   "cell_type": "code",
   "execution_count": null,
   "metadata": {
    "ExecuteTime": {
     "end_time": "2020-09-13T12:29:14.650762Z",
     "start_time": "2020-09-13T12:29:14.597679Z"
    },
    "code_folding": [
     0
    ],
    "slideshow": {
     "slide_type": "skip"
    }
   },
   "outputs": [],
   "source": [
    "# quadratic/linear equations solver\n",
    "@interact(a=(-10,10,1),b=(-10,10,1),c=(-10,10,1))\n",
    "def quadratic_linear_equation_solver(a=0,b=2,c=1):\n",
    "    print('Root(s):',get_roots(a,b,c))"
   ]
  },
  {
   "cell_type": "markdown",
   "metadata": {
    "slideshow": {
     "slide_type": "slide"
    }
   },
   "source": [
    "## Conversion of Arbitrarily Large Numbers"
   ]
  },
  {
   "cell_type": "markdown",
   "metadata": {
    "slideshow": {
     "slide_type": "subslide"
    }
   },
   "source": [
    "### Binary-to-Decimal (Demo)"
   ]
  },
  {
   "cell_type": "markdown",
   "metadata": {
    "slideshow": {
     "slide_type": "fragment"
    }
   },
   "source": [
    "In the previous lab, we consider converting a byte string to decimal.  \n",
    "What about converting a binary string of arbitrary length to decimal?"
   ]
  },
  {
   "cell_type": "markdown",
   "metadata": {
    "slideshow": {
     "slide_type": "subslide"
    }
   },
   "source": [
    "Given a binary string of an arbitrarily length $k$,\n",
    "$$ b_{k-1}\\circ \\dots \\circ b_1\\circ b_0, $$\n",
    "the decimal number can be computed by the formula\n",
    "$$2^0 \\cdot b_0 + 2^1 \\cdot b_1 + \\dots + 2^{k-1} \\cdot b_{k-1}.$$"
   ]
  },
  {
   "cell_type": "markdown",
   "metadata": {
    "slideshow": {
     "slide_type": "fragment"
    }
   },
   "source": [
    "In mathematics, we use the summation notation to write the above formula:\n",
    "$$ \\sum_{i=0}^{k-1} 2^i \\cdot b_{i} $$"
   ]
  },
  {
   "cell_type": "markdown",
   "metadata": {
    "slideshow": {
     "slide_type": "subslide"
    }
   },
   "source": [
    "The formula can be implemented as a for loop: "
   ]
  },
  {
   "cell_type": "code",
   "execution_count": null,
   "metadata": {
    "ExecuteTime": {
     "end_time": "2020-09-13T12:29:20.105355Z",
     "start_time": "2020-09-13T12:29:20.098938Z"
    },
    "slideshow": {
     "slide_type": "-"
    }
   },
   "outputs": [],
   "source": [
    "def binary_to_decimal(binary_str):\n",
    "    k = len(binary_str)\n",
    "    decimal = 0                                     # initialization\n",
    "    for i in range(k):\n",
    "        decimal += 2**i * int(binary_str[(k-1)-i])  # iteration\n",
    "    return decimal"
   ]
  },
  {
   "cell_type": "code",
   "execution_count": null,
   "metadata": {
    "ExecuteTime": {
     "end_time": "2020-09-13T12:29:20.400774Z",
     "start_time": "2020-09-13T12:29:20.364654Z"
    },
    "code_folding": [
     0
    ],
    "slideshow": {
     "slide_type": "-"
    }
   },
   "outputs": [],
   "source": [
    "# binary-to-decimal converter\n",
    "bits = ['0', '1']\n",
    "@interact(binary_str='1011')\n",
    "def convert_byte_to_decimal(binary_str):\n",
    "    for bit in binary_str:\n",
    "        if bit not in bits:\n",
    "            print('Not a binary string.')\n",
    "            break\n",
    "    else:\n",
    "        print('decimal:', binary_to_decimal(binary_str))"
   ]
  },
  {
   "cell_type": "markdown",
   "metadata": {
    "slideshow": {
     "slide_type": "fragment"
    }
   },
   "source": [
    "Note that $b_i$ is given by `binary_str[(k-1)-i]`:\n",
    "$$\\begin{array}{c|c:c:c:c|}\\texttt{binary_str} & b_{k-1} & b_{k-2} & \\dots &1\\\\ \\text{indexing} & [0] & [1] & \\dots & [k-1] \\end{array}$$"
   ]
  },
  {
   "cell_type": "markdown",
   "metadata": {
    "slideshow": {
     "slide_type": "subslide"
    }
   },
   "source": [
    "The following is a better way to write the for loop without\n",
    "- the possibly confusing string indexing `binary_str[(k-1)-i]`, nor\n",
    "- the exponentiation `2**i`."
   ]
  },
  {
   "cell_type": "code",
   "execution_count": null,
   "metadata": {
    "ExecuteTime": {
     "end_time": "2020-09-13T12:29:26.834791Z",
     "start_time": "2020-09-13T12:29:26.828344Z"
    },
    "slideshow": {
     "slide_type": "-"
    }
   },
   "outputs": [],
   "source": [
    "def binary_to_decimal(binary_str):\n",
    "    decimal = 0                                # initialization\n",
    "    for bit in binary_str:\n",
    "        decimal = decimal * 2 + int(bit)       # iteration\n",
    "    return decimal"
   ]
  },
  {
   "cell_type": "markdown",
   "metadata": {
    "slideshow": {
     "slide_type": "fragment"
    }
   },
   "source": [
    "The algorithm implements the same formula factorized as follows:\n",
    "$$\\begin{aligned} \\sum_{i=0}^{k-1} 2^i \\cdot b_{i} &=  \\left(\\sum_{i=1}^{k-1} 2^{i-1} \\cdot b_{i}\\right)\\times 2 + b_0 \\\\\n",
    "&= \\underbrace{(\\dots (\\underbrace{(\\underbrace{\\overbrace{0}^{\\text{initialization}\\kern-2em}\\times 2 + b_{k-1}}_{\\text{first iteration} }) \\times 2 + b_{k-2}}_{\\text{second iteration} }) \\dots )\\times 2 + b_0}_{\\text{last iteration} }.\\end{aligned}$$ "
   ]
  },
  {
   "cell_type": "markdown",
   "metadata": {
    "slideshow": {
     "slide_type": "slide"
    }
   },
   "source": [
    "### Undecimal-to-Decimal"
   ]
  },
  {
   "cell_type": "markdown",
   "metadata": {
    "slideshow": {
     "slide_type": "fragment"
    }
   },
   "source": [
    "A base-11 number system is called an [undecimal system](https://en.wikipedia.org/wiki/Undecimal). The digits range from 0 to 10 with 10 denoted as X:\n",
    "$$0, 1, 2, 3, 4, 5, 6, 7, 8, 9, X.$$\n",
    "\n",
    "The [International Standard Book Number (ISBN)](https://en.wikipedia.org/wiki/International_Standard_Book_Number) as well as your Lab assignment number both uses a undecimal digit."
   ]
  },
  {
   "cell_type": "markdown",
   "metadata": {
    "slideshow": {
     "slide_type": "subslide"
    }
   },
   "source": [
    "**Exercise** In the following code, assign to `decimal` the integer represented by an undecimal string of arbitrary length.  \n",
    "*Hint:* Write a conditional to \n",
    "1. check if a digit is (capital) `'X'`, and if so, \n",
    "2. convert the digit to the integer value 10."
   ]
  },
  {
   "cell_type": "code",
   "execution_count": null,
   "metadata": {
    "ExecuteTime": {
     "end_time": "2020-09-13T12:29:33.912527Z",
     "start_time": "2020-09-13T12:29:33.905884Z"
    },
    "deletable": false,
    "nbgrader": {
     "cell_type": "code",
     "checksum": "9c595c6be14a2e7a95c8cd00dfe0192a",
     "grade": false,
     "grade_id": "undecimal_to_decimal",
     "locked": false,
     "schema_version": 3,
     "solution": true,
     "task": false
    },
    "slideshow": {
     "slide_type": "skip"
    }
   },
   "outputs": [],
   "source": [
    "def undecimal_to_decimal(undecimal_str):\n",
    "    decimal = 0\n",
    "    for undecimal in undecimal_str:\n",
    "        # YOUR CODE HERE\n",
    "        raise NotImplementedError()\n",
    "    return decimal"
   ]
  },
  {
   "cell_type": "code",
   "execution_count": null,
   "metadata": {
    "ExecuteTime": {
     "end_time": "2020-09-13T12:29:34.714579Z",
     "start_time": "2020-09-13T12:29:34.701023Z"
    },
    "code_folding": [
     0
    ],
    "deletable": false,
    "editable": false,
    "nbgrader": {
     "cell_type": "code",
     "checksum": "a1ec9c7c26fdbf86f122cca125b2026f",
     "grade": true,
     "grade_id": "test-undecimal_to_decimal",
     "locked": true,
     "points": 1,
     "schema_version": 3,
     "solution": false,
     "task": false
    },
    "slideshow": {
     "slide_type": "skip"
    }
   },
   "outputs": [],
   "source": [
    "# tests\n",
    "def test_undecimal_to_decimal(decimal, undecimal_str):\n",
    "    decimal_ = undecimal_to_decimal(undecimal_str)\n",
    "    correct = isinstance(decimal_, int) and decimal_ == decimal\n",
    "    if not correct:\n",
    "        print(f'{undecimal_str} should give {decimal} not {decimal_}.')\n",
    "    assert correct\n",
    "\n",
    "\n",
    "test_undecimal_to_decimal(27558279079916281, '6662X0X584839464')\n",
    "test_undecimal_to_decimal(23022771839270, '73769X2556695')\n",
    "test_undecimal_to_decimal(161804347284488, '476129248X2067')"
   ]
  },
  {
   "cell_type": "code",
   "execution_count": null,
   "metadata": {
    "ExecuteTime": {
     "end_time": "2020-09-13T12:29:35.450778Z",
     "start_time": "2020-09-13T12:29:35.411495Z"
    },
    "code_folding": [
     0
    ],
    "slideshow": {
     "slide_type": "skip"
    }
   },
   "outputs": [],
   "source": [
    "# undecimal-to-decimal calculator\n",
    "undecimal_digits = [str(i) for i in range(10)] + ['X']\n",
    "@interact(undecimal_str='X')\n",
    "def convert_undecimal_to_decimal(undecimal_str):\n",
    "    for digit in undecimal_str:\n",
    "        if digit not in undecimal_digits:\n",
    "            print('Not an undecimal string.')\n",
    "            break\n",
    "    else:\n",
    "        print('decimal:', undecimal_to_decimal(undecimal_str))"
   ]
  },
  {
   "cell_type": "markdown",
   "metadata": {
    "slideshow": {
     "slide_type": "slide"
    }
   },
   "source": [
    "### Decimal-to-Binary (Demo)"
   ]
  },
  {
   "cell_type": "markdown",
   "metadata": {
    "ExecuteTime": {
     "end_time": "2020-09-12T12:03:49.420749Z",
     "start_time": "2020-09-12T12:03:49.413815Z"
    },
    "slideshow": {
     "slide_type": "fragment"
    }
   },
   "source": [
    "Consider the reverse process that converts a non-negative decimal number of arbitrary size to a string representation in another number system."
   ]
  },
  {
   "cell_type": "markdown",
   "metadata": {
    "slideshow": {
     "slide_type": "subslide"
    }
   },
   "source": [
    "In particular, how to convert to binary?"
   ]
  },
  {
   "cell_type": "code",
   "execution_count": null,
   "metadata": {
    "ExecuteTime": {
     "end_time": "2020-09-13T12:29:40.246956Z",
     "start_time": "2020-09-13T12:29:40.241962Z"
    },
    "slideshow": {
     "slide_type": "fragment"
    }
   },
   "outputs": [],
   "source": [
    "def decimal_to_binary(decimal):\n",
    "    binary_str = str(decimal % 2)\n",
    "    while decimal // 2:\n",
    "        decimal //= 2\n",
    "        binary_str = str(decimal % 2) + binary_str\n",
    "    return binary_str"
   ]
  },
  {
   "cell_type": "code",
   "execution_count": null,
   "metadata": {
    "ExecuteTime": {
     "end_time": "2020-09-13T12:29:40.819203Z",
     "start_time": "2020-09-13T12:29:40.791568Z"
    },
    "code_folding": [
     0
    ],
    "slideshow": {
     "slide_type": "-"
    }
   },
   "outputs": [],
   "source": [
    "# decimal-to-binary calculator\n",
    "@interact(decimal='11')\n",
    "def convert_decimal_to_binary(decimal):\n",
    "    if not decimal.isdigit():\n",
    "        print('Not a non-negative integer.')\n",
    "    else:\n",
    "        print('binary:', decimal_to_binary(int(decimal)))"
   ]
  },
  {
   "cell_type": "markdown",
   "metadata": {
    "slideshow": {
     "slide_type": "fragment"
    }
   },
   "source": [
    "To understand the while loop, consider the same formula before, where the braces indicate the value of `decimal` at different time:\n",
    "$$\\begin{aligned} \\sum_{i=0}^{k-1} 2^i \\cdot b_{i} &=  \\left(\\sum_{i=1}^{k-1} 2^{i-1} \\cdot b_{i}\\right)\\times 2 + b_0 \\\\\n",
    "&= \\underbrace{(\\underbrace{ \\dots (\\underbrace{(0\\times 2 + b_{k-1}) \\times 2 + b_{k-1}}_{\\text{right before the last iteration} }  )\\times 2 \\dots + b_1}_{\\text{right before the second iteration} })\\times 2 + b_0}_{\\text{right before the first iteration} }.\\end{aligned}$$ "
   ]
  },
  {
   "cell_type": "markdown",
   "metadata": {
    "slideshow": {
     "slide_type": "fragment"
    }
   },
   "source": [
    "- $b_0$ is the remainder `decimal % 2` right before the first iteration,\n",
    "- $b_1$ is the remainder `decimal // 2 % 2` right before the second iteration, and\n",
    "- $b_{k-1}$ is the remainder `decimal // 2 % 2` right before the last iteration."
   ]
  },
  {
   "cell_type": "markdown",
   "metadata": {
    "slideshow": {
     "slide_type": "fragment"
    }
   },
   "source": [
    "We can also write a for loop instead of a while loop but doing so requires an extra calculation of the number of iterations."
   ]
  },
  {
   "cell_type": "markdown",
   "metadata": {
    "slideshow": {
     "slide_type": "slide"
    }
   },
   "source": [
    "### Decimal-to-Undecimal"
   ]
  },
  {
   "cell_type": "markdown",
   "metadata": {
    "slideshow": {
     "slide_type": "subslide"
    }
   },
   "source": [
    "**Exercise** Assign to `undecimal_str` the undecimal string that represents a non-negative integer `decimal` of any size."
   ]
  },
  {
   "cell_type": "markdown",
   "metadata": {
    "slideshow": {
     "slide_type": "fragment"
    }
   },
   "source": [
    "*Hint:* The following is a solution template but you need not follow it exactly:\n",
    "```Python\n",
    "def decimal_to_undecimal(decimal):\n",
    "    undecimal_str = '' # last digit will be obtained in the loop as well\n",
    "    while True:        # to avoid code duplication\n",
    "        digit_value = ____________\n",
    "        undecimal_str = (___ if ___________ == 10 else\n",
    "                         str(___________)) + undecimal_str\n",
    "        decimal //= 11\n",
    "        if not decimal: _____\n",
    "    return undecimal_str\n",
    "```"
   ]
  },
  {
   "cell_type": "code",
   "execution_count": null,
   "metadata": {
    "ExecuteTime": {
     "end_time": "2020-09-13T12:29:45.249100Z",
     "start_time": "2020-09-13T12:29:45.241917Z"
    },
    "deletable": false,
    "nbgrader": {
     "cell_type": "code",
     "checksum": "701b02e9f4258346bf3709536abd9661",
     "grade": false,
     "grade_id": "decimal_to_undecimal",
     "locked": false,
     "schema_version": 3,
     "solution": true,
     "task": false
    },
    "slideshow": {
     "slide_type": "skip"
    }
   },
   "outputs": [],
   "source": [
    "def decimal_to_undecimal(decimal):\n",
    "    # YOUR CODE HERE\n",
    "    raise NotImplementedError()\n",
    "    return undecimal_str"
   ]
  },
  {
   "cell_type": "code",
   "execution_count": null,
   "metadata": {
    "ExecuteTime": {
     "end_time": "2020-09-13T12:29:46.118027Z",
     "start_time": "2020-09-13T12:29:46.107209Z"
    },
    "code_folding": [
     0
    ],
    "deletable": false,
    "editable": false,
    "nbgrader": {
     "cell_type": "code",
     "checksum": "4987e5793db8773cf2b392c68387ee44",
     "grade": true,
     "grade_id": "cell-ecd2639ac821d5f1",
     "locked": true,
     "points": 1,
     "schema_version": 3,
     "solution": false,
     "task": false
    },
    "slideshow": {
     "slide_type": "skip"
    }
   },
   "outputs": [],
   "source": [
    "# tests\n",
    "def test_decimal_to_undecimal(undecimal,decimal):\n",
    "    undecimal_ = decimal_to_undecimal(decimal)\n",
    "    correct = isinstance(undecimal, str) and undecimal == undecimal_\n",
    "    if not correct:\n",
    "        print(\n",
    "            f'{decimal} should be represented as the undecimal {undecimal}, not {undecimal_}.'\n",
    "        )\n",
    "    assert correct\n",
    "\n",
    "test_decimal_to_undecimal('0', 0)\n",
    "test_decimal_to_undecimal('X', 10)\n",
    "test_decimal_to_undecimal('1752572309X478', 57983478668530)"
   ]
  },
  {
   "cell_type": "code",
   "execution_count": null,
   "metadata": {
    "ExecuteTime": {
     "end_time": "2020-09-13T12:29:48.951159Z",
     "start_time": "2020-09-13T12:29:48.923359Z"
    },
    "code_folding": [
     0
    ],
    "slideshow": {
     "slide_type": "skip"
    }
   },
   "outputs": [],
   "source": [
    "# undecimal-to-decimal calculator\n",
    "@interact(decimal='10')\n",
    "def convert_decimal_to_undecimal(decimal):\n",
    "    if not decimal.isdigit():\n",
    "        print('Not a non-negative integer.')\n",
    "    else:\n",
    "        print('undecimal:', decimal_to_undecimal(int(decimal)))"
   ]
  }
 ],
 "metadata": {
  "kernelspec": {
   "display_name": "Python 3.7",
   "language": "python",
   "name": "python3"
  },
  "language_info": {
   "codemirror_mode": {
    "name": "ipython",
    "version": 3
   },
   "file_extension": ".py",
   "mimetype": "text/x-python",
   "name": "python",
   "nbconvert_exporter": "python",
   "pygments_lexer": "ipython3",
   "version": "3.7.7"
  },
  "latex_envs": {
   "LaTeX_envs_menu_present": true,
   "autoclose": false,
   "autocomplete": true,
   "bibliofile": "biblio.bib",
   "cite_by": "apalike",
   "current_citInitial": 1,
   "eqLabelWithNumbers": true,
   "eqNumInitial": 1,
   "hotkeys": {
    "equation": "Ctrl-E",
    "itemize": "Ctrl-I"
   },
   "labels_anchors": false,
   "latex_user_defs": false,
   "report_style_numbering": false,
   "user_envs_cfg": false
  },
  "rise": {
   "enable_chalkboard": true,
   "scroll": true,
   "theme": "white"
  },
  "toc": {
   "base_numbering": 1,
   "nav_menu": {
    "height": "195px",
    "width": "330px"
   },
   "number_sections": true,
   "sideBar": true,
   "skip_h1_title": true,
   "title_cell": "Table of Contents",
   "title_sidebar": "Contents",
   "toc_cell": false,
   "toc_position": {
    "height": "454.418px",
    "left": "1533px",
    "top": "110.284px",
    "width": "435.327px"
   },
   "toc_section_display": true,
   "toc_window_display": false
  }
 },
 "nbformat": 4,
 "nbformat_minor": 4
}
