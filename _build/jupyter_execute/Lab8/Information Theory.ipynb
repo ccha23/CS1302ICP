{
 "cells": [
  {
   "cell_type": "markdown",
   "metadata": {
    "slideshow": {
     "slide_type": "slide"
    }
   },
   "source": [
    "# Information Theory"
   ]
  },
  {
   "cell_type": "markdown",
   "metadata": {
    "slideshow": {
     "slide_type": "-"
    },
    "tags": [
     "remove-cell"
    ]
   },
   "source": [
    "**CS1302 Introduction to Computer Programming**\n",
    "___"
   ]
  },
  {
   "cell_type": "markdown",
   "metadata": {
    "slideshow": {
     "slide_type": "subslide"
    }
   },
   "source": [
    "As mentioned in previous lectures, the following two lists `coin_flips` and `dice_rolls` simulate the random coin flips and rollings of a dice:"
   ]
  },
  {
   "cell_type": "code",
   "execution_count": null,
   "metadata": {
    "ExecuteTime": {
     "end_time": "2020-11-30T02:36:06.038825Z",
     "start_time": "2020-11-30T02:36:05.988147Z"
    },
    "deletable": false,
    "editable": false,
    "nbgrader": {
     "cell_type": "code",
     "checksum": "00804c545da07732cff29b92a7989fe1",
     "grade": false,
     "grade_id": "random",
     "locked": true,
     "schema_version": 3,
     "solution": false,
     "task": false
    },
    "slideshow": {
     "slide_type": "-"
    }
   },
   "outputs": [],
   "source": [
    "# Do NOT modify any variables defined here because some tests rely on them\n",
    "import random\n",
    "random.seed(0)  # for reproducible results.\n",
    "num_trials = 200\n",
    "coin_flips = ['H' if random.random() <= 1/2 else 'T' for i in range(num_trials)]\n",
    "dice_rolls = [random.randint(1,6) for i in range(num_trials)]\n",
    "print('coin flips: ',*coin_flips)\n",
    "print('dice rolls: ',*dice_rolls)"
   ]
  },
  {
   "cell_type": "markdown",
   "metadata": {
    "slideshow": {
     "slide_type": "subslide"
    }
   },
   "source": [
    "**What is the difference of the two random processes?  \n",
    "Can we say one process has more information content than the other?**"
   ]
  },
  {
   "cell_type": "markdown",
   "metadata": {
    "slideshow": {
     "slide_type": "-"
    }
   },
   "source": [
    "In this Lab, we will use dictionaries to store their distributions and then compute their information content using information theory, which was introduced by *Claude E. Shannon*. It has [numerous applications](https://www.khanacademy.org/computing/computer-science/informationtheory): \n",
    "- *compression* (to keep files small)\n",
    "- *communications* (to send data mobile phones), and \n",
    "- *machine learning* (to identify relevant features to learn from). "
   ]
  },
  {
   "cell_type": "markdown",
   "metadata": {
    "slideshow": {
     "slide_type": "slide"
    }
   },
   "source": [
    "## Entropy"
   ]
  },
  {
   "cell_type": "markdown",
   "metadata": {
    "slideshow": {
     "slide_type": "fragment"
    }
   },
   "source": [
    "Mathematically, we denote a distribution as $\\mathbf{p}=[p_i]_{i\\in \\mathcal{S}}$, where \n",
    "- $\\mathcal{S}$ is the set of distinct outcomes, and\n",
    "- $p_i$ denotes the probability (chance) of seeing outcome $i$."
   ]
  },
  {
   "cell_type": "markdown",
   "metadata": {
    "slideshow": {
     "slide_type": "fragment"
    }
   },
   "source": [
    "The following code shown in the lecture uses a dictionary to store the distribution for a sequence efficiently without storing outcomes with zero counts:"
   ]
  },
  {
   "cell_type": "code",
   "execution_count": null,
   "metadata": {
    "ExecuteTime": {
     "end_time": "2020-11-30T02:36:09.358277Z",
     "start_time": "2020-11-30T02:36:09.352201Z"
    },
    "deletable": false,
    "editable": false,
    "nbgrader": {
     "cell_type": "code",
     "checksum": "46a21b4ae378cc828bb77bc4ed82fe09",
     "grade": false,
     "grade_id": "dist",
     "locked": true,
     "schema_version": 3,
     "solution": false,
     "task": false
    },
    "slideshow": {
     "slide_type": "-"
    }
   },
   "outputs": [],
   "source": [
    "# Do NOT modify any variables defined here because some tests rely on them\n",
    "def distribute(seq):\n",
    "    '''Returns a dictionary where each value in a key-value pair is \n",
    "    the probability of the associated key occuring in the sequence.\n",
    "    '''\n",
    "    p = {}\n",
    "    for i in seq:\n",
    "            p[i] = p.get(i,0) + 1/len(seq)\n",
    "    return p\n",
    "\n",
    "# tests\n",
    "coin_flips_dist = distribute(coin_flips)\n",
    "dice_rolls_dist = distribute(dice_rolls)\n",
    "print('Distribution of coin flips:', coin_flips_dist)\n",
    "print('Distribution of dice rolls:', dice_rolls_dist)"
   ]
  },
  {
   "cell_type": "markdown",
   "metadata": {
    "slideshow": {
     "slide_type": "fragment"
    }
   },
   "source": [
    "For $\\mathbf{p}$ to be a valid distribution, the probabilities $p_i$'s have to sum to $1$, i.e.,\n",
    "\n",
    "$$\\sum_{i\\in \\mathcal{S}} p_i = 1, $$\n",
    "which can be verified as follows:"
   ]
  },
  {
   "cell_type": "code",
   "execution_count": null,
   "metadata": {
    "ExecuteTime": {
     "end_time": "2020-11-30T02:36:10.548606Z",
     "start_time": "2020-11-30T02:36:10.543473Z"
    },
    "slideshow": {
     "slide_type": "-"
    }
   },
   "outputs": [],
   "source": [
    "import math\n",
    "assert math.isclose(sum(coin_flips_dist.values()),1) and math.isclose(sum(dice_rolls_dist.values()),1)"
   ]
  },
  {
   "cell_type": "markdown",
   "metadata": {
    "slideshow": {
     "slide_type": "subslide"
    }
   },
   "source": [
    "**How to measure the information content?**"
   ]
  },
  {
   "cell_type": "code",
   "execution_count": null,
   "metadata": {
    "ExecuteTime": {
     "end_time": "2020-11-30T02:36:11.842356Z",
     "start_time": "2020-11-30T02:36:11.836253Z"
    },
    "slideshow": {
     "slide_type": "-"
    }
   },
   "outputs": [],
   "source": [
    "%%html\n",
    "<iframe width=\"912\" height=\"513\" src=\"https://www.youtube.com/embed/2s3aJfRr9gE\" frameborder=\"0\" allow=\"accelerometer; autoplay; clipboard-write; encrypted-media; gyroscope; picture-in-picture\" allowfullscreen></iframe>"
   ]
  },
  {
   "cell_type": "markdown",
   "metadata": {
    "slideshow": {
     "slide_type": "subslide"
    }
   },
   "source": [
    "In information theory, the information content of a distribution is measured by its [*entropy*](https://en.wikipedia.org/wiki/Entropy_(information_theory)) defined as:\n",
    "\n",
    "$$ \\begin{aligned} H(\\mathbf{p}) &:= \\sum_{i\\in \\mathcal{S}} p_i \\overbrace{\\log_2 \\tfrac{1}{p_i}}^{\\text{called surprise} } \\\\ &= - \\sum_{i\\in \\mathcal{S}} p_i \\log_2 p_i \\kern1em \\text{(bits)} \\end{aligned}  $$\n",
    "with $p_i \\log_2 \\frac{1}{p_i} = 0$ if $p_i = 0$ because $\\lim_{x\\downarrow 0} x \\log_2 \\frac1x = 0$."
   ]
  },
  {
   "cell_type": "markdown",
   "metadata": {
    "slideshow": {
     "slide_type": "fragment"
    }
   },
   "source": [
    "For instance, if $\\mathbf{p}=(p_{H},p_{T})=(0.5,0.5)$, then\n",
    "\n",
    "$$\\begin{aligned} H(\\mathbf{p}) &= 0.5 \\log_2 \\frac{1}{0.5} + 0.5 \\log_2 \\frac{1}{0.5} \\\\ &= 0.5 + 0.5 = 1  \\text{ bit,}\\end{aligned} $$\n",
    "i.e., an outcome of a fair coin flip has one bit of information content, as expected. "
   ]
  },
  {
   "cell_type": "markdown",
   "metadata": {
    "slideshow": {
     "slide_type": "fragment"
    }
   },
   "source": [
    "On the other hand, if $\\mathbf{p}=(p_{H},p_{T})=(1,0)$, then\n",
    "$$\\begin{aligned} H(\\mathbf{p}) &= 1 \\log_2 \\frac{1}{1} + 0 \\log_2 \\frac{1}{0} \\\\ &= 0 + 0 = 0  \\text{ bits,}\\end{aligned} $$\n",
    "i.e., an outcome of a biased coin flip that always comes up head has no information content, again as expected."
   ]
  },
  {
   "cell_type": "markdown",
   "metadata": {
    "slideshow": {
     "slide_type": "subslide"
    }
   },
   "source": [
    "**Exercise** Define a function `entropy` that\n",
    "- takes a distribution $\\mathbf{p}$ as its argument, and\n",
    "- returns the entropy $H(\\mathbf{p})$.\n",
    "\n",
    "Handle the case when $p_i=0$, e.g., using the short-circuit evaluation of logical `and`."
   ]
  },
  {
   "cell_type": "code",
   "execution_count": null,
   "metadata": {
    "ExecuteTime": {
     "end_time": "2020-11-30T02:36:14.574396Z",
     "start_time": "2020-11-30T02:36:14.568953Z"
    },
    "deletable": false,
    "nbgrader": {
     "cell_type": "code",
     "checksum": "86985a3479afc26fcc7159dfc27e3bf2",
     "grade": false,
     "grade_id": "entropy",
     "locked": false,
     "schema_version": 3,
     "solution": true,
     "task": false
    },
    "slideshow": {
     "slide_type": "-"
    }
   },
   "outputs": [],
   "source": [
    "def entropy(dist):\n",
    "    # YOUR CODE HERE\n",
    "    raise NotImplementedError()"
   ]
  },
  {
   "cell_type": "code",
   "execution_count": null,
   "metadata": {
    "ExecuteTime": {
     "end_time": "2020-11-30T02:36:15.154601Z",
     "start_time": "2020-11-30T02:36:15.146213Z"
    },
    "deletable": false,
    "editable": false,
    "nbgrader": {
     "cell_type": "code",
     "checksum": "252e3b0e0bf44aa7dc15a9c7774582f7",
     "grade": true,
     "grade_id": "test-entropy",
     "locked": true,
     "points": 1,
     "schema_version": 3,
     "solution": false,
     "task": false
    },
    "slideshow": {
     "slide_type": "-"
    }
   },
   "outputs": [],
   "source": [
    "# tests\n",
    "assert math.isclose(entropy({'H': 0.5, 'T': 0.5}), 1)\n",
    "assert math.isclose(entropy({'H': 1, 'T': 0}), 0)\n",
    "assert math.isclose(entropy(dict.fromkeys(range(1, 7), 1 / 6)), math.log2(6))"
   ]
  },
  {
   "cell_type": "markdown",
   "metadata": {
    "slideshow": {
     "slide_type": "slide"
    }
   },
   "source": [
    "## Uniform distribution maximizes entropy"
   ]
  },
  {
   "cell_type": "markdown",
   "metadata": {
    "slideshow": {
     "slide_type": "fragment"
    }
   },
   "source": [
    "Intuitively,\n",
    "- for large enough numbers of fair coin flips, we should have $\\mathcal{S}=\\{H,T\\}$ and $p_H=p_T=0.5$, i.e., equal chance for head and tail.\n",
    "- for large enough numbers of fair dice rolls, we should have $p_i=\\frac16$ for all $i\\in \\mathcal{S}=\\{1,2,3,4,5,6\\}$."
   ]
  },
  {
   "cell_type": "code",
   "execution_count": null,
   "metadata": {
    "ExecuteTime": {
     "end_time": "2020-11-30T02:36:16.996779Z",
     "start_time": "2020-11-30T02:36:16.875089Z"
    },
    "slideshow": {
     "slide_type": "-"
    }
   },
   "outputs": [],
   "source": [
    "import matplotlib.pyplot as plt\n",
    "\n",
    "def plot_distribution(seq):\n",
    "    dist = distribute(seq)\n",
    "    plt.stem(dist.keys(),   # set-like view of the keys\n",
    "             dist.values(), # view of the values\n",
    "             use_line_collection=True)\n",
    "    plt.xlabel('Outcomes')\n",
    "    plt.title('Distribution')\n",
    "    plt.ylim(0, 1)\n",
    "    \n",
    "import ipywidgets as widgets\n",
    "n_widget = widgets.IntSlider(\n",
    "    value=1,\n",
    "    min=1,\n",
    "    max=num_trials,\n",
    "    step=1,\n",
    "    description='n:',\n",
    "    continuous_update=False,\n",
    ")\n",
    "\n",
    "widgets.interactive(lambda n: plot_distribution(coin_flips[:n]),n=n_widget)"
   ]
  },
  {
   "cell_type": "code",
   "execution_count": null,
   "metadata": {
    "ExecuteTime": {
     "end_time": "2020-11-30T02:36:17.688814Z",
     "start_time": "2020-11-30T02:36:17.537818Z"
    },
    "slideshow": {
     "slide_type": "-"
    }
   },
   "outputs": [],
   "source": [
    "widgets.interactive(lambda n: plot_distribution(dice_rolls[:n]),n=n_widget)"
   ]
  },
  {
   "cell_type": "markdown",
   "metadata": {
    "slideshow": {
     "slide_type": "fragment"
    }
   },
   "source": [
    "A distribution is called a *uniform distribution* if all its distinct outcomes have the same probability of occuring, i.e.,\n",
    "\n",
    "$$ p_i = \\frac{1}{|\\mathcal{S}|}\\kern1em  \\text{for all }i\\in \\mathcal{S},  $$\n",
    "where $|\\mathcal{S}|$ is the mathematical notation to denote the size of the set $\\mathcal{S}$."
   ]
  },
  {
   "cell_type": "markdown",
   "metadata": {
    "slideshow": {
     "slide_type": "subslide"
    }
   },
   "source": [
    "**Exercise** Define a function `uniform` that\n",
    "- takes a sequence of possibly duplicate outcomes, and\n",
    "- returns a uniform distribution on the distinct outcomes."
   ]
  },
  {
   "cell_type": "code",
   "execution_count": null,
   "metadata": {
    "ExecuteTime": {
     "end_time": "2020-11-30T02:36:19.734972Z",
     "start_time": "2020-11-30T02:36:19.729594Z"
    },
    "deletable": false,
    "nbgrader": {
     "cell_type": "code",
     "checksum": "77fda24855b6aaad883348811e11f030",
     "grade": false,
     "grade_id": "uniform",
     "locked": false,
     "schema_version": 3,
     "solution": true,
     "task": false
    },
    "slideshow": {
     "slide_type": "-"
    }
   },
   "outputs": [],
   "source": [
    "def uniform(outcomes):\n",
    "    '''Returns the uniform distribution (dict) over distinct items in outcomes.'''\n",
    "    # YOUR CODE HERE\n",
    "    raise NotImplementedError()"
   ]
  },
  {
   "cell_type": "code",
   "execution_count": null,
   "metadata": {
    "ExecuteTime": {
     "end_time": "2020-11-30T02:36:20.416605Z",
     "start_time": "2020-11-30T02:36:20.406608Z"
    },
    "deletable": false,
    "editable": false,
    "nbgrader": {
     "cell_type": "code",
     "checksum": "85e734cc44cb68370c3518e76fe87381",
     "grade": true,
     "grade_id": "test-uniform",
     "locked": true,
     "points": 1,
     "schema_version": 3,
     "solution": false,
     "task": false
    },
    "slideshow": {
     "slide_type": "-"
    }
   },
   "outputs": [],
   "source": [
    "# tests\n",
    "assert uniform('HT') == {'H': 0.5, 'T': 0.5}\n",
    "assert uniform('HTH') == {'H': 0.5, 'T': 0.5}\n",
    "fair_dice_dist = uniform(range(1, 7))\n",
    "assert all(\n",
    "    math.isclose(fair_dice_dist[k], v) for k, v in {\n",
    "        1: 0.16666666666666666,\n",
    "        2: 0.16666666666666666,\n",
    "        3: 0.16666666666666666,\n",
    "        4: 0.16666666666666666,\n",
    "        5: 0.16666666666666666,\n",
    "        6: 0.16666666666666666\n",
    "    }.items())"
   ]
  },
  {
   "cell_type": "markdown",
   "metadata": {
    "slideshow": {
     "slide_type": "subslide"
    }
   },
   "source": [
    "**What is the entropy for uniform distributions?**"
   ]
  },
  {
   "cell_type": "markdown",
   "metadata": {
    "slideshow": {
     "slide_type": "fragment"
    }
   },
   "source": [
    "By definition,\n",
    "\n",
    "$$ \\begin{aligned} H(\\mathbf{p}) &:= \\sum_{i\\in \\mathcal{S}} p_i \\log_2 \\tfrac{1}{p_i} \\\\ &= \\sum_{i\\in \\mathcal{S}} \\frac{1}{|\\mathcal{S}|} \\log_2 |\\mathcal{S}| = \\log_2 |\\mathcal{S}|  \\kern1em \\text{(bits)} \\end{aligned}  $$\n",
    "\n",
    "This reduces to the formula you learned in Lecture 1 and Lab 1 regarding the number of bits required to represent a set. This is the maximum possible entropy for a given finite set of possible outcomes."
   ]
  },
  {
   "cell_type": "markdown",
   "metadata": {
    "slideshow": {
     "slide_type": "fragment"
    }
   },
   "source": [
    "You can use this result to test whether you have implemented both `entropy` and `uniform` correctly:"
   ]
  },
  {
   "cell_type": "code",
   "execution_count": null,
   "metadata": {
    "ExecuteTime": {
     "end_time": "2020-11-30T02:36:25.212111Z",
     "start_time": "2020-11-30T02:36:25.207318Z"
    },
    "slideshow": {
     "slide_type": "-"
    }
   },
   "outputs": [],
   "source": [
    "assert all(math.isclose(entropy(uniform(range(n))), math.log2(n)) for n in range(1,100)) "
   ]
  },
  {
   "cell_type": "markdown",
   "metadata": {
    "slideshow": {
     "slide_type": "slide"
    }
   },
   "source": [
    "## Joint distribution and its entropy"
   ]
  },
  {
   "cell_type": "markdown",
   "metadata": {
    "slideshow": {
     "slide_type": "fragment"
    }
   },
   "source": [
    "If we duplicate a sequence of outcomes multiple times, the total information content should remain unchanged, NOT doubled, because the duplicate contain the same information as the original. We will verify this fact by creating a [joint distribution](https://en.wikipedia.org/wiki/Joint_probability_distribution) \n",
    "\n",
    "$$\\mathbf{p}=[p_{ij}]_{i\\in \\mathcal{S},j\\in \\mathcal{T}}$$ \n",
    "- where $\\mathcal{S}$ and $\\mathcal{T}$ are sets of outcomes; and\n",
    "- $p_{ij}$ is the chance we see outcomes $i$ and $j$ simultaneously. \n",
    "\n",
    "The subscript $ij$ in $p_{ij}$ denotes a tuple $(i,j)$, NOT the multiplication $i\\times j$. We also have\n",
    "\n",
    "$$\\sum_{i\\in \\mathcal{S}} \\sum_{j\\in \\mathcal{T}} p_{ij} = 1.$$\n",
    "\n",
    "\n",
    "\n"
   ]
  },
  {
   "cell_type": "markdown",
   "metadata": {
    "slideshow": {
     "slide_type": "subslide"
    }
   },
   "source": [
    "**Exercise** Define a function `jointly_distribute` that \n",
    "- takes two sequences `seq1` and `seq2` of outcomes with the same length, and\n",
    "- returns the joint distribution represented as a dictionary where each key-value pair has the key being a tuple `(i,j)` associated with the probability $p_{ij}$ of seeing `(i,j)` in `zip(seq1,seq2)`."
   ]
  },
  {
   "cell_type": "code",
   "execution_count": null,
   "metadata": {
    "ExecuteTime": {
     "end_time": "2020-11-30T02:36:35.375122Z",
     "start_time": "2020-11-30T02:36:35.368117Z"
    },
    "deletable": false,
    "nbgrader": {
     "cell_type": "code",
     "checksum": "aa9fc36c18f5f275cc55ee9d28042407",
     "grade": false,
     "grade_id": "jointly_distribute",
     "locked": false,
     "schema_version": 3,
     "solution": true,
     "task": false
    },
    "slideshow": {
     "slide_type": "-"
    }
   },
   "outputs": [],
   "source": [
    "def jointly_distribute(seq1, seq2):\n",
    "    '''Returns the joint distribution of the tuple (i,j) of outcomes from zip(seq1,seq2).'''\n",
    "    # YOUR CODE HERE\n",
    "    raise NotImplementedError()"
   ]
  },
  {
   "cell_type": "code",
   "execution_count": null,
   "metadata": {
    "ExecuteTime": {
     "end_time": "2020-11-30T02:36:37.209709Z",
     "start_time": "2020-11-30T02:36:37.182230Z"
    },
    "code_folding": [],
    "deletable": false,
    "editable": false,
    "nbgrader": {
     "cell_type": "code",
     "checksum": "fca33545822bee0fbebad23d69502cba",
     "grade": true,
     "grade_id": "test-jointly_distribute",
     "locked": true,
     "points": 1,
     "schema_version": 3,
     "solution": false,
     "task": false
    },
    "slideshow": {
     "slide_type": "-"
    }
   },
   "outputs": [],
   "source": [
    "# tests\n",
    "assert jointly_distribute('HT', 'HT') == {('H', 'H'): 0.5, ('T', 'T'): 0.5}\n",
    "assert jointly_distribute('HHTT', 'HTHT') == {\n",
    "    ('H', 'H'): 0.25,\n",
    "    ('H', 'T'): 0.25,\n",
    "    ('T', 'H'): 0.25,\n",
    "    ('T', 'T'): 0.25\n",
    "}\n",
    "coin_flips_duplicate_dist = {\n",
    "    ('T', 'T'): 0.5350000000000004,\n",
    "    ('H', 'H'): 0.4650000000000003\n",
    "}\n",
    "coin_flips_duplicate_ans = jointly_distribute(coin_flips, coin_flips)\n",
    "assert all(\n",
    "    math.isclose(coin_flips_duplicate_ans[i], pi)\n",
    "    for i, pi in coin_flips_duplicate_dist.items())"
   ]
  },
  {
   "cell_type": "markdown",
   "metadata": {
    "slideshow": {
     "slide_type": "fragment"
    }
   },
   "source": [
    "If you have implemented `entropy` and `jointly_distribute` correctly, you can verify that duplicating a sequence will give the same entropy."
   ]
  },
  {
   "cell_type": "code",
   "execution_count": null,
   "metadata": {
    "ExecuteTime": {
     "end_time": "2020-11-30T02:36:42.862879Z",
     "start_time": "2020-11-30T02:36:42.859494Z"
    },
    "slideshow": {
     "slide_type": "-"
    }
   },
   "outputs": [],
   "source": [
    "assert math.isclose(entropy(jointly_distribute(coin_flips,coin_flips)), entropy(distribute(coin_flips)))\n",
    "assert math.isclose(entropy(jointly_distribute(dice_rolls,dice_rolls)), entropy(distribute(dice_rolls)))"
   ]
  },
  {
   "cell_type": "markdown",
   "metadata": {
    "slideshow": {
     "slide_type": "fragment"
    }
   },
   "source": [
    "However, for two sequences generated independently, the joint entropy is roughly the sum of the individual entropies."
   ]
  },
  {
   "cell_type": "code",
   "execution_count": null,
   "metadata": {
    "ExecuteTime": {
     "end_time": "2020-11-30T02:36:45.483459Z",
     "start_time": "2020-11-30T02:36:45.476684Z"
    },
    "slideshow": {
     "slide_type": "-"
    }
   },
   "outputs": [],
   "source": [
    "coin_flips_entropy = entropy(distribute(coin_flips))\n",
    "dice_rolls_entropy = entropy(distribute(dice_rolls))\n",
    "cf_dr_entropy = entropy(jointly_distribute(coin_flips, dice_rolls))\n",
    "print(f'''Entropy of coin flip: {coin_flips_entropy}\n",
    "Entropy of dice roll: {dice_rolls_entropy}\n",
    "Sum of the above entropies: {coin_flips_entropy + dice_rolls_entropy}\n",
    "Joint entropy: {cf_dr_entropy}''')"
   ]
  },
  {
   "cell_type": "markdown",
   "metadata": {
    "slideshow": {
     "slide_type": "subslide"
    }
   },
   "source": [
    "## Conditional distribution and entropy"
   ]
  },
  {
   "cell_type": "markdown",
   "metadata": {
    "slideshow": {
     "slide_type": "fragment"
    }
   },
   "source": [
    "Mathematically, we denote a [conditional distribution](https://en.wikipedia.org/wiki/Conditional_probability_distribution) as $\\mathbf{q}:=[q_{j|i}]_{i\\in \\mathcal{S}, j\\in \\mathcal{T}}$, where \n",
    "- $\\mathcal{S}$ and $\\mathcal{T}$ are two sets of distinct outcomes, and\n",
    "- $q_{j|i}$ denotes the probability (chance) of seeing outcome $j$ given the condition that outcome $i$ is observed.\n",
    "\n",
    "For $\\mathbf{q}$ to be a valid distribution, the probabilities $q_{j|i}$'s have to sum to $1$ for every $i$, i.e.,\n",
    "\n",
    "$$\\sum_{j\\in \\mathcal{T}} q_{j|i} = 1 \\kern1em \\text{for all }i\\in \\mathcal{S} $$"
   ]
  },
  {
   "cell_type": "markdown",
   "metadata": {
    "slideshow": {
     "slide_type": "fragment"
    }
   },
   "source": [
    "For example, suppose we want to compute the distribution of coin flips given dice rolls, then the following assign `q_H_1` and `q_T_1` to the values $q_{H|1}$ and $q_{T|1}$ respectively:"
   ]
  },
  {
   "cell_type": "code",
   "execution_count": null,
   "metadata": {
    "ExecuteTime": {
     "end_time": "2020-11-30T02:36:52.270634Z",
     "start_time": "2020-11-30T02:36:52.260818Z"
    },
    "slideshow": {
     "slide_type": "-"
    }
   },
   "outputs": [],
   "source": [
    "coin_flips_1 = [j for i, j in zip(dice_rolls, coin_flips) if i == 1]\n",
    "q_H_1 = coin_flips_1.count('H') / len(coin_flips_1)\n",
    "q_T_1 = coin_flips_1.count('T') / len(coin_flips_1)\n",
    "print('Coin flips given dice roll is 1:', coin_flips_1)\n",
    "print('Distribution of coin flip given dice roll is 1: {{ \"H\": {}, \"T\": {}}}'.format(q_H_1, q_T_1))\n",
    "assert math.isclose(q_H_1 + q_T_1, 1)"
   ]
  },
  {
   "cell_type": "markdown",
   "metadata": {
    "slideshow": {
     "slide_type": "fragment"
    }
   },
   "source": [
    "Note that `q_H_1 + q_T_1` is 1 as expected. Similarly, we can assign `q_H_2` and `q_T_2` to the values $q_{H|2}$ and $q_{T|2}$ respectively."
   ]
  },
  {
   "cell_type": "code",
   "execution_count": null,
   "metadata": {
    "ExecuteTime": {
     "end_time": "2020-11-30T02:36:54.400638Z",
     "start_time": "2020-11-30T02:36:54.391792Z"
    },
    "slideshow": {
     "slide_type": "-"
    }
   },
   "outputs": [],
   "source": [
    "coin_flips_2 = [j for i, j in zip(dice_rolls, coin_flips) if i == 2]\n",
    "q_H_2 = coin_flips_2.count('H') / len(coin_flips_2)\n",
    "q_T_2 = coin_flips_2.count('T') / len(coin_flips_2)\n",
    "print('Coin flips given dice roll is 2:', coin_flips_2)\n",
    "print('Distribution of coin flip given dice roll is 2: {{ \"H\": {}, \"T\": {}}}'.format(q_H_2, q_T_2))\n",
    "assert math.isclose(q_H_2 + q_T_2, 1)"
   ]
  },
  {
   "cell_type": "markdown",
   "metadata": {
    "slideshow": {
     "slide_type": "fragment"
    }
   },
   "source": [
    "Finally, we want to store the conditional distribution as a nested dictionary so that `q[i]` points to the distribution \n",
    "\n",
    "$$[q_{j|i}]_{j\\in \\mathcal{T}} \\kern1em \\text{for }i\\in \\mathcal{S}.$$"
   ]
  },
  {
   "cell_type": "code",
   "execution_count": null,
   "metadata": {
    "ExecuteTime": {
     "end_time": "2020-11-30T02:36:55.594506Z",
     "start_time": "2020-11-30T02:36:55.585985Z"
    },
    "slideshow": {
     "slide_type": "-"
    }
   },
   "outputs": [],
   "source": [
    "q = {}\n",
    "q[1] = dict(zip('HT',(q_H_1, q_T_1)))\n",
    "q[2] = dict(zip('HT',(q_H_2, q_T_2)))\n",
    "q"
   ]
  },
  {
   "cell_type": "markdown",
   "metadata": {
    "slideshow": {
     "slide_type": "fragment"
    }
   },
   "source": [
    "Of course, the above dictionary is missing the entries for other possible outcomes of the dice rolls."
   ]
  },
  {
   "cell_type": "markdown",
   "metadata": {
    "slideshow": {
     "slide_type": "subslide"
    }
   },
   "source": [
    "**Exercise** Define a function `conditionally_distribute` that\n",
    "- takes two sequences `seq1` and `seq2` of outcomes of the same length, and\n",
    "- returns the conditional distribution of `seq2` given `seq1` in the form of a nested dictionary efficiently without storing the unobserved outcomes.\n",
    "\n",
    "In the above example, `seq1` is `dice_rolls` while `seq2` is `coin_flips`.\n",
    "\n",
    "*Hint:* For an efficient implementation without traversing the input sequences too many times, consider using the following solution template and the `setdefault` method.\n",
    "```Python\n",
    "def conditionally_distribute(seq1, seq2):\n",
    "    q, count = {}, {}  # NOT q = count = {}\n",
    "    for i in seq1:\n",
    "        count[i] = count.get(i, 0) + 1\n",
    "    for i, j in zip(seq1, seq2):\n",
    "        q[i][j] = ____________________________________________________\n",
    "    return q\n",
    "```"
   ]
  },
  {
   "cell_type": "code",
   "execution_count": null,
   "metadata": {
    "ExecuteTime": {
     "end_time": "2020-11-30T02:37:10.353076Z",
     "start_time": "2020-11-30T02:37:10.344359Z"
    },
    "deletable": false,
    "nbgrader": {
     "cell_type": "code",
     "checksum": "417f83a259335d854d755dad4b87cb18",
     "grade": false,
     "grade_id": "conditionally_distribute",
     "locked": false,
     "schema_version": 3,
     "solution": true,
     "task": false
    },
    "slideshow": {
     "slide_type": "-"
    }
   },
   "outputs": [],
   "source": [
    "def conditionally_distribute(seq1, seq2):\n",
    "    '''Returns the conditional distribution q of seq2 given seq1 such that\n",
    "    q[i] is a dictionary for observed outcome i in seq1 and\n",
    "    q[i][j] is the probability of observing j in seq2 given the \n",
    "    corresponding outcome in seq1 is i.'''\n",
    "    # YOUR CODE HERE\n",
    "    raise NotImplementedError()"
   ]
  },
  {
   "cell_type": "code",
   "execution_count": null,
   "metadata": {
    "ExecuteTime": {
     "end_time": "2020-11-30T02:37:11.920937Z",
     "start_time": "2020-11-30T02:37:11.903512Z"
    },
    "deletable": false,
    "editable": false,
    "nbgrader": {
     "cell_type": "code",
     "checksum": "fdd078ad4d91ead8610ba3b546188b63",
     "grade": true,
     "grade_id": "test-conditionally_distribute",
     "locked": true,
     "points": 1,
     "schema_version": 3,
     "solution": false,
     "task": false
    },
    "slideshow": {
     "slide_type": "-"
    }
   },
   "outputs": [],
   "source": [
    "# tests\n",
    "cf_given_dr_dist = {\n",
    "    4: {\n",
    "        'T': 0.5588235294117647,\n",
    "        'H': 0.4411764705882353\n",
    "    },\n",
    "    1: {\n",
    "        'T': 0.46511627906976744,\n",
    "        'H': 0.5348837209302325\n",
    "    },\n",
    "    3: {\n",
    "        'H': 0.5135135135135135,\n",
    "        'T': 0.4864864864864865\n",
    "    },\n",
    "    6: {\n",
    "        'H': 0.5454545454545454,\n",
    "        'T': 0.45454545454545453\n",
    "    },\n",
    "    2: {\n",
    "        'T': 0.7586206896551724,\n",
    "        'H': 0.2413793103448276\n",
    "    },\n",
    "    5: {\n",
    "        'T': 0.5416666666666666,\n",
    "        'H': 0.4583333333333333\n",
    "    }\n",
    "}\n",
    "cf_given_dr_ans = conditionally_distribute(dice_rolls, coin_flips)\n",
    "assert all(\n",
    "    math.isclose(cf_given_dr_ans[i][j], v)\n",
    "    for i, d in cf_given_dr_dist.items() for j, v in d.items())"
   ]
  },
  {
   "cell_type": "markdown",
   "metadata": {
    "slideshow": {
     "slide_type": "fragment"
    }
   },
   "source": [
    "The [*conditional entropy*](https://en.wikipedia.org/wiki/Conditional_entropy) is defined for a conditional distribution $\\mathbf{q}=[q_{j|i}]_{i\\in \\mathcal{S},j\\in\\mathcal{T}}$ and a distribution $\\mathbf{p}=[p_i]_{i\\in \\mathcal{S}}$ as follows:\n",
    "\n",
    "$$ H(\\mathbf{q}|\\mathbf{p}) = \\sum_{i\\in \\mathcal{S}} p_i \\sum_{j\\in \\mathcal{T}} q_{j|i} \\log_2 \\frac{1}{q_{j|i}}, $$\n",
    "where, by convention,  \n",
    "- the summand of the outer sum is 0 if $p_i=0$ (regardless of the values of $q_{j|i}$), and\n",
    "- the summand of the inner sum is 0 if $q_{j|i}=0$."
   ]
  },
  {
   "cell_type": "markdown",
   "metadata": {
    "ExecuteTime": {
     "end_time": "2020-11-10T07:01:43.746409Z",
     "start_time": "2020-11-10T07:01:43.739829Z"
    },
    "slideshow": {
     "slide_type": "subslide"
    }
   },
   "source": [
    "**Exercise** Define a function `conditional_entropy` that\n",
    "- takes \n",
    "  - a distribution p as its first argument,\n",
    "  - a conditional distribution q as its second argument, and\n",
    "- returns the conditional entropy $H(\\mathbf{q}|\\mathbf{p})$.\n",
    "\n",
    "Handle the cases when $p_i=0$ and $q_{j|i}=0$ as well."
   ]
  },
  {
   "cell_type": "code",
   "execution_count": null,
   "metadata": {
    "ExecuteTime": {
     "end_time": "2020-11-30T03:05:53.714506Z",
     "start_time": "2020-11-30T03:05:53.708443Z"
    },
    "deletable": false,
    "nbgrader": {
     "cell_type": "code",
     "checksum": "c6b8cc3d81731e285ecd4c206f7b72cb",
     "grade": false,
     "grade_id": "conditional_entropy",
     "locked": false,
     "schema_version": 3,
     "solution": true,
     "task": false
    },
    "slideshow": {
     "slide_type": "-"
    }
   },
   "outputs": [],
   "source": [
    "# YOUR CODE HERE\n",
    "raise NotImplementedError()"
   ]
  },
  {
   "cell_type": "code",
   "execution_count": null,
   "metadata": {
    "ExecuteTime": {
     "end_time": "2020-11-30T03:05:54.134252Z",
     "start_time": "2020-11-30T03:05:54.122726Z"
    },
    "deletable": false,
    "editable": false,
    "nbgrader": {
     "cell_type": "code",
     "checksum": "46280a35e3965d89974ce801dad33a64",
     "grade": true,
     "grade_id": "test-conditional_entropy",
     "locked": true,
     "points": 1,
     "schema_version": 3,
     "solution": false,
     "task": false
    },
    "slideshow": {
     "slide_type": "-"
    }
   },
   "outputs": [],
   "source": [
    "# tests\n",
    "cf_given_dr_dist = {\n",
    "    4: {\n",
    "        'T': 0.5588235294117647,\n",
    "        'H': 0.4411764705882353\n",
    "    },\n",
    "    1: {\n",
    "        'T': 0.46511627906976744,\n",
    "        'H': 0.5348837209302325\n",
    "    },\n",
    "    3: {\n",
    "        'H': 0.5135135135135135,\n",
    "        'T': 0.4864864864864865\n",
    "    },\n",
    "    6: {\n",
    "        'H': 0.5454545454545454,\n",
    "        'T': 0.45454545454545453\n",
    "    },\n",
    "    2: {\n",
    "        'T': 0.7586206896551724,\n",
    "        'H': 0.2413793103448276\n",
    "    },\n",
    "    5: {\n",
    "        'T': 0.5416666666666666,\n",
    "        'H': 0.4583333333333333\n",
    "    }\n",
    "}\n",
    "assert conditional_entropy({'H': 0.5, 'T': 0.5},{'H': {'H': 0.5, 'T': 0.5}, 'T': {'H': 0.5, 'T': 0.5}}) == 1\n",
    "assert conditional_entropy({'H': 0, 'T': 1},{'H': {'H': 0.5, 'T': 0.5}, 'T': {'H': 0.5, 'T': 0.5}}) == 1\n",
    "assert conditional_entropy({'H': 0.5, 'T': 0.5},{'H': {'H': 1, 'T': 0}, 'T': {'H': 0, 'T': 1}}) == 0\n",
    "assert conditional_entropy({'H': 0.5, 'T': 0.5},{'H': {'H': 1, 'T': 0}, 'T': {'H': 0.5, 'T': 0.5}}) == 0.5\n",
    "assert math.isclose(conditional_entropy(dice_rolls_dist, cf_given_dr_dist), 0.9664712793722372)"
   ]
  },
  {
   "cell_type": "markdown",
   "metadata": {
    "slideshow": {
     "slide_type": "subslide"
    }
   },
   "source": [
    "The joint probability $p_{ij}$ over $i\\in \\mathcal{S}$ and $j\\in \\mathcal{T}$ can be calculated as follows\n",
    "\n",
    "$$p_{ij} = p_{i} q_{j|i}$$\n",
    "where $p_i$ is the probability of $i$ and $q_{j|i}$ is the conditional probability of $j$ given $i$."
   ]
  },
  {
   "cell_type": "markdown",
   "metadata": {},
   "source": [
    "**Exercise** Define a function `joint_distribution` that\n",
    "- takes the distribution $p$ and conditional distribution $q$ as arguments, and\n",
    "- returns their joint distribution."
   ]
  },
  {
   "cell_type": "code",
   "execution_count": null,
   "metadata": {
    "ExecuteTime": {
     "end_time": "2020-11-16T11:28:14.895895Z",
     "start_time": "2020-11-16T11:28:14.892010Z"
    },
    "deletable": false,
    "nbgrader": {
     "cell_type": "code",
     "checksum": "fadea90343ae2fe9be370998a98b16cc",
     "grade": false,
     "grade_id": "joint_distribution",
     "locked": false,
     "schema_version": 3,
     "solution": true,
     "task": false
    }
   },
   "outputs": [],
   "source": [
    "def joint_distribution(p,q):\n",
    "    # YOUR CODE HERE\n",
    "    raise NotImplementedError()"
   ]
  },
  {
   "cell_type": "code",
   "execution_count": null,
   "metadata": {
    "ExecuteTime": {
     "end_time": "2020-11-16T11:28:18.661291Z",
     "start_time": "2020-11-16T11:28:18.644524Z"
    },
    "deletable": false,
    "editable": false,
    "nbgrader": {
     "cell_type": "code",
     "checksum": "ed40b0a74b52031fe5953d52298ee632",
     "grade": true,
     "grade_id": "test-joint_distribution",
     "locked": true,
     "points": 1,
     "schema_version": 3,
     "solution": false,
     "task": false
    }
   },
   "outputs": [],
   "source": [
    "# tests\n",
    "assert joint_distribution({'H': 0.5, 'T': 0.5},{'H': {'H': 0.5, 'T': 0.5}, 'T': {'H': 0.5, 'T': 0.5}}) == {('H', 'H'): 0.25, ('H', 'T'): 0.25, ('T', 'H'): 0.25, ('T', 'T'): 0.25}\n",
    "assert joint_distribution({'H': 0, 'T': 1},{'H': {'H': 0.5, 'T': 0.5}, 'T': {'H': 0.5, 'T': 0.5}}) == {('H', 'H'): 0.0, ('H', 'T'): 0.0, ('T', 'H'): 0.5, ('T', 'T'): 0.5}\n",
    "assert joint_distribution({'H': 0.5, 'T': 0.5},{'H': {'H': 1, 'T': 0}, 'T': {'H': 0, 'T': 1}}) == {('H', 'H'): 0.5, ('H', 'T'): 0.0, ('T', 'H'): 0.0, ('T', 'T'): 0.5}, {'H': 0.5, 'T': 0.5}"
   ]
  },
  {
   "cell_type": "markdown",
   "metadata": {
    "slideshow": {
     "slide_type": "subslide"
    }
   },
   "source": [
    "Finally, a fundamental information identity, called the [*chain rule*](https://en.wikipedia.org/wiki/Conditional_entropy#Chain_rule), is that the joint entropy is equal to\n",
    "\n",
    "$$ H(\\mathbf{p}) + H(\\mathbf{q}|\\mathbf{p})$$\n",
    "for any distribution $\\mathbf{p}$ over outcome $i\\in \\mathcal{S}$ and conditional distribution $\\mathbf{q}$ over outcome $j\\in \\mathcal{T}$ given outcome $i \\in \\mathcal{S}$. "
   ]
  },
  {
   "cell_type": "markdown",
   "metadata": {
    "ExecuteTime": {
     "end_time": "2020-11-10T12:28:29.339662Z",
     "start_time": "2020-11-10T12:28:29.331637Z"
    },
    "slideshow": {
     "slide_type": "fragment"
    }
   },
   "source": [
    "If you have implemented `jointly_distribute`, `conditionally_distribute`, `entropy`, and `conditional_entropy` correctly, we can verify the identity as follows."
   ]
  },
  {
   "cell_type": "code",
   "execution_count": null,
   "metadata": {
    "ExecuteTime": {
     "end_time": "2020-11-16T11:28:43.031007Z",
     "start_time": "2020-11-16T11:28:43.023358Z"
    },
    "slideshow": {
     "slide_type": "-"
    }
   },
   "outputs": [],
   "source": [
    "def validate_chain_rule(seq1,seq2):\n",
    "    p = distribute(seq1)\n",
    "    q = conditionally_distribute(seq1,seq2)\n",
    "    pq = jointly_distribute(seq1,seq2)\n",
    "    H_pq = entropy(pq)\n",
    "    H_p = entropy(p)\n",
    "    H_q_p = conditional_entropy(p,q)\n",
    "    print(f'''Entropy of seq1: {H_p}\n",
    "Conditional entropy of seq2 given seq1: {H_q_p}\n",
    "Sum of the above entropies: {H_p + H_q_p}\n",
    "Joint entropy: {H_pq}''')\n",
    "    assert math.isclose(H_pq,H_p + H_q_p)"
   ]
  },
  {
   "cell_type": "code",
   "execution_count": null,
   "metadata": {
    "ExecuteTime": {
     "end_time": "2020-11-10T14:47:05.282008Z",
     "start_time": "2020-11-10T14:47:05.275719Z"
    },
    "slideshow": {
     "slide_type": "-"
    }
   },
   "outputs": [],
   "source": [
    "validate_chain_rule(coin_flips,coin_flips)"
   ]
  },
  {
   "cell_type": "code",
   "execution_count": null,
   "metadata": {
    "ExecuteTime": {
     "end_time": "2020-11-10T14:47:08.553680Z",
     "start_time": "2020-11-10T14:47:08.546789Z"
    },
    "slideshow": {
     "slide_type": "-"
    }
   },
   "outputs": [],
   "source": [
    "validate_chain_rule(dice_rolls,coin_flips)"
   ]
  }
 ],
 "metadata": {
  "kernelspec": {
   "display_name": "Python 3.7",
   "language": "python",
   "name": "python3"
  },
  "language_info": {
   "codemirror_mode": {
    "name": "ipython",
    "version": 3
   },
   "file_extension": ".py",
   "mimetype": "text/x-python",
   "name": "python",
   "nbconvert_exporter": "python",
   "pygments_lexer": "ipython3",
   "version": "3.7.6"
  },
  "latex_envs": {
   "LaTeX_envs_menu_present": true,
   "autoclose": false,
   "autocomplete": true,
   "bibliofile": "biblio.bib",
   "cite_by": "apalike",
   "current_citInitial": 1,
   "eqLabelWithNumbers": true,
   "eqNumInitial": 1,
   "hotkeys": {
    "equation": "Ctrl-E",
    "itemize": "Ctrl-I"
   },
   "labels_anchors": false,
   "latex_user_defs": false,
   "report_style_numbering": false,
   "user_envs_cfg": false
  },
  "rise": {
   "enable_chalkboard": true,
   "scroll": true,
   "theme": "white"
  },
  "toc": {
   "base_numbering": 1,
   "nav_menu": {
    "height": "195px",
    "width": "330px"
   },
   "number_sections": true,
   "sideBar": true,
   "skip_h1_title": true,
   "title_cell": "Table of Contents",
   "title_sidebar": "Contents",
   "toc_cell": false,
   "toc_position": {
    "height": "454.418px",
    "left": "1533px",
    "top": "110.284px",
    "width": "435.327px"
   },
   "toc_section_display": true,
   "toc_window_display": false
  }
 },
 "nbformat": 4,
 "nbformat_minor": 4
}