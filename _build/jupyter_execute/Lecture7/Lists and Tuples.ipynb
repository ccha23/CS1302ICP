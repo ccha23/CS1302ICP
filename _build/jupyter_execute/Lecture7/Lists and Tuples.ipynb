{
 "cells": [
  {
   "cell_type": "markdown",
   "metadata": {
    "slideshow": {
     "slide_type": "slide"
    }
   },
   "source": [
    "# Lists and Tuples"
   ]
  },
  {
   "cell_type": "markdown",
   "metadata": {
    "slideshow": {
     "slide_type": "-"
    },
    "tags": [
     "remove-cell"
    ]
   },
   "source": [
    "**CS1302 Introduction to Computer Programming**\n",
    "___"
   ]
  },
  {
   "cell_type": "code",
   "execution_count": 1,
   "metadata": {
    "ExecuteTime": {
     "end_time": "2020-11-27T11:20:04.656873Z",
     "start_time": "2020-11-27T11:20:04.651575Z"
    },
    "slideshow": {
     "slide_type": "fragment"
    },
    "tags": [
     "remove-cell"
    ]
   },
   "outputs": [],
   "source": [
    "%reload_ext mytutor"
   ]
  },
  {
   "cell_type": "markdown",
   "metadata": {
    "slideshow": {
     "slide_type": "slide"
    }
   },
   "source": [
    "## Motivation of composite data type"
   ]
  },
  {
   "cell_type": "markdown",
   "metadata": {
    "slideshow": {
     "slide_type": "fragment"
    }
   },
   "source": [
    "The following code calculates the average of five numbers:"
   ]
  },
  {
   "cell_type": "code",
   "execution_count": 2,
   "metadata": {
    "ExecuteTime": {
     "end_time": "2020-10-27T11:10:50.981767Z",
     "start_time": "2020-10-27T11:10:50.966422Z"
    },
    "slideshow": {
     "slide_type": "-"
    }
   },
   "outputs": [
    {
     "data": {
      "text/plain": [
       "3.0"
      ]
     },
     "execution_count": 2,
     "metadata": {},
     "output_type": "execute_result"
    }
   ],
   "source": [
    "def average_five_numbers(n1, n2, n3, n4, n5):\n",
    "    return (n1 + n2 + n3 + n4 + n5) / 5\n",
    "\n",
    "\n",
    "average_five_numbers(1, 2, 3, 4, 5)"
   ]
  },
  {
   "cell_type": "markdown",
   "metadata": {
    "slideshow": {
     "slide_type": "fragment"
    }
   },
   "source": [
    "What about using the above function to compute the average household income in Hong Kong.  \n",
    "The labor size in Hong Kong in 2018 is close to 4 million.\n",
    "- Should we create a variable to store the income of each individual?\n",
    "- Should we recursively apply the function to groups of five numbers?"
   ]
  },
  {
   "cell_type": "markdown",
   "metadata": {
    "slideshow": {
     "slide_type": "fragment"
    }
   },
   "source": [
    "What we need is\n",
    "- a *composite data type* that can keep a variable numbers of items, so that  \n",
    "- we can then define a function that takes an object of the *composite data type*,\n",
    "- and returns the average of all items in the object."
   ]
  },
  {
   "cell_type": "markdown",
   "metadata": {
    "slideshow": {
     "slide_type": "subslide"
    }
   },
   "source": [
    "**How to store a sequence of items in Python?**"
   ]
  },
  {
   "cell_type": "markdown",
   "metadata": {
    "slideshow": {
     "slide_type": "fragment"
    }
   },
   "source": [
    "`tuple` and `list` are two built-in classes for ordered collections of objects of possibly different types."
   ]
  },
  {
   "cell_type": "markdown",
   "metadata": {
    "slideshow": {
     "slide_type": "fragment"
    }
   },
   "source": [
    "Indeed, we have already used tuples and lists before."
   ]
  },
  {
   "cell_type": "code",
   "execution_count": 3,
   "metadata": {
    "ExecuteTime": {
     "end_time": "2020-11-02T23:25:35.106582Z",
     "start_time": "2020-11-02T23:25:35.101478Z"
    },
    "slideshow": {
     "slide_type": "-"
    }
   },
   "outputs": [
    {
     "data": {
      "text/html": [
       "\n",
       "<iframe\n",
       "    width=\"1100\"\n",
       "    height=\"300\"\n",
       "    src=\"https://e-quiz.cs.cityu.edu.hk/opt/cs1302visualize.html#mode=display&code=a_list%20%3D%20%271%202%203%27.split%28%29%0Aa_tuple%20%3D%20%28lambda%20%2Aargs%3A%20args%29%281%2C2%2C3%29%0Aa_list%5B0%5D%20%3D%200%0Aa_tuple%5B0%5D%20%3D%200%0A\"\n",
       "    frameborder=\"0\"\n",
       "    allowfullscreen\n",
       "></iframe>\n"
      ],
      "text/plain": [
       "<IPython.lib.display.IFrame at 0x7f64e43acf28>"
      ]
     },
     "metadata": {},
     "output_type": "display_data"
    }
   ],
   "source": [
    "%%mytutor -h 300\n",
    "a_list = '1 2 3'.split()\n",
    "a_tuple = (lambda *args: args)(1,2,3)\n",
    "a_list[0] = 0\n",
    "a_tuple[0] = 0"
   ]
  },
  {
   "cell_type": "markdown",
   "metadata": {
    "slideshow": {
     "slide_type": "subslide"
    }
   },
   "source": [
    "**What is the difference between tuple and list?**"
   ]
  },
  {
   "cell_type": "markdown",
   "metadata": {
    "slideshow": {
     "slide_type": "fragment"
    }
   },
   "source": [
    "- List is [*mutable*](https://docs.python.org/3/library/stdtypes.html#index-21) so programmers can change its items.\n",
    "- Tuple is [*immutable*](https://docs.python.org/3/glossary.html#term-immutable) like `int`, `float`, and `str`, so\n",
    "   - programmers can be certain the content stay unchanged, and\n",
    "   - Python can preallocate a fixed amount of memory to store its content."
   ]
  },
  {
   "cell_type": "markdown",
   "metadata": {
    "slideshow": {
     "slide_type": "slide"
    }
   },
   "source": [
    "## Constructing sequences"
   ]
  },
  {
   "cell_type": "markdown",
   "metadata": {
    "slideshow": {
     "slide_type": "subslide"
    }
   },
   "source": [
    "**How to create tuple/list?**"
   ]
  },
  {
   "cell_type": "markdown",
   "metadata": {
    "slideshow": {
     "slide_type": "fragment"
    }
   },
   "source": [
    "Mathematicians often represent a set of items in two different ways:\n",
    "1. [Roster notation](https://en.wikipedia.org/wiki/Set_(mathematics)#Roster_notation), which enumerates the elements in the sequence. E.g.,\n",
    "$$ \\{0, 1, 4, 9, 16, 25, 36, 49, 64, 81\\} $$\n",
    "2. [Set-builder notation](https://en.wikipedia.org/wiki/Set-builder_notation), which describes the content using a rule for constructing the elements.\n",
    "$$ \\{x^2| x\\in \\mathbb{N}, x< 10 \\}, $$\n",
    "namely the set of perfect squares less than 100."
   ]
  },
  {
   "cell_type": "markdown",
   "metadata": {
    "slideshow": {
     "slide_type": "fragment"
    }
   },
   "source": [
    "Python also provides two corresponding ways to create a tuple/list:  \n",
    "1. [Enclosure](https://docs.python.org/3/reference/expressions.html?highlight=literals#grammar-token-enclosure)\n",
    "2. [Comprehension](https://docs.python.org/3/reference/expressions.html#index-12)"
   ]
  },
  {
   "cell_type": "markdown",
   "metadata": {
    "slideshow": {
     "slide_type": "subslide"
    }
   },
   "source": [
    "**How to create a tuple/list by enumerating its items?**"
   ]
  },
  {
   "cell_type": "markdown",
   "metadata": {
    "slideshow": {
     "slide_type": "fragment"
    }
   },
   "source": [
    "To create a tuple, we enclose a comma separated sequence by parentheses:"
   ]
  },
  {
   "cell_type": "code",
   "execution_count": 4,
   "metadata": {
    "ExecuteTime": {
     "end_time": "2020-11-02T23:27:26.558639Z",
     "start_time": "2020-11-02T23:27:26.554769Z"
    },
    "slideshow": {
     "slide_type": "-"
    }
   },
   "outputs": [
    {
     "data": {
      "text/html": [
       "\n",
       "<iframe\n",
       "    width=\"1100\"\n",
       "    height=\"450\"\n",
       "    src=\"https://e-quiz.cs.cityu.edu.hk/opt/cs1302visualize.html#mode=display&code=empty_tuple%20%3D%20%28%29%0Asingleton_tuple%20%3D%20%280%2C%29%20%20%20%23%20why%20not%20%280%29%3F%0Aheterogeneous_tuple%20%3D%20%28singleton_tuple%2C%0A%20%20%20%20%20%20%20%20%20%20%20%20%20%20%20%20%20%20%20%20%20%20%20%281%2C%202.0%29%2C%0A%20%20%20%20%20%20%20%20%20%20%20%20%20%20%20%20%20%20%20%20%20%20%20print%29%0Aenclosed_starred_tuple%20%3D%20%28%2Arange%282%29%2C%0A%20%20%20%20%20%20%20%20%20%20%20%20%20%20%20%20%20%20%20%20%20%20%20%20%20%20%2A%2723%27%29%0A\"\n",
       "    frameborder=\"0\"\n",
       "    allowfullscreen\n",
       "></iframe>\n"
      ],
      "text/plain": [
       "<IPython.lib.display.IFrame at 0x7f64e436ca58>"
      ]
     },
     "metadata": {},
     "output_type": "display_data"
    }
   ],
   "source": [
    "%%mytutor -h 450\n",
    "empty_tuple = ()\n",
    "singleton_tuple = (0,)   # why not (0)?\n",
    "heterogeneous_tuple = (singleton_tuple,\n",
    "                       (1, 2.0),\n",
    "                       print)\n",
    "enclosed_starred_tuple = (*range(2),\n",
    "                          *'23')"
   ]
  },
  {
   "cell_type": "markdown",
   "metadata": {
    "slideshow": {
     "slide_type": "fragment"
    }
   },
   "source": [
    "Note that:\n",
    "- If the enclosed sequence has one term, there must be a comma after the term.\n",
    "- The elements of a tuple can have different types.\n",
    "- The unpacking operator `*` can unpack an iterable into a sequence in an enclosure."
   ]
  },
  {
   "cell_type": "markdown",
   "metadata": {
    "slideshow": {
     "slide_type": "subslide"
    }
   },
   "source": [
    "To create a list, we use square brackets to enclose a comma separated sequence of objects."
   ]
  },
  {
   "cell_type": "code",
   "execution_count": 5,
   "metadata": {
    "ExecuteTime": {
     "end_time": "2020-11-02T23:29:55.099284Z",
     "start_time": "2020-11-02T23:29:55.092488Z"
    },
    "slideshow": {
     "slide_type": "-"
    }
   },
   "outputs": [
    {
     "data": {
      "text/html": [
       "\n",
       "<iframe\n",
       "    width=\"1100\"\n",
       "    height=\"450\"\n",
       "    src=\"https://e-quiz.cs.cityu.edu.hk/opt/cs1302visualize.html#mode=display&code=empty_list%20%3D%20%5B%5D%0Asingleton_list%20%3D%20%5B0%5D%20%20%23%20no%20need%20to%20write%20%5B0%2C%5D%0Aheterogeneous_list%20%3D%20%5Bsingleton_list%2C%20%0A%20%20%20%20%20%20%20%20%20%20%20%20%20%20%20%20%20%20%20%20%20%20%281%2C%202.0%29%2C%20%0A%20%20%20%20%20%20%20%20%20%20%20%20%20%20%20%20%20%20%20%20%20%20print%5D%0Aenclosed_starred_list%20%3D%20%5B%2Arange%282%29%2C%0A%20%20%20%20%20%20%20%20%20%20%20%20%20%20%20%20%20%20%20%20%20%20%20%20%20%2A%2723%27%5D%0A\"\n",
       "    frameborder=\"0\"\n",
       "    allowfullscreen\n",
       "></iframe>\n"
      ],
      "text/plain": [
       "<IPython.lib.display.IFrame at 0x7f64e436c518>"
      ]
     },
     "metadata": {},
     "output_type": "display_data"
    }
   ],
   "source": [
    "%%mytutor -h 450\n",
    "empty_list = []\n",
    "singleton_list = [0]  # no need to write [0,]\n",
    "heterogeneous_list = [singleton_list, \n",
    "                      (1, 2.0), \n",
    "                      print]\n",
    "enclosed_starred_list = [*range(2),\n",
    "                         *'23']"
   ]
  },
  {
   "cell_type": "markdown",
   "metadata": {
    "slideshow": {
     "slide_type": "subslide"
    }
   },
   "source": [
    "We can also create a tuple/list from other iterables using the constructors `tuple`/`list` as well as addition and multiplication similar to `str`."
   ]
  },
  {
   "cell_type": "code",
   "execution_count": 6,
   "metadata": {
    "ExecuteTime": {
     "end_time": "2020-11-02T23:31:26.431382Z",
     "start_time": "2020-11-02T23:31:26.426487Z"
    },
    "slideshow": {
     "slide_type": "-"
    }
   },
   "outputs": [
    {
     "data": {
      "text/html": [
       "\n",
       "<iframe\n",
       "    width=\"1100\"\n",
       "    height=\"950\"\n",
       "    src=\"https://e-quiz.cs.cityu.edu.hk/opt/cs1302visualize.html#mode=display&code=str2list%20%3D%20list%28%27Hello%27%29%0Astr2tuple%20%3D%20tuple%28%27Hello%27%29%0Arange2list%20%3D%20list%28range%285%29%29%0Arange2tuple%20%3D%20tuple%28range%285%29%29%0Atuple2list%20%3D%20list%28%281%2C%202%2C%203%29%29%0Alist2tuple%20%3D%20tuple%28%5B1%2C%202%2C%203%5D%29%0Aconcatenated_tuple%20%3D%20%281%2C%29%20%2B%20%282%2C%203%29%0Aconcatenated_list%20%3D%20%5B1%2C%202%5D%20%2B%20%5B3%5D%0Aduplicated_tuple%20%3D%20%281%2C%29%20%2A%202%0Aduplicated_list%20%3D%202%20%2A%20%5B1%5D%0A\"\n",
       "    frameborder=\"0\"\n",
       "    allowfullscreen\n",
       "></iframe>\n"
      ],
      "text/plain": [
       "<IPython.lib.display.IFrame at 0x7f64e436cfd0>"
      ]
     },
     "metadata": {},
     "output_type": "display_data"
    }
   ],
   "source": [
    "%%mytutor -h 950\n",
    "str2list = list('Hello')\n",
    "str2tuple = tuple('Hello')\n",
    "range2list = list(range(5))\n",
    "range2tuple = tuple(range(5))\n",
    "tuple2list = list((1, 2, 3))\n",
    "list2tuple = tuple([1, 2, 3])\n",
    "concatenated_tuple = (1,) + (2, 3)\n",
    "concatenated_list = [1, 2] + [3]\n",
    "duplicated_tuple = (1,) * 2\n",
    "duplicated_list = 2 * [1]"
   ]
  },
  {
   "cell_type": "markdown",
   "metadata": {
    "slideshow": {
     "slide_type": "subslide"
    }
   },
   "source": [
    "**Exercise** Explain the difference between following two expressions. Why a singleton tuple must have a comma after the item."
   ]
  },
  {
   "cell_type": "code",
   "execution_count": 7,
   "metadata": {
    "ExecuteTime": {
     "end_time": "2020-11-02T23:31:48.052688Z",
     "start_time": "2020-11-02T23:31:48.048349Z"
    },
    "slideshow": {
     "slide_type": "-"
    }
   },
   "outputs": [
    {
     "name": "stdout",
     "output_type": "stream",
     "text": [
      "6\n",
      "(3, 3)\n"
     ]
    }
   ],
   "source": [
    "print((1+2)*2, \n",
    "      (1+2,)*2, sep='\\n')"
   ]
  },
  {
   "cell_type": "markdown",
   "metadata": {
    "nbgrader": {
     "grade": true,
     "grade_id": "singleton-tuple",
     "locked": false,
     "points": 0,
     "schema_version": 3,
     "solution": true,
     "task": false
    },
    "slideshow": {
     "slide_type": "-"
    }
   },
   "source": [
    "`(1+2)*2` evaluates to `6` but `(1+2,)*2` evaluates to `(3,3)`. \n",
    "- The parentheses in `(1+2)` indicate the addition needs to be performed first, but \n",
    "- the parentheses in `(1+2,)` creates a tuple.  \n",
    "\n",
    "Hence, singleton tuple must have a comma after the item to differentiate these two use cases."
   ]
  },
  {
   "cell_type": "markdown",
   "metadata": {
    "slideshow": {
     "slide_type": "subslide"
    }
   },
   "source": [
    "**How to use a rule to construct a tuple/list?**"
   ]
  },
  {
   "cell_type": "markdown",
   "metadata": {
    "ExecuteTime": {
     "end_time": "2020-10-29T00:11:10.722819Z",
     "start_time": "2020-10-29T00:11:10.718451Z"
    },
    "slideshow": {
     "slide_type": "fragment"
    }
   },
   "source": [
    "We can specify the rule using a [comprehension](https://docs.python.org/3/reference/expressions.html#index-12),  \n",
    "which we have used in a generator expression.  \n",
    "E.g., the following is a python one-liner that returns a generator for prime numbers."
   ]
  },
  {
   "cell_type": "code",
   "execution_count": 8,
   "metadata": {
    "ExecuteTime": {
     "end_time": "2020-11-02T23:36:56.247594Z",
     "start_time": "2020-11-02T23:36:56.233173Z"
    },
    "slideshow": {
     "slide_type": "-"
    }
   },
   "outputs": [
    {
     "name": "stdout",
     "output_type": "stream",
     "text": [
      "2 3 5 7 11 13 17 19 23 29 31 37 41 43 47 53 59 61 67 71 73 79 83 89 97\n"
     ]
    }
   ],
   "source": [
    "all?\n",
    "prime_sequence = lambda stop: (x for x in range(2, stop)\n",
    "                               if all(x % divisor for divisor in range(2, x)))\n",
    "print(*prime_sequence(100))"
   ]
  },
  {
   "cell_type": "markdown",
   "metadata": {
    "slideshow": {
     "slide_type": "fragment"
    }
   },
   "source": [
    "There are two comprehensions used:\n",
    "- In `all(x % divisor for divisor in range(2, x))`, the comprehension creates a generator of remainders to the function `all`, which returns true if all the remainders are `True` in boolean expression.\n",
    "- In the return value `(x for x in range(2, stop) if ...)` of the anonymous function, the comprehension creates a generator of numbers from 2 to `stop-1` that satisfy the condition of the `if` clause. "
   ]
  },
  {
   "cell_type": "markdown",
   "metadata": {
    "slideshow": {
     "slide_type": "subslide"
    }
   },
   "source": [
    "**Exercise** Use comprehension to define a function `composite_sequence` that takes a non-negative integer `stop` and returns a generator of composite numbers strictly smaller than `stop`. Use `any` instead of `all` to check if a number is composite."
   ]
  },
  {
   "cell_type": "code",
   "execution_count": 9,
   "metadata": {
    "ExecuteTime": {
     "end_time": "2020-11-02T23:36:33.954168Z",
     "start_time": "2020-11-02T23:36:33.932818Z"
    },
    "nbgrader": {
     "grade": false,
     "grade_id": "composite_sequence",
     "locked": false,
     "schema_version": 3,
     "solution": true,
     "task": false
    },
    "slideshow": {
     "slide_type": "-"
    }
   },
   "outputs": [
    {
     "name": "stdout",
     "output_type": "stream",
     "text": [
      "4 6 8 9 10 12 14 15 16 18 20 21 22 24 25 26 27 28 30 32 33 34 35 36 38 39 40 42 44 45 46 48 49 50 51 52 54 55 56 57 58 60 62 63 64 65 66 68 69 70 72 74 75 76 77 78 80 81 82 84 85 86 87 88 90 91 92 93 94 95 96 98 99\n"
     ]
    }
   ],
   "source": [
    "any?\n",
    "### BEGIN SOLUTION\n",
    "composite_sequence = lambda stop: (x for x in range(2, stop)\n",
    "                               if any(x % divisor == 0 for divisor in range(2, x)))\n",
    "### END SOLUTION\n",
    "\n",
    "print(*composite_sequence(100))"
   ]
  },
  {
   "cell_type": "markdown",
   "metadata": {
    "slideshow": {
     "slide_type": "subslide"
    }
   },
   "source": [
    "We can construct a list instead of a generator using comprehension:"
   ]
  },
  {
   "cell_type": "code",
   "execution_count": 10,
   "metadata": {
    "ExecuteTime": {
     "end_time": "2020-11-02T23:38:43.586916Z",
     "start_time": "2020-11-02T23:38:43.580008Z"
    },
    "slideshow": {
     "slide_type": "-"
    }
   },
   "outputs": [
    {
     "name": "stdout",
     "output_type": "stream",
     "text": [
      "[0, 1, 4, 9, 16, 25, 36, 49, 64, 81]\n",
      "[0, 1, 4, 9, 16, 25, 36, 49, 64, 81]\n"
     ]
    }
   ],
   "source": [
    "print(list(x**2 for x in range(10)))  # Use the list constructor\n",
    "print([x**2 for x in range(10)])      # Enclose comprehension by brackets"
   ]
  },
  {
   "cell_type": "markdown",
   "metadata": {
    "slideshow": {
     "slide_type": "subslide"
    }
   },
   "source": [
    "We can also use comprehension to construct a tuple:"
   ]
  },
  {
   "cell_type": "code",
   "execution_count": 11,
   "metadata": {
    "ExecuteTime": {
     "end_time": "2020-11-02T23:38:47.726485Z",
     "start_time": "2020-11-02T23:38:47.720741Z"
    },
    "slideshow": {
     "slide_type": "-"
    }
   },
   "outputs": [
    {
     "name": "stdout",
     "output_type": "stream",
     "text": [
      "(0, 1, 4, 9, 16, 25, 36, 49, 64, 81)\n"
     ]
    }
   ],
   "source": [
    "print(tuple(x**2 for x in range(10))) # Use the tuple constructor"
   ]
  },
  {
   "cell_type": "markdown",
   "metadata": {
    "slideshow": {
     "slide_type": "subslide"
    }
   },
   "source": [
    "**Exercise** Explain the difference between the following expressions."
   ]
  },
  {
   "cell_type": "code",
   "execution_count": 12,
   "metadata": {
    "ExecuteTime": {
     "end_time": "2020-11-02T23:39:02.056007Z",
     "start_time": "2020-11-02T23:39:02.049942Z"
    },
    "slideshow": {
     "slide_type": "-"
    }
   },
   "outputs": [
    {
     "name": "stdout",
     "output_type": "stream",
     "text": [
      "<generator object <genexpr> at 0x7f64e432b408>\n",
      "(0, 1, 4, 9, 16, 25, 36, 49, 64, 81)\n"
     ]
    }
   ],
   "source": [
    "print((x**2 for x in range(10)),\n",
    "      (*(x**2 for x in range(10)),), sep='\\n')"
   ]
  },
  {
   "cell_type": "markdown",
   "metadata": {
    "nbgrader": {
     "grade": true,
     "grade_id": "generator-vs-tuple",
     "locked": false,
     "points": 0,
     "schema_version": 3,
     "solution": true,
     "task": false
    },
    "slideshow": {
     "slide_type": "-"
    }
   },
   "source": [
    "- The first is a generator expression, not a tuple. \n",
    "- The second is a tuple constructed by enclosing the sequence from unpacking the generator.  \n",
    "  There must be a comma after the generator since there is only one enclosed term, even though that term generates multiple items."
   ]
  },
  {
   "cell_type": "markdown",
   "metadata": {
    "slideshow": {
     "slide_type": "subslide"
    }
   },
   "source": [
    "**Exercise** Explain the difference between the following expressions."
   ]
  },
  {
   "cell_type": "code",
   "execution_count": 13,
   "metadata": {
    "ExecuteTime": {
     "end_time": "2020-11-02T23:40:59.626265Z",
     "start_time": "2020-11-02T23:40:59.619398Z"
    },
    "slideshow": {
     "slide_type": "-"
    }
   },
   "outputs": [
    {
     "name": "stdout",
     "output_type": "stream",
     "text": [
      "[0, 1, 2, 3, 4, 5, 6, 7, 8, 9]\n",
      "[<generator object <genexpr> at 0x7f64e432b4f8>]\n"
     ]
    }
   ],
   "source": [
    "print([x for x in range(10)],\n",
    "      [(lambda arg: arg)(x for x in range(10))], sep='\\n')"
   ]
  },
  {
   "cell_type": "markdown",
   "metadata": {
    "nbgrader": {
     "grade": true,
     "grade_id": "comprehension-as-argument",
     "locked": false,
     "points": 0,
     "schema_version": 3,
     "solution": true,
     "task": false
    },
    "slideshow": {
     "slide_type": "-"
    }
   },
   "source": [
    "- In the second expression, the comprehension provided as an argument to a function becomes a generator object,  \n",
    "  which is returned by the anonymous function and enclosed to form the singleton list. \n",
    "- In the first expression, the comprehension is not converted to a generator."
   ]
  },
  {
   "cell_type": "markdown",
   "metadata": {
    "slideshow": {
     "slide_type": "subslide"
    }
   },
   "source": [
    "With list comprehension, we can simulate a sequence of biased coin flips."
   ]
  },
  {
   "cell_type": "code",
   "execution_count": 14,
   "metadata": {
    "ExecuteTime": {
     "end_time": "2020-11-02T23:42:30.880408Z",
     "start_time": "2020-11-02T23:42:30.832881Z"
    },
    "slideshow": {
     "slide_type": "-"
    }
   },
   "outputs": [
    {
     "name": "stdout",
     "output_type": "stream",
     "text": [
      "Chance of head: 0.04958906071546154\n",
      "Coin flips: T T T T T T T T T T T T T T T H T T T T T T T T T T T T T T T T T T T T T T T H T T T T T T T T T T T T H T T T T T T T H T T T T T T T T H T T T T T T T T T H T T T T T T T T T T T T H T T T T T T T T T T T T T T T T T T T T T T T T T T T T T T T T T T T T T T T T T T T T T T T T T T H T T T T T T T T T T T T H T T T T T T T H T T T T T T T H T T T T T T T T T T T T H T T T T T T T T T T T H T T T T T T T T T T T T T T T T T T T T T T T H T T T T H T T T T T H T T T T T T T T T T T T T T T T T T T T T T T T T T T T T T T H T T T T T T T T T T T T T T T T H T T T T T T T T H H T T H T T T T T T T T T T T T T T T T T T T T T T T T T T T T T T T T T T T T T T T T T T T H T T T T T T T T T T T T T T T T T T T T T T T T T T T T T T T T T T T T T T T T T T T T T T T T T T T T T H T T T T T H T T T T T T T T T T T T T H T H T T T T T H T T T T T T T T T T T T T T T T T T T T T T T T T T T T T T T T T T T T T T T T T T H T T T T T T T T T T T T T T T T T T T T T T T T T T T T T T T T H T T T T T T T T T T T T T H T T T T T T T T T H T T T T T T T T T T T H T T T T T H T T H T T T T T T T T T T T T H T T T T T T T T T T T T T T T T T T T T T T T T T T T T T T T T T T T T T T T T T T T T T T T T T T T T T T T T T T T T T T T T T T T T T T T T H T T T T T T T T T T H T T T T T T T T H T T T T H T T T T T T T T T T T T T T T T T T T T T T T T T T T T T T T T T T T T T T T T T T T T T T H T T T T T T H T T T T T T T T T T T T T T T T T T T T T T T T T T T T T T T T T T T T T T T T T T T T T T T T T T T T T T T T T T T T T T T T T T H T T T T T T T T T T T T T T T T T T T T T T T T T T T T T T T T T T T T T T T T T T T H T T T T T T T T T T T T T T T T T T T T T T T T T T T T T T T T T T T T T T T T T H T T T T T T T T T T T T T T T T T T T T T T T T T T H T H T T H T T T T T T T T T H T T T T T T T T T H T T T T T T T T T T T T T T T T T H T T T T T T T T T T T T T T T T T T T T "
     ]
    },
    {
     "name": "stdout",
     "output_type": "stream",
     "text": [
      "T T T T T T T T T T T T T T T T T T T T T T T T T T T T T T T T T T H T T T T T T T T T T T T H T T\n"
     ]
    }
   ],
   "source": [
    "from random import random as rand\n",
    "p = rand()  # unknown bias\n",
    "coin_flips = ['H' if rand() <= p else 'T' for i in range(1000)]\n",
    "print('Chance of head:', p)\n",
    "print('Coin flips:',*coin_flips)"
   ]
  },
  {
   "cell_type": "markdown",
   "metadata": {
    "slideshow": {
     "slide_type": "fragment"
    }
   },
   "source": [
    "We can then estimate the bias by the fraction of heads coming up."
   ]
  },
  {
   "cell_type": "code",
   "execution_count": 15,
   "metadata": {
    "ExecuteTime": {
     "end_time": "2020-11-02T23:43:05.198459Z",
     "start_time": "2020-11-02T23:43:05.193224Z"
    },
    "slideshow": {
     "slide_type": "-"
    }
   },
   "outputs": [
    {
     "name": "stdout",
     "output_type": "stream",
     "text": [
      "Fraction of heads: 0.052\n"
     ]
    }
   ],
   "source": [
    "def average(seq):\n",
    "    return sum(seq)/len(seq)\n",
    "\n",
    "head_indicators = [1 if outcome == 'H' else 0 for outcome in coin_flips]\n",
    "fraction_of_heads = average(head_indicators)\n",
    "print('Fraction of heads:', fraction_of_heads)"
   ]
  },
  {
   "cell_type": "markdown",
   "metadata": {
    "slideshow": {
     "slide_type": "fragment"
    }
   },
   "source": [
    "Note that `sum` and `len` returns the sum and length of the sequence."
   ]
  },
  {
   "cell_type": "markdown",
   "metadata": {
    "slideshow": {
     "slide_type": "fragment"
    }
   },
   "source": [
    "**Exercise** Define a function `variance` that takes in a sequence `seq` and returns the [variance](https://en.wikipedia.org/wiki/Variance) of the sequence."
   ]
  },
  {
   "cell_type": "code",
   "execution_count": 16,
   "metadata": {
    "ExecuteTime": {
     "end_time": "2020-11-02T23:43:51.901668Z",
     "start_time": "2020-11-02T23:43:51.897232Z"
    },
    "nbgrader": {
     "grade": false,
     "grade_id": "variance",
     "locked": false,
     "schema_version": 3,
     "solution": true,
     "task": false
    },
    "slideshow": {
     "slide_type": "-"
    }
   },
   "outputs": [
    {
     "name": "stdout",
     "output_type": "stream",
     "text": [
      "95% confidence interval: [0.04,0.06]\n"
     ]
    }
   ],
   "source": [
    "def variance(seq):\n",
    "    ### BEGIN SOLUTION\n",
    "    return sum(i**2 for i in seq)/len(seq) - average(seq)**2\n",
    "    ### END SOLUTION\n",
    "\n",
    "delta = (variance(head_indicators)/len(head_indicators))**0.5\n",
    "print('95% confidence interval: [{:.2f},{:.2f}]'.format(p-2*delta,p+2*delta))"
   ]
  },
  {
   "cell_type": "markdown",
   "metadata": {
    "slideshow": {
     "slide_type": "slide"
    }
   },
   "source": [
    "## Selecting items in a sequence"
   ]
  },
  {
   "cell_type": "markdown",
   "metadata": {
    "slideshow": {
     "slide_type": "subslide"
    }
   },
   "source": [
    "**How to traverse a tuple/list?**"
   ]
  },
  {
   "cell_type": "markdown",
   "metadata": {
    "slideshow": {
     "slide_type": "fragment"
    }
   },
   "source": [
    "Instead of calling the dunder method directly, we can use a for loop to iterate over all the items in order."
   ]
  },
  {
   "cell_type": "code",
   "execution_count": 17,
   "metadata": {
    "ExecuteTime": {
     "end_time": "2020-11-02T23:45:55.687173Z",
     "start_time": "2020-11-02T23:45:55.681215Z"
    },
    "scrolled": true,
    "slideshow": {
     "slide_type": "-"
    }
   },
   "outputs": [
    {
     "name": "stdout",
     "output_type": "stream",
     "text": [
      "0 1 2 3 4 "
     ]
    }
   ],
   "source": [
    "a = (*range(5),)\n",
    "for item in a: print(item, end=' ')"
   ]
  },
  {
   "cell_type": "markdown",
   "metadata": {
    "slideshow": {
     "slide_type": "fragment"
    }
   },
   "source": [
    "To do it in reverse, we can use the `reversed` function."
   ]
  },
  {
   "cell_type": "code",
   "execution_count": 18,
   "metadata": {
    "ExecuteTime": {
     "end_time": "2020-11-02T23:45:16.488066Z",
     "start_time": "2020-11-02T23:45:16.477429Z"
    },
    "slideshow": {
     "slide_type": "-"
    }
   },
   "outputs": [
    {
     "name": "stdout",
     "output_type": "stream",
     "text": [
      "4 3 2 1 0 "
     ]
    }
   ],
   "source": [
    "reversed?\n",
    "a = [*range(5)]\n",
    "for item in reversed(a): print(item, end=' ')"
   ]
  },
  {
   "cell_type": "markdown",
   "metadata": {
    "slideshow": {
     "slide_type": "fragment"
    }
   },
   "source": [
    "We can also traverse multiple tuples/lists simultaneously by `zip`ping them."
   ]
  },
  {
   "cell_type": "code",
   "execution_count": 19,
   "metadata": {
    "ExecuteTime": {
     "end_time": "2020-11-02T23:46:12.766014Z",
     "start_time": "2020-11-02T23:46:12.751946Z"
    },
    "slideshow": {
     "slide_type": "-"
    }
   },
   "outputs": [
    {
     "name": "stdout",
     "output_type": "stream",
     "text": [
      "0 4\n",
      "1 3\n",
      "2 2\n",
      "3 1\n",
      "4 0\n"
     ]
    }
   ],
   "source": [
    "zip?\n",
    "a = (*range(5),)\n",
    "b = reversed(a)\n",
    "for item1, item2 in zip(a,b):\n",
    "    print(item1,item2)"
   ]
  },
  {
   "cell_type": "markdown",
   "metadata": {
    "slideshow": {
     "slide_type": "subslide"
    }
   },
   "source": [
    "**How to select an item in a sequence?**"
   ]
  },
  {
   "cell_type": "markdown",
   "metadata": {
    "slideshow": {
     "slide_type": "fragment"
    }
   },
   "source": [
    "Sequence objects such as `str`/`tuple`/`list` implements the [*getter method* `__getitem__`](https://docs.python.org/3/reference/datamodel.html#object.__getitem__) to return their items."
   ]
  },
  {
   "cell_type": "markdown",
   "metadata": {
    "slideshow": {
     "slide_type": "fragment"
    }
   },
   "source": [
    "We can select an item by [subscription](https://docs.python.org/3/reference/expressions.html#subscriptions) \n",
    "```Python\n",
    "a[i]\n",
    "``` \n",
    "where `a` is a list and `i` is an integer index."
   ]
  },
  {
   "cell_type": "markdown",
   "metadata": {
    "slideshow": {
     "slide_type": "subslide"
    }
   },
   "source": [
    "A non-negative index indicates the distance from the beginning."
   ]
  },
  {
   "cell_type": "markdown",
   "metadata": {
    "slideshow": {
     "slide_type": "-"
    }
   },
   "source": [
    "$$\\boldsymbol{a} = (a_0, ... , a_{n-1})$$"
   ]
  },
  {
   "cell_type": "code",
   "execution_count": 20,
   "metadata": {
    "ExecuteTime": {
     "end_time": "2020-11-02T23:47:38.089722Z",
     "start_time": "2020-11-02T23:47:38.080226Z"
    },
    "slideshow": {
     "slide_type": "-"
    }
   },
   "outputs": [
    {
     "name": "stdout",
     "output_type": "stream",
     "text": [
      "(0, 1, 2, 3, 4, 5, 6, 7, 8, 9)\n",
      "Length: 10\n",
      "First element: 0\n",
      "Second element: 1\n",
      "Last element: 9\n"
     ]
    },
    {
     "ename": "IndexError",
     "evalue": "tuple index out of range",
     "output_type": "error",
     "traceback": [
      "\u001b[0;31m---------------------------------------------------------------------------\u001b[0m",
      "\u001b[0;31mIndexError\u001b[0m                                Traceback (most recent call last)",
      "\u001b[0;32m<ipython-input-20-8793aa5ed482>\u001b[0m in \u001b[0;36m<module>\u001b[0;34m\u001b[0m\n\u001b[1;32m      5\u001b[0m \u001b[0mprint\u001b[0m\u001b[0;34m(\u001b[0m\u001b[0;34m'Second element:'\u001b[0m\u001b[0;34m,\u001b[0m\u001b[0ma\u001b[0m\u001b[0;34m[\u001b[0m\u001b[0;36m1\u001b[0m\u001b[0;34m]\u001b[0m\u001b[0;34m)\u001b[0m\u001b[0;34m\u001b[0m\u001b[0;34m\u001b[0m\u001b[0m\n\u001b[1;32m      6\u001b[0m \u001b[0mprint\u001b[0m\u001b[0;34m(\u001b[0m\u001b[0;34m'Last element:'\u001b[0m\u001b[0;34m,\u001b[0m\u001b[0ma\u001b[0m\u001b[0;34m[\u001b[0m\u001b[0mlen\u001b[0m\u001b[0;34m(\u001b[0m\u001b[0ma\u001b[0m\u001b[0;34m)\u001b[0m\u001b[0;34m-\u001b[0m\u001b[0;36m1\u001b[0m\u001b[0;34m]\u001b[0m\u001b[0;34m)\u001b[0m\u001b[0;34m\u001b[0m\u001b[0;34m\u001b[0m\u001b[0m\n\u001b[0;32m----> 7\u001b[0;31m \u001b[0mprint\u001b[0m\u001b[0;34m(\u001b[0m\u001b[0ma\u001b[0m\u001b[0;34m[\u001b[0m\u001b[0mlen\u001b[0m\u001b[0;34m(\u001b[0m\u001b[0ma\u001b[0m\u001b[0;34m)\u001b[0m\u001b[0;34m]\u001b[0m\u001b[0;34m)\u001b[0m \u001b[0;31m# IndexError\u001b[0m\u001b[0;34m\u001b[0m\u001b[0;34m\u001b[0m\u001b[0m\n\u001b[0m",
      "\u001b[0;31mIndexError\u001b[0m: tuple index out of range"
     ]
    }
   ],
   "source": [
    "a = (*range(10),)\n",
    "print(a)\n",
    "print('Length:', len(a))\n",
    "print('First element:',a[0])\n",
    "print('Second element:',a[1])\n",
    "print('Last element:',a[len(a)-1])\n",
    "print(a[len(a)]) # IndexError"
   ]
  },
  {
   "cell_type": "markdown",
   "metadata": {
    "ExecuteTime": {
     "end_time": "2020-10-27T14:55:28.986812Z",
     "start_time": "2020-10-27T14:55:28.980088Z"
    },
    "slideshow": {
     "slide_type": "fragment"
    }
   },
   "source": [
    "`a[i]` with `i >= len(a)` results in an `IndexError`. "
   ]
  },
  {
   "cell_type": "markdown",
   "metadata": {
    "slideshow": {
     "slide_type": "subslide"
    }
   },
   "source": [
    "A negative index represents a negative offset from an imaginary element one past the end of the sequence."
   ]
  },
  {
   "cell_type": "markdown",
   "metadata": {
    "slideshow": {
     "slide_type": "-"
    }
   },
   "source": [
    "$$\\begin{aligned} \\boldsymbol{a} &= (a_0, ... , a_{n-1})\\\\\n",
    "& = (a_{-n}, ..., a_{-1})\n",
    "\\end{aligned}$$"
   ]
  },
  {
   "cell_type": "code",
   "execution_count": 149,
   "metadata": {
    "ExecuteTime": {
     "end_time": "2020-11-02T23:48:34.920475Z",
     "start_time": "2020-11-02T23:48:34.906520Z"
    },
    "slideshow": {
     "slide_type": "-"
    }
   },
   "outputs": [
    {
     "name": "stdout",
     "output_type": "stream",
     "text": [
      "[0, 1, 2, 3, 4, 5, 6, 7, 8, 9]\n",
      "Last element: 9\n",
      "Second last element: 8\n",
      "First element: 0\n"
     ]
    },
    {
     "ename": "IndexError",
     "evalue": "list index out of range",
     "output_type": "error",
     "traceback": [
      "\u001b[0;31m---------------------------------------------------------------------------\u001b[0m",
      "\u001b[0;31mIndexError\u001b[0m                                Traceback (most recent call last)",
      "\u001b[0;32m<ipython-input-149-6f6376dfba21>\u001b[0m in \u001b[0;36m<module>\u001b[0;34m\u001b[0m\n\u001b[1;32m      4\u001b[0m \u001b[0mprint\u001b[0m\u001b[0;34m(\u001b[0m\u001b[0;34m'Second last element:'\u001b[0m\u001b[0;34m,\u001b[0m\u001b[0ma\u001b[0m\u001b[0;34m[\u001b[0m\u001b[0;34m-\u001b[0m\u001b[0;36m2\u001b[0m\u001b[0;34m]\u001b[0m\u001b[0;34m)\u001b[0m\u001b[0;34m\u001b[0m\u001b[0;34m\u001b[0m\u001b[0m\n\u001b[1;32m      5\u001b[0m \u001b[0mprint\u001b[0m\u001b[0;34m(\u001b[0m\u001b[0;34m'First element:'\u001b[0m\u001b[0;34m,\u001b[0m\u001b[0ma\u001b[0m\u001b[0;34m[\u001b[0m\u001b[0;34m-\u001b[0m\u001b[0mlen\u001b[0m\u001b[0;34m(\u001b[0m\u001b[0ma\u001b[0m\u001b[0;34m)\u001b[0m\u001b[0;34m]\u001b[0m\u001b[0;34m)\u001b[0m\u001b[0;34m\u001b[0m\u001b[0;34m\u001b[0m\u001b[0m\n\u001b[0;32m----> 6\u001b[0;31m \u001b[0mprint\u001b[0m\u001b[0;34m(\u001b[0m\u001b[0ma\u001b[0m\u001b[0;34m[\u001b[0m\u001b[0;34m-\u001b[0m\u001b[0mlen\u001b[0m\u001b[0;34m(\u001b[0m\u001b[0ma\u001b[0m\u001b[0;34m)\u001b[0m\u001b[0;34m-\u001b[0m\u001b[0;36m1\u001b[0m\u001b[0;34m]\u001b[0m\u001b[0;34m)\u001b[0m \u001b[0;31m# IndexError\u001b[0m\u001b[0;34m\u001b[0m\u001b[0;34m\u001b[0m\u001b[0m\n\u001b[0m",
      "\u001b[0;31mIndexError\u001b[0m: list index out of range"
     ]
    }
   ],
   "source": [
    "a = [*range(10)]\n",
    "print(a)\n",
    "print('Last element:',a[-1])\n",
    "print('Second last element:',a[-2])\n",
    "print('First element:',a[-len(a)])\n",
    "print(a[-len(a)-1]) # IndexError"
   ]
  },
  {
   "cell_type": "markdown",
   "metadata": {
    "ExecuteTime": {
     "end_time": "2020-10-29T04:10:06.523676Z",
     "start_time": "2020-10-29T04:10:06.517287Z"
    },
    "slideshow": {
     "slide_type": "fragment"
    }
   },
   "source": [
    "`a[i]` with `i < -len(a)` results in an `IndexError`. "
   ]
  },
  {
   "cell_type": "markdown",
   "metadata": {
    "slideshow": {
     "slide_type": "subslide"
    }
   },
   "source": [
    "**How to select multiple items?**"
   ]
  },
  {
   "cell_type": "markdown",
   "metadata": {
    "slideshow": {
     "slide_type": "fragment"
    }
   },
   "source": [
    "We can use a [slicing](https://docs.python.org/3/reference/expressions.html#slicings) to select a range of items:\n",
    "```Python\n",
    "a[start:stop]\n",
    "a[start:stop:step]\n",
    "```\n",
    "where `a` is a list;\n",
    "- `start` is an integer representing the index of the starting item in the selection;\n",
    "- `stop` is an integer that is one larger than the index of the last item in the selection; and\n",
    "- `step` is an integer that specifies the step/stride size through the list."
   ]
  },
  {
   "cell_type": "code",
   "execution_count": 150,
   "metadata": {
    "ExecuteTime": {
     "end_time": "2020-11-02T23:49:23.393787Z",
     "start_time": "2020-11-02T23:49:23.389376Z"
    },
    "slideshow": {
     "slide_type": "-"
    }
   },
   "outputs": [
    {
     "name": "stdout",
     "output_type": "stream",
     "text": [
      "(1, 2, 3)\n",
      "(1, 3)\n"
     ]
    }
   ],
   "source": [
    "a = (*range(10),)\n",
    "print(a[1:4])\n",
    "print(a[1:4:2])"
   ]
  },
  {
   "cell_type": "markdown",
   "metadata": {
    "slideshow": {
     "slide_type": "subslide"
    }
   },
   "source": [
    "The parameters take their default values if missing or equal to None."
   ]
  },
  {
   "cell_type": "code",
   "execution_count": 151,
   "metadata": {
    "ExecuteTime": {
     "end_time": "2020-11-02T23:49:36.191993Z",
     "start_time": "2020-11-02T23:49:36.188102Z"
    },
    "slideshow": {
     "slide_type": "fragment"
    }
   },
   "outputs": [
    {
     "name": "stdout",
     "output_type": "stream",
     "text": [
      "[0, 1, 2, 3]\n",
      "[1, 2, 3, 4, 5, 6, 7, 8, 9]\n",
      "[1, 2, 3]\n"
     ]
    }
   ],
   "source": [
    "a = [*range(10)]\n",
    "print(a[:4])   # start defaults to 0\n",
    "print(a[1:])   # stop defaults to len(a)\n",
    "print(a[1:4:]) # step defaults to 1"
   ]
  },
  {
   "cell_type": "markdown",
   "metadata": {
    "slideshow": {
     "slide_type": "fragment"
    }
   },
   "source": [
    "They can take negative values."
   ]
  },
  {
   "cell_type": "code",
   "execution_count": 153,
   "metadata": {
    "ExecuteTime": {
     "end_time": "2020-11-02T23:49:59.510025Z",
     "start_time": "2020-11-02T23:49:59.505499Z"
    },
    "scrolled": true,
    "slideshow": {
     "slide_type": "-"
    }
   },
   "outputs": [
    {
     "name": "stdout",
     "output_type": "stream",
     "text": [
      "[9]\n",
      "[0, 1, 2, 3, 4, 5, 6, 7, 8]\n",
      "[9, 8, 7, 6, 5, 4, 3, 2, 1, 0]\n"
     ]
    }
   ],
   "source": [
    "print(a[-1:])\n",
    "print(a[:-1])\n",
    "print(a[::-1])  "
   ]
  },
  {
   "cell_type": "markdown",
   "metadata": {
    "slideshow": {
     "slide_type": "fragment"
    }
   },
   "source": [
    "They can also take a mixture of negative and postive values."
   ]
  },
  {
   "cell_type": "code",
   "execution_count": 155,
   "metadata": {
    "ExecuteTime": {
     "end_time": "2020-11-02T23:51:22.313831Z",
     "start_time": "2020-11-02T23:51:22.308366Z"
    },
    "scrolled": true,
    "slideshow": {
     "slide_type": "-"
    }
   },
   "outputs": [
    {
     "name": "stdout",
     "output_type": "stream",
     "text": [
      "[]\n",
      "[1, 2, 3, 4, 5, 6, 7, 8]\n",
      "[]\n",
      "[0, 1, 2, 3, 4, 5, 6, 7, 8, 9]\n"
     ]
    }
   ],
   "source": [
    "print(a[-1:1])      # equal [a[-1], a[0]]?\n",
    "print(a[1:-1])      # equal []?\n",
    "print(a[1:-1:-1])   # equal [a[1], a[0]]?\n",
    "print(a[-100:100])  # result in IndexError like subscription?"
   ]
  },
  {
   "cell_type": "markdown",
   "metadata": {
    "slideshow": {
     "slide_type": "subslide"
    }
   },
   "source": [
    "We can now implement a practical sorting algorithm called [quicksort](https://en.wikipedia.org/wiki/Quicksort) to sort a sequence."
   ]
  },
  {
   "cell_type": "code",
   "execution_count": 160,
   "metadata": {
    "ExecuteTime": {
     "end_time": "2020-11-02T23:52:14.940108Z",
     "start_time": "2020-11-02T23:52:14.928659Z"
    },
    "slideshow": {
     "slide_type": "-"
    }
   },
   "outputs": [
    {
     "name": "stdout",
     "output_type": "stream",
     "text": [
      "[19, 2, 64, 71, 93, 58, 1, 39, 52, 32]\n",
      "[1, 2, 19, 32, 39, 52, 58, 64, 71, 93]\n"
     ]
    }
   ],
   "source": [
    "import random\n",
    "\n",
    "\n",
    "def quicksort(seq):\n",
    "    '''Return a sorted list of items from seq.'''\n",
    "    if len(seq) <= 1:\n",
    "        return list(seq)\n",
    "    i = random.randint(0, len(seq) - 1)\n",
    "    pivot, others = seq[i], [*seq[:i], *seq[i + 1:]]\n",
    "    left = quicksort([x for x in others if x < pivot])\n",
    "    right = quicksort([x for x in others if x >= pivot])\n",
    "    return [*left, pivot, *right]\n",
    "\n",
    "\n",
    "seq = [random.randint(0, 99) for i in range(10)]\n",
    "print(seq, quicksort(seq), sep='\\n')"
   ]
  },
  {
   "cell_type": "markdown",
   "metadata": {
    "slideshow": {
     "slide_type": "fragment"
    }
   },
   "source": [
    "The above recursion creates a sorted list as `[*left, pivot, *right]` where\n",
    "- `pivot` is a randomly picked an item in `seq`,\n",
    "- `left` is the sorted list of items smaller than `pivot`, and\n",
    "- `right` is the sorted list of items no smaller than `pivot`.\n",
    "\n",
    "The base case happens when `seq` contains at most one item, in which case `seq` is already sorted."
   ]
  },
  {
   "cell_type": "markdown",
   "metadata": {
    "slideshow": {
     "slide_type": "fragment"
    }
   },
   "source": [
    "There is a built-in function `sorted` for sorting a sequence. It uses the [Timsort](https://en.wikipedia.org/wiki/Timsort) algorithm."
   ]
  },
  {
   "cell_type": "code",
   "execution_count": 399,
   "metadata": {
    "ExecuteTime": {
     "end_time": "2020-10-29T06:26:59.306305Z",
     "start_time": "2020-10-29T06:26:59.300193Z"
    },
    "slideshow": {
     "slide_type": "-"
    }
   },
   "outputs": [
    {
     "data": {
      "text/plain": [
       "[5, 9, 31, 36, 59, 61, 70, 86, 90, 97]"
      ]
     },
     "execution_count": 399,
     "metadata": {},
     "output_type": "execute_result"
    }
   ],
   "source": [
    "sorted?\n",
    "sorted(sorted(seq))"
   ]
  },
  {
   "cell_type": "markdown",
   "metadata": {
    "slideshow": {
     "slide_type": "slide"
    }
   },
   "source": [
    "## Mutating a list"
   ]
  },
  {
   "cell_type": "markdown",
   "metadata": {
    "slideshow": {
     "slide_type": "fragment"
    }
   },
   "source": [
    "For list (but not tuple), subscription and slicing can also be used as the target of an assignment operation to mutate the list."
   ]
  },
  {
   "cell_type": "code",
   "execution_count": 162,
   "metadata": {
    "ExecuteTime": {
     "end_time": "2020-11-02T23:54:20.241689Z",
     "start_time": "2020-11-02T23:54:20.234547Z"
    },
    "slideshow": {
     "slide_type": "-"
    }
   },
   "outputs": [
    {
     "data": {
      "text/html": [
       "\n",
       "<iframe\n",
       "    width=\"1100\"\n",
       "    height=\"300\"\n",
       "    src=\"https://e-quiz.cs.cityu.edu.hk/opt/cs1302visualize.html#mode=display&code=b%20%3D%20%5B%2Arange%2810%29%5D%20%20%23%20aliasing%0Ab%5B%3A%3A2%5D%20%3D%20b%5B%3A5%5D%0Ab%5B0%3A1%5D%20%3D%20b%5B%3A5%5D%0Ab%5B%3A%3A2%5D%20%3D%20b%5B%3A5%5D%20%20%23%20fails%0A\"\n",
       "    frameborder=\"0\"\n",
       "    allowfullscreen\n",
       "></iframe>\n"
      ],
      "text/plain": [
       "<IPython.lib.display.IFrame at 0x7f9718806950>"
      ]
     },
     "metadata": {},
     "output_type": "display_data"
    }
   ],
   "source": [
    "%%mytutor -h 300\n",
    "b = [*range(10)]  # aliasing\n",
    "b[::2] = b[:5]\n",
    "b[0:1] = b[:5]\n",
    "b[::2] = b[:5]  # fails"
   ]
  },
  {
   "cell_type": "markdown",
   "metadata": {
    "slideshow": {
     "slide_type": "fragment"
    }
   },
   "source": [
    "Last assignment fails because `[::2]` with step size not equal to `1` is an *extended slice*, which can only be assigned to a list of equal size."
   ]
  },
  {
   "cell_type": "markdown",
   "metadata": {
    "slideshow": {
     "slide_type": "subslide"
    }
   },
   "source": [
    "**What is the difference between mutation and aliasing?**"
   ]
  },
  {
   "cell_type": "markdown",
   "metadata": {
    "slideshow": {
     "slide_type": "fragment"
    }
   },
   "source": [
    "In the previous code:\n",
    "- The first assignment `b = [*range(10)]` is aliasing, which gives the list the target name/identifier `b`.\n",
    "- Other assignments such as `b[::2] = b[:5]` are mutations that [calls `__setitem__`](https://docs.python.org/3/reference/simple_stmts.html#assignment-statements) because the target `b[::2]` is not an identifier."
   ]
  },
  {
   "cell_type": "markdown",
   "metadata": {
    "slideshow": {
     "slide_type": "subslide"
    }
   },
   "source": [
    "**Exercise** Explain the outcome of the following checks of equivalence?"
   ]
  },
  {
   "cell_type": "code",
   "execution_count": 166,
   "metadata": {
    "ExecuteTime": {
     "end_time": "2020-11-03T00:14:46.076040Z",
     "start_time": "2020-11-03T00:14:46.068986Z"
    },
    "slideshow": {
     "slide_type": "-"
    }
   },
   "outputs": [
    {
     "data": {
      "text/html": [
       "\n",
       "<iframe\n",
       "    width=\"1100\"\n",
       "    height=\"400\"\n",
       "    src=\"https://e-quiz.cs.cityu.edu.hk/opt/cs1302visualize.html#mode=display&code=a%20%3D%20%5B10%2C%2020%2C%2030%2C%2040%5D%0Ab%20%3D%20a%0Aprint%28%27a%20is%20b%3F%20%7B%7D%27.format%28a%20is%20b%29%29%0Aprint%28%27%7B%7D%20%3D%3D%20%7B%7D%3F%20%7B%7D%27.format%28a%2C%20b%2C%20a%20%3D%3D%20b%29%29%0Ab%5B1%3A3%5D%20%3D%20b%5B2%3A0%3A-1%5D%0Aprint%28%27%7B%7D%20%3D%3D%20%7B%7D%3F%20%7B%7D%27.format%28a%2C%20b%2C%20a%20%3D%3D%20b%29%29%0A\"\n",
       "    frameborder=\"0\"\n",
       "    allowfullscreen\n",
       "></iframe>\n"
      ],
      "text/plain": [
       "<IPython.lib.display.IFrame at 0x7f97190541d0>"
      ]
     },
     "metadata": {},
     "output_type": "display_data"
    }
   ],
   "source": [
    "%%mytutor -h 400\n",
    "a = [10, 20, 30, 40]\n",
    "b = a\n",
    "print('a is b? {}'.format(a is b))\n",
    "print('{} == {}? {}'.format(a, b, a == b))\n",
    "b[1:3] = b[2:0:-1]\n",
    "print('{} == {}? {}'.format(a, b, a == b))"
   ]
  },
  {
   "cell_type": "markdown",
   "metadata": {
    "nbgrader": {
     "grade": true,
     "grade_id": "equivalence",
     "locked": false,
     "points": 0,
     "schema_version": 3,
     "solution": true,
     "task": false
    },
    "slideshow": {
     "slide_type": "-"
    }
   },
   "source": [
    "- `a is b` and `a == b` returns `True` because the assignment `b = a` makes `b` an alias of the same object `a` points to.\n",
    "- In particular, the operation`b[1:3] = b[2:0:-1]` affects the same list `a` points to."
   ]
  },
  {
   "cell_type": "markdown",
   "metadata": {
    "slideshow": {
     "slide_type": "subslide"
    }
   },
   "source": [
    "**Why mutate a list?**"
   ]
  },
  {
   "cell_type": "markdown",
   "metadata": {
    "slideshow": {
     "slide_type": "fragment"
    }
   },
   "source": [
    "The following is another implementation of `composite_sequence` that takes advantage of the mutability of list. "
   ]
  },
  {
   "cell_type": "code",
   "execution_count": 167,
   "metadata": {
    "ExecuteTime": {
     "end_time": "2020-11-03T00:16:59.245275Z",
     "start_time": "2020-11-03T00:16:59.228466Z"
    },
    "scrolled": true,
    "slideshow": {
     "slide_type": "-"
    }
   },
   "outputs": [
    {
     "name": "stdout",
     "output_type": "stream",
     "text": [
      "4 6 8 9 10 12 14 15 16 18 20 21 22 24 25 26 27 28 30 32 33 34 35 36 38 39 40 42 44 45 46 48 49 50 51 52 54 55 56 57 58 60 62 63 64 65 66 68 69 70 72 74 75 76 77 78 80 81 82 84 85 86 87 88 90 91 92 93 94 95 96 98 99 "
     ]
    }
   ],
   "source": [
    "def sieve_composite_sequence(stop):\n",
    "    is_composite = [False] * stop  # initialization\n",
    "    for factor in range(2,stop):\n",
    "        if is_composite[factor]: continue\n",
    "        for multiple in range(factor*2,stop,factor):\n",
    "            is_composite[multiple] = True\n",
    "    return (x for x in range(4,stop) if is_composite[x])\n",
    "\n",
    "for x in sieve_composite_sequence(100): print(x, end=' ')"
   ]
  },
  {
   "cell_type": "markdown",
   "metadata": {
    "slideshow": {
     "slide_type": "fragment"
    }
   },
   "source": [
    "The algorithm \n",
    "1. changes `is_composite[x]` from `False` to `True` if `x` is a multiple of a smaller number `factor`, and\n",
    "2. returns a generator that generates composite numbers according to `is_composite`."
   ]
  },
  {
   "cell_type": "markdown",
   "metadata": {
    "slideshow": {
     "slide_type": "subslide"
    }
   },
   "source": [
    "**Exercise** Is `sieve_composite_sequence` more efficient than your solution `composite_sequence`? Why?"
   ]
  },
  {
   "cell_type": "code",
   "execution_count": 168,
   "metadata": {
    "ExecuteTime": {
     "end_time": "2020-11-03T00:17:51.924382Z",
     "start_time": "2020-11-03T00:17:51.915347Z"
    },
    "slideshow": {
     "slide_type": "-"
    }
   },
   "outputs": [
    {
     "ename": "NameError",
     "evalue": "name 'composite_sequence' is not defined",
     "output_type": "error",
     "traceback": [
      "\u001b[0;31m---------------------------------------------------------------------------\u001b[0m",
      "\u001b[0;31mNameError\u001b[0m                                 Traceback (most recent call last)",
      "\u001b[0;32m<ipython-input-168-1eba4e6d3969>\u001b[0m in \u001b[0;36m<module>\u001b[0;34m\u001b[0m\n\u001b[0;32m----> 1\u001b[0;31m \u001b[0;32mfor\u001b[0m \u001b[0mx\u001b[0m \u001b[0;32min\u001b[0m \u001b[0mcomposite_sequence\u001b[0m\u001b[0;34m(\u001b[0m\u001b[0;36m10000\u001b[0m\u001b[0;34m)\u001b[0m\u001b[0;34m:\u001b[0m \u001b[0;32mpass\u001b[0m\u001b[0;34m\u001b[0m\u001b[0;34m\u001b[0m\u001b[0m\n\u001b[0m",
      "\u001b[0;31mNameError\u001b[0m: name 'composite_sequence' is not defined"
     ]
    }
   ],
   "source": [
    "for x in composite_sequence(10000): pass"
   ]
  },
  {
   "cell_type": "code",
   "execution_count": 169,
   "metadata": {
    "ExecuteTime": {
     "end_time": "2020-11-03T00:18:05.062949Z",
     "start_time": "2020-11-03T00:18:04.758546Z"
    },
    "slideshow": {
     "slide_type": "-"
    }
   },
   "outputs": [],
   "source": [
    "for x in sieve_composite_sequence(1000000): pass"
   ]
  },
  {
   "cell_type": "markdown",
   "metadata": {
    "ExecuteTime": {
     "end_time": "2020-10-29T05:38:20.563990Z",
     "start_time": "2020-10-29T05:38:20.159556Z"
    },
    "nbgrader": {
     "grade": true,
     "grade_id": "sieve",
     "locked": false,
     "points": 0,
     "schema_version": 3,
     "solution": true,
     "task": false
    },
    "slideshow": {
     "slide_type": "-"
    }
   },
   "source": [
    "The line `if is_composite[factor]: continue` avoids the redundant computations of checking composite factors."
   ]
  },
  {
   "cell_type": "markdown",
   "metadata": {
    "slideshow": {
     "slide_type": "fragment"
    }
   },
   "source": [
    "**Exercise** Note that the multiplication operation `*` is the most efficient way to [initialize a 1D list with a specified size](https://www.geeksforgeeks.org/python-which-is-faster-to-initialize-lists/), but we should not use it to initialize a 2D list. Fix the following code so that `a` becomes `[[1, 0], [0, 1]]`."
   ]
  },
  {
   "cell_type": "code",
   "execution_count": 170,
   "metadata": {
    "ExecuteTime": {
     "end_time": "2020-11-03T00:18:50.495330Z",
     "start_time": "2020-11-03T00:18:50.490870Z"
    },
    "slideshow": {
     "slide_type": "-"
    }
   },
   "outputs": [
    {
     "data": {
      "text/html": [
       "\n",
       "<iframe\n",
       "    width=\"1100\"\n",
       "    height=\"250\"\n",
       "    src=\"https://e-quiz.cs.cityu.edu.hk/opt/cs1302visualize.html#mode=display&code=a%20%3D%20%5B%5B0%5D%20%2A%202%5D%20%2A%202%0Aa%5B0%5D%5B0%5D%20%3D%20a%5B1%5D%5B1%5D%20%3D%201%0Aprint%28a%29%0A\"\n",
       "    frameborder=\"0\"\n",
       "    allowfullscreen\n",
       "></iframe>\n"
      ],
      "text/plain": [
       "<IPython.lib.display.IFrame at 0x7f97190ac650>"
      ]
     },
     "metadata": {},
     "output_type": "display_data"
    }
   ],
   "source": [
    "%%mytutor -h 250\n",
    "a = [[0] * 2] * 2\n",
    "a[0][0] = a[1][1] = 1\n",
    "print(a)"
   ]
  },
  {
   "cell_type": "code",
   "execution_count": 171,
   "metadata": {
    "ExecuteTime": {
     "end_time": "2020-11-03T00:19:11.700117Z",
     "start_time": "2020-11-03T00:19:11.693468Z"
    },
    "code_folding": [],
    "nbgrader": {
     "grade": false,
     "grade_id": "init-2D",
     "locked": false,
     "schema_version": 3,
     "solution": true,
     "task": false
    },
    "slideshow": {
     "slide_type": "-"
    }
   },
   "outputs": [
    {
     "name": "stdout",
     "output_type": "stream",
     "text": [
      "[[1, 0], [0, 1]]\n"
     ]
    }
   ],
   "source": [
    "### BEGIN SOLUTION\n",
    "a = [[0] * 2 for i in range(2)]\n",
    "### END SOLUTION\n",
    "a[0][0] = a[1][1] = 1\n",
    "print(a)"
   ]
  },
  {
   "cell_type": "markdown",
   "metadata": {
    "slideshow": {
     "slide_type": "slide"
    }
   },
   "source": [
    "## Different methods to operate on a sequence"
   ]
  },
  {
   "cell_type": "markdown",
   "metadata": {
    "slideshow": {
     "slide_type": "fragment"
    }
   },
   "source": [
    "The following compares the lists of public attributes for `tuple` and `list`. \n",
    "- We determine membership using the [operator `in` or `not in`](https://docs.python.org/3/reference/expressions.html#membership-test-operations).\n",
    "- Different from the [keyword `in` in a for loop](https://docs.python.org/3/reference/compound_stmts.html#the-for-statement), operator `in` calls the method `__contains__`."
   ]
  },
  {
   "cell_type": "code",
   "execution_count": 172,
   "metadata": {
    "ExecuteTime": {
     "end_time": "2020-11-03T00:20:02.524339Z",
     "start_time": "2020-11-03T00:20:02.514256Z"
    },
    "slideshow": {
     "slide_type": "-"
    }
   },
   "outputs": [
    {
     "name": "stdout",
     "output_type": "stream",
     "text": [
      "Common attributes: count, index\n",
      "Tuple-specific attributes: \n",
      "List-specific attributes: append, clear, copy, extend, insert, pop, remove, reverse, sort\n"
     ]
    }
   ],
   "source": [
    "list_attributes = dir(list)\n",
    "tuple_attributes = dir(tuple)\n",
    "\n",
    "print(\n",
    "    'Common attributes:', ', '.join([\n",
    "        attr for attr in list_attributes\n",
    "        if attr in tuple_attributes and attr[0] != '_'\n",
    "    ]))\n",
    "\n",
    "print(\n",
    "    'Tuple-specific attributes:', ', '.join([\n",
    "        attr for attr in tuple_attributes\n",
    "        if attr not in list_attributes and attr[0] != '_'\n",
    "    ]))\n",
    "\n",
    "print(\n",
    "    'List-specific attributes:', ', '.join([\n",
    "        attr for attr in list_attributes\n",
    "        if attr not in tuple_attributes and attr[0] != '_'\n",
    "    ]))"
   ]
  },
  {
   "cell_type": "markdown",
   "metadata": {
    "slideshow": {
     "slide_type": "fragment"
    }
   },
   "source": [
    "- There are no public tuple-specific attributes, and\n",
    "- all the list-specific attributes are methods that mutate the list, except `copy`."
   ]
  },
  {
   "cell_type": "markdown",
   "metadata": {
    "slideshow": {
     "slide_type": "subslide"
    }
   },
   "source": [
    "The common attributes\n",
    "- `count` method returns the number of occurrences of a value in a tuple/list, and\n",
    "- `index` method returns the index of the first occurrence of a value in a tuple/list."
   ]
  },
  {
   "cell_type": "code",
   "execution_count": 173,
   "metadata": {
    "ExecuteTime": {
     "end_time": "2020-11-03T00:20:48.580635Z",
     "start_time": "2020-11-03T00:20:48.574007Z"
    },
    "scrolled": true,
    "slideshow": {
     "slide_type": "-"
    }
   },
   "outputs": [
    {
     "data": {
      "text/html": [
       "\n",
       "<iframe\n",
       "    width=\"1100\"\n",
       "    height=\"300\"\n",
       "    src=\"https://e-quiz.cs.cityu.edu.hk/opt/cs1302visualize.html#mode=display&code=a%20%3D%20%281%2C2%2C2%2C4%2C5%29%0Aprint%28a.index%282%29%29%0Aprint%28a.count%282%29%29%0A\"\n",
       "    frameborder=\"0\"\n",
       "    allowfullscreen\n",
       "></iframe>\n"
      ],
      "text/plain": [
       "<IPython.lib.display.IFrame at 0x7f9718823050>"
      ]
     },
     "metadata": {},
     "output_type": "display_data"
    }
   ],
   "source": [
    "%%mytutor -h 300\n",
    "a = (1,2,2,4,5)\n",
    "print(a.index(2))\n",
    "print(a.count(2))"
   ]
  },
  {
   "cell_type": "markdown",
   "metadata": {
    "slideshow": {
     "slide_type": "subslide"
    }
   },
   "source": [
    "`reverse` method reverses the list instead of returning a reversed list."
   ]
  },
  {
   "cell_type": "code",
   "execution_count": 177,
   "metadata": {
    "ExecuteTime": {
     "end_time": "2020-11-03T00:22:55.864740Z",
     "start_time": "2020-11-03T00:22:55.852504Z"
    },
    "slideshow": {
     "slide_type": "-"
    }
   },
   "outputs": [
    {
     "data": {
      "text/html": [
       "\n",
       "<iframe\n",
       "    width=\"1100\"\n",
       "    height=\"300\"\n",
       "    src=\"https://e-quiz.cs.cityu.edu.hk/opt/cs1302visualize.html#mode=display&code=a%20%3D%20%5B%2Arange%2810%29%5D%0Aprint%28reversed%28a%29%29%0Aprint%28%2Areversed%28a%29%29%0Aprint%28a.reverse%28%29%29%0A\"\n",
       "    frameborder=\"0\"\n",
       "    allowfullscreen\n",
       "></iframe>\n"
      ],
      "text/plain": [
       "<IPython.lib.display.IFrame at 0x7f97187a5b10>"
      ]
     },
     "metadata": {},
     "output_type": "display_data"
    }
   ],
   "source": [
    "%%mytutor -h 300\n",
    "a = [*range(10)]\n",
    "print(reversed(a))\n",
    "print(*reversed(a))\n",
    "print(a.reverse())"
   ]
  },
  {
   "cell_type": "markdown",
   "metadata": {
    "slideshow": {
     "slide_type": "subslide"
    }
   },
   "source": [
    "- `copy` method returns a copy of a list.  \n",
    "- `tuple` does not have the `copy` method but it is easy to create a copy by slicing."
   ]
  },
  {
   "cell_type": "code",
   "execution_count": 178,
   "metadata": {
    "ExecuteTime": {
     "end_time": "2020-11-03T00:23:31.853407Z",
     "start_time": "2020-11-03T00:23:31.849634Z"
    },
    "slideshow": {
     "slide_type": "fragment"
    }
   },
   "outputs": [
    {
     "data": {
      "text/html": [
       "\n",
       "<iframe\n",
       "    width=\"1100\"\n",
       "    height=\"400\"\n",
       "    src=\"https://e-quiz.cs.cityu.edu.hk/opt/cs1302visualize.html#mode=display&code=a%20%3D%20%5B%2Arange%2810%29%5D%0Ab%20%3D%20tuple%28a%29%0Aa_reversed%20%3D%20a.copy%28%29%0Aa_reversed.reverse%28%29%0Ab_reversed%20%3D%20b%5B%3A%3A-1%5D%0A\"\n",
       "    frameborder=\"0\"\n",
       "    allowfullscreen\n",
       "></iframe>\n"
      ],
      "text/plain": [
       "<IPython.lib.display.IFrame at 0x7f97187a5b50>"
      ]
     },
     "metadata": {},
     "output_type": "display_data"
    }
   ],
   "source": [
    "%%mytutor -h 400\n",
    "a = [*range(10)]\n",
    "b = tuple(a)\n",
    "a_reversed = a.copy()\n",
    "a_reversed.reverse()\n",
    "b_reversed = b[::-1]"
   ]
  },
  {
   "cell_type": "markdown",
   "metadata": {
    "slideshow": {
     "slide_type": "subslide"
    }
   },
   "source": [
    "`sort` method sorts the list *in place* instead of returning a sorted list."
   ]
  },
  {
   "cell_type": "code",
   "execution_count": 179,
   "metadata": {
    "ExecuteTime": {
     "end_time": "2020-11-03T00:24:40.980746Z",
     "start_time": "2020-11-03T00:24:40.974298Z"
    },
    "scrolled": true,
    "slideshow": {
     "slide_type": "-"
    }
   },
   "outputs": [
    {
     "data": {
      "text/html": [
       "\n",
       "<iframe\n",
       "    width=\"1100\"\n",
       "    height=\"300\"\n",
       "    src=\"https://e-quiz.cs.cityu.edu.hk/opt/cs1302visualize.html#mode=display&code=import%20random%0Aa%20%3D%20%5Brandom.randint%280%2C10%29%20for%20i%20in%20range%2810%29%5D%0Aprint%28sorted%28a%29%29%0Aprint%28a.sort%28%29%29%0A\"\n",
       "    frameborder=\"0\"\n",
       "    allowfullscreen\n",
       "></iframe>\n"
      ],
      "text/plain": [
       "<IPython.lib.display.IFrame at 0x7f9718798610>"
      ]
     },
     "metadata": {},
     "output_type": "display_data"
    }
   ],
   "source": [
    "%%mytutor -h 300\n",
    "import random\n",
    "a = [random.randint(0,10) for i in range(10)]\n",
    "print(sorted(a))\n",
    "print(a.sort())"
   ]
  },
  {
   "cell_type": "markdown",
   "metadata": {
    "slideshow": {
     "slide_type": "subslide"
    }
   },
   "source": [
    "- `extend` method that extends a list instead of creating a new concatenated list.\n",
    "- `append` method adds an object to the end of a list.\n",
    "- `insert` method insert an object to a specified location."
   ]
  },
  {
   "cell_type": "code",
   "execution_count": 180,
   "metadata": {
    "ExecuteTime": {
     "end_time": "2020-11-03T00:25:45.278346Z",
     "start_time": "2020-11-03T00:25:45.274286Z"
    },
    "slideshow": {
     "slide_type": "-"
    }
   },
   "outputs": [
    {
     "data": {
      "text/html": [
       "\n",
       "<iframe\n",
       "    width=\"1100\"\n",
       "    height=\"300\"\n",
       "    src=\"https://e-quiz.cs.cityu.edu.hk/opt/cs1302visualize.html#mode=display&code=a%20%3D%20b%20%3D%20%5B%2Arange%285%29%5D%0Aprint%28a%20%2B%20b%29%0Aprint%28a.extend%28b%29%29%0Aprint%28a.append%28%27stop%27%29%29%0Aprint%28a.insert%280%2C%27start%27%29%29%0A\"\n",
       "    frameborder=\"0\"\n",
       "    allowfullscreen\n",
       "></iframe>\n"
      ],
      "text/plain": [
       "<IPython.lib.display.IFrame at 0x7f9718798890>"
      ]
     },
     "metadata": {},
     "output_type": "display_data"
    }
   ],
   "source": [
    "%%mytutor -h 300\n",
    "a = b = [*range(5)]\n",
    "print(a + b)\n",
    "print(a.extend(b))\n",
    "print(a.append('stop'))\n",
    "print(a.insert(0,'start'))"
   ]
  },
  {
   "cell_type": "markdown",
   "metadata": {
    "slideshow": {
     "slide_type": "subslide"
    }
   },
   "source": [
    "- `pop` method deletes and return the last item of the list.  \n",
    "- `remove` method removes the first occurrence of a value in the list.  \n",
    "- `clear` method clears the entire list.\n",
    "\n",
    "We can also use the function `del` to delete a selection of a list."
   ]
  },
  {
   "cell_type": "code",
   "execution_count": 182,
   "metadata": {
    "ExecuteTime": {
     "end_time": "2020-11-03T00:27:15.536305Z",
     "start_time": "2020-11-03T00:27:15.529557Z"
    },
    "slideshow": {
     "slide_type": "-"
    }
   },
   "outputs": [
    {
     "data": {
      "text/html": [
       "\n",
       "<iframe\n",
       "    width=\"1100\"\n",
       "    height=\"300\"\n",
       "    src=\"https://e-quiz.cs.cityu.edu.hk/opt/cs1302visualize.html#mode=display&code=a%20%3D%20%5B%2Arange%2810%29%5D%0Adel%20a%5B%3A%3A2%5D%0Aprint%28a.pop%28%29%29%0Aprint%28a.remove%285%29%29%0Aprint%28a.clear%28%29%29%0A\"\n",
       "    frameborder=\"0\"\n",
       "    allowfullscreen\n",
       "></iframe>\n"
      ],
      "text/plain": [
       "<IPython.lib.display.IFrame at 0x7f971879f610>"
      ]
     },
     "metadata": {},
     "output_type": "display_data"
    }
   ],
   "source": [
    "%%mytutor -h 300\n",
    "a = [*range(10)]\n",
    "del a[::2]\n",
    "print(a.pop())\n",
    "print(a.remove(5))\n",
    "print(a.clear())"
   ]
  }
 ],
 "metadata": {
  "celltoolbar": "Slideshow",
  "kernelspec": {
   "display_name": "Python 3.7",
   "language": "python",
   "name": "python3"
  },
  "language_info": {
   "codemirror_mode": {
    "name": "ipython",
    "version": 3
   },
   "file_extension": ".py",
   "mimetype": "text/x-python",
   "name": "python",
   "nbconvert_exporter": "python",
   "pygments_lexer": "ipython3",
   "version": "3.7.3"
  },
  "latex_envs": {
   "LaTeX_envs_menu_present": true,
   "autoclose": false,
   "autocomplete": true,
   "bibliofile": "biblio.bib",
   "cite_by": "apalike",
   "current_citInitial": 1,
   "eqLabelWithNumbers": true,
   "eqNumInitial": 1,
   "hotkeys": {
    "equation": "Ctrl-E",
    "itemize": "Ctrl-I"
   },
   "labels_anchors": false,
   "latex_user_defs": false,
   "report_style_numbering": false,
   "user_envs_cfg": false
  },
  "rise": {
   "enable_chalkboard": true,
   "scroll": true,
   "theme": "white"
  },
  "toc": {
   "base_numbering": 1,
   "nav_menu": {
    "height": "195px",
    "width": "330px"
   },
   "number_sections": true,
   "sideBar": true,
   "skip_h1_title": true,
   "title_cell": "Table of Contents",
   "title_sidebar": "Contents",
   "toc_cell": false,
   "toc_position": {
    "height": "454.418px",
    "left": "1533px",
    "top": "110.284px",
    "width": "260.994px"
   },
   "toc_section_display": true,
   "toc_window_display": false
  }
 },
 "nbformat": 4,
 "nbformat_minor": 4
}