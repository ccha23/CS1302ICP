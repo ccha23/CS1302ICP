{
 "cells": [
  {
   "cell_type": "markdown",
   "metadata": {
    "slideshow": {
     "slide_type": "slide"
    }
   },
   "source": [
    "# Dictionaries and Sets"
   ]
  },
  {
   "cell_type": "markdown",
   "metadata": {
    "slideshow": {
     "slide_type": "-"
    },
    "tags": [
     "remove-cell"
    ]
   },
   "source": [
    "**CS1302 Introduction to Computer Programming**\n",
    "___"
   ]
  },
  {
   "cell_type": "code",
   "execution_count": 1,
   "metadata": {
    "ExecuteTime": {
     "end_time": "2020-11-27T11:20:04.656873Z",
     "start_time": "2020-11-27T11:20:04.651575Z"
    },
    "slideshow": {
     "slide_type": "fragment"
    },
    "tags": [
     "remove-cell"
    ]
   },
   "outputs": [],
   "source": [
    "%reload_ext mytutor"
   ]
  },
  {
   "cell_type": "markdown",
   "metadata": {
    "slideshow": {
     "slide_type": "slide"
    }
   },
   "source": [
    "## Motivation for associative container"
   ]
  },
  {
   "cell_type": "markdown",
   "metadata": {
    "slideshow": {
     "slide_type": "fragment"
    }
   },
   "source": [
    "The following code simulates the outcomes from rolling a dice multiple times."
   ]
  },
  {
   "cell_type": "code",
   "execution_count": 2,
   "metadata": {
    "ExecuteTime": {
     "end_time": "2020-11-06T21:06:06.648131Z",
     "start_time": "2020-11-06T21:06:06.640645Z"
    },
    "slideshow": {
     "slide_type": "-"
    }
   },
   "outputs": [
    {
     "name": "stdout",
     "output_type": "stream",
     "text": [
      "5 2 6 1 5 1 3 4 3 6\n"
     ]
    }
   ],
   "source": [
    "import random\n",
    "\n",
    "dice_rolls = [random.randint(1,6) for i in range(10)]\n",
    "print(*dice_rolls)"
   ]
  },
  {
   "cell_type": "markdown",
   "metadata": {
    "slideshow": {
     "slide_type": "fragment"
    }
   },
   "source": [
    "**What is the distribution, i.e., fractional counts?**"
   ]
  },
  {
   "cell_type": "code",
   "execution_count": 3,
   "metadata": {
    "ExecuteTime": {
     "end_time": "2020-11-06T21:06:06.960356Z",
     "start_time": "2020-11-06T21:06:06.727143Z"
    },
    "slideshow": {
     "slide_type": "-"
    }
   },
   "outputs": [
    {
     "data": {
      "text/plain": [
       "(0.0, 1.0)"
      ]
     },
     "execution_count": 3,
     "metadata": {},
     "output_type": "execute_result"
    },
    {
     "data": {
      "image/png": "[encoded data removed]",
      "text/plain": [
       "<Figure size 432x288 with 1 Axes>"
      ]
     },
     "metadata": {
      "filenames": {
       "image/png": "/home/chungc/cs1302/CS1302ICP/_build/jupyter_execute/Lecture8/Dictionaries and Sets_7_1.png"
      },
      "needs_background": "light"
     },
     "output_type": "display_data"
    }
   ],
   "source": [
    "distribution = [dice_rolls.count(i) / len(dice_rolls) for i in range(7)]\n",
    "\n",
    "import matplotlib.pyplot as plt\n",
    "plt.stem(range(7), distribution, use_line_collection=True)\n",
    "plt.xlabel('Outcomes')\n",
    "plt.title('Distribution')\n",
    "plt.ylim(0, 1)"
   ]
  },
  {
   "cell_type": "markdown",
   "metadata": {
    "slideshow": {
     "slide_type": "fragment"
    }
   },
   "source": [
    "In the above code, `distribution[i]` stores the fractional count of outcome `i`."
   ]
  },
  {
   "cell_type": "markdown",
   "metadata": {
    "slideshow": {
     "slide_type": "fragment"
    }
   },
   "source": [
    "However, `distribution[0]` is `0` because a dice does not have outcome `0`. Can we avoid such redundancy?"
   ]
  },
  {
   "cell_type": "code",
   "execution_count": 4,
   "metadata": {
    "ExecuteTime": {
     "end_time": "2020-11-06T21:06:07.140502Z",
     "start_time": "2020-11-06T21:06:06.962531Z"
    },
    "slideshow": {
     "slide_type": "-"
    }
   },
   "outputs": [
    {
     "data": {
      "text/plain": [
       "(0.0, 1.0)"
      ]
     },
     "execution_count": 4,
     "metadata": {},
     "output_type": "execute_result"
    },
    {
     "data": {
      "image/png": "[encoded data removed]",
      "text/plain": [
       "<Figure size 432x288 with 1 Axes>"
      ]
     },
     "metadata": {
      "filenames": {
       "image/png": "/home/chungc/cs1302/CS1302ICP/_build/jupyter_execute/Lecture8/Dictionaries and Sets_10_1.png"
      },
      "needs_background": "light"
     },
     "output_type": "display_data"
    }
   ],
   "source": [
    "distinct_outcomes = [\n",
    "    outcome for outcome in range(1, 7) if dice_rolls.count(outcome) > 0\n",
    "]\n",
    "distribution = [\n",
    "    dice_rolls.count(distinct_outcomes[i]) / len(dice_rolls)\n",
    "    for i in range(len(distinct_outcomes))\n",
    "]\n",
    "\n",
    "import matplotlib.pyplot as plt\n",
    "plt.stem(distinct_outcomes, distribution, use_line_collection=True)\n",
    "plt.xlabel('Outcomes')\n",
    "plt.title('Distribution')\n",
    "plt.ylim(0, 1)"
   ]
  },
  {
   "cell_type": "markdown",
   "metadata": {
    "slideshow": {
     "slide_type": "fragment"
    }
   },
   "source": [
    "In the above code, \n",
    "- `distinct_outcomes` stores the list of distinct outcomes, and\n",
    "- `distribution[distinct_outcomes[i]]` stores the fractional count of the `i`-th distinct outcome."
   ]
  },
  {
   "cell_type": "markdown",
   "metadata": {
    "slideshow": {
     "slide_type": "subslide"
    }
   },
   "source": [
    "What about finding the distribution of characters in an article?  \n",
    "There are 1,112,064 unicode characters. \n",
    "- How obtain the distribution efficiently without creating an entry for each unicode character?\n",
    "- How to compute the set of distinct characters efficiently without iterating over the set of all unicode characters?\n",
    "- Can we index `distribution` directly by the set of distinct characters?"
   ]
  },
  {
   "cell_type": "markdown",
   "metadata": {
    "slideshow": {
     "slide_type": "fragment"
    }
   },
   "source": [
    "What we need is a composite data type that\n",
    "- can keep a set of *unique keys of different types* (such as the characters in our example), and\n",
    "- associate to different keys possibly different *values of any types* such as (the fractional counts of the characters).\n",
    "\n",
    "Such data structure is called an [associative container](https://en.wikipedia.org/wiki/Associative_containers)."
   ]
  },
  {
   "cell_type": "markdown",
   "metadata": {
    "slideshow": {
     "slide_type": "subslide"
    }
   },
   "source": [
    "**How to use associative containers in Python?**"
   ]
  },
  {
   "cell_type": "markdown",
   "metadata": {
    "slideshow": {
     "slide_type": "fragment"
    }
   },
   "source": [
    "There are two built-in classes for associative containers:\n",
    "- `set` can store a set of unique keys of possibly different types.\n",
    "- `dict`ionary can store a set of key-value pairs."
   ]
  },
  {
   "cell_type": "markdown",
   "metadata": {
    "slideshow": {
     "slide_type": "fragment"
    }
   },
   "source": [
    "We have already used sets and dictionaries before."
   ]
  },
  {
   "cell_type": "code",
   "execution_count": 5,
   "metadata": {
    "ExecuteTime": {
     "end_time": "2020-11-06T21:06:07.407580Z",
     "start_time": "2020-11-06T21:06:07.402034Z"
    },
    "slideshow": {
     "slide_type": "-"
    }
   },
   "outputs": [
    {
     "data": {
      "text/html": [
       "\n",
       "<iframe\n",
       "    width=\"1100\"\n",
       "    height=\"400\"\n",
       "    src=\"https://e-quiz.cs.cityu.edu.hk/opt/cs1302visualize.html#mode=display&code=a%20%3D%20%28lambda%20%2A%2Akwargs%3A%20kwargs%29%28start%3D0%2C%20stop%3D5%2C%20step%3D1%29%0Ab%20%3D%20set%28%5B1%2C1%2C2%2C3%2C3%2C3%5D%29%0Aassert%20len%28a%29%20%3D%3D%20len%28b%29%0A\"\n",
       "    frameborder=\"0\"\n",
       "    allowfullscreen\n",
       "></iframe>\n"
      ],
      "text/plain": [
       "<IPython.lib.display.IFrame at 0x7fbdd8bb5d68>"
      ]
     },
     "metadata": {},
     "output_type": "display_data"
    }
   ],
   "source": [
    "%%mytutor -h 400\n",
    "a = (lambda **kwargs: kwargs)(start=0, stop=5, step=1)\n",
    "b = set([1,1,2,3,3,3])\n",
    "assert len(a) == len(b)"
   ]
  },
  {
   "cell_type": "markdown",
   "metadata": {
    "slideshow": {
     "slide_type": "fragment"
    }
   },
   "source": [
    "Both `set` and `dict` \n",
    "- implement `len` method that returns the number of keys, and\n",
    "- are mutable, so we can mutate their keys and values.  "
   ]
  },
  {
   "cell_type": "markdown",
   "metadata": {
    "slideshow": {
     "slide_type": "slide"
    }
   },
   "source": [
    "## Constructing associative containers"
   ]
  },
  {
   "cell_type": "markdown",
   "metadata": {
    "slideshow": {
     "slide_type": "subslide"
    }
   },
   "source": [
    "**How to create set/dictionary?**"
   ]
  },
  {
   "cell_type": "markdown",
   "metadata": {
    "slideshow": {
     "slide_type": "fragment"
    }
   },
   "source": [
    "Similar to tuple/list, we can use enclosure, constructors, and comprehension."
   ]
  },
  {
   "cell_type": "markdown",
   "metadata": {
    "slideshow": {
     "slide_type": "subslide"
    }
   },
   "source": [
    "**How to create a set/dict by enumerating its keys/values?**"
   ]
  },
  {
   "cell_type": "markdown",
   "metadata": {},
   "source": [
    "For `dict`, enclose a comma-separated sequence of `key : value` pairs by braces `{` and `}`."
   ]
  },
  {
   "cell_type": "code",
   "execution_count": 6,
   "metadata": {
    "ExecuteTime": {
     "end_time": "2020-11-06T21:06:07.883687Z",
     "start_time": "2020-11-06T21:06:07.876803Z"
    },
    "slideshow": {
     "slide_type": "-"
    }
   },
   "outputs": [
    {
     "data": {
      "text/html": [
       "\n",
       "<iframe\n",
       "    width=\"1100\"\n",
       "    height=\"350\"\n",
       "    src=\"https://e-quiz.cs.cityu.edu.hk/opt/cs1302visualize.html#mode=display&code=empty_dictionary%20%3D%20%7B%7D%0Aa%20%3D%20%7B%27a%27%3A%200%2C%20%27b%27%3A%201%7D%0Ab%20%3D%20%7B%2A%2Aa%2C%20%27c%27%3A%200%2C%20%27d%27%3A%201%7D%0A\"\n",
       "    frameborder=\"0\"\n",
       "    allowfullscreen\n",
       "></iframe>\n"
      ],
      "text/plain": [
       "<IPython.lib.display.IFrame at 0x7fbdd8bc79e8>"
      ]
     },
     "metadata": {},
     "output_type": "display_data"
    }
   ],
   "source": [
    "%%mytutor -h 350\n",
    "empty_dictionary = {}\n",
    "a = {'a': 0, 'b': 1}\n",
    "b = {**a, 'c': 0, 'd': 1}"
   ]
  },
  {
   "cell_type": "markdown",
   "metadata": {
    "slideshow": {
     "slide_type": "fragment"
    }
   },
   "source": [
    "For `set`, omit `: value`."
   ]
  },
  {
   "cell_type": "code",
   "execution_count": 7,
   "metadata": {
    "ExecuteTime": {
     "end_time": "2020-11-06T21:06:07.983855Z",
     "start_time": "2020-11-06T21:06:07.976591Z"
    },
    "slideshow": {
     "slide_type": "-"
    }
   },
   "outputs": [
    {
     "data": {
      "text/html": [
       "\n",
       "<iframe\n",
       "    width=\"1100\"\n",
       "    height=\"300\"\n",
       "    src=\"https://e-quiz.cs.cityu.edu.hk/opt/cs1302visualize.html#mode=display&code=a%20%3D%20%7B%281%2C%202.0%29%2C%20print%2C%20%2Arange%282%29%2C%20%2A%2723%27%7D%0Aempty_set%20%3D%20%7B%2A%28%29%7D%20%20%23%20Why%20not%20use%20%7B%7D%3F%0A\"\n",
       "    frameborder=\"0\"\n",
       "    allowfullscreen\n",
       "></iframe>\n"
      ],
      "text/plain": [
       "<IPython.lib.display.IFrame at 0x7fbdd8bc7c88>"
      ]
     },
     "metadata": {},
     "output_type": "display_data"
    }
   ],
   "source": [
    "%%mytutor -h 300\n",
    "a = {(1, 2.0), print, *range(2), *'23'}\n",
    "empty_set = {*()}  # Why not use {}?"
   ]
  },
  {
   "cell_type": "markdown",
   "metadata": {
    "slideshow": {
     "slide_type": "subslide"
    }
   },
   "source": [
    "We can also create a set/dictionary from other objects using their constructors `set`/`dict`."
   ]
  },
  {
   "cell_type": "code",
   "execution_count": 8,
   "metadata": {
    "ExecuteTime": {
     "end_time": "2020-11-06T21:06:08.067481Z",
     "start_time": "2020-11-06T21:06:08.061044Z"
    },
    "slideshow": {
     "slide_type": "-"
    }
   },
   "outputs": [
    {
     "data": {
      "text/html": [
       "\n",
       "<iframe\n",
       "    width=\"1100\"\n",
       "    height=\"550\"\n",
       "    src=\"https://e-quiz.cs.cityu.edu.hk/opt/cs1302visualize.html#mode=display&code=empty_set%20%3D%20set%28%29%0Astring2set%20%3D%20set%28%27abc%27%29%0Arange2set%20%3D%20set%28range%282%29%29%0Alist2set%20%3D%20set%28%5B%27abc%27%2Crange%282%29%5D%29%0Aset2set%20%3D%20set%28list2set%29%0A\"\n",
       "    frameborder=\"0\"\n",
       "    allowfullscreen\n",
       "></iframe>\n"
      ],
      "text/plain": [
       "<IPython.lib.display.IFrame at 0x7fbdd8bc7ef0>"
      ]
     },
     "metadata": {},
     "output_type": "display_data"
    }
   ],
   "source": [
    "%%mytutor -h 550\n",
    "empty_set = set()\n",
    "string2set = set('abc')\n",
    "range2set = set(range(2))\n",
    "list2set = set(['abc',range(2)])\n",
    "set2set = set(list2set)"
   ]
  },
  {
   "cell_type": "code",
   "execution_count": 9,
   "metadata": {
    "ExecuteTime": {
     "end_time": "2020-11-06T21:06:08.081891Z",
     "start_time": "2020-11-06T21:06:08.075946Z"
    },
    "slideshow": {
     "slide_type": "fragment"
    }
   },
   "outputs": [
    {
     "data": {
      "text/html": [
       "\n",
       "<iframe\n",
       "    width=\"1100\"\n",
       "    height=\"650\"\n",
       "    src=\"https://e-quiz.cs.cityu.edu.hk/opt/cs1302visualize.html#mode=display&code=empty_dict%20%3D%20dict%28%29%0Aenumerate2dict%20%3D%20dict%28enumerate%28%27abc%27%29%29%0Azip2dict%20%3D%20dict%28zip%28%27abc%27%2C%27123%27%29%29%0Akwargs2dict%20%3D%20dict%28one%3D1%2Ctwo%3D2%29%0Adict2dict%20%3D%20dict%28kwargs2dict%29%0A\"\n",
       "    frameborder=\"0\"\n",
       "    allowfullscreen\n",
       "></iframe>\n"
      ],
      "text/plain": [
       "<IPython.lib.display.IFrame at 0x7fbdd8bce128>"
      ]
     },
     "metadata": {},
     "output_type": "display_data"
    }
   ],
   "source": [
    "%%mytutor -h 650\n",
    "empty_dict = dict()\n",
    "enumerate2dict = dict(enumerate('abc'))\n",
    "zip2dict = dict(zip('abc','123'))\n",
    "kwargs2dict = dict(one=1,two=2)\n",
    "dict2dict = dict(kwargs2dict)"
   ]
  },
  {
   "cell_type": "markdown",
   "metadata": {
    "slideshow": {
     "slide_type": "subslide"
    }
   },
   "source": [
    "**Exercise** `dict` also has a [*class method* `fromkeys`](https://docs.python.org/3/library/stdtypes.html#dict.fromkeys) to construct a dictionary with keys from iterable pointing to a default value. Create a dictionary using `fromkeys` with keys being the non-negative integers smaller than `100` and values being `0`. \n",
    "\n",
    "*Hint:* Use `dict.fromkeys` since a class method is bound to the class rather than an object of the class."
   ]
  },
  {
   "cell_type": "code",
   "execution_count": 10,
   "metadata": {
    "ExecuteTime": {
     "end_time": "2020-11-06T21:06:08.247405Z",
     "start_time": "2020-11-06T21:06:08.177552Z"
    },
    "nbgrader": {
     "grade": false,
     "grade_id": "fromkeys",
     "locked": false,
     "schema_version": 3,
     "solution": true,
     "task": false
    }
   },
   "outputs": [],
   "source": [
    "dict.fromkeys?\n",
    "### BEGIN SOLUTION\n",
    "fromkeys_dict = dict.fromkeys(range(100),0)\n",
    "### END SOLUTION\n",
    "\n",
    "# test\n",
    "assert all(fromkeys_dict[k] == 0 for k in fromkeys_dict)"
   ]
  },
  {
   "cell_type": "markdown",
   "metadata": {
    "ExecuteTime": {
     "end_time": "2020-11-01T09:25:48.937507Z",
     "start_time": "2020-11-01T09:25:48.928030Z"
    },
    "slideshow": {
     "slide_type": "subslide"
    }
   },
   "source": [
    "**How to use a rule to construct a set/dictionary?**"
   ]
  },
  {
   "cell_type": "markdown",
   "metadata": {
    "slideshow": {
     "slide_type": "fragment"
    }
   },
   "source": [
    "The following function uses a one-line dictionary comprehension to return the distribution of items in a sequence:"
   ]
  },
  {
   "cell_type": "code",
   "execution_count": 11,
   "metadata": {
    "ExecuteTime": {
     "end_time": "2020-11-06T21:06:08.402210Z",
     "start_time": "2020-11-06T21:06:08.396535Z"
    },
    "slideshow": {
     "slide_type": "-"
    }
   },
   "outputs": [],
   "source": [
    "def distribute(seq):\n",
    "    return {k : seq.count(k)/len(seq) for k in set(seq)}"
   ]
  },
  {
   "cell_type": "code",
   "execution_count": 12,
   "metadata": {
    "ExecuteTime": {
     "end_time": "2020-11-06T21:06:08.637437Z",
     "start_time": "2020-11-06T21:06:08.405253Z"
    },
    "scrolled": true,
    "slideshow": {
     "slide_type": "-"
    }
   },
   "outputs": [
    {
     "data": {
      "image/png": "[encoded data removed]",
      "text/plain": [
       "<Figure size 432x288 with 1 Axes>"
      ]
     },
     "metadata": {
      "filenames": {
       "image/png": "/home/chungc/cs1302/CS1302ICP/_build/jupyter_execute/Lecture8/Dictionaries and Sets_35_0.png"
      },
      "needs_background": "light"
     },
     "output_type": "display_data"
    }
   ],
   "source": [
    "import matplotlib.pyplot as plt\n",
    "\n",
    "def plot_distribution(seq):\n",
    "    dist = distribute(seq)\n",
    "    plt.stem(dist.keys(),   # set-like view of the keys\n",
    "             dist.values(), # view of the values\n",
    "             use_line_collection=True)\n",
    "    plt.xlabel('Items')\n",
    "    plt.title('Distribution')\n",
    "    plt.ylim(0, 1)\n",
    "    \n",
    "plot_distribution('What is the distribution of different characters?')"
   ]
  },
  {
   "cell_type": "markdown",
   "metadata": {
    "slideshow": {
     "slide_type": "subslide"
    }
   },
   "source": [
    "- The object methods `keys` and `values` provide a dynamic [view](https://docs.python.org/3/glossary.html#term-dictionary-view) of the keys.  \n",
    "- Unlike a copy, subsequent changes to the dictionary are also reflected in a previously returned view.\n",
    "- `items` provides a set-like view of the key-value pairs."
   ]
  },
  {
   "cell_type": "code",
   "execution_count": 13,
   "metadata": {
    "ExecuteTime": {
     "end_time": "2020-11-06T21:06:08.644114Z",
     "start_time": "2020-11-06T21:06:08.639702Z"
    },
    "slideshow": {
     "slide_type": "-"
    }
   },
   "outputs": [
    {
     "data": {
      "text/html": [
       "\n",
       "<iframe\n",
       "    width=\"1100\"\n",
       "    height=\"500\"\n",
       "    src=\"https://e-quiz.cs.cityu.edu.hk/opt/cs1302visualize.html#mode=display&code=a%20%3D%20dict%28enumerate%28%27abc%27%29%29%0Aviews%20%3D%20a.keys%28%29%2C%20a.values%28%29%2C%20a.items%28%29%0Aa.pop%281%29%20%20%20%20%23%20remove%20the%20key%201%20and%20its%20associated%20value%0Aa.popitem%28%29%20%23%20remove%20and%20return%20a%20key-value%20pair%0Aa.clear%28%29%20%20%20%23%20clear%20the%20dictionary%0A\"\n",
       "    frameborder=\"0\"\n",
       "    allowfullscreen\n",
       "></iframe>\n"
      ],
      "text/plain": [
       "<IPython.lib.display.IFrame at 0x7fbdd8b5deb8>"
      ]
     },
     "metadata": {},
     "output_type": "display_data"
    }
   ],
   "source": [
    "%%mytutor -h 500\n",
    "a = dict(enumerate('abc'))\n",
    "views = a.keys(), a.values(), a.items()\n",
    "a.pop(1)    # remove the key 1 and its associated value\n",
    "a.popitem() # remove and return a key-value pair\n",
    "a.clear()   # clear the dictionary"
   ]
  },
  {
   "cell_type": "markdown",
   "metadata": {
    "slideshow": {
     "slide_type": "subslide"
    }
   },
   "source": [
    "`set` has `pop` and `clear` but not `popitem`. However, `set.pop` behaves like `dict.popitem` instead of `dict.pop`. (Why?)"
   ]
  },
  {
   "cell_type": "code",
   "execution_count": 14,
   "metadata": {
    "ExecuteTime": {
     "end_time": "2020-11-06T21:06:08.652435Z",
     "start_time": "2020-11-06T21:06:08.645934Z"
    },
    "slideshow": {
     "slide_type": "-"
    }
   },
   "outputs": [
    {
     "data": {
      "text/html": [
       "\n",
       "<iframe\n",
       "    width=\"1100\"\n",
       "    height=\"250\"\n",
       "    src=\"https://e-quiz.cs.cityu.edu.hk/opt/cs1302visualize.html#mode=display&code=a%20%3D%20set%28%27abc%27%29%0Aa.pop%28%29%20%20%20%20%20%23%20remove%20and%20return%20an%20element%0Aa.clear%28%29%20%20%20%23%20clear%20the%20set%0A\"\n",
       "    frameborder=\"0\"\n",
       "    allowfullscreen\n",
       "></iframe>\n"
      ],
      "text/plain": [
       "<IPython.lib.display.IFrame at 0x7fbdd8b0d390>"
      ]
     },
     "metadata": {},
     "output_type": "display_data"
    }
   ],
   "source": [
    "%%mytutor -h 250\n",
    "a = set('abc')\n",
    "a.pop()     # remove and return an element\n",
    "a.clear()   # clear the set"
   ]
  },
  {
   "cell_type": "markdown",
   "metadata": {
    "slideshow": {
     "slide_type": "fragment"
    }
   },
   "source": [
    "**Exercise** Use one-line comprehension to return a set of composite numbers smaller than `stop`.  \n",
    "\n",
    "*Hint:* You do not need to worry about duplicate elements for `set`."
   ]
  },
  {
   "cell_type": "code",
   "execution_count": 15,
   "metadata": {
    "ExecuteTime": {
     "end_time": "2020-11-06T21:06:08.756081Z",
     "start_time": "2020-11-06T21:06:08.737677Z"
    },
    "nbgrader": {
     "grade": false,
     "grade_id": "set-comprehension",
     "locked": false,
     "schema_version": 3,
     "solution": true,
     "task": false
    },
    "slideshow": {
     "slide_type": "-"
    }
   },
   "outputs": [
    {
     "name": "stdout",
     "output_type": "stream",
     "text": [
      "4 6 8 9 10 12 14 15 16 18 20 21 22 24 25 26 27 28 30 32 33 34 35 36 38 39 40 42 44 45 46 48 49 50 51 52 54 55 56 57 58 60 62 63 64 65 66 68 69 70 72 74 75 76 77 78 80 81 82 84 85 86 87 88 90 91 92 93 94 95 96 98 99\n"
     ]
    }
   ],
   "source": [
    "def composite_set(stop):\n",
    "    ### BEGIN SOLUTION\n",
    "    return {x for factor in range(2,stop) for x in range(factor*2,stop,factor)}\n",
    "    ### END SOLUTION\n",
    "    \n",
    "print(*sorted(composite_set(100)))"
   ]
  },
  {
   "cell_type": "markdown",
   "metadata": {
    "slideshow": {
     "slide_type": "slide"
    }
   },
   "source": [
    "## Hashability"
   ]
  },
  {
   "cell_type": "markdown",
   "metadata": {
    "slideshow": {
     "slide_type": "fragment"
    }
   },
   "source": [
    "For `set` and `dict`, \n",
    "- identical keys are merged to the same entry even though\n",
    "- values associated with different keys can be the same."
   ]
  },
  {
   "cell_type": "code",
   "execution_count": 16,
   "metadata": {
    "ExecuteTime": {
     "end_time": "2020-11-06T21:06:08.924986Z",
     "start_time": "2020-11-06T21:06:08.917894Z"
    },
    "slideshow": {
     "slide_type": "fragment"
    }
   },
   "outputs": [
    {
     "data": {
      "text/html": [
       "\n",
       "<iframe\n",
       "    width=\"1100\"\n",
       "    height=\"350\"\n",
       "    src=\"https://e-quiz.cs.cityu.edu.hk/opt/cs1302visualize.html#mode=display&code=a%20%3D%20%7B0%3A%20%27a%27%2C%200.0%3A%20%27b%27%2C%202%3A%20%27b%27%7D%0Ab%20%3D%20%7B0j%2C%200%2C%200.0%2C%20%27%27%2C%20False%7D%0Aassert%200%20%3D%3D%200.0%20%3D%3D%200j%20%3D%3D%20False%20%21%3D%20%27%27%0A\"\n",
       "    frameborder=\"0\"\n",
       "    allowfullscreen\n",
       "></iframe>\n"
      ],
      "text/plain": [
       "<IPython.lib.display.IFrame at 0x7fbdd8b0df60>"
      ]
     },
     "metadata": {},
     "output_type": "display_data"
    }
   ],
   "source": [
    "%%mytutor -h 350\n",
    "a = {0: 'a', 0.0: 'b', 2: 'b'}\n",
    "b = {0j, 0, 0.0, '', False}\n",
    "assert 0 == 0.0 == 0j == False != ''"
   ]
  },
  {
   "cell_type": "markdown",
   "metadata": {
    "slideshow": {
     "slide_type": "subslide"
    }
   },
   "source": [
    "This is implemented efficiently by [*hashing*](https://docs.python.org/3/glossary.html#term-hashable). A key must be a hashable object which:\n",
    "\n",
    "- has a hash value (returned by `__hash__` method) that never changes during its lifetime, and\n",
    "- can be compared (using `__eq__` method) to other objects.  \n",
    "  *Hashable objects which compare equal must have the same hash value.*"
   ]
  },
  {
   "cell_type": "code",
   "execution_count": 17,
   "metadata": {
    "ExecuteTime": {
     "end_time": "2020-11-06T21:06:09.025314Z",
     "start_time": "2020-11-06T21:06:09.014575Z"
    },
    "slideshow": {
     "slide_type": "-"
    }
   },
   "outputs": [
    {
     "name": "stdout",
     "output_type": "stream",
     "text": [
      "<class 'int'> is hashable. E.g., hash(0) == 0\n",
      "<class 'float'> is hashable. E.g., hash(0.0) == 0\n",
      "<class 'complex'> is hashable. E.g., hash(0j) == 0\n",
      "<class 'str'> is hashable. E.g., hash('') == 0\n",
      "<class 'bool'> is hashable. E.g., hash(False) == 0\n",
      "<class 'tuple'> is hashable. E.g., hash(()) == 3527539\n",
      "<class 'list'> is NOT hashable.\n",
      "<class 'dict'> is NOT hashable.\n",
      "<class 'set'> is NOT hashable.\n",
      "<class 'frozenset'> is hashable. E.g., hash(frozenset()) == 133146708735736\n"
     ]
    }
   ],
   "source": [
    "import collections\n",
    "\n",
    "for i in 0, 0.0, 0j, '', False, (), [], {}, set(), frozenset():\n",
    "    if isinstance(i, collections.abc.Hashable):\n",
    "        print('{} is hashable. E.g., hash({!r}) == {}'.format(type(i),i,hash(i)))\n",
    "    else:\n",
    "        print('{} is NOT hashable.'.format(type(i)))"
   ]
  },
  {
   "cell_type": "markdown",
   "metadata": {
    "ExecuteTime": {
     "end_time": "2020-11-01T08:18:58.573375Z",
     "start_time": "2020-11-01T08:18:58.567390Z"
    },
    "slideshow": {
     "slide_type": "subslide"
    }
   },
   "source": [
    "**Why the key should be hashable?**  \n",
    "**What is the use of a hash value?**"
   ]
  },
  {
   "cell_type": "markdown",
   "metadata": {
    "slideshow": {
     "slide_type": "fragment"
    }
   },
   "source": [
    "Associative containers are implemented as *hash tables* for efficient lookup of key values."
   ]
  },
  {
   "cell_type": "code",
   "execution_count": 18,
   "metadata": {
    "ExecuteTime": {
     "end_time": "2020-11-06T21:06:09.199204Z",
     "start_time": "2020-11-06T21:06:09.192584Z"
    },
    "slideshow": {
     "slide_type": "-"
    }
   },
   "outputs": [
    {
     "data": {
      "text/html": [
       "<iframe width=\"912\" height=\"513\" src=\"https://www.youtube.com/embed/LPzN8jgbnvA\" frameborder=\"0\" allow=\"accelerometer; autoplay; clipboard-write; encrypted-media; gyroscope; picture-in-picture\" allowfullscreen></iframe>\n"
      ],
      "text/plain": [
       "<IPython.core.display.HTML object>"
      ]
     },
     "metadata": {},
     "output_type": "display_data"
    }
   ],
   "source": [
    "%%html\n",
    "<iframe width=\"912\" height=\"513\" src=\"https://www.youtube.com/embed/LPzN8jgbnvA\" frameborder=\"0\" allow=\"accelerometer; autoplay; clipboard-write; encrypted-media; gyroscope; picture-in-picture\" allowfullscreen></iframe>"
   ]
  },
  {
   "cell_type": "markdown",
   "metadata": {
    "slideshow": {
     "slide_type": "fragment"
    }
   },
   "source": [
    "Most mutable objects are not hashable. Why?  \n",
    "  Mutating a key makes it a different key, which is [hard to track](https://hynek.me/articles/hashes-and-equality/)."
   ]
  },
  {
   "cell_type": "markdown",
   "metadata": {
    "slideshow": {
     "slide_type": "fragment"
    }
   },
   "source": [
    "`set` has an immutable counterpart called `frozenset`, but `dict` does not have any immutable counterpart. Why?  \n",
    "While elements of a set must be hashable and therefore mostly immutable, dictionary values may be of mutable types."
   ]
  },
  {
   "cell_type": "markdown",
   "metadata": {
    "slideshow": {
     "slide_type": "fragment"
    }
   },
   "source": [
    "Python also uses dictionary for its global/local frames.  \n",
    "Indeed, [hash collisions can slow down the lookup process](https://stackoverflow.com/questions/8271139/why-is-early-return-slower-than-else)."
   ]
  },
  {
   "cell_type": "markdown",
   "metadata": {
    "slideshow": {
     "slide_type": "subslide"
    }
   },
   "source": [
    "**Exercise** Why equal objects must have the same hash but different objects may have the same hash? An example is given below:"
   ]
  },
  {
   "cell_type": "code",
   "execution_count": 19,
   "metadata": {
    "ExecuteTime": {
     "end_time": "2020-11-06T21:06:09.545081Z",
     "start_time": "2020-11-06T21:06:09.539538Z"
    },
    "slideshow": {
     "slide_type": "-"
    }
   },
   "outputs": [],
   "source": [
    "assert hash(0) == hash(0.0) == hash(0j) == hash(False) == hash('') and False != ''"
   ]
  },
  {
   "cell_type": "markdown",
   "metadata": {
    "nbgrader": {
     "grade": true,
     "grade_id": "hash-collision",
     "locked": false,
     "points": 0,
     "schema_version": 3,
     "solution": true,
     "task": false
    },
    "slideshow": {
     "slide_type": "-"
    }
   },
   "source": [
    "1. To avoid duplicate keys occupying different entries in a hash table.\n",
    "2. Hash collision can be detected by `==` and handled by [collision resolution](https://en.wikipedia.org/wiki/Hash_table#Collision_resolution) techniques. To keep the hash table small, hash collision is unavoidable."
   ]
  },
  {
   "cell_type": "markdown",
   "metadata": {
    "slideshow": {
     "slide_type": "slide"
    }
   },
   "source": [
    "## Accessing keys/values"
   ]
  },
  {
   "cell_type": "markdown",
   "metadata": {
    "slideshow": {
     "slide_type": "subslide"
    }
   },
   "source": [
    "**How to traverse a set/dictionary?**"
   ]
  },
  {
   "cell_type": "markdown",
   "metadata": {
    "slideshow": {
     "slide_type": "fragment"
    }
   },
   "source": [
    "Set and dictionaries are iterable.  \n",
    "The for loop iterates over the keys."
   ]
  },
  {
   "cell_type": "code",
   "execution_count": 20,
   "metadata": {
    "ExecuteTime": {
     "end_time": "2020-11-06T21:06:09.946276Z",
     "start_time": "2020-11-06T21:06:09.875228Z"
    },
    "slideshow": {
     "slide_type": "-"
    }
   },
   "outputs": [
    {
     "name": "stdout",
     "output_type": "stream",
     "text": [
      "e b d c a\n",
      "(0, 'a') (1, 'b') (2, 'c') (3, 'd') (4, 'e')\n"
     ]
    },
    {
     "ename": "TypeError",
     "evalue": "'set' object is not subscriptable",
     "output_type": "error",
     "traceback": [
      "\u001b[0;31m---------------------------------------------------------------------------\u001b[0m",
      "\u001b[0;31mTypeError\u001b[0m                                 Traceback (most recent call last)",
      "\u001b[0;32m<ipython-input-20-6702302c4a5e>\u001b[0m in \u001b[0;36m<module>\u001b[0;34m\u001b[0m\n\u001b[1;32m      3\u001b[0m \u001b[0mprint\u001b[0m\u001b[0;34m(\u001b[0m\u001b[0;34m*\u001b[0m\u001b[0;34m(\u001b[0m\u001b[0melement\u001b[0m \u001b[0;32mfor\u001b[0m \u001b[0melement\u001b[0m \u001b[0;32min\u001b[0m \u001b[0ma\u001b[0m\u001b[0;34m)\u001b[0m\u001b[0;34m)\u001b[0m\u001b[0;34m\u001b[0m\u001b[0;34m\u001b[0m\u001b[0m\n\u001b[1;32m      4\u001b[0m \u001b[0mprint\u001b[0m\u001b[0;34m(\u001b[0m\u001b[0;34m*\u001b[0m\u001b[0;34m(\u001b[0m\u001b[0;34m(\u001b[0m\u001b[0mkey\u001b[0m\u001b[0;34m,\u001b[0m\u001b[0mb\u001b[0m\u001b[0;34m[\u001b[0m\u001b[0mkey\u001b[0m\u001b[0;34m]\u001b[0m\u001b[0;34m)\u001b[0m \u001b[0;32mfor\u001b[0m \u001b[0mkey\u001b[0m \u001b[0;32min\u001b[0m \u001b[0mb\u001b[0m\u001b[0;34m)\u001b[0m\u001b[0;34m)\u001b[0m\u001b[0;34m\u001b[0m\u001b[0;34m\u001b[0m\u001b[0m\n\u001b[0;32m----> 5\u001b[0;31m \u001b[0ma\u001b[0m\u001b[0;34m[\u001b[0m\u001b[0;36m0\u001b[0m\u001b[0;34m]\u001b[0m  \u001b[0;31m# TypeError\u001b[0m\u001b[0;34m\u001b[0m\u001b[0;34m\u001b[0m\u001b[0m\n\u001b[0m",
      "\u001b[0;31mTypeError\u001b[0m: 'set' object is not subscriptable"
     ]
    }
   ],
   "source": [
    "a = set('abcde')\n",
    "b = dict(enumerate('abcde'))\n",
    "print(*(element for element in a))\n",
    "print(*((key,b[key]) for key in b))\n",
    "a[0]  # TypeError"
   ]
  },
  {
   "cell_type": "markdown",
   "metadata": {
    "slideshow": {
     "slide_type": "fragment"
    }
   },
   "source": [
    "- For the dictionary `b`, we used subscription `b[key]` to access the value associated with `key`.\n",
    "- Unlike dictionary, set does not implement [`__getitem__`](https://docs.python.org/3/reference/datamodel.html#object.__getitem__) and is therefore not subscriptable."
   ]
  },
  {
   "cell_type": "markdown",
   "metadata": {
    "slideshow": {
     "slide_type": "subslide"
    }
   },
   "source": [
    "Unlike tuple/list, `b[-1]` does not refer to the value of the last entry. (Dictionary is not ordered.)"
   ]
  },
  {
   "cell_type": "code",
   "execution_count": 21,
   "metadata": {
    "ExecuteTime": {
     "end_time": "2020-11-06T21:06:10.056062Z",
     "start_time": "2020-11-06T21:06:10.048909Z"
    },
    "slideshow": {
     "slide_type": "-"
    }
   },
   "outputs": [
    {
     "ename": "KeyError",
     "evalue": "-1",
     "output_type": "error",
     "traceback": [
      "\u001b[0;31m---------------------------------------------------------------------------\u001b[0m",
      "\u001b[0;31mKeyError\u001b[0m                                  Traceback (most recent call last)",
      "\u001b[0;32m<ipython-input-21-784624678be8>\u001b[0m in \u001b[0;36m<module>\u001b[0;34m\u001b[0m\n\u001b[0;32m----> 1\u001b[0;31m \u001b[0mb\u001b[0m\u001b[0;34m[\u001b[0m\u001b[0;34m-\u001b[0m\u001b[0;36m1\u001b[0m\u001b[0;34m]\u001b[0m  \u001b[0;31m# KeyError\u001b[0m\u001b[0;34m\u001b[0m\u001b[0;34m\u001b[0m\u001b[0m\n\u001b[0m",
      "\u001b[0;31mKeyError\u001b[0m: -1"
     ]
    }
   ],
   "source": [
    "b[-1]  # KeyError"
   ]
  },
  {
   "cell_type": "markdown",
   "metadata": {
    "slideshow": {
     "slide_type": "fragment"
    }
   },
   "source": [
    "The above raises a key error because `-1` is not a key in the dictionary `b`."
   ]
  },
  {
   "cell_type": "markdown",
   "metadata": {
    "slideshow": {
     "slide_type": "fragment"
    }
   },
   "source": [
    "Dictionary implements the [`__setitem__`](https://docs.python.org/3/reference/simple_stmts.html#assignment-statements) method so we can enter a key value pair to a dictionary using the assignment operator."
   ]
  },
  {
   "cell_type": "code",
   "execution_count": 22,
   "metadata": {
    "ExecuteTime": {
     "end_time": "2020-11-06T21:06:10.212433Z",
     "start_time": "2020-11-06T21:06:10.205926Z"
    },
    "slideshow": {
     "slide_type": "-"
    }
   },
   "outputs": [
    {
     "data": {
      "text/plain": [
       "'f'"
      ]
     },
     "execution_count": 22,
     "metadata": {},
     "output_type": "execute_result"
    }
   ],
   "source": [
    "b[-1] = 'f'\n",
    "b[-1]"
   ]
  },
  {
   "cell_type": "markdown",
   "metadata": {
    "slideshow": {
     "slide_type": "fragment"
    }
   },
   "source": [
    "To delete a key, we can use the function `del`."
   ]
  },
  {
   "cell_type": "code",
   "execution_count": 23,
   "metadata": {
    "ExecuteTime": {
     "end_time": "2020-11-06T21:06:10.301358Z",
     "start_time": "2020-11-06T21:06:10.292451Z"
    },
    "slideshow": {
     "slide_type": "-"
    }
   },
   "outputs": [
    {
     "ename": "KeyError",
     "evalue": "-1",
     "output_type": "error",
     "traceback": [
      "\u001b[0;31m---------------------------------------------------------------------------\u001b[0m",
      "\u001b[0;31mKeyError\u001b[0m                                  Traceback (most recent call last)",
      "\u001b[0;32m<ipython-input-23-a57f788767eb>\u001b[0m in \u001b[0;36m<module>\u001b[0;34m\u001b[0m\n\u001b[1;32m      1\u001b[0m \u001b[0;32mdel\u001b[0m \u001b[0mb\u001b[0m\u001b[0;34m[\u001b[0m\u001b[0;34m-\u001b[0m\u001b[0;36m1\u001b[0m\u001b[0;34m]\u001b[0m\u001b[0;34m\u001b[0m\u001b[0;34m\u001b[0m\u001b[0m\n\u001b[0;32m----> 2\u001b[0;31m \u001b[0mb\u001b[0m\u001b[0;34m[\u001b[0m\u001b[0;34m-\u001b[0m\u001b[0;36m1\u001b[0m\u001b[0;34m]\u001b[0m\u001b[0;34m\u001b[0m\u001b[0;34m\u001b[0m\u001b[0m\n\u001b[0m",
      "\u001b[0;31mKeyError\u001b[0m: -1"
     ]
    }
   ],
   "source": [
    "del b[-1]\n",
    "b[-1]"
   ]
  },
  {
   "cell_type": "markdown",
   "metadata": {
    "slideshow": {
     "slide_type": "subslide"
    }
   },
   "source": [
    "To avoid key error, we can check if a key is in a dictionary efficiently (due to hashing) using the `in` operator.  \n",
    "The following is a different implementation of `distribute`."
   ]
  },
  {
   "cell_type": "code",
   "execution_count": 24,
   "metadata": {
    "ExecuteTime": {
     "end_time": "2020-11-06T21:06:10.652024Z",
     "start_time": "2020-11-06T21:06:10.405798Z"
    },
    "slideshow": {
     "slide_type": "-"
    }
   },
   "outputs": [
    {
     "data": {
      "image/png": "[encoded data removed]",
      "text/plain": [
       "<Figure size 432x288 with 1 Axes>"
      ]
     },
     "metadata": {
      "filenames": {
       "image/png": "/home/chungc/cs1302/CS1302ICP/_build/jupyter_execute/Lecture8/Dictionaries and Sets_69_0.png"
      },
      "needs_background": "light"
     },
     "output_type": "display_data"
    }
   ],
   "source": [
    "def distribute(seq):\n",
    "    dist = {}\n",
    "    for i in seq: \n",
    "        dist[i] = (dist[i] if i in dist else 0) + 1/len(seq)\n",
    "    return dist\n",
    "\n",
    "plot_distribution('What is the distribution of different characters?')"
   ]
  },
  {
   "cell_type": "markdown",
   "metadata": {
    "slideshow": {
     "slide_type": "subslide"
    }
   },
   "source": [
    "**Exercise** Unlike the previous implementation using one-line dictionary comprehension, the above alternative implementation uses multiple lines of code to build the dictionary incrementally starting from an empty dictionary.\n",
    "```Python\n",
    "def distribute(seq):\n",
    "    return {k : seq.count(k)/len(seq) for k in set(seq)}\n",
    "```\n",
    "Explain whether the alternative is more efficient."
   ]
  },
  {
   "cell_type": "markdown",
   "metadata": {
    "nbgrader": {
     "grade": true,
     "grade_id": "efficient-distribution",
     "locked": false,
     "points": 0,
     "schema_version": 3,
     "solution": true,
     "task": false
    },
    "slideshow": {
     "slide_type": "-"
    }
   },
   "source": [
    "It is more efficient because \n",
    "- the alternative implementation traverses `seq` once with near constant time lookup of the key, but\n",
    "- the list comprehension can traverse `seq` a multiple times linear in `len(seq)`, since every call to `seq.count` has to traverse `seq` once.\n",
    "\n",
    "Shorter code needs not be more efficient."
   ]
  },
  {
   "cell_type": "markdown",
   "metadata": {
    "slideshow": {
     "slide_type": "subslide"
    }
   },
   "source": [
    "**Exercise** `dict` also has a getter method `get` that conveniently returns a default value if the key does not exist. Rewrite the alternative implementation of `distribute` to use `get` instead of `in`."
   ]
  },
  {
   "cell_type": "code",
   "execution_count": 25,
   "metadata": {
    "ExecuteTime": {
     "end_time": "2020-11-06T21:06:10.867186Z",
     "start_time": "2020-11-06T21:06:10.654346Z"
    },
    "nbgrader": {
     "grade": false,
     "grade_id": "get",
     "locked": false,
     "schema_version": 3,
     "solution": true,
     "task": false
    },
    "slideshow": {
     "slide_type": "-"
    }
   },
   "outputs": [
    {
     "data": {
      "image/png": "[encoded data removed]",
      "text/plain": [
       "<Figure size 432x288 with 1 Axes>"
      ]
     },
     "metadata": {
      "filenames": {
       "image/png": "/home/chungc/cs1302/CS1302ICP/_build/jupyter_execute/Lecture8/Dictionaries and Sets_73_0.png"
      },
      "needs_background": "light"
     },
     "output_type": "display_data"
    }
   ],
   "source": [
    "dict.get?\n",
    "def distribute(seq):\n",
    "    dist = {}\n",
    "    for i in seq: \n",
    "        ### BEGIN SOLUTION\n",
    "        dist[i] = dist.get(i,0) + 1/len(seq)\n",
    "        ### END SOLUTION\n",
    "    return dist\n",
    "\n",
    "plot_distribution('What is the distribution of different characters?')"
   ]
  },
  {
   "cell_type": "markdown",
   "metadata": {
    "slideshow": {
     "slide_type": "subslide"
    }
   },
   "source": [
    "**How to traverse in ascending order of the keys?**"
   ]
  },
  {
   "cell_type": "markdown",
   "metadata": {
    "slideshow": {
     "slide_type": "fragment"
    }
   },
   "source": [
    "We can apply the function `sorted` to a set/dictionary to return a sorted list of the keys."
   ]
  },
  {
   "cell_type": "code",
   "execution_count": 26,
   "metadata": {
    "ExecuteTime": {
     "end_time": "2020-11-06T21:06:10.872969Z",
     "start_time": "2020-11-06T21:06:10.869064Z"
    },
    "slideshow": {
     "slide_type": "-"
    }
   },
   "outputs": [
    {
     "data": {
      "text/html": [
       "\n",
       "<iframe\n",
       "    width=\"1100\"\n",
       "    height=\"600\"\n",
       "    src=\"https://e-quiz.cs.cityu.edu.hk/opt/cs1302visualize.html#mode=display&code=a%20%3D%20set%28reversed%28%27abcde%27%29%29%0Ab%20%3D%20dict%28reversed%28%5B%2Aenumerate%28%27abcde%27%29%5D%29%29%0Asorted_elements%20%3D%20sorted%28a%29%0Asorted_keys%20%3D%20sorted%28b%29%0A\"\n",
       "    frameborder=\"0\"\n",
       "    allowfullscreen\n",
       "></iframe>\n"
      ],
      "text/plain": [
       "<IPython.lib.display.IFrame at 0x7fbdd897b7f0>"
      ]
     },
     "metadata": {},
     "output_type": "display_data"
    }
   ],
   "source": [
    "%%mytutor -h 600\n",
    "a = set(reversed('abcde'))\n",
    "b = dict(reversed([*enumerate('abcde')]))\n",
    "sorted_elements = sorted(a)\n",
    "sorted_keys = sorted(b)"
   ]
  },
  {
   "cell_type": "markdown",
   "metadata": {
    "slideshow": {
     "slide_type": "subslide"
    }
   },
   "source": [
    "**Exercise** Re-implement `plot_distribution` to plot the distribution in ascending order of the keys."
   ]
  },
  {
   "cell_type": "code",
   "execution_count": 27,
   "metadata": {
    "ExecuteTime": {
     "end_time": "2020-11-06T21:06:10.890243Z",
     "start_time": "2020-11-06T21:06:10.874962Z"
    },
    "nbgrader": {
     "grade": false,
     "grade_id": "sorted-keys",
     "locked": false,
     "schema_version": 3,
     "solution": true,
     "task": false
    },
    "slideshow": {
     "slide_type": "-"
    }
   },
   "outputs": [
    {
     "ename": "NameError",
     "evalue": "name 'pyplot' is not defined",
     "output_type": "error",
     "traceback": [
      "\u001b[0;31m---------------------------------------------------------------------------\u001b[0m",
      "\u001b[0;31mNameError\u001b[0m                                 Traceback (most recent call last)",
      "\u001b[0;32m<ipython-input-27-aa27f8ab3ded>\u001b[0m in \u001b[0;36m<module>\u001b[0;34m\u001b[0m\n\u001b[1;32m     10\u001b[0m     \u001b[0mpyplot\u001b[0m\u001b[0;34m.\u001b[0m\u001b[0mylim\u001b[0m\u001b[0;34m(\u001b[0m\u001b[0;36m0\u001b[0m\u001b[0;34m,\u001b[0m \u001b[0;36m1\u001b[0m\u001b[0;34m)\u001b[0m\u001b[0;34m\u001b[0m\u001b[0;34m\u001b[0m\u001b[0m\n\u001b[1;32m     11\u001b[0m \u001b[0;34m\u001b[0m\u001b[0m\n\u001b[0;32m---> 12\u001b[0;31m \u001b[0mplot_distribution\u001b[0m\u001b[0;34m(\u001b[0m\u001b[0;34m'What is the distribution of different characters?'\u001b[0m\u001b[0;34m)\u001b[0m\u001b[0;34m\u001b[0m\u001b[0;34m\u001b[0m\u001b[0m\n\u001b[0m",
      "\u001b[0;32m<ipython-input-27-aa27f8ab3ded>\u001b[0m in \u001b[0;36mplot_distribution\u001b[0;34m(seq)\u001b[0m\n\u001b[1;32m      4\u001b[0m     \u001b[0;31m### BEGIN SOLUTION\u001b[0m\u001b[0;34m\u001b[0m\u001b[0;34m\u001b[0m\u001b[0;34m\u001b[0m\u001b[0m\n\u001b[1;32m      5\u001b[0m     \u001b[0mdist_list\u001b[0m \u001b[0;34m=\u001b[0m \u001b[0msorted\u001b[0m\u001b[0;34m(\u001b[0m\u001b[0mdist\u001b[0m\u001b[0;34m.\u001b[0m\u001b[0mitems\u001b[0m\u001b[0;34m(\u001b[0m\u001b[0;34m)\u001b[0m\u001b[0;34m,\u001b[0m \u001b[0mkey\u001b[0m \u001b[0;34m=\u001b[0m \u001b[0;32mlambda\u001b[0m \u001b[0mp\u001b[0m\u001b[0;34m:\u001b[0m \u001b[0mp\u001b[0m\u001b[0;34m[\u001b[0m\u001b[0;36m0\u001b[0m\u001b[0;34m]\u001b[0m\u001b[0;34m)\u001b[0m\u001b[0;34m\u001b[0m\u001b[0;34m\u001b[0m\u001b[0m\n\u001b[0;32m----> 6\u001b[0;31m     \u001b[0mpyplot\u001b[0m\u001b[0;34m.\u001b[0m\u001b[0mstem\u001b[0m\u001b[0;34m(\u001b[0m\u001b[0;34m[\u001b[0m\u001b[0mp\u001b[0m\u001b[0;34m[\u001b[0m\u001b[0;36m0\u001b[0m\u001b[0;34m]\u001b[0m \u001b[0;32mfor\u001b[0m \u001b[0mp\u001b[0m \u001b[0;32min\u001b[0m \u001b[0mdist_list\u001b[0m\u001b[0;34m]\u001b[0m\u001b[0;34m,\u001b[0m \u001b[0;34m[\u001b[0m\u001b[0mp\u001b[0m\u001b[0;34m[\u001b[0m\u001b[0;36m1\u001b[0m\u001b[0;34m]\u001b[0m \u001b[0;32mfor\u001b[0m \u001b[0mp\u001b[0m \u001b[0;32min\u001b[0m \u001b[0mdist_list\u001b[0m\u001b[0;34m]\u001b[0m\u001b[0;34m,\u001b[0m \u001b[0muse_line_collection\u001b[0m\u001b[0;34m=\u001b[0m\u001b[0;32mTrue\u001b[0m\u001b[0;34m)\u001b[0m\u001b[0;34m\u001b[0m\u001b[0;34m\u001b[0m\u001b[0m\n\u001b[0m\u001b[1;32m      7\u001b[0m     \u001b[0;31m### END SOLUTION\u001b[0m\u001b[0;34m\u001b[0m\u001b[0;34m\u001b[0m\u001b[0;34m\u001b[0m\u001b[0m\n\u001b[1;32m      8\u001b[0m     \u001b[0mpyplot\u001b[0m\u001b[0;34m.\u001b[0m\u001b[0mxlabel\u001b[0m\u001b[0;34m(\u001b[0m\u001b[0;34m'Items'\u001b[0m\u001b[0;34m)\u001b[0m\u001b[0;34m\u001b[0m\u001b[0;34m\u001b[0m\u001b[0m\n",
      "\u001b[0;31mNameError\u001b[0m: name 'pyplot' is not defined"
     ]
    }
   ],
   "source": [
    "def plot_distribution(seq):\n",
    "    dist = distribute(seq)\n",
    "    # pyplot.stem(dist.keys(), dist.values(), use_line_collection=True)\n",
    "    ### BEGIN SOLUTION\n",
    "    dist_list = sorted(dist.items(), key = lambda p: p[0])\n",
    "    pyplot.stem([p[0] for p in dist_list], [p[1] for p in dist_list], use_line_collection=True)\n",
    "    ### END SOLUTION\n",
    "    pyplot.xlabel('Items')\n",
    "    pyplot.title('Distribution')\n",
    "    pyplot.ylim(0, 1)\n",
    "    \n",
    "plot_distribution('What is the distribution of different characters?')"
   ]
  },
  {
   "cell_type": "markdown",
   "metadata": {
    "slideshow": {
     "slide_type": "subslide"
    }
   },
   "source": [
    "**How to add an element to a set and remove an element from it?**"
   ]
  },
  {
   "cell_type": "markdown",
   "metadata": {
    "slideshow": {
     "slide_type": "fragment"
    }
   },
   "source": [
    "Instead of subscription, `set` has the `add`/`discard`/`remove` methods for adding/removing elements."
   ]
  },
  {
   "cell_type": "code",
   "execution_count": 28,
   "metadata": {
    "ExecuteTime": {
     "end_time": "2020-11-06T21:06:10.999497Z",
     "start_time": "2020-11-06T21:06:10.994027Z"
    },
    "slideshow": {
     "slide_type": "-"
    }
   },
   "outputs": [
    {
     "data": {
      "text/html": [
       "\n",
       "<iframe\n",
       "    width=\"1100\"\n",
       "    height=\"400\"\n",
       "    src=\"https://e-quiz.cs.cityu.edu.hk/opt/cs1302visualize.html#mode=display&code=a%20%3D%20set%28%27abc%27%29%0Aa.add%28%27d%27%29%20%20%20%20%20%20%0Aa.discard%28%27a%27%29%20%20%0Aa.remove%28%27b%27%29%0Aa.clear%28%29%0Aa.discard%28%27a%27%29%20%20%23%20no%20error%0Aa.remove%28%27b%27%29%20%20%20%23%20KeyError%0A\"\n",
       "    frameborder=\"0\"\n",
       "    allowfullscreen\n",
       "></iframe>\n"
      ],
      "text/plain": [
       "<IPython.lib.display.IFrame at 0x7fbdd897fda0>"
      ]
     },
     "metadata": {},
     "output_type": "display_data"
    }
   ],
   "source": [
    "%%mytutor -h 400\n",
    "a = set('abc')\n",
    "a.add('d')      \n",
    "a.discard('a')  \n",
    "a.remove('b')\n",
    "a.clear()\n",
    "a.discard('a')  # no error\n",
    "a.remove('b')   # KeyError"
   ]
  },
  {
   "cell_type": "markdown",
   "metadata": {
    "slideshow": {
     "slide_type": "slide"
    }
   },
   "source": [
    "## Other operators and methods"
   ]
  },
  {
   "cell_type": "markdown",
   "metadata": {
    "slideshow": {
     "slide_type": "subslide"
    }
   },
   "source": [
    "Unlike `str`/`tuple`/`list`, `set` and `dict` do not implement addition `+` and multiplication `*`:"
   ]
  },
  {
   "cell_type": "code",
   "execution_count": 29,
   "metadata": {
    "ExecuteTime": {
     "end_time": "2020-11-06T21:06:11.147475Z",
     "start_time": "2020-11-06T21:06:11.141560Z"
    },
    "slideshow": {
     "slide_type": "-"
    }
   },
   "outputs": [
    {
     "data": {
      "text/plain": [
       "False"
      ]
     },
     "execution_count": 29,
     "metadata": {},
     "output_type": "execute_result"
    }
   ],
   "source": [
    "any(hasattr(container, attr) for attr in ('__add__', '__mult__')\n",
    "    for container in (dict, set, frozenset))"
   ]
  },
  {
   "cell_type": "markdown",
   "metadata": {
    "slideshow": {
     "slide_type": "subslide"
    }
   },
   "source": [
    "**Exercise** Use the unpacking operators `*` and `**` to concatenate two sets/dictionaries below into a new set/dictionary."
   ]
  },
  {
   "cell_type": "code",
   "execution_count": 30,
   "metadata": {
    "ExecuteTime": {
     "end_time": "2020-11-06T21:06:11.236075Z",
     "start_time": "2020-11-06T21:06:11.230787Z"
    },
    "nbgrader": {
     "grade": false,
     "grade_id": "concatenate-sets",
     "locked": false,
     "schema_version": 3,
     "solution": true,
     "task": false
    },
    "slideshow": {
     "slide_type": "-"
    }
   },
   "outputs": [
    {
     "data": {
      "text/plain": [
       "{'a', 'b', 'c', 'd', 'e'}"
      ]
     },
     "execution_count": 30,
     "metadata": {},
     "output_type": "execute_result"
    }
   ],
   "source": [
    "set1 = set('abc')\n",
    "set2 = set('cde')\n",
    "### BEGIN SOLUTION\n",
    "concatenated_set = {*set1,*set2}\n",
    "### END SOLUTION\n",
    "concatenated_set"
   ]
  },
  {
   "cell_type": "code",
   "execution_count": 31,
   "metadata": {
    "ExecuteTime": {
     "end_time": "2020-11-06T21:06:11.244872Z",
     "start_time": "2020-11-06T21:06:11.238068Z"
    },
    "nbgrader": {
     "grade": false,
     "grade_id": "concatenate-dictionaries",
     "locked": false,
     "schema_version": 3,
     "solution": true,
     "task": false
    },
    "slideshow": {
     "slide_type": "-"
    }
   },
   "outputs": [
    {
     "data": {
      "text/plain": [
       "{0: 'a', 1: 'b', 2: 'd', 3: 'e', 4: 'f'}"
      ]
     },
     "execution_count": 31,
     "metadata": {},
     "output_type": "execute_result"
    }
   ],
   "source": [
    "dict1 = dict(enumerate('abc'))\n",
    "dict2 = dict(enumerate('def',start=2))\n",
    "### BEGIN SOLUTION\n",
    "concatenated_dict = {**dict1,**dict2}\n",
    "### END SOLUTION\n",
    "concatenated_dict"
   ]
  },
  {
   "cell_type": "markdown",
   "metadata": {
    "slideshow": {
     "slide_type": "subslide"
    }
   },
   "source": [
    "`set` overloads many other operators:"
   ]
  },
  {
   "cell_type": "code",
   "execution_count": 32,
   "metadata": {
    "ExecuteTime": {
     "end_time": "2020-11-18T03:07:40.764590Z",
     "start_time": "2020-11-18T03:07:40.753558Z"
    },
    "slideshow": {
     "slide_type": "-"
    }
   },
   "outputs": [
    {
     "data": {
      "text/html": [
       "\n",
       "<iframe\n",
       "    width=\"1100\"\n",
       "    height=\"550\"\n",
       "    src=\"https://e-quiz.cs.cityu.edu.hk/opt/cs1302visualize.html#mode=display&code=a%2C%20b%20%3D%20%7B1%2C2%7D%2C%20%7B2%2C3%7D%0A%0Aunion%20%3D%20a%20%7C%20b%0Aassert%20all%28i%20in%20union%20for%20i%20in%20a%29%20and%20all%28i%20in%20union%20for%20i%20in%20b%29%0A%0Aintersection%20%3D%20a%20%26%20b%0Aassert%20all%28i%20in%20a%20and%20i%20in%20b%20for%20i%20in%20intersection%29%0A%0Aassert%20intersection%20%3C%3D%20a%20%3C%3D%20union%20%20%23%20subset%0Aassert%20union%20%3E%20b%20%3E%20intersection%20%20%20%20%23%20proper%20superset%0Aassert%20len%28a%29%20%2B%20len%28b%29%20%3D%3D%20len%28intersection%29%20%2B%20len%28union%29%20%0A%0Asymmetric_difference%20%3D%20a%20%5E%20b%0Aassert%20all%28%28i%20in%20a%20or%20i%20in%20b%29%20and%20not%20%28i%20in%20a%20and%20i%20in%20b%29%20%0A%20%20%20%20%20%20%20%20%20%20%20for%20i%20in%20symmetric_difference%29%0Aassert%20symmetric_difference%20%3D%3D%20union%20-%20intersection%0Aassert%20set.isdisjoint%28intersection%2C%20symmetric_difference%29%0Aassert%20len%28union%29%20%3D%3D%20len%28intersection%29%20%2B%20len%28symmetric_difference%29%0A\"\n",
       "    frameborder=\"0\"\n",
       "    allowfullscreen\n",
       "></iframe>\n"
      ],
      "text/plain": [
       "<IPython.lib.display.IFrame at 0x7fbdd8989518>"
      ]
     },
     "metadata": {},
     "output_type": "display_data"
    }
   ],
   "source": [
    "%%mytutor -h 550\n",
    "a, b = {1,2}, {2,3}\n",
    "\n",
    "union = a | b\n",
    "assert all(i in union for i in a) and all(i in union for i in b)\n",
    "\n",
    "intersection = a & b\n",
    "assert all(i in a and i in b for i in intersection)\n",
    "\n",
    "assert intersection <= a <= union  # subset\n",
    "assert union > b > intersection    # proper superset\n",
    "assert len(a) + len(b) == len(intersection) + len(union) \n",
    "\n",
    "symmetric_difference = a ^ b\n",
    "assert all((i in a or i in b) and not (i in a and i in b) \n",
    "           for i in symmetric_difference)\n",
    "assert symmetric_difference == union - intersection\n",
    "assert set.isdisjoint(intersection, symmetric_difference)\n",
    "assert len(union) == len(intersection) + len(symmetric_difference)"
   ]
  },
  {
   "cell_type": "markdown",
   "metadata": {
    "slideshow": {
     "slide_type": "subslide"
    }
   },
   "source": [
    "The following uses `&` and `-` to compare the sets of public attributes for `set` and `dict`:"
   ]
  },
  {
   "cell_type": "code",
   "execution_count": 33,
   "metadata": {
    "ExecuteTime": {
     "end_time": "2020-11-06T21:06:11.422313Z",
     "start_time": "2020-11-06T21:06:11.413114Z"
    },
    "slideshow": {
     "slide_type": "-"
    }
   },
   "outputs": [
    {
     "name": "stdout",
     "output_type": "stream",
     "text": [
      "Common attributes: update, clear, copy, pop\n",
      "dict-specific attributes: keys, get, setdefault, values, fromkeys, popitem, items\n",
      "set-specific attributes: symmetric_difference_update, difference, isdisjoint, add, difference_update, intersection, issubset, union, remove, intersection_update, issuperset, symmetric_difference, discard\n"
     ]
    }
   ],
   "source": [
    "set_attributes = {attr for attr in dir(set) if attr[0] != '_'}\n",
    "dict_attributes = {attr for attr in dir(dict) if attr[0] != '_'}\n",
    "print('Common attributes:',', '.join(set_attributes & dict_attributes))\n",
    "print('dict-specific attributes:',', '.join(dict_attributes - set_attributes))\n",
    "print('set-specific attributes:',', '.join(set_attributes - dict_attributes))"
   ]
  },
  {
   "cell_type": "markdown",
   "metadata": {
    "slideshow": {
     "slide_type": "subslide"
    }
   },
   "source": [
    "For `set`, the intersection operation `&` can also be performed by\n",
    "- the class method `intersection` which returns the intersection of its arguments, and\n",
    "- the object method `intersection_update` which mutates a set object by intersecting the set with the arguments."
   ]
  },
  {
   "cell_type": "code",
   "execution_count": 34,
   "metadata": {
    "ExecuteTime": {
     "end_time": "2020-11-06T21:06:11.515024Z",
     "start_time": "2020-11-06T21:06:11.507575Z"
    },
    "slideshow": {
     "slide_type": "-"
    }
   },
   "outputs": [
    {
     "data": {
      "text/html": [
       "\n",
       "<iframe\n",
       "    width=\"1100\"\n",
       "    height=\"300\"\n",
       "    src=\"https://e-quiz.cs.cityu.edu.hk/opt/cs1302visualize.html#mode=display&code=a%20%3D%20%7B0%2C1%2C2%7D%0Ab%20%3D%20%7B1%2C2%2C3%7D%0Ac%20%3D%20set.intersection%28a%2Cb%2C%7B2%2C3%2C4%7D%29%0Aa.intersection_update%28b%2Cc%29%0A\"\n",
       "    frameborder=\"0\"\n",
       "    allowfullscreen\n",
       "></iframe>\n"
      ],
      "text/plain": [
       "<IPython.lib.display.IFrame at 0x7fbdd8989588>"
      ]
     },
     "metadata": {},
     "output_type": "display_data"
    }
   ],
   "source": [
    "%%mytutor -h 300\n",
    "a = {0,1,2}\n",
    "b = {1,2,3}\n",
    "c = set.intersection(a,b,{2,3,4})\n",
    "a.intersection_update(b,c)"
   ]
  },
  {
   "cell_type": "markdown",
   "metadata": {
    "slideshow": {
     "slide_type": "subslide"
    }
   },
   "source": [
    "- All other set-specific methods have an associated operator except `isdisjoint` as shown below.\n",
    "- The object method for `union` is `update` not `union_update`."
   ]
  },
  {
   "cell_type": "markdown",
   "metadata": {
    "slideshow": {
     "slide_type": "-"
    }
   },
   "source": [
    "|     class method       |          object method        | operator     |\n",
    "| ---------------------- | ----------------------------- | ------------ |\n",
    "| `union`                | `update`                      | `\\| `        |\n",
    "| `intersection`         | `intersection_update`         | `&`          |\n",
    "| `symmetric_difference` | `symmetric_difference_update` | `^`          |\n",
    "| `issubset`             |                               | `<=`         |\n",
    "| `issuperset`           |                               | `>=`         |\n",
    "| `isdisjoint`           |                               |              |"
   ]
  },
  {
   "cell_type": "markdown",
   "metadata": {
    "slideshow": {
     "slide_type": "fragment"
    }
   },
   "source": [
    "`dict` also has an `update` method that can update a dictionary using dictionary, iterables and keyword arguments:"
   ]
  },
  {
   "cell_type": "code",
   "execution_count": 35,
   "metadata": {
    "ExecuteTime": {
     "end_time": "2020-11-18T03:13:27.594519Z",
     "start_time": "2020-11-18T03:13:27.586927Z"
    },
    "slideshow": {
     "slide_type": "-"
    }
   },
   "outputs": [
    {
     "data": {
      "text/html": [
       "\n",
       "<iframe\n",
       "    width=\"1100\"\n",
       "    height=\"300\"\n",
       "    src=\"https://e-quiz.cs.cityu.edu.hk/opt/cs1302visualize.html#mode=display&code=a%20%3D%20%7B%7D%0Aa.update%28enumerate%28%27a%27%29%2Cb%3D2%29%0Ab%20%3D%20a.copy%28%29%0Aa.update%28b%2Cc%3D3%29%0A\"\n",
       "    frameborder=\"0\"\n",
       "    allowfullscreen\n",
       "></iframe>\n"
      ],
      "text/plain": [
       "<IPython.lib.display.IFrame at 0x7fbdd8989f60>"
      ]
     },
     "metadata": {},
     "output_type": "display_data"
    }
   ],
   "source": [
    "%%mytutor -h 300\n",
    "a = {}\n",
    "a.update(enumerate('a'),b=2)\n",
    "b = a.copy()\n",
    "a.update(b,c=3)"
   ]
  },
  {
   "cell_type": "markdown",
   "metadata": {
    "slideshow": {
     "slide_type": "subslide"
    }
   },
   "source": [
    "**Exercise** For `dict`, there is also a method called [`setdefault`](https://stackoverflow.com/questions/3483520/use-cases-for-the-setdefault-dict-method). Use it to define a function `group_by_type` that \n",
    "- takes a sequence `seq` of objects and \n",
    "- returns a dictionary `d` such that `d[repr(t)]` returns the list of objects in `seq` of type `t`\n",
    "\n",
    "If there is no objects of type `t`, raise a key error."
   ]
  },
  {
   "cell_type": "code",
   "execution_count": 36,
   "metadata": {
    "ExecuteTime": {
     "end_time": "2020-11-06T21:06:11.889952Z",
     "start_time": "2020-11-06T21:06:11.876280Z"
    },
    "nbgrader": {
     "grade": false,
     "grade_id": "setdefault",
     "locked": false,
     "schema_version": 3,
     "solution": true,
     "task": false
    },
    "slideshow": {
     "slide_type": "-"
    }
   },
   "outputs": [
    {
     "data": {
      "text/plain": [
       "{\"<class 'int'>\": [0, 1, 2],\n",
       " \"<class 'str'>\": ['a', 'b', 'c'],\n",
       " \"<class 'float'>\": [0.0, 0.5, 1.0],\n",
       " \"<class 'tuple'>\": [(0,), (1,), (2,)],\n",
       " \"<class 'list'>\": [[0], [1], [2]],\n",
       " \"<class 'set'>\": [{0}, {1}, {2}],\n",
       " \"<class 'dict'>\": [{0: 0}, {1: 1}, {2: 2}],\n",
       " \"<class 'builtin_function_or_method'>\": [<function print>,\n",
       "  <function hash(obj, /)>],\n",
       " \"<class 'type'>\": [int, str, float, set, dict],\n",
       " \"<class 'generator'>\": [<generator object <genexpr> at 0x7fbdd8a848b8>],\n",
       " \"<class 'enumerate'>\": [<enumerate at 0x7fbdd89959d8>],\n",
       " \"<class 'range'>\": [range(0, 3)],\n",
       " \"<class 'zip'>\": [<zip at 0x7fbdd8986a48>],\n",
       " \"<class 'method_descriptor'>\": [<method 'add' of 'set' objects>,\n",
       "  <method 'copy' of 'dict' objects>]}"
      ]
     },
     "execution_count": 36,
     "metadata": {},
     "output_type": "execute_result"
    }
   ],
   "source": [
    "def group_by_type(seq):\n",
    "    group = {}\n",
    "    for i in seq:\n",
    "        ### BEGIN SOLUTION\n",
    "        group.setdefault(repr(type(i)),[]).append(i)\n",
    "        ### END SOLUTION\n",
    "    return group\n",
    "\n",
    "group_by_type([*range(3),\n",
    "               *'abc',\n",
    "               *[i/2 for i in range(3)],\n",
    "               *[(i,) for i in range(3)],\n",
    "               *[[i] for i in range(3)],\n",
    "               *[{i} for i in range(3)],\n",
    "               *[{i:i} for i in range(3)],\n",
    "               print,hash,\n",
    "               int,str,float,set,dict,\n",
    "               (i for i in range(10)), \n",
    "               enumerate('abc'), \n",
    "               range(3),\n",
    "               zip(),\n",
    "               set.add,\n",
    "               dict.copy])"
   ]
  }
 ],
 "metadata": {
  "celltoolbar": "Create Assignment",
  "kernelspec": {
   "display_name": "Python 3.7",
   "language": "python",
   "name": "python3"
  },
  "language_info": {
   "codemirror_mode": {
    "name": "ipython",
    "version": 3
   },
   "file_extension": ".py",
   "mimetype": "text/x-python",
   "name": "python",
   "nbconvert_exporter": "python",
   "pygments_lexer": "ipython3",
   "version": "3.7.3"
  },
  "latex_envs": {
   "LaTeX_envs_menu_present": true,
   "autoclose": false,
   "autocomplete": true,
   "bibliofile": "biblio.bib",
   "cite_by": "apalike",
   "current_citInitial": 1,
   "eqLabelWithNumbers": true,
   "eqNumInitial": 1,
   "hotkeys": {
    "equation": "Ctrl-E",
    "itemize": "Ctrl-I"
   },
   "labels_anchors": false,
   "latex_user_defs": false,
   "report_style_numbering": false,
   "user_envs_cfg": false
  },
  "rise": {
   "enable_chalkboard": true,
   "scroll": true,
   "theme": "white"
  },
  "toc": {
   "base_numbering": 1,
   "nav_menu": {
    "height": "195px",
    "width": "330px"
   },
   "number_sections": true,
   "sideBar": true,
   "skip_h1_title": true,
   "title_cell": "Table of Contents",
   "title_sidebar": "Contents",
   "toc_cell": false,
   "toc_position": {
    "height": "454.418px",
    "left": "1533px",
    "top": "110.284px",
    "width": "261px"
   },
   "toc_section_display": true,
   "toc_window_display": false
  }
 },
 "nbformat": 4,
 "nbformat_minor": 4
}