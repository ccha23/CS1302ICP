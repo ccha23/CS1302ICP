{
 "cells": [
  {
   "cell_type": "markdown",
   "metadata": {
    "slideshow": {
     "slide_type": "slide"
    }
   },
   "source": [
    "# Calculators"
   ]
  },
  {
   "cell_type": "markdown",
   "metadata": {
    "slideshow": {
     "slide_type": "-"
    },
    "tags": [
     "remove-cell"
    ]
   },
   "source": [
    "**CS1302 Introduction to Computer Programming**\n",
    "___"
   ]
  },
  {
   "cell_type": "markdown",
   "metadata": {
    "slideshow": {
     "slide_type": "subslide"
    }
   },
   "source": [
    "Run the following to load additional tools required for this lab.  \n",
    "In particular, the `math` library provides many useful mathematical functions and constants."
   ]
  },
  {
   "cell_type": "code",
   "execution_count": null,
   "metadata": {
    "ExecuteTime": {
     "end_time": "2020-09-21T10:57:51.380447Z",
     "start_time": "2020-09-21T10:57:51.299834Z"
    },
    "hide_input": false,
    "init_cell": true,
    "slideshow": {
     "slide_type": "-"
    }
   },
   "outputs": [],
   "source": [
    "%reset -f\n",
    "from ipywidgets import interact\n",
    "import matplotlib.pyplot as plt\n",
    "import numpy as np\n",
    "import math\n",
    "from math import log, exp, sin, cos, tan, pi"
   ]
  },
  {
   "cell_type": "markdown",
   "metadata": {
    "slideshow": {
     "slide_type": "subslide"
    }
   },
   "source": [
    "The following code is a Python one-liner that creates a calculator.  \n",
    "Evaluate the cell with `Ctrl+Enter`:"
   ]
  },
  {
   "cell_type": "code",
   "execution_count": null,
   "metadata": {
    "ExecuteTime": {
     "end_time": "2020-09-06T02:39:38.382161Z",
     "start_time": "2020-09-06T02:39:35.375108Z"
    },
    "slideshow": {
     "slide_type": "-"
    }
   },
   "outputs": [],
   "source": [
    "print(eval(input()))"
   ]
  },
  {
   "cell_type": "markdown",
   "metadata": {
    "slideshow": {
     "slide_type": "fragment"
    }
   },
   "source": [
    "Try some calculations below using this calculator:\n",
    "1. $2^3$ by entering `2**3`;\n",
    "1. $\\frac23$ by entering `2/3`;\n",
    "1. $\\left\\lceil\\frac32\\right\\rceil$ by entering `3//2`;\n",
    "1. $3\\mod 2$ by entering `3%2`;\n",
    "1. $\\sqrt{2}$ by entering `2**0.5`; and\n",
    "1. $\\sin(\\pi/6)$ by entering `sin(pi/6)`;"
   ]
  },
  {
   "cell_type": "markdown",
   "metadata": {
    "slideshow": {
     "slide_type": "fragment"
    }
   },
   "source": [
    "For this lab, you will create more powerful and dedicated calculators.   \n",
    "We will first show you a demo. Then, it will be your turn to create the calculators."
   ]
  },
  {
   "cell_type": "markdown",
   "metadata": {
    "slideshow": {
     "slide_type": "slide"
    }
   },
   "source": [
    "## Hypotenuse Calculator (Demo)"
   ]
  },
  {
   "cell_type": "markdown",
   "metadata": {
    "slideshow": {
     "slide_type": "-"
    }
   },
   "source": [
    "![interact](https://www.cs.cityu.edu.hk/~ccha23/cs1302/Lab2/hypotenuse-calculator.gif)"
   ]
  },
  {
   "cell_type": "markdown",
   "metadata": {
    "slideshow": {
     "slide_type": "fragment"
    }
   },
   "source": [
    "Using the Pythagoras theorem below, we can define the following function `length_of_hypotenus` to calculate the length `c` of the hypotenuse given the lengths `a` and `b` of the other sides of a right-angled triangle:\n",
    "$$c = \\sqrt{a^2 + b^2}$$"
   ]
  },
  {
   "cell_type": "code",
   "execution_count": null,
   "metadata": {
    "ExecuteTime": {
     "end_time": "2020-09-09T02:45:08.132429Z",
     "start_time": "2020-09-09T02:45:08.127023Z"
    },
    "slideshow": {
     "slide_type": "fragment"
    }
   },
   "outputs": [],
   "source": [
    "def length_of_hypotenuse(a, b):\n",
    "    c = (a**2 + b**2)**(0.5)  # Pythagoras\n",
    "    return c"
   ]
  },
  {
   "cell_type": "markdown",
   "metadata": {
    "slideshow": {
     "slide_type": "fragment"
    }
   },
   "source": [
    "- You need not understand how a function is defined, but\n",
    "- you should know how to *write the formula as a Python expression*, and\n",
    "- *assign to the variable* `c` the value of the expression (Line 2)."
   ]
  },
  {
   "cell_type": "markdown",
   "metadata": {
    "slideshow": {
     "slide_type": "subslide"
    }
   },
   "source": [
    "For example, you may be asked to write Line 2, while Line 1 and 3 are given to you:"
   ]
  },
  {
   "cell_type": "markdown",
   "metadata": {
    "slideshow": {
     "slide_type": "fragment"
    }
   },
   "source": [
    "**Exercise** Complete the function below to return the length `c` of the hypotenuse given the lengths `a` and `b`."
   ]
  },
  {
   "cell_type": "code",
   "execution_count": null,
   "metadata": {
    "ExecuteTime": {
     "end_time": "2020-09-09T02:45:11.114121Z",
     "start_time": "2020-09-09T02:45:11.109329Z"
    },
    "deletable": false,
    "nbgrader": {
     "cell_type": "code",
     "checksum": "9f8cd82c449d76657e17c6b1397ddeb2",
     "grade": false,
     "grade_id": "length_of_hypotenus",
     "locked": false,
     "schema_version": 3,
     "solution": true,
     "task": false
    },
    "slideshow": {
     "slide_type": "-"
    }
   },
   "outputs": [],
   "source": [
    "def length_of_hypotenuse(a, b):\n",
    "    # YOUR CODE HERE\n",
    "    raise NotImplementedError()\n",
    "    return c"
   ]
  },
  {
   "cell_type": "markdown",
   "metadata": {
    "slideshow": {
     "slide_type": "fragment"
    }
   },
   "source": [
    "Note that indentation affects the execution of Python code. The assignment statement must be indented to indicate that it is part of the *body* of the function.  \n",
    "(Try removing the indentation and see what happens.)"
   ]
  },
  {
   "cell_type": "markdown",
   "metadata": {
    "slideshow": {
     "slide_type": "subslide"
    }
   },
   "source": [
    "We will use widgets (`ipywidgets`) to let user interact with the calculator more easily: "
   ]
  },
  {
   "cell_type": "code",
   "execution_count": null,
   "metadata": {
    "ExecuteTime": {
     "end_time": "2020-09-09T02:45:12.829498Z",
     "start_time": "2020-09-09T02:45:12.789024Z"
    },
    "code_folding": [
     0
    ],
    "slideshow": {
     "slide_type": "-"
    }
   },
   "outputs": [],
   "source": [
    "# hypotenuse calculator\n",
    "@interact(a=(0, 10, 1), b=(0, 10, 1))\n",
    "def calculate_hypotenuse(a=3, b=4):\n",
    "    print('c: {:.2f}'.format(length_of_hypotenuse(a, b)))"
   ]
  },
  {
   "cell_type": "markdown",
   "metadata": {
    "slideshow": {
     "slide_type": "fragment"
    }
   },
   "source": [
    "After running the above cell, you can move the sliders to change the values of `a` and `b`. The value of `c` will be updated immediately."
   ]
  },
  {
   "cell_type": "markdown",
   "metadata": {
    "slideshow": {
     "slide_type": "fragment"
    }
   },
   "source": [
    "- For this lab, you need not know how write widgets, but\n",
    "- you should know how to *format a floating point number* (Line 3). "
   ]
  },
  {
   "cell_type": "markdown",
   "metadata": {
    "slideshow": {
     "slide_type": "subslide"
    }
   },
   "source": [
    "You can check your code with a few cases listed in the test cell below."
   ]
  },
  {
   "cell_type": "code",
   "execution_count": null,
   "metadata": {
    "ExecuteTime": {
     "end_time": "2020-09-09T02:45:15.803937Z",
     "start_time": "2020-09-09T02:45:15.797385Z"
    },
    "code_folding": [
     0
    ],
    "deletable": false,
    "editable": false,
    "nbgrader": {
     "cell_type": "code",
     "checksum": "b419ad388ec1d742ab7cf99085178470",
     "grade": true,
     "grade_id": "test-length_of_hypotenus",
     "locked": true,
     "points": 1,
     "schema_version": 3,
     "solution": false,
     "task": false
    },
    "slideshow": {
     "slide_type": "-"
    }
   },
   "outputs": [],
   "source": [
    "# tests\n",
    "def test_length_of_hypotenuse(a, b, c):\n",
    "    c_ = length_of_hypotenuse(a, b)\n",
    "    correct = math.isclose(c, c_)\n",
    "    if not correct:\n",
    "        print(f'For a={a} and b={b}, c should be {c}, not {c_}.')\n",
    "    assert correct\n",
    "\n",
    "\n",
    "test_length_of_hypotenuse(3, 4, 5)\n",
    "test_length_of_hypotenuse(0, 0, 0)\n",
    "test_length_of_hypotenuse(4, 7, 8.06225774829855)"
   ]
  },
  {
   "cell_type": "markdown",
   "metadata": {
    "slideshow": {
     "slide_type": "slide"
    }
   },
   "source": [
    "## Quadratic Equation"
   ]
  },
  {
   "cell_type": "markdown",
   "metadata": {
    "slideshow": {
     "slide_type": "subslide"
    }
   },
   "source": [
    "### Graphical Calculator for Parabola"
   ]
  },
  {
   "cell_type": "markdown",
   "metadata": {
    "slideshow": {
     "slide_type": "-"
    }
   },
   "source": [
    "![plot parabola](https://www.cs.cityu.edu.hk/~ccha23/cs1302/Lab2/plot_parabola.gif)"
   ]
  },
  {
   "cell_type": "markdown",
   "metadata": {
    "slideshow": {
     "slide_type": "subslide"
    }
   },
   "source": [
    "In mathematics, the collection of points $(x,y)$ satisfying the following equation forms a *parabola*:\n",
    "\n",
    "$$\n",
    "y=ax^2+bx+c\n",
    "$$\n",
    "where $a$, $b$, and $c$ are real numbers called the *coefficients*."
   ]
  },
  {
   "cell_type": "markdown",
   "metadata": {
    "slideshow": {
     "slide_type": "fragment"
    }
   },
   "source": [
    "**Exercise** Given the variables `x`, `a`, `b`, and `c` store the $x$-coordinate and the coefficients $a$, $b$, and $c$ respectively, assign to `y` the corresponding $y$-coordinate for the parabola."
   ]
  },
  {
   "cell_type": "code",
   "execution_count": null,
   "metadata": {
    "ExecuteTime": {
     "end_time": "2020-09-06T02:23:54.840484Z",
     "start_time": "2020-09-06T02:23:54.835562Z"
    },
    "deletable": false,
    "nbgrader": {
     "cell_type": "code",
     "checksum": "2c86fa4ce83bcbe0906f9b64b5c1a032",
     "grade": false,
     "grade_id": "get_y",
     "locked": false,
     "schema_version": 3,
     "solution": true,
     "task": false
    },
    "slideshow": {
     "slide_type": "-"
    }
   },
   "outputs": [],
   "source": [
    "def get_y(x, a, b, c):\n",
    "    # YOUR CODE HERE\n",
    "    raise NotImplementedError()\n",
    "    return y"
   ]
  },
  {
   "cell_type": "code",
   "execution_count": null,
   "metadata": {
    "ExecuteTime": {
     "end_time": "2020-09-09T02:45:57.449881Z",
     "start_time": "2020-09-09T02:45:57.358327Z"
    },
    "code_folding": [
     0
    ],
    "deletable": false,
    "editable": false,
    "nbgrader": {
     "cell_type": "code",
     "checksum": "f788b3d68b5184b680c391a373c57d46",
     "grade": true,
     "grade_id": "test-get_y",
     "locked": true,
     "points": 1,
     "schema_version": 3,
     "solution": false,
     "task": false
    },
    "slideshow": {
     "slide_type": "fragment"
    }
   },
   "outputs": [],
   "source": [
    "# tests\n",
    "def test_get_y(y,x,a,b,c):\n",
    "    y_ = get_y(x,a,b,c)\n",
    "    correct = math.isclose(y,y_)\n",
    "    if not correct:\n",
    "        print(f'With (x, a, b, c)={x,a,b,c}, y should be {y} not {y_}.')\n",
    "    assert correct\n",
    "\n",
    "test_get_y(0,0,0,0,0)\n",
    "test_get_y(1,0,1,2,1)\n",
    "test_get_y(2,0,2,1,2)"
   ]
  },
  {
   "cell_type": "code",
   "execution_count": null,
   "metadata": {
    "ExecuteTime": {
     "end_time": "2020-09-09T02:45:58.652577Z",
     "start_time": "2020-09-09T02:45:58.096175Z"
    },
    "code_folding": [],
    "slideshow": {
     "slide_type": "subslide"
    }
   },
   "outputs": [],
   "source": [
    "# graphical calculator for parabola\n",
    "@interact(a=(-10, 10, 1), b=(-10, 10, 1), c=(-10, 10, 1))\n",
    "def plot_parabola(a, b, c):\n",
    "    xmin, xmax, ymin, ymax, resolution = -10, 10, -10, 10, 50\n",
    "    ax = plt.gca()\n",
    "    ax.set_title(r'$y=ax^2+bx+c$')\n",
    "    ax.set_xlabel(r'$x$')\n",
    "    ax.set_ylabel(r'$y$')\n",
    "    ax.set_xlim([xmin, xmax])\n",
    "    ax.set_ylim([ymin, ymax])\n",
    "    ax.grid()\n",
    "\n",
    "    x = np.linspace(xmin, xmax, resolution)\n",
    "    ax.plot(x, get_y(x, a, b, c))"
   ]
  },
  {
   "cell_type": "markdown",
   "metadata": {
    "slideshow": {
     "slide_type": "slide"
    }
   },
   "source": [
    "### Quadratic Equation Solver"
   ]
  },
  {
   "cell_type": "markdown",
   "metadata": {
    "slideshow": {
     "slide_type": "-"
    }
   },
   "source": [
    "![quadratic equtaion soler](https://www.cs.cityu.edu.hk/~ccha23/cs1302/Lab2/quadratic-equation-solver.gif)"
   ]
  },
  {
   "cell_type": "markdown",
   "metadata": {
    "slideshow": {
     "slide_type": "subslide"
    }
   },
   "source": [
    "For the quadratic equation\n",
    "\n",
    "$$\n",
    "ax^2+bx+c=0,\n",
    "$$\n",
    "the *roots* (solutions for $x$) are give by\n",
    "\n",
    "$$\n",
    "\\frac{-b-\\sqrt{b^2-4ac}}{2a},\\frac{-b+\\sqrt{b^2-4ac}}{2a}.\n",
    "$$"
   ]
  },
  {
   "cell_type": "markdown",
   "metadata": {
    "slideshow": {
     "slide_type": "fragment"
    }
   },
   "source": [
    "**Exercise** Assign to `root1` and `root2` the values of the first and second roots above respectively."
   ]
  },
  {
   "cell_type": "code",
   "execution_count": null,
   "metadata": {
    "ExecuteTime": {
     "end_time": "2020-09-09T02:46:28.485942Z",
     "start_time": "2020-09-09T02:46:28.478207Z"
    },
    "deletable": false,
    "nbgrader": {
     "cell_type": "code",
     "checksum": "ac8d52d2f7328a894d73bce80d19dafc",
     "grade": false,
     "grade_id": "get_roots",
     "locked": false,
     "schema_version": 3,
     "solution": true,
     "task": false
    },
    "slideshow": {
     "slide_type": "fragment"
    }
   },
   "outputs": [],
   "source": [
    "def get_roots(a, b, c):\n",
    "    # YOUR CODE HERE\n",
    "    raise NotImplementedError()\n",
    "    return root1, root2"
   ]
  },
  {
   "cell_type": "code",
   "execution_count": null,
   "metadata": {
    "ExecuteTime": {
     "end_time": "2020-09-09T02:46:31.376421Z",
     "start_time": "2020-09-09T02:46:31.366491Z"
    },
    "code_folding": [],
    "deletable": false,
    "editable": false,
    "nbgrader": {
     "cell_type": "code",
     "checksum": "6c4b5df11d68aac1425187107b9a4788",
     "grade": true,
     "grade_id": "test-get_roots",
     "locked": true,
     "points": 1,
     "schema_version": 3,
     "solution": false,
     "task": false
    },
    "slideshow": {
     "slide_type": "fragment"
    }
   },
   "outputs": [],
   "source": [
    "# tests\n",
    "def test_get_roots(roots, a, b, c):\n",
    "    roots_ = get_roots(a, b, c)\n",
    "    correct = all([math.isclose(roots[i], roots_[i]) for i in range(2)])\n",
    "    if not correct:\n",
    "        print(f'With (a, b, c)={a,b,c}, roots should be {roots} not {roots_}.')\n",
    "    assert correct\n",
    "\n",
    "\n",
    "test_get_roots((-1.0, 0.0), 1, 1, 0)\n",
    "test_get_roots((-1.0, -1.0), 1, 2, 1)\n",
    "test_get_roots((-2.0, -1.0), 1, 3, 2)"
   ]
  },
  {
   "cell_type": "code",
   "execution_count": null,
   "metadata": {
    "ExecuteTime": {
     "end_time": "2020-09-09T02:38:52.172949Z",
     "start_time": "2020-09-09T02:38:52.120856Z"
    },
    "code_folding": [
     0
    ],
    "slideshow": {
     "slide_type": "fragment"
    }
   },
   "outputs": [],
   "source": [
    "# quadratic equations solver\n",
    "@interact(a=(-10,10,1),b=(-10,10,1),c=(-10,10,1))\n",
    "def quadratic_equation_solver(a=1,b=2,c=1):\n",
    "    print('Roots: {}, {}'.format(*get_roots(a,b,c)))"
   ]
  },
  {
   "cell_type": "markdown",
   "metadata": {
    "slideshow": {
     "slide_type": "slide"
    }
   },
   "source": [
    "## Number Conversion"
   ]
  },
  {
   "cell_type": "markdown",
   "metadata": {
    "slideshow": {
     "slide_type": "subslide"
    }
   },
   "source": [
    "### Byte-to-Decimal Calculator"
   ]
  },
  {
   "cell_type": "markdown",
   "metadata": {
    "slideshow": {
     "slide_type": "-"
    }
   },
   "source": [
    "![byte-to-decimal](https://www.cs.cityu.edu.hk/~ccha23/cs1302/Lab2/byte-to-decimal.gif)"
   ]
  },
  {
   "cell_type": "markdown",
   "metadata": {
    "slideshow": {
     "slide_type": "subslide"
    }
   },
   "source": [
    "Denote a binary number stored as a byte ($8$-bit) as\n",
    "\n",
    "$$ \n",
    "b_7\\circ b_6\\circ b_5\\circ b_4\\circ b_3\\circ b_2\\circ b_1\\circ b_0, \n",
    "$$\n",
    "where $\\circ$ concatenates $b_i$'s together into a binary string."
   ]
  },
  {
   "cell_type": "markdown",
   "metadata": {
    "slideshow": {
     "slide_type": "fragment"
    }
   },
   "source": [
    "The binary string can be converted to a decimal number by the formula\n",
    "\n",
    "$$ \n",
    "b_7\\cdot 2^7 + b_6\\cdot 2^6 + b_5\\cdot 2^5 + b_4\\cdot 2^4 + b_3\\cdot 2^3 + b_2\\cdot 2^2 + b_1\\cdot 2^1 + b_0\\cdot 2^0. \n",
    "$$"
   ]
  },
  {
   "cell_type": "markdown",
   "metadata": {
    "slideshow": {
     "slide_type": "fragment"
    }
   },
   "source": [
    "E.g., the binary string `'11111111'` is the largest integer represented by a byte:\n",
    "\n",
    "$$\n",
    "2^7+2^6+2^5+2^4+2^3+2^2+2^1+2^0=255=2^8-1.\n",
    "$$"
   ]
  },
  {
   "cell_type": "markdown",
   "metadata": {
    "slideshow": {
     "slide_type": "fragment"
    }
   },
   "source": [
    "**Exercise** Assign to `decimal` the *integer* value represented by a byte.  \n",
    "The byte is a sequence of bits assigned to the variables `b7,b6,b5,b4,b3,b2,b1,b0` as *characters*, either `'0'` or `'1'`."
   ]
  },
  {
   "cell_type": "code",
   "execution_count": null,
   "metadata": {
    "ExecuteTime": {
     "end_time": "2020-09-09T02:42:39.979895Z",
     "start_time": "2020-09-09T02:42:39.970480Z"
    },
    "deletable": false,
    "nbgrader": {
     "cell_type": "code",
     "checksum": "771c9f92222e78d280a947cc2cd341bb",
     "grade": false,
     "grade_id": "byte_to_decimal",
     "locked": false,
     "schema_version": 3,
     "solution": true,
     "task": false
    },
    "slideshow": {
     "slide_type": "fragment"
    }
   },
   "outputs": [],
   "source": [
    "def byte_to_decimal(b7, b6, b5, b4, b3, b2, b1, b0):\n",
    "    # YOUR CODE HERE\n",
    "    raise NotImplementedError()\n",
    "    return decimal"
   ]
  },
  {
   "cell_type": "code",
   "execution_count": null,
   "metadata": {
    "ExecuteTime": {
     "end_time": "2020-09-09T02:42:41.194206Z",
     "start_time": "2020-09-09T02:42:41.184711Z"
    },
    "code_folding": [
     0
    ],
    "deletable": false,
    "editable": false,
    "nbgrader": {
     "cell_type": "code",
     "checksum": "aba592363064888174547dbbad7818c0",
     "grade": true,
     "grade_id": "test-byte_to_decimal",
     "locked": true,
     "points": 1,
     "schema_version": 3,
     "solution": false,
     "task": false
    },
    "slideshow": {
     "slide_type": "fragment"
    }
   },
   "outputs": [],
   "source": [
    "# tests\n",
    "def test_byte_to_decimal(decimal, b7, b6, b5, b4, b3, b2, b1, b0):\n",
    "    decimal_ = byte_to_decimal(b7, b6, b5, b4, b3, b2, b1, b0)\n",
    "    correct = decimal == decimal_ and isinstance(decimal_, int)\n",
    "    if not correct:\n",
    "        print(\n",
    "            f'{b7}{b6}{b5}{b4}{b3}{b2}{b1}{b0} should give {decimal} not {decimal_}.'\n",
    "        )\n",
    "    assert correct\n",
    "\n",
    "\n",
    "test_byte_to_decimal(38, '0', '0', '1', '0', '0', '1', '1', '0')\n",
    "test_byte_to_decimal(20, '0', '0', '0', '1', '0', '1', '0', '0')\n",
    "test_byte_to_decimal(22, '0', '0', '0', '1', '0', '1', '1', '0')"
   ]
  },
  {
   "cell_type": "code",
   "execution_count": null,
   "metadata": {
    "ExecuteTime": {
     "end_time": "2020-09-09T02:42:42.295727Z",
     "start_time": "2020-09-09T02:42:42.208350Z"
    },
    "code_folding": [
     0
    ]
   },
   "outputs": [],
   "source": [
    "# byte-to-decimal calculator\n",
    "bit = ['0', '1']\n",
    "\n",
    "\n",
    "@interact(b7=bit, b6=bit, b5=bit, b4=bit, b3=bit, b2=bit, b1=bit, b0=bit)\n",
    "def convert_byte_to_decimal(b7, b6, b5, b4, b3, b2, b1, b0):\n",
    "    print('decimal:', byte_to_decimal(b7, b6, b5, b4, b3, b2, b1, b0))"
   ]
  },
  {
   "cell_type": "markdown",
   "metadata": {
    "slideshow": {
     "slide_type": "subslide"
    }
   },
   "source": [
    "### Decimal-to-Byte Calculator"
   ]
  },
  {
   "cell_type": "markdown",
   "metadata": {
    "slideshow": {
     "slide_type": "-"
    }
   },
   "source": [
    "![decimal-to-byte](https://www.cs.cityu.edu.hk/~ccha23/cs1302/Lab2/decimal-to-byte.gif)"
   ]
  },
  {
   "cell_type": "markdown",
   "metadata": {
    "slideshow": {
     "slide_type": "subslide"
    }
   },
   "source": [
    "**Exercise** Assign to `byte` a *string of 8 bits* that represents the value of `decimal`, a non-negative decimal integer from $0$ to $2^8-1=255$.  \n",
    "*Hint: Use `//` and `%`.*"
   ]
  },
  {
   "cell_type": "code",
   "execution_count": null,
   "metadata": {
    "ExecuteTime": {
     "end_time": "2020-09-09T02:44:54.158634Z",
     "start_time": "2020-09-09T02:44:54.150573Z"
    },
    "deletable": false,
    "nbgrader": {
     "cell_type": "code",
     "checksum": "9de8a3c79ad6c5af5db8a55ce33675e4",
     "grade": false,
     "grade_id": "decimal_to_byte",
     "locked": false,
     "schema_version": 3,
     "solution": true,
     "task": false
    },
    "slideshow": {
     "slide_type": "-"
    }
   },
   "outputs": [],
   "source": [
    "def decimal_to_byte(decimal):\n",
    "    # YOUR CODE HERE\n",
    "    raise NotImplementedError()\n",
    "    return byte"
   ]
  },
  {
   "cell_type": "code",
   "execution_count": null,
   "metadata": {
    "ExecuteTime": {
     "end_time": "2020-09-09T02:44:54.272629Z",
     "start_time": "2020-09-09T02:44:54.265511Z"
    },
    "code_folding": [
     0
    ],
    "deletable": false,
    "editable": false,
    "nbgrader": {
     "cell_type": "code",
     "checksum": "0c1b31ee5b25577be5ae3f3694976177",
     "grade": true,
     "grade_id": "test-decimal_to_byte",
     "locked": true,
     "points": 1,
     "schema_version": 3,
     "solution": false,
     "task": false
    },
    "slideshow": {
     "slide_type": "fragment"
    }
   },
   "outputs": [],
   "source": [
    "# tests\n",
    "def test_decimal_to_byte(byte,decimal):\n",
    "    byte_ = decimal_to_byte(decimal)\n",
    "    correct = byte == byte_ and isinstance(byte, str) and len(byte) == 8\n",
    "    if not correct:\n",
    "        print(\n",
    "            f'{decimal} should be represented as the byte {byte}, not {byte_}.'\n",
    "        )\n",
    "    assert correct\n",
    "\n",
    "\n",
    "test_decimal_to_byte('01100111', 103)\n",
    "test_decimal_to_byte('00000011', 3)\n",
    "test_decimal_to_byte('00011100', 28)"
   ]
  },
  {
   "cell_type": "code",
   "execution_count": null,
   "metadata": {
    "ExecuteTime": {
     "end_time": "2020-09-09T02:44:55.359194Z",
     "start_time": "2020-09-09T02:44:55.326721Z"
    },
    "code_folding": [
     0
    ],
    "slideshow": {
     "slide_type": "fragment"
    }
   },
   "outputs": [],
   "source": [
    "# decimal-to-byte calculator\n",
    "@interact(decimal=(0,255,1))\n",
    "def convert_decimal_to_byte(decimal=0):\n",
    "    print('byte:', decimal_to_byte(decimal))"
   ]
  }
 ],
 "metadata": {
  "kernelspec": {
   "display_name": "Python 3.7",
   "language": "python",
   "name": "python3"
  },
  "language_info": {
   "codemirror_mode": {
    "name": "ipython",
    "version": 3
   },
   "file_extension": ".py",
   "mimetype": "text/x-python",
   "name": "python",
   "nbconvert_exporter": "python",
   "pygments_lexer": "ipython3",
   "version": "3.7.6"
  },
  "latex_envs": {
   "LaTeX_envs_menu_present": true,
   "autoclose": false,
   "autocomplete": true,
   "bibliofile": "biblio.bib",
   "cite_by": "apalike",
   "current_citInitial": 1,
   "eqLabelWithNumbers": true,
   "eqNumInitial": 1,
   "hotkeys": {
    "equation": "Ctrl-E",
    "itemize": "Ctrl-I"
   },
   "labels_anchors": false,
   "latex_user_defs": false,
   "report_style_numbering": false,
   "user_envs_cfg": false
  },
  "rise": {
   "enable_chalkboard": true,
   "scroll": true,
   "theme": "white"
  },
  "toc": {
   "base_numbering": 1,
   "nav_menu": {
    "height": "195px",
    "width": "330px"
   },
   "number_sections": true,
   "sideBar": true,
   "skip_h1_title": true,
   "title_cell": "Table of Contents",
   "title_sidebar": "Contents",
   "toc_cell": false,
   "toc_position": {
    "height": "454.418px",
    "left": "1533px",
    "top": "110.284px",
    "width": "435.327px"
   },
   "toc_section_display": true,
   "toc_window_display": false
  },
  "widgets": {
   "application/vnd.jupyter.widget-state+json": {
    "state": {
     "00cabae1211f43e2bcf6668291da2ee8": {
      "model_module": "@jupyter-widgets/controls",
      "model_module_version": "1.5.0",
      "model_name": "DropdownModel",
      "state": {
       "_options_labels": [
        "0",
        "1"
       ],
       "description": "b5",
       "index": 0,
       "layout": "IPY_MODEL_750250d8e65d47c7b898d42e86164f1b",
       "style": "IPY_MODEL_c28290a4022d40dabf04ff1b20acb53b"
      }
     },
     "07422485bb9e49ff9389dea7ae548969": {
      "model_module": "@jupyter-widgets/base",
      "model_module_version": "1.2.0",
      "model_name": "LayoutModel",
      "state": {}
     },
     "0852ab93304445318fd9f393f5dc7159": {
      "model_module": "@jupyter-widgets/base",
      "model_module_version": "1.2.0",
      "model_name": "LayoutModel",
      "state": {}
     },
     "0a02333a23514a3ea2e030786cbbb011": {
      "model_module": "@jupyter-widgets/base",
      "model_module_version": "1.2.0",
      "model_name": "LayoutModel",
      "state": {}
     },
     "0a279905beaa44d384065e1c8ab37d0b": {
      "model_module": "@jupyter-widgets/controls",
      "model_module_version": "1.5.0",
      "model_name": "DescriptionStyleModel",
      "state": {
       "description_width": ""
      }
     },
     "0abeeb9a44d24ece87ddcca9fc83fa30": {
      "model_module": "@jupyter-widgets/controls",
      "model_module_version": "1.5.0",
      "model_name": "DescriptionStyleModel",
      "state": {
       "description_width": ""
      }
     },
     "0cf8ee7ce3ca40dfa484e43c9e9e08ef": {
      "model_module": "@jupyter-widgets/base",
      "model_module_version": "1.2.0",
      "model_name": "LayoutModel",
      "state": {}
     },
     "11aa5239e3da4b17b5cbd58c42527cb7": {
      "model_module": "@jupyter-widgets/controls",
      "model_module_version": "1.5.0",
      "model_name": "DropdownModel",
      "state": {
       "_options_labels": [
        "0",
        "1"
       ],
       "description": "b4",
       "index": 0,
       "layout": "IPY_MODEL_94479670d29643b7821d839d989bccc9",
       "style": "IPY_MODEL_48dcc0760ac54ae1b63a82f7cfa478cc"
      }
     },
     "124fd741dba248f58f72cb54c2cfb2cd": {
      "model_module": "@jupyter-widgets/base",
      "model_module_version": "1.2.0",
      "model_name": "LayoutModel",
      "state": {}
     },
     "12c4f12a655648468b9e816ff7fd7d89": {
      "model_module": "@jupyter-widgets/controls",
      "model_module_version": "1.5.0",
      "model_name": "IntSliderModel",
      "state": {
       "description": "b",
       "layout": "IPY_MODEL_1c23c62d8daa4d8f9632bda512f9550e",
       "max": 10,
       "min": -10,
       "style": "IPY_MODEL_7a33d2921e56429e9f8bf26d5b6775c0",
       "value": 2
      }
     },
     "12dc76e4036a443ebce4e6160cdce68d": {
      "model_module": "@jupyter-widgets/controls",
      "model_module_version": "1.5.0",
      "model_name": "DescriptionStyleModel",
      "state": {
       "description_width": ""
      }
     },
     "13e711fc62954eff9968e6fe0dc8cd4f": {
      "model_module": "@jupyter-widgets/base",
      "model_module_version": "1.2.0",
      "model_name": "LayoutModel",
      "state": {}
     },
     "15af1389ee1943c08c40c88db1f5d288": {
      "model_module": "@jupyter-widgets/controls",
      "model_module_version": "1.5.0",
      "model_name": "VBoxModel",
      "state": {
       "_dom_classes": [
        "widget-interact"
       ],
       "children": [
        "IPY_MODEL_2fb2ff64e4db488cacaee06dd8037363",
        "IPY_MODEL_78cf8567daec4e799447ed9d90057d7b",
        "IPY_MODEL_1ec15062f4b64172ab42ec618b55b0bb"
       ],
       "layout": "IPY_MODEL_faf70cd1f04543f18232f891044d9409"
      }
     },
     "16ec0cf868bb469a98fcfb5f7e1fd15d": {
      "model_module": "@jupyter-widgets/base",
      "model_module_version": "1.2.0",
      "model_name": "LayoutModel",
      "state": {}
     },
     "17eb7f3e363d40f39cb6e14d234ea6fa": {
      "model_module": "@jupyter-widgets/base",
      "model_module_version": "1.2.0",
      "model_name": "LayoutModel",
      "state": {}
     },
     "1c23c62d8daa4d8f9632bda512f9550e": {
      "model_module": "@jupyter-widgets/base",
      "model_module_version": "1.2.0",
      "model_name": "LayoutModel",
      "state": {}
     },
     "1d37997a95204c2b9d3c42d52ae0775e": {
      "model_module": "@jupyter-widgets/controls",
      "model_module_version": "1.5.0",
      "model_name": "VBoxModel",
      "state": {
       "_dom_classes": [
        "widget-interact"
       ],
       "children": [
        "IPY_MODEL_fd6f04f13b2646f7ac1f57bc90b080ec",
        "IPY_MODEL_40f3cb4e14784aad85936ce9356e3759",
        "IPY_MODEL_af9e78b8a1d540f3a8e11360ef164ecc"
       ],
       "layout": "IPY_MODEL_667dae1fb1f340ecba78d5e8468bef24"
      }
     },
     "1ec15062f4b64172ab42ec618b55b0bb": {
      "model_module": "@jupyter-widgets/output",
      "model_module_version": "1.0.0",
      "model_name": "OutputModel",
      "state": {
       "layout": "IPY_MODEL_428afff0017542ef89a7b002e216a8cd",
       "outputs": [
        {
         "name": "stdout",
         "output_type": "stream",
         "text": "c: 8.60\n"
        }
       ]
      }
     },
     "209f97f1e73741238d44a81a4df90ef5": {
      "model_module": "@jupyter-widgets/output",
      "model_module_version": "1.0.0",
      "model_name": "OutputModel",
      "state": {
       "layout": "IPY_MODEL_a1fa08967ea34ac5b217df198fe2ad19",
       "outputs": [
        {
         "name": "stdout",
         "output_type": "stream",
         "text": "byte: 00000000\n"
        }
       ]
      }
     },
     "20e92dcf6fd342b2ac47f05b6f9e4734": {
      "model_module": "@jupyter-widgets/base",
      "model_module_version": "1.2.0",
      "model_name": "LayoutModel",
      "state": {}
     },
     "20efa432af7f4edfaf6a6583ae1bb672": {
      "model_module": "@jupyter-widgets/base",
      "model_module_version": "1.2.0",
      "model_name": "LayoutModel",
      "state": {}
     },
     "21c55ecf806347fe945e0ee8a73a78c0": {
      "model_module": "@jupyter-widgets/controls",
      "model_module_version": "1.5.0",
      "model_name": "SliderStyleModel",
      "state": {
       "description_width": ""
      }
     },
     "22c3c930e1a04bccb72c8013e9c7fdb1": {
      "model_module": "@jupyter-widgets/controls",
      "model_module_version": "1.5.0",
      "model_name": "DescriptionStyleModel",
      "state": {
       "description_width": ""
      }
     },
     "261d0c0e27c043069f64197ecef0f773": {
      "model_module": "@jupyter-widgets/controls",
      "model_module_version": "1.5.0",
      "model_name": "DropdownModel",
      "state": {
       "_options_labels": [
        "0",
        "1"
       ],
       "description": "b3",
       "index": 0,
       "layout": "IPY_MODEL_94d902de742a48f9bb214b57186e3da1",
       "style": "IPY_MODEL_378adea3bf8f4420b2ff032ea773a49a"
      }
     },
     "27d89fd343d54297af4fd1239dead8a9": {
      "model_module": "@jupyter-widgets/controls",
      "model_module_version": "1.5.0",
      "model_name": "SliderStyleModel",
      "state": {
       "description_width": ""
      }
     },
     "289c8552c1b94702a93951265d8dfd4b": {
      "model_module": "@jupyter-widgets/controls",
      "model_module_version": "1.5.0",
      "model_name": "DropdownModel",
      "state": {
       "_options_labels": [
        "0",
        "1"
       ],
       "description": "b7",
       "index": 0,
       "layout": "IPY_MODEL_31d93483a51b4a1d83bdb2c0fecffd80",
       "style": "IPY_MODEL_6fa5226fb7b245cb8be786568d87adef"
      }
     },
     "298e2537e8ad41da8f23cdde41a3e556": {
      "model_module": "@jupyter-widgets/base",
      "model_module_version": "1.2.0",
      "model_name": "LayoutModel",
      "state": {}
     },
     "2ab8bf5c9ad1406f87f5cc1c02299856": {
      "model_module": "@jupyter-widgets/base",
      "model_module_version": "1.2.0",
      "model_name": "LayoutModel",
      "state": {}
     },
     "2beb1667860e4c34a36d1f290e380050": {
      "model_module": "@jupyter-widgets/controls",
      "model_module_version": "1.5.0",
      "model_name": "DescriptionStyleModel",
      "state": {
       "description_width": ""
      }
     },
     "2d0ca6848a4e4f9788a00ba3664bbcf4": {
      "model_module": "@jupyter-widgets/controls",
      "model_module_version": "1.5.0",
      "model_name": "DropdownModel",
      "state": {
       "_options_labels": [
        "0",
        "1"
       ],
       "description": "b6",
       "index": 0,
       "layout": "IPY_MODEL_5c257cb8d0ec47018e8025b86972a2d4",
       "style": "IPY_MODEL_0abeeb9a44d24ece87ddcca9fc83fa30"
      }
     },
     "2dfd4e14ca544d75acf7dae3ac60aec6": {
      "model_module": "@jupyter-widgets/controls",
      "model_module_version": "1.5.0",
      "model_name": "IntSliderModel",
      "state": {
       "description": "b",
       "layout": "IPY_MODEL_efe7a7d0532e4c3c92e38bd71b060fa6",
       "max": 10,
       "min": -10,
       "style": "IPY_MODEL_8a0f535989774a66a5077fb5efb2cb44"
      }
     },
     "2f7d9146e8a8499885da80bcaa51fe85": {
      "model_module": "@jupyter-widgets/base",
      "model_module_version": "1.2.0",
      "model_name": "LayoutModel",
      "state": {}
     },
     "2fb2ff64e4db488cacaee06dd8037363": {
      "model_module": "@jupyter-widgets/controls",
      "model_module_version": "1.5.0",
      "model_name": "IntSliderModel",
      "state": {
       "description": "a",
       "layout": "IPY_MODEL_c6f489e68ab54111812164c0f3b4f0ee",
       "max": 10,
       "style": "IPY_MODEL_bb4b1fbc9b5843d6a8c167d362d1cb0a",
       "value": 5
      }
     },
     "30804e5c0d99429e9204d14002e31a8d": {
      "model_module": "@jupyter-widgets/controls",
      "model_module_version": "1.5.0",
      "model_name": "VBoxModel",
      "state": {
       "_dom_classes": [
        "widget-interact"
       ],
       "children": [
        "IPY_MODEL_86c5042d0f254b949955a0630d9f828b",
        "IPY_MODEL_acec103236dd4e7bb1e38844228e9971",
        "IPY_MODEL_dabbd3d8ad3b43a7ac660454c0cdef4f"
       ],
       "layout": "IPY_MODEL_be0c53c6369244e083996c10295c1513"
      }
     },
     "31386e59283b4b638d40982fc6420d1b": {
      "model_module": "@jupyter-widgets/base",
      "model_module_version": "1.2.0",
      "model_name": "LayoutModel",
      "state": {}
     },
     "31d93483a51b4a1d83bdb2c0fecffd80": {
      "model_module": "@jupyter-widgets/base",
      "model_module_version": "1.2.0",
      "model_name": "LayoutModel",
      "state": {}
     },
     "3331608fe51d49d6a28f8cb68bb4f613": {
      "model_module": "@jupyter-widgets/controls",
      "model_module_version": "1.5.0",
      "model_name": "SliderStyleModel",
      "state": {
       "description_width": ""
      }
     },
     "34f568e1356d4b0daab3415aedf8942c": {
      "model_module": "@jupyter-widgets/base",
      "model_module_version": "1.2.0",
      "model_name": "LayoutModel",
      "state": {}
     },
     "378adea3bf8f4420b2ff032ea773a49a": {
      "model_module": "@jupyter-widgets/controls",
      "model_module_version": "1.5.0",
      "model_name": "DescriptionStyleModel",
      "state": {
       "description_width": ""
      }
     },
     "379dad789a7d4add995353d1614f454b": {
      "model_module": "@jupyter-widgets/controls",
      "model_module_version": "1.5.0",
      "model_name": "DropdownModel",
      "state": {
       "_options_labels": [
        "0",
        "1"
       ],
       "description": "b2",
       "index": 0,
       "layout": "IPY_MODEL_bb127ec9d5c24895a5d8de7cc1b58427",
       "style": "IPY_MODEL_8ad0f8b7c4414bd9859409ab4e902161"
      }
     },
     "37b5f00aca4c4cea9cd588461d1df603": {
      "model_module": "@jupyter-widgets/output",
      "model_module_version": "1.0.0",
      "model_name": "OutputModel",
      "state": {
       "layout": "IPY_MODEL_3fd8c261521f4d70a3fee468687e49ec",
       "outputs": [
        {
         "name": "stdout",
         "output_type": "stream",
         "text": "Roots: -1.0, -1.0\n"
        }
       ]
      }
     },
     "39cdbbd6ae204994b8b178a2c75cfae4": {
      "model_module": "@jupyter-widgets/controls",
      "model_module_version": "1.5.0",
      "model_name": "SliderStyleModel",
      "state": {
       "description_width": ""
      }
     },
     "3aec2f7b331b4642b2d64c098c25fdc8": {
      "model_module": "@jupyter-widgets/controls",
      "model_module_version": "1.5.0",
      "model_name": "DropdownModel",
      "state": {
       "_options_labels": [
        "0",
        "1"
       ],
       "description": "b0",
       "index": 0,
       "layout": "IPY_MODEL_4cd7b01c04b04597a4e239e6f811ba93",
       "style": "IPY_MODEL_41147492ee0744df9b3ab9002bbb017b"
      }
     },
     "3d5eacb5e6064dde9675f8d5afcc8a74": {
      "model_module": "@jupyter-widgets/base",
      "model_module_version": "1.2.0",
      "model_name": "LayoutModel",
      "state": {}
     },
     "3e7cc10566824db8806a4ea0ca9740dc": {
      "model_module": "@jupyter-widgets/controls",
      "model_module_version": "1.5.0",
      "model_name": "DropdownModel",
      "state": {
       "_options_labels": [
        "0",
        "1"
       ],
       "description": "b2",
       "index": 0,
       "layout": "IPY_MODEL_4a6fff225ab84d3da24b7b99784b744a",
       "style": "IPY_MODEL_9104cea347054c95b7509dcee2389317"
      }
     },
     "3fd8c261521f4d70a3fee468687e49ec": {
      "model_module": "@jupyter-widgets/base",
      "model_module_version": "1.2.0",
      "model_name": "LayoutModel",
      "state": {}
     },
     "3fdf3ca9695a4c4d8c49c536e1d7948a": {
      "model_module": "@jupyter-widgets/output",
      "model_module_version": "1.0.0",
      "model_name": "OutputModel",
      "state": {
       "layout": "IPY_MODEL_7a58492df31c416a96cca24d7a2a065c",
       "outputs": [
        {
         "name": "stdout",
         "output_type": "stream",
         "text": "decimal: 0\n"
        }
       ]
      }
     },
     "408432c74c9b460e925e3c3bfd2be7fe": {
      "model_module": "@jupyter-widgets/controls",
      "model_module_version": "1.5.0",
      "model_name": "VBoxModel",
      "state": {
       "_dom_classes": [
        "widget-interact"
       ],
       "children": [
        "IPY_MODEL_fcb0fe9eef934ae8b3e79fd981eeb7bc",
        "IPY_MODEL_2dfd4e14ca544d75acf7dae3ac60aec6",
        "IPY_MODEL_4d80c40a188240c18921e7865ab57db0",
        "IPY_MODEL_d367eef3861f4c1d9ae74424d5c69a71"
       ],
       "layout": "IPY_MODEL_3d5eacb5e6064dde9675f8d5afcc8a74"
      }
     },
     "40f3cb4e14784aad85936ce9356e3759": {
      "model_module": "@jupyter-widgets/controls",
      "model_module_version": "1.5.0",
      "model_name": "IntSliderModel",
      "state": {
       "description": "b",
       "layout": "IPY_MODEL_d553dd6c37aa4e75895e24ec9c28c9fb",
       "max": 10,
       "style": "IPY_MODEL_8ae3b8c4e8c147d3be2f379bce780477",
       "value": 4
      }
     },
     "41147492ee0744df9b3ab9002bbb017b": {
      "model_module": "@jupyter-widgets/controls",
      "model_module_version": "1.5.0",
      "model_name": "DescriptionStyleModel",
      "state": {
       "description_width": ""
      }
     },
     "428afff0017542ef89a7b002e216a8cd": {
      "model_module": "@jupyter-widgets/base",
      "model_module_version": "1.2.0",
      "model_name": "LayoutModel",
      "state": {}
     },
     "46ff26f6c1f545e589c4cd1fc29ea04d": {
      "model_module": "@jupyter-widgets/controls",
      "model_module_version": "1.5.0",
      "model_name": "SliderStyleModel",
      "state": {
       "description_width": ""
      }
     },
     "487fd1cea7d54ebc8b6ac897f0840383": {
      "model_module": "@jupyter-widgets/controls",
      "model_module_version": "1.5.0",
      "model_name": "VBoxModel",
      "state": {
       "_dom_classes": [
        "widget-interact"
       ],
       "children": [
        "IPY_MODEL_dd0e4eab528849a288b12645706e960a",
        "IPY_MODEL_12c4f12a655648468b9e816ff7fd7d89",
        "IPY_MODEL_8bcaf6406d5a4f83b24a6a360bb8ecc4",
        "IPY_MODEL_51d1ec7a8ecb45d488bcc956c207c80c"
       ],
       "layout": "IPY_MODEL_fe4b44296409452eb4cd514ab6d5a788"
      }
     },
     "48dcc0760ac54ae1b63a82f7cfa478cc": {
      "model_module": "@jupyter-widgets/controls",
      "model_module_version": "1.5.0",
      "model_name": "DescriptionStyleModel",
      "state": {
       "description_width": ""
      }
     },
     "49412ced038e4807a96bf5d02a46647d": {
      "model_module": "@jupyter-widgets/base",
      "model_module_version": "1.2.0",
      "model_name": "LayoutModel",
      "state": {}
     },
     "4a6fff225ab84d3da24b7b99784b744a": {
      "model_module": "@jupyter-widgets/base",
      "model_module_version": "1.2.0",
      "model_name": "LayoutModel",
      "state": {}
     },
     "4cd7b01c04b04597a4e239e6f811ba93": {
      "model_module": "@jupyter-widgets/base",
      "model_module_version": "1.2.0",
      "model_name": "LayoutModel",
      "state": {}
     },
     "4d80c40a188240c18921e7865ab57db0": {
      "model_module": "@jupyter-widgets/controls",
      "model_module_version": "1.5.0",
      "model_name": "IntSliderModel",
      "state": {
       "description": "c",
       "layout": "IPY_MODEL_0cf8ee7ce3ca40dfa484e43c9e9e08ef",
       "max": 10,
       "min": -10,
       "style": "IPY_MODEL_59819150f8c14921b5ef4731d39582c1"
      }
     },
     "51d1ec7a8ecb45d488bcc956c207c80c": {
      "model_module": "@jupyter-widgets/output",
      "model_module_version": "1.0.0",
      "model_name": "OutputModel",
      "state": {
       "layout": "IPY_MODEL_2ab8bf5c9ad1406f87f5cc1c02299856",
       "outputs": [
        {
         "name": "stdout",
         "output_type": "stream",
         "text": "Roots: -1.0, -1.0\n"
        }
       ]
      }
     },
     "527ff560e2ba40e08fbc93641e2be112": {
      "model_module": "@jupyter-widgets/controls",
      "model_module_version": "1.5.0",
      "model_name": "VBoxModel",
      "state": {
       "_dom_classes": [
        "widget-interact"
       ],
       "children": [
        "IPY_MODEL_837d2bba183648eda23a482a3a539231",
        "IPY_MODEL_8f6463bc5348435e98084081dd404d6a",
        "IPY_MODEL_fe12a74ac60c41e78b77818528b21cc7",
        "IPY_MODEL_37b5f00aca4c4cea9cd588461d1df603"
       ],
       "layout": "IPY_MODEL_a56a349799c0410f86952f14fc21c09d"
      }
     },
     "52927b17a74945a4b04c32f5232151cd": {
      "model_module": "@jupyter-widgets/controls",
      "model_module_version": "1.5.0",
      "model_name": "DescriptionStyleModel",
      "state": {
       "description_width": ""
      }
     },
     "59819150f8c14921b5ef4731d39582c1": {
      "model_module": "@jupyter-widgets/controls",
      "model_module_version": "1.5.0",
      "model_name": "SliderStyleModel",
      "state": {
       "description_width": ""
      }
     },
     "59b36ac84aea4b579b4debe208df856d": {
      "model_module": "@jupyter-widgets/controls",
      "model_module_version": "1.5.0",
      "model_name": "SliderStyleModel",
      "state": {
       "description_width": ""
      }
     },
     "5c257cb8d0ec47018e8025b86972a2d4": {
      "model_module": "@jupyter-widgets/base",
      "model_module_version": "1.2.0",
      "model_name": "LayoutModel",
      "state": {}
     },
     "5e906f42b26447df938486edff0a3279": {
      "model_module": "@jupyter-widgets/controls",
      "model_module_version": "1.5.0",
      "model_name": "IntSliderModel",
      "state": {
       "description": "a",
       "layout": "IPY_MODEL_a5b1424906684386b3684a3a68869c9c",
       "max": 10,
       "style": "IPY_MODEL_27d89fd343d54297af4fd1239dead8a9",
       "value": 3
      }
     },
     "617955d038984f978911a9e10340e381": {
      "model_module": "@jupyter-widgets/controls",
      "model_module_version": "1.5.0",
      "model_name": "DropdownModel",
      "state": {
       "_options_labels": [
        "0",
        "1"
       ],
       "description": "b7",
       "index": 0,
       "layout": "IPY_MODEL_64276b7686874c1b89311da10578339c",
       "style": "IPY_MODEL_12dc76e4036a443ebce4e6160cdce68d"
      }
     },
     "640b8d2c6ea24ee9a37770865ed1ae08": {
      "model_module": "@jupyter-widgets/base",
      "model_module_version": "1.2.0",
      "model_name": "LayoutModel",
      "state": {}
     },
     "64276b7686874c1b89311da10578339c": {
      "model_module": "@jupyter-widgets/base",
      "model_module_version": "1.2.0",
      "model_name": "LayoutModel",
      "state": {}
     },
     "667dae1fb1f340ecba78d5e8468bef24": {
      "model_module": "@jupyter-widgets/base",
      "model_module_version": "1.2.0",
      "model_name": "LayoutModel",
      "state": {}
     },
     "6a1785db852a46b1a7c30577c26a4a41": {
      "model_module": "@jupyter-widgets/base",
      "model_module_version": "1.2.0",
      "model_name": "LayoutModel",
      "state": {}
     },
     "6e6753c7318d4822bad2559cc1ffdee7": {
      "model_module": "@jupyter-widgets/controls",
      "model_module_version": "1.5.0",
      "model_name": "IntSliderModel",
      "state": {
       "description": "b",
       "layout": "IPY_MODEL_94f7b7a6598f4abd88cd39ef9baa6352",
       "max": 10,
       "min": -10,
       "style": "IPY_MODEL_e941b1949ef44972a64f29e0914c3f50"
      }
     },
     "6eaa0ee4a23f4ebd9415df294305b090": {
      "model_module": "@jupyter-widgets/controls",
      "model_module_version": "1.5.0",
      "model_name": "VBoxModel",
      "state": {
       "_dom_classes": [
        "widget-interact"
       ],
       "children": [
        "IPY_MODEL_617955d038984f978911a9e10340e381",
        "IPY_MODEL_2d0ca6848a4e4f9788a00ba3664bbcf4",
        "IPY_MODEL_00cabae1211f43e2bcf6668291da2ee8",
        "IPY_MODEL_11aa5239e3da4b17b5cbd58c42527cb7",
        "IPY_MODEL_f17aa215f3f24c359d05ecb68977e5bd",
        "IPY_MODEL_379dad789a7d4add995353d1614f454b",
        "IPY_MODEL_9f352b1311bc44aeaec779b52f8908f8",
        "IPY_MODEL_d7626c51e1e14729b340f09a18ec7d4c",
        "IPY_MODEL_3fdf3ca9695a4c4d8c49c536e1d7948a"
       ],
       "layout": "IPY_MODEL_13e711fc62954eff9968e6fe0dc8cd4f"
      }
     },
     "6eb093c0ba7c461db8267707c16e65df": {
      "model_module": "@jupyter-widgets/controls",
      "model_module_version": "1.5.0",
      "model_name": "VBoxModel",
      "state": {
       "_dom_classes": [
        "widget-interact"
       ],
       "children": [
        "IPY_MODEL_d12961e45f6c498dbb17673cb678b442",
        "IPY_MODEL_7812a8ebefbe4259a5cf5541db166c29"
       ],
       "layout": "IPY_MODEL_0852ab93304445318fd9f393f5dc7159"
      }
     },
     "6fa5226fb7b245cb8be786568d87adef": {
      "model_module": "@jupyter-widgets/controls",
      "model_module_version": "1.5.0",
      "model_name": "DescriptionStyleModel",
      "state": {
       "description_width": ""
      }
     },
     "70d777f035c843fd90ffb50f3d732651": {
      "model_module": "@jupyter-widgets/controls",
      "model_module_version": "1.5.0",
      "model_name": "DropdownModel",
      "state": {
       "_options_labels": [
        "0",
        "1"
       ],
       "description": "b6",
       "index": 0,
       "layout": "IPY_MODEL_640b8d2c6ea24ee9a37770865ed1ae08",
       "style": "IPY_MODEL_22c3c930e1a04bccb72c8013e9c7fdb1"
      }
     },
     "7143e59213834415b8fe997b00f60c4e": {
      "model_module": "@jupyter-widgets/controls",
      "model_module_version": "1.5.0",
      "model_name": "SliderStyleModel",
      "state": {
       "description_width": ""
      }
     },
     "727cd2e8345348e58fd47bd853fac3a0": {
      "model_module": "@jupyter-widgets/controls",
      "model_module_version": "1.5.0",
      "model_name": "SliderStyleModel",
      "state": {
       "description_width": ""
      }
     },
     "750250d8e65d47c7b898d42e86164f1b": {
      "model_module": "@jupyter-widgets/base",
      "model_module_version": "1.2.0",
      "model_name": "LayoutModel",
      "state": {}
     },
     "7534d0021b01469e8783a063c1742faa": {
      "model_module": "@jupyter-widgets/base",
      "model_module_version": "1.2.0",
      "model_name": "LayoutModel",
      "state": {}
     },
     "775bee3c08ec4f339f978bbe8479207c": {
      "model_module": "@jupyter-widgets/output",
      "model_module_version": "1.0.0",
      "model_name": "OutputModel",
      "state": {
       "layout": "IPY_MODEL_7534d0021b01469e8783a063c1742faa",
       "outputs": [
        {
         "ename": "NameError",
         "evalue": "name 'decimal_to_byte' is not defined",
         "output_type": "error",
         "traceback": [
          "\u001b[0;31m---------------------------------------------------------------------------\u001b[0m",
          "\u001b[0;31mNameError\u001b[0m                                 Traceback (most recent call last)",
          "\u001b[0;32m/opt/anaconda/lib/python3.7/site-packages/ipywidgets/widgets/interaction.py\u001b[0m in \u001b[0;36mupdate\u001b[0;34m(self, *args)\u001b[0m\n\u001b[1;32m    254\u001b[0m                     \u001b[0mvalue\u001b[0m \u001b[0;34m=\u001b[0m \u001b[0mwidget\u001b[0m\u001b[0;34m.\u001b[0m\u001b[0mget_interact_value\u001b[0m\u001b[0;34m(\u001b[0m\u001b[0;34m)\u001b[0m\u001b[0;34m\u001b[0m\u001b[0;34m\u001b[0m\u001b[0m\n\u001b[1;32m    255\u001b[0m                     \u001b[0mself\u001b[0m\u001b[0;34m.\u001b[0m\u001b[0mkwargs\u001b[0m\u001b[0;34m[\u001b[0m\u001b[0mwidget\u001b[0m\u001b[0;34m.\u001b[0m\u001b[0m_kwarg\u001b[0m\u001b[0;34m]\u001b[0m \u001b[0;34m=\u001b[0m \u001b[0mvalue\u001b[0m\u001b[0;34m\u001b[0m\u001b[0;34m\u001b[0m\u001b[0m\n\u001b[0;32m--> 256\u001b[0;31m                 \u001b[0mself\u001b[0m\u001b[0;34m.\u001b[0m\u001b[0mresult\u001b[0m \u001b[0;34m=\u001b[0m \u001b[0mself\u001b[0m\u001b[0;34m.\u001b[0m\u001b[0mf\u001b[0m\u001b[0;34m(\u001b[0m\u001b[0;34m**\u001b[0m\u001b[0mself\u001b[0m\u001b[0;34m.\u001b[0m\u001b[0mkwargs\u001b[0m\u001b[0;34m)\u001b[0m\u001b[0;34m\u001b[0m\u001b[0;34m\u001b[0m\u001b[0m\n\u001b[0m\u001b[1;32m    257\u001b[0m                 \u001b[0mshow_inline_matplotlib_plots\u001b[0m\u001b[0;34m(\u001b[0m\u001b[0;34m)\u001b[0m\u001b[0;34m\u001b[0m\u001b[0;34m\u001b[0m\u001b[0m\n\u001b[1;32m    258\u001b[0m                 \u001b[0;32mif\u001b[0m \u001b[0mself\u001b[0m\u001b[0;34m.\u001b[0m\u001b[0mauto_display\u001b[0m \u001b[0;32mand\u001b[0m \u001b[0mself\u001b[0m\u001b[0;34m.\u001b[0m\u001b[0mresult\u001b[0m \u001b[0;32mis\u001b[0m \u001b[0;32mnot\u001b[0m \u001b[0;32mNone\u001b[0m\u001b[0;34m:\u001b[0m\u001b[0;34m\u001b[0m\u001b[0;34m\u001b[0m\u001b[0m\n",
          "\u001b[0;32m<ipython-input-30-b4d5e32d5362>\u001b[0m in \u001b[0;36mconvert_decimal_to_byte\u001b[0;34m(decimal)\u001b[0m\n\u001b[1;32m      2\u001b[0m \u001b[0;34m@\u001b[0m\u001b[0minteract\u001b[0m\u001b[0;34m(\u001b[0m\u001b[0mdecimal\u001b[0m\u001b[0;34m=\u001b[0m\u001b[0;34m(\u001b[0m\u001b[0;36m0\u001b[0m\u001b[0;34m,\u001b[0m\u001b[0;36m255\u001b[0m\u001b[0;34m,\u001b[0m\u001b[0;36m1\u001b[0m\u001b[0;34m)\u001b[0m\u001b[0;34m)\u001b[0m\u001b[0;34m\u001b[0m\u001b[0;34m\u001b[0m\u001b[0m\n\u001b[1;32m      3\u001b[0m \u001b[0;32mdef\u001b[0m \u001b[0mconvert_decimal_to_byte\u001b[0m\u001b[0;34m(\u001b[0m\u001b[0mdecimal\u001b[0m\u001b[0;34m=\u001b[0m\u001b[0;36m0\u001b[0m\u001b[0;34m)\u001b[0m\u001b[0;34m:\u001b[0m\u001b[0;34m\u001b[0m\u001b[0;34m\u001b[0m\u001b[0m\n\u001b[0;32m----> 4\u001b[0;31m     \u001b[0mprint\u001b[0m\u001b[0;34m(\u001b[0m\u001b[0;34m'byte:'\u001b[0m\u001b[0;34m,\u001b[0m \u001b[0mdecimal_to_byte\u001b[0m\u001b[0;34m(\u001b[0m\u001b[0mdecimal\u001b[0m\u001b[0;34m)\u001b[0m\u001b[0;34m)\u001b[0m\u001b[0;34m\u001b[0m\u001b[0;34m\u001b[0m\u001b[0m\n\u001b[0m",
          "\u001b[0;31mNameError\u001b[0m: name 'decimal_to_byte' is not defined"
         ]
        }
       ]
      }
     },
     "7812a8ebefbe4259a5cf5541db166c29": {
      "model_module": "@jupyter-widgets/output",
      "model_module_version": "1.0.0",
      "model_name": "OutputModel",
      "state": {
       "layout": "IPY_MODEL_f1f6d749081c4faca17acb58693dadac",
       "outputs": [
        {
         "name": "stdout",
         "output_type": "stream",
         "text": "byte: 00000000\n"
        }
       ]
      }
     },
     "7849b4694e654c2e895b387432a06479": {
      "model_module": "@jupyter-widgets/base",
      "model_module_version": "1.2.0",
      "model_name": "LayoutModel",
      "state": {}
     },
     "78cf8567daec4e799447ed9d90057d7b": {
      "model_module": "@jupyter-widgets/controls",
      "model_module_version": "1.5.0",
      "model_name": "IntSliderModel",
      "state": {
       "description": "b",
       "layout": "IPY_MODEL_6a1785db852a46b1a7c30577c26a4a41",
       "max": 10,
       "style": "IPY_MODEL_3331608fe51d49d6a28f8cb68bb4f613",
       "value": 7
      }
     },
     "7a2851bdc08f48e0a6b4b77255a33fbe": {
      "model_module": "@jupyter-widgets/controls",
      "model_module_version": "1.5.0",
      "model_name": "IntSliderModel",
      "state": {
       "description": "c",
       "layout": "IPY_MODEL_fc131f372f1846d9b8715402f28c8810",
       "max": 10,
       "min": -10,
       "style": "IPY_MODEL_7143e59213834415b8fe997b00f60c4e"
      }
     },
     "7a33d2921e56429e9f8bf26d5b6775c0": {
      "model_module": "@jupyter-widgets/controls",
      "model_module_version": "1.5.0",
      "model_name": "SliderStyleModel",
      "state": {
       "description_width": ""
      }
     },
     "7a58492df31c416a96cca24d7a2a065c": {
      "model_module": "@jupyter-widgets/base",
      "model_module_version": "1.2.0",
      "model_name": "LayoutModel",
      "state": {}
     },
     "7b6044f489d8425da2f5185a49c08d9d": {
      "model_module": "@jupyter-widgets/base",
      "model_module_version": "1.2.0",
      "model_name": "LayoutModel",
      "state": {}
     },
     "7e4508a92f0042c5870d23d69fb8d123": {
      "model_module": "@jupyter-widgets/controls",
      "model_module_version": "1.5.0",
      "model_name": "SliderStyleModel",
      "state": {
       "description_width": ""
      }
     },
     "837d2bba183648eda23a482a3a539231": {
      "model_module": "@jupyter-widgets/controls",
      "model_module_version": "1.5.0",
      "model_name": "IntSliderModel",
      "state": {
       "description": "a",
       "layout": "IPY_MODEL_87a90cdb008b448f81158b9375f144e7",
       "max": 10,
       "min": -10,
       "style": "IPY_MODEL_7e4508a92f0042c5870d23d69fb8d123",
       "value": 1
      }
     },
     "8484949ae45c418bbf5c2070859a67c1": {
      "model_module": "@jupyter-widgets/controls",
      "model_module_version": "1.5.0",
      "model_name": "DescriptionStyleModel",
      "state": {
       "description_width": ""
      }
     },
     "86c5042d0f254b949955a0630d9f828b": {
      "model_module": "@jupyter-widgets/controls",
      "model_module_version": "1.5.0",
      "model_name": "IntSliderModel",
      "state": {
       "description": "a",
       "layout": "IPY_MODEL_c589cc4406da47808610209910dff69c",
       "max": 10,
       "style": "IPY_MODEL_46ff26f6c1f545e589c4cd1fc29ea04d",
       "value": 3
      }
     },
     "87a90cdb008b448f81158b9375f144e7": {
      "model_module": "@jupyter-widgets/base",
      "model_module_version": "1.2.0",
      "model_name": "LayoutModel",
      "state": {}
     },
     "89709a57198a4ec4ac63d8d519fc1740": {
      "model_module": "@jupyter-widgets/base",
      "model_module_version": "1.2.0",
      "model_name": "LayoutModel",
      "state": {}
     },
     "8a0f535989774a66a5077fb5efb2cb44": {
      "model_module": "@jupyter-widgets/controls",
      "model_module_version": "1.5.0",
      "model_name": "SliderStyleModel",
      "state": {
       "description_width": ""
      }
     },
     "8ad0f8b7c4414bd9859409ab4e902161": {
      "model_module": "@jupyter-widgets/controls",
      "model_module_version": "1.5.0",
      "model_name": "DescriptionStyleModel",
      "state": {
       "description_width": ""
      }
     },
     "8ae3b8c4e8c147d3be2f379bce780477": {
      "model_module": "@jupyter-widgets/controls",
      "model_module_version": "1.5.0",
      "model_name": "SliderStyleModel",
      "state": {
       "description_width": ""
      }
     },
     "8bcaf6406d5a4f83b24a6a360bb8ecc4": {
      "model_module": "@jupyter-widgets/controls",
      "model_module_version": "1.5.0",
      "model_name": "IntSliderModel",
      "state": {
       "description": "c",
       "layout": "IPY_MODEL_f4347b9b90a7454eb5bb48997c76b83a",
       "max": 10,
       "min": -10,
       "style": "IPY_MODEL_727cd2e8345348e58fd47bd853fac3a0",
       "value": 1
      }
     },
     "8f6463bc5348435e98084081dd404d6a": {
      "model_module": "@jupyter-widgets/controls",
      "model_module_version": "1.5.0",
      "model_name": "IntSliderModel",
      "state": {
       "description": "b",
       "layout": "IPY_MODEL_20efa432af7f4edfaf6a6583ae1bb672",
       "max": 10,
       "min": -10,
       "style": "IPY_MODEL_c63c127678674b07b134326874d287c8",
       "value": 2
      }
     },
     "9104cea347054c95b7509dcee2389317": {
      "model_module": "@jupyter-widgets/controls",
      "model_module_version": "1.5.0",
      "model_name": "DescriptionStyleModel",
      "state": {
       "description_width": ""
      }
     },
     "93724548b7ae4622a7cca3f756235a78": {
      "model_module": "@jupyter-widgets/controls",
      "model_module_version": "1.5.0",
      "model_name": "DescriptionStyleModel",
      "state": {
       "description_width": ""
      }
     },
     "94479670d29643b7821d839d989bccc9": {
      "model_module": "@jupyter-widgets/base",
      "model_module_version": "1.2.0",
      "model_name": "LayoutModel",
      "state": {}
     },
     "94d902de742a48f9bb214b57186e3da1": {
      "model_module": "@jupyter-widgets/base",
      "model_module_version": "1.2.0",
      "model_name": "LayoutModel",
      "state": {}
     },
     "94f7b7a6598f4abd88cd39ef9baa6352": {
      "model_module": "@jupyter-widgets/base",
      "model_module_version": "1.2.0",
      "model_name": "LayoutModel",
      "state": {}
     },
     "9690f568e9ef4d2b99352f440e7b51a0": {
      "model_module": "@jupyter-widgets/base",
      "model_module_version": "1.2.0",
      "model_name": "LayoutModel",
      "state": {}
     },
     "96cc0be037914af9b7824f23b30fb2f6": {
      "model_module": "@jupyter-widgets/base",
      "model_module_version": "1.2.0",
      "model_name": "LayoutModel",
      "state": {}
     },
     "97ee3e843a554969a2df492bcc0b7811": {
      "model_module": "@jupyter-widgets/base",
      "model_module_version": "1.2.0",
      "model_name": "LayoutModel",
      "state": {}
     },
     "9ae2e1f0ec8b4a109d5eed0814d28e39": {
      "model_module": "@jupyter-widgets/controls",
      "model_module_version": "1.5.0",
      "model_name": "VBoxModel",
      "state": {
       "_dom_classes": [
        "widget-interact"
       ],
       "children": [
        "IPY_MODEL_289c8552c1b94702a93951265d8dfd4b",
        "IPY_MODEL_70d777f035c843fd90ffb50f3d732651",
        "IPY_MODEL_c5b0d1558846475581d3eea59bbd2ff3",
        "IPY_MODEL_e3284c4b17544bacbde44ba9bba14d62",
        "IPY_MODEL_261d0c0e27c043069f64197ecef0f773",
        "IPY_MODEL_3e7cc10566824db8806a4ea0ca9740dc",
        "IPY_MODEL_c0f2c038224f45339ad8b09c82d95736",
        "IPY_MODEL_3aec2f7b331b4642b2d64c098c25fdc8",
        "IPY_MODEL_cc8b824b0fe04ddaa237a41fc9f5f262"
       ],
       "layout": "IPY_MODEL_49412ced038e4807a96bf5d02a46647d"
      }
     },
     "9f352b1311bc44aeaec779b52f8908f8": {
      "model_module": "@jupyter-widgets/controls",
      "model_module_version": "1.5.0",
      "model_name": "DropdownModel",
      "state": {
       "_options_labels": [
        "0",
        "1"
       ],
       "description": "b1",
       "index": 0,
       "layout": "IPY_MODEL_eb60cb8e496441e8a9f8d575ef0fcaf5",
       "style": "IPY_MODEL_52927b17a74945a4b04c32f5232151cd"
      }
     },
     "a1fa08967ea34ac5b217df198fe2ad19": {
      "model_module": "@jupyter-widgets/base",
      "model_module_version": "1.2.0",
      "model_name": "LayoutModel",
      "state": {}
     },
     "a54f4e9d6fd04833a03789d2b241f139": {
      "model_module": "@jupyter-widgets/controls",
      "model_module_version": "1.5.0",
      "model_name": "SliderStyleModel",
      "state": {
       "description_width": ""
      }
     },
     "a56a349799c0410f86952f14fc21c09d": {
      "model_module": "@jupyter-widgets/base",
      "model_module_version": "1.2.0",
      "model_name": "LayoutModel",
      "state": {}
     },
     "a5b1424906684386b3684a3a68869c9c": {
      "model_module": "@jupyter-widgets/base",
      "model_module_version": "1.2.0",
      "model_name": "LayoutModel",
      "state": {}
     },
     "a8b7889c80524c87af823a15bfe83241": {
      "model_module": "@jupyter-widgets/controls",
      "model_module_version": "1.5.0",
      "model_name": "IntSliderModel",
      "state": {
       "description": "decimal",
       "layout": "IPY_MODEL_298e2537e8ad41da8f23cdde41a3e556",
       "max": 255,
       "style": "IPY_MODEL_d7bb867bf222407a9a6a0e214b807542"
      }
     },
     "a9101ab6d90449cdb394779e7eeff83d": {
      "model_module": "@jupyter-widgets/base",
      "model_module_version": "1.2.0",
      "model_name": "LayoutModel",
      "state": {}
     },
     "aa7965a3bb534df59919a39042fc5c12": {
      "model_module": "@jupyter-widgets/base",
      "model_module_version": "1.2.0",
      "model_name": "LayoutModel",
      "state": {}
     },
     "ab481efba8cd440999e30fbe9414b634": {
      "model_module": "@jupyter-widgets/controls",
      "model_module_version": "1.5.0",
      "model_name": "SliderStyleModel",
      "state": {
       "description_width": ""
      }
     },
     "ac060722c2954304a9359f9d55ee4970": {
      "model_module": "@jupyter-widgets/controls",
      "model_module_version": "1.5.0",
      "model_name": "VBoxModel",
      "state": {
       "_dom_classes": [
        "widget-interact"
       ],
       "children": [
        "IPY_MODEL_c2fabc5b44a34f37a722b230965d247e",
        "IPY_MODEL_6e6753c7318d4822bad2559cc1ffdee7",
        "IPY_MODEL_7a2851bdc08f48e0a6b4b77255a33fbe",
        "IPY_MODEL_d4a720a89beb4e66b4966d4f78cc44de"
       ],
       "layout": "IPY_MODEL_7b6044f489d8425da2f5185a49c08d9d"
      }
     },
     "ac3dee2b9f66420c9cf93bb37a0f555e": {
      "model_module": "@jupyter-widgets/controls",
      "model_module_version": "1.5.0",
      "model_name": "SliderStyleModel",
      "state": {
       "description_width": ""
      }
     },
     "acec103236dd4e7bb1e38844228e9971": {
      "model_module": "@jupyter-widgets/controls",
      "model_module_version": "1.5.0",
      "model_name": "IntSliderModel",
      "state": {
       "description": "b",
       "layout": "IPY_MODEL_e29bde0d124c4cf39a2526d49a983649",
       "max": 10,
       "style": "IPY_MODEL_ac3dee2b9f66420c9cf93bb37a0f555e",
       "value": 4
      }
     },
     "af9e78b8a1d540f3a8e11360ef164ecc": {
      "model_module": "@jupyter-widgets/output",
      "model_module_version": "1.0.0",
      "model_name": "OutputModel",
      "state": {
       "layout": "IPY_MODEL_17eb7f3e363d40f39cb6e14d234ea6fa",
       "outputs": [
        {
         "name": "stdout",
         "output_type": "stream",
         "text": "c: 5.00\n"
        }
       ]
      }
     },
     "b2c89ae1bc2b43ac967c5ddddac214ae": {
      "model_module": "@jupyter-widgets/controls",
      "model_module_version": "1.5.0",
      "model_name": "IntSliderModel",
      "state": {
       "description": "b",
       "layout": "IPY_MODEL_34f568e1356d4b0daab3415aedf8942c",
       "max": 10,
       "style": "IPY_MODEL_59b36ac84aea4b579b4debe208df856d",
       "value": 4
      }
     },
     "b2df5fa9e4ed473eb816048b40b5ce84": {
      "model_module": "@jupyter-widgets/controls",
      "model_module_version": "1.5.0",
      "model_name": "VBoxModel",
      "state": {
       "_dom_classes": [
        "widget-interact"
       ],
       "children": [
        "IPY_MODEL_5e906f42b26447df938486edff0a3279",
        "IPY_MODEL_b2c89ae1bc2b43ac967c5ddddac214ae",
        "IPY_MODEL_eb962828109445279a7a87ff04012dec"
       ],
       "layout": "IPY_MODEL_16ec0cf868bb469a98fcfb5f7e1fd15d"
      }
     },
     "b6fda21af10e451f84dfe1730d67265d": {
      "model_module": "@jupyter-widgets/controls",
      "model_module_version": "1.5.0",
      "model_name": "VBoxModel",
      "state": {
       "_dom_classes": [
        "widget-interact"
       ],
       "children": [
        "IPY_MODEL_c890e7ea0f1b4077a2e2a2ded79741b0",
        "IPY_MODEL_209f97f1e73741238d44a81a4df90ef5"
       ],
       "layout": "IPY_MODEL_31386e59283b4b638d40982fc6420d1b"
      }
     },
     "bb127ec9d5c24895a5d8de7cc1b58427": {
      "model_module": "@jupyter-widgets/base",
      "model_module_version": "1.2.0",
      "model_name": "LayoutModel",
      "state": {}
     },
     "bb4b1fbc9b5843d6a8c167d362d1cb0a": {
      "model_module": "@jupyter-widgets/controls",
      "model_module_version": "1.5.0",
      "model_name": "SliderStyleModel",
      "state": {
       "description_width": ""
      }
     },
     "bcf273001bbe4f9cb422982dff0c3d3d": {
      "model_module": "@jupyter-widgets/base",
      "model_module_version": "1.2.0",
      "model_name": "LayoutModel",
      "state": {}
     },
     "be0c53c6369244e083996c10295c1513": {
      "model_module": "@jupyter-widgets/base",
      "model_module_version": "1.2.0",
      "model_name": "LayoutModel",
      "state": {}
     },
     "c0f2c038224f45339ad8b09c82d95736": {
      "model_module": "@jupyter-widgets/controls",
      "model_module_version": "1.5.0",
      "model_name": "DropdownModel",
      "state": {
       "_options_labels": [
        "0",
        "1"
       ],
       "description": "b1",
       "index": 0,
       "layout": "IPY_MODEL_e8cd1a111f064914b8e03fad77e229c0",
       "style": "IPY_MODEL_93724548b7ae4622a7cca3f756235a78"
      }
     },
     "c28290a4022d40dabf04ff1b20acb53b": {
      "model_module": "@jupyter-widgets/controls",
      "model_module_version": "1.5.0",
      "model_name": "DescriptionStyleModel",
      "state": {
       "description_width": ""
      }
     },
     "c2fabc5b44a34f37a722b230965d247e": {
      "model_module": "@jupyter-widgets/controls",
      "model_module_version": "1.5.0",
      "model_name": "IntSliderModel",
      "state": {
       "description": "a",
       "layout": "IPY_MODEL_f09d712201184c9b94c00e25903f8e3a",
       "max": 10,
       "min": -10,
       "style": "IPY_MODEL_39cdbbd6ae204994b8b178a2c75cfae4"
      }
     },
     "c589cc4406da47808610209910dff69c": {
      "model_module": "@jupyter-widgets/base",
      "model_module_version": "1.2.0",
      "model_name": "LayoutModel",
      "state": {}
     },
     "c5b0d1558846475581d3eea59bbd2ff3": {
      "model_module": "@jupyter-widgets/controls",
      "model_module_version": "1.5.0",
      "model_name": "DropdownModel",
      "state": {
       "_options_labels": [
        "0",
        "1"
       ],
       "description": "b5",
       "index": 0,
       "layout": "IPY_MODEL_96cc0be037914af9b7824f23b30fb2f6",
       "style": "IPY_MODEL_cb10697d686a4670aeedeedf40fcc5ec"
      }
     },
     "c63c127678674b07b134326874d287c8": {
      "model_module": "@jupyter-widgets/controls",
      "model_module_version": "1.5.0",
      "model_name": "SliderStyleModel",
      "state": {
       "description_width": ""
      }
     },
     "c6f489e68ab54111812164c0f3b4f0ee": {
      "model_module": "@jupyter-widgets/base",
      "model_module_version": "1.2.0",
      "model_name": "LayoutModel",
      "state": {}
     },
     "c7870247a42147698dfd6eee0fab2881": {
      "model_module": "@jupyter-widgets/controls",
      "model_module_version": "1.5.0",
      "model_name": "SliderStyleModel",
      "state": {
       "description_width": ""
      }
     },
     "c890e7ea0f1b4077a2e2a2ded79741b0": {
      "model_module": "@jupyter-widgets/controls",
      "model_module_version": "1.5.0",
      "model_name": "IntSliderModel",
      "state": {
       "description": "decimal",
       "layout": "IPY_MODEL_9690f568e9ef4d2b99352f440e7b51a0",
       "max": 255,
       "style": "IPY_MODEL_a54f4e9d6fd04833a03789d2b241f139"
      }
     },
     "cac978c41c684879960028e25ec207a6": {
      "model_module": "@jupyter-widgets/base",
      "model_module_version": "1.2.0",
      "model_name": "LayoutModel",
      "state": {}
     },
     "cb10697d686a4670aeedeedf40fcc5ec": {
      "model_module": "@jupyter-widgets/controls",
      "model_module_version": "1.5.0",
      "model_name": "DescriptionStyleModel",
      "state": {
       "description_width": ""
      }
     },
     "cc8b824b0fe04ddaa237a41fc9f5f262": {
      "model_module": "@jupyter-widgets/output",
      "model_module_version": "1.0.0",
      "model_name": "OutputModel",
      "state": {
       "layout": "IPY_MODEL_f7cd89217fbd45748e57a2e525f13028",
       "outputs": [
        {
         "name": "stdout",
         "output_type": "stream",
         "text": "decimal: 0\n"
        }
       ]
      }
     },
     "cec62cbb12004a10a969885260df23d5": {
      "model_module": "@jupyter-widgets/controls",
      "model_module_version": "1.5.0",
      "model_name": "SliderStyleModel",
      "state": {
       "description_width": ""
      }
     },
     "d12961e45f6c498dbb17673cb678b442": {
      "model_module": "@jupyter-widgets/controls",
      "model_module_version": "1.5.0",
      "model_name": "IntSliderModel",
      "state": {
       "description": "decimal",
       "layout": "IPY_MODEL_cac978c41c684879960028e25ec207a6",
       "max": 255,
       "style": "IPY_MODEL_e8480ad196184a33ba56b974eab42669"
      }
     },
     "d367eef3861f4c1d9ae74424d5c69a71": {
      "model_module": "@jupyter-widgets/output",
      "model_module_version": "1.0.0",
      "model_name": "OutputModel",
      "state": {
       "layout": "IPY_MODEL_a9101ab6d90449cdb394779e7eeff83d",
       "outputs": [
        {
         "ename": "NameError",
         "evalue": "name 'get_y' is not defined",
         "output_type": "error",
         "traceback": [
          "\u001b[0;31m---------------------------------------------------------------------------\u001b[0m",
          "\u001b[0;31mNameError\u001b[0m                                 Traceback (most recent call last)",
          "\u001b[0;32m/opt/anaconda/lib/python3.7/site-packages/ipywidgets/widgets/interaction.py\u001b[0m in \u001b[0;36mupdate\u001b[0;34m(self, *args)\u001b[0m\n\u001b[1;32m    254\u001b[0m                     \u001b[0mvalue\u001b[0m \u001b[0;34m=\u001b[0m \u001b[0mwidget\u001b[0m\u001b[0;34m.\u001b[0m\u001b[0mget_interact_value\u001b[0m\u001b[0;34m(\u001b[0m\u001b[0;34m)\u001b[0m\u001b[0;34m\u001b[0m\u001b[0;34m\u001b[0m\u001b[0m\n\u001b[1;32m    255\u001b[0m                     \u001b[0mself\u001b[0m\u001b[0;34m.\u001b[0m\u001b[0mkwargs\u001b[0m\u001b[0;34m[\u001b[0m\u001b[0mwidget\u001b[0m\u001b[0;34m.\u001b[0m\u001b[0m_kwarg\u001b[0m\u001b[0;34m]\u001b[0m \u001b[0;34m=\u001b[0m \u001b[0mvalue\u001b[0m\u001b[0;34m\u001b[0m\u001b[0;34m\u001b[0m\u001b[0m\n\u001b[0;32m--> 256\u001b[0;31m                 \u001b[0mself\u001b[0m\u001b[0;34m.\u001b[0m\u001b[0mresult\u001b[0m \u001b[0;34m=\u001b[0m \u001b[0mself\u001b[0m\u001b[0;34m.\u001b[0m\u001b[0mf\u001b[0m\u001b[0;34m(\u001b[0m\u001b[0;34m**\u001b[0m\u001b[0mself\u001b[0m\u001b[0;34m.\u001b[0m\u001b[0mkwargs\u001b[0m\u001b[0;34m)\u001b[0m\u001b[0;34m\u001b[0m\u001b[0;34m\u001b[0m\u001b[0m\n\u001b[0m\u001b[1;32m    257\u001b[0m                 \u001b[0mshow_inline_matplotlib_plots\u001b[0m\u001b[0;34m(\u001b[0m\u001b[0;34m)\u001b[0m\u001b[0;34m\u001b[0m\u001b[0;34m\u001b[0m\u001b[0m\n\u001b[1;32m    258\u001b[0m                 \u001b[0;32mif\u001b[0m \u001b[0mself\u001b[0m\u001b[0;34m.\u001b[0m\u001b[0mauto_display\u001b[0m \u001b[0;32mand\u001b[0m \u001b[0mself\u001b[0m\u001b[0;34m.\u001b[0m\u001b[0mresult\u001b[0m \u001b[0;32mis\u001b[0m \u001b[0;32mnot\u001b[0m \u001b[0;32mNone\u001b[0m\u001b[0;34m:\u001b[0m\u001b[0;34m\u001b[0m\u001b[0;34m\u001b[0m\u001b[0m\n",
          "\u001b[0;32m<ipython-input-18-c8a2a34505f1>\u001b[0m in \u001b[0;36mplot_parabola\u001b[0;34m(a, b, c)\u001b[0m\n\u001b[1;32m     12\u001b[0m \u001b[0;34m\u001b[0m\u001b[0m\n\u001b[1;32m     13\u001b[0m     \u001b[0mx\u001b[0m \u001b[0;34m=\u001b[0m \u001b[0mnp\u001b[0m\u001b[0;34m.\u001b[0m\u001b[0mlinspace\u001b[0m\u001b[0;34m(\u001b[0m\u001b[0mxmin\u001b[0m\u001b[0;34m,\u001b[0m \u001b[0mxmax\u001b[0m\u001b[0;34m,\u001b[0m \u001b[0mresolution\u001b[0m\u001b[0;34m)\u001b[0m\u001b[0;34m\u001b[0m\u001b[0;34m\u001b[0m\u001b[0m\n\u001b[0;32m---> 14\u001b[0;31m     \u001b[0max\u001b[0m\u001b[0;34m.\u001b[0m\u001b[0mplot\u001b[0m\u001b[0;34m(\u001b[0m\u001b[0mx\u001b[0m\u001b[0;34m,\u001b[0m \u001b[0mget_y\u001b[0m\u001b[0;34m(\u001b[0m\u001b[0mx\u001b[0m\u001b[0;34m,\u001b[0m \u001b[0ma\u001b[0m\u001b[0;34m,\u001b[0m \u001b[0mb\u001b[0m\u001b[0;34m,\u001b[0m \u001b[0mc\u001b[0m\u001b[0;34m)\u001b[0m\u001b[0;34m)\u001b[0m\u001b[0;34m\u001b[0m\u001b[0;34m\u001b[0m\u001b[0m\n\u001b[0m",
          "\u001b[0;31mNameError\u001b[0m: name 'get_y' is not defined"
         ]
        }
       ]
      }
     },
     "d4a720a89beb4e66b4966d4f78cc44de": {
      "model_module": "@jupyter-widgets/output",
      "model_module_version": "1.0.0",
      "model_name": "OutputModel",
      "state": {
       "layout": "IPY_MODEL_fcd42c6f375e41c78391767fa7efdc06",
       "outputs": [
        {
         "data": {
          "image/png": "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\n",
          "text/plain": "<Figure size 432x288 with 1 Axes>"
         },
         "metadata": {
          "needs_background": "light"
         },
         "output_type": "display_data"
        }
       ]
      }
     },
     "d553dd6c37aa4e75895e24ec9c28c9fb": {
      "model_module": "@jupyter-widgets/base",
      "model_module_version": "1.2.0",
      "model_name": "LayoutModel",
      "state": {}
     },
     "d6912793ded942adb4bdf091b11dcbcb": {
      "model_module": "@jupyter-widgets/controls",
      "model_module_version": "1.5.0",
      "model_name": "VBoxModel",
      "state": {
       "_dom_classes": [
        "widget-interact"
       ],
       "children": [
        "IPY_MODEL_a8b7889c80524c87af823a15bfe83241",
        "IPY_MODEL_775bee3c08ec4f339f978bbe8479207c"
       ],
       "layout": "IPY_MODEL_97ee3e843a554969a2df492bcc0b7811"
      }
     },
     "d7626c51e1e14729b340f09a18ec7d4c": {
      "model_module": "@jupyter-widgets/controls",
      "model_module_version": "1.5.0",
      "model_name": "DropdownModel",
      "state": {
       "_options_labels": [
        "0",
        "1"
       ],
       "description": "b0",
       "index": 0,
       "layout": "IPY_MODEL_7849b4694e654c2e895b387432a06479",
       "style": "IPY_MODEL_8484949ae45c418bbf5c2070859a67c1"
      }
     },
     "d7bb867bf222407a9a6a0e214b807542": {
      "model_module": "@jupyter-widgets/controls",
      "model_module_version": "1.5.0",
      "model_name": "SliderStyleModel",
      "state": {
       "description_width": ""
      }
     },
     "dabbd3d8ad3b43a7ac660454c0cdef4f": {
      "model_module": "@jupyter-widgets/output",
      "model_module_version": "1.0.0",
      "model_name": "OutputModel",
      "state": {
       "layout": "IPY_MODEL_07422485bb9e49ff9389dea7ae548969",
       "outputs": [
        {
         "ename": "NameError",
         "evalue": "name 'length_of_hypotenus' is not defined",
         "output_type": "error",
         "traceback": [
          "\u001b[0;31m---------------------------------------------------------------------------\u001b[0m",
          "\u001b[0;31mNameError\u001b[0m                                 Traceback (most recent call last)",
          "\u001b[0;32m/opt/anaconda/lib/python3.7/site-packages/ipywidgets/widgets/interaction.py\u001b[0m in \u001b[0;36mupdate\u001b[0;34m(self, *args)\u001b[0m\n\u001b[1;32m    254\u001b[0m                     \u001b[0mvalue\u001b[0m \u001b[0;34m=\u001b[0m \u001b[0mwidget\u001b[0m\u001b[0;34m.\u001b[0m\u001b[0mget_interact_value\u001b[0m\u001b[0;34m(\u001b[0m\u001b[0;34m)\u001b[0m\u001b[0;34m\u001b[0m\u001b[0;34m\u001b[0m\u001b[0m\n\u001b[1;32m    255\u001b[0m                     \u001b[0mself\u001b[0m\u001b[0;34m.\u001b[0m\u001b[0mkwargs\u001b[0m\u001b[0;34m[\u001b[0m\u001b[0mwidget\u001b[0m\u001b[0;34m.\u001b[0m\u001b[0m_kwarg\u001b[0m\u001b[0;34m]\u001b[0m \u001b[0;34m=\u001b[0m \u001b[0mvalue\u001b[0m\u001b[0;34m\u001b[0m\u001b[0;34m\u001b[0m\u001b[0m\n\u001b[0;32m--> 256\u001b[0;31m                 \u001b[0mself\u001b[0m\u001b[0;34m.\u001b[0m\u001b[0mresult\u001b[0m \u001b[0;34m=\u001b[0m \u001b[0mself\u001b[0m\u001b[0;34m.\u001b[0m\u001b[0mf\u001b[0m\u001b[0;34m(\u001b[0m\u001b[0;34m**\u001b[0m\u001b[0mself\u001b[0m\u001b[0;34m.\u001b[0m\u001b[0mkwargs\u001b[0m\u001b[0;34m)\u001b[0m\u001b[0;34m\u001b[0m\u001b[0;34m\u001b[0m\u001b[0m\n\u001b[0m\u001b[1;32m    257\u001b[0m                 \u001b[0mshow_inline_matplotlib_plots\u001b[0m\u001b[0;34m(\u001b[0m\u001b[0;34m)\u001b[0m\u001b[0;34m\u001b[0m\u001b[0;34m\u001b[0m\u001b[0m\n\u001b[1;32m    258\u001b[0m                 \u001b[0;32mif\u001b[0m \u001b[0mself\u001b[0m\u001b[0;34m.\u001b[0m\u001b[0mauto_display\u001b[0m \u001b[0;32mand\u001b[0m \u001b[0mself\u001b[0m\u001b[0;34m.\u001b[0m\u001b[0mresult\u001b[0m \u001b[0;32mis\u001b[0m \u001b[0;32mnot\u001b[0m \u001b[0;32mNone\u001b[0m\u001b[0;34m:\u001b[0m\u001b[0;34m\u001b[0m\u001b[0;34m\u001b[0m\u001b[0m\n",
          "\u001b[0;32m<ipython-input-16-dc91d03df19f>\u001b[0m in \u001b[0;36mcalculate_hypotenus_length\u001b[0;34m(a, b)\u001b[0m\n\u001b[1;32m      1\u001b[0m \u001b[0;34m@\u001b[0m\u001b[0minteract\u001b[0m\u001b[0;34m(\u001b[0m\u001b[0ma\u001b[0m\u001b[0;34m=\u001b[0m\u001b[0;34m(\u001b[0m\u001b[0;36m0\u001b[0m\u001b[0;34m,\u001b[0m \u001b[0;36m10\u001b[0m\u001b[0;34m,\u001b[0m \u001b[0;36m1\u001b[0m\u001b[0;34m)\u001b[0m\u001b[0;34m,\u001b[0m \u001b[0mb\u001b[0m\u001b[0;34m=\u001b[0m\u001b[0;34m(\u001b[0m\u001b[0;36m0\u001b[0m\u001b[0;34m,\u001b[0m \u001b[0;36m10\u001b[0m\u001b[0;34m,\u001b[0m \u001b[0;36m1\u001b[0m\u001b[0;34m)\u001b[0m\u001b[0;34m)\u001b[0m\u001b[0;34m\u001b[0m\u001b[0;34m\u001b[0m\u001b[0m\n\u001b[1;32m      2\u001b[0m \u001b[0;32mdef\u001b[0m \u001b[0mcalculate_hypotenus_length\u001b[0m\u001b[0;34m(\u001b[0m\u001b[0ma\u001b[0m\u001b[0;34m=\u001b[0m\u001b[0;36m3\u001b[0m\u001b[0;34m,\u001b[0m \u001b[0mb\u001b[0m\u001b[0;34m=\u001b[0m\u001b[0;36m4\u001b[0m\u001b[0;34m)\u001b[0m\u001b[0;34m:\u001b[0m\u001b[0;34m\u001b[0m\u001b[0;34m\u001b[0m\u001b[0m\n\u001b[0;32m----> 3\u001b[0;31m     \u001b[0mprint\u001b[0m\u001b[0;34m(\u001b[0m\u001b[0;34m'c: {:.2f}'\u001b[0m\u001b[0;34m.\u001b[0m\u001b[0mformat\u001b[0m\u001b[0;34m(\u001b[0m\u001b[0mlength_of_hypotenus\u001b[0m\u001b[0;34m(\u001b[0m\u001b[0ma\u001b[0m\u001b[0;34m,\u001b[0m \u001b[0mb\u001b[0m\u001b[0;34m)\u001b[0m\u001b[0;34m)\u001b[0m\u001b[0;34m)\u001b[0m\u001b[0;34m\u001b[0m\u001b[0;34m\u001b[0m\u001b[0m\n\u001b[0m",
          "\u001b[0;31mNameError\u001b[0m: name 'length_of_hypotenus' is not defined"
         ]
        }
       ]
      }
     },
     "dd0e4eab528849a288b12645706e960a": {
      "model_module": "@jupyter-widgets/controls",
      "model_module_version": "1.5.0",
      "model_name": "IntSliderModel",
      "state": {
       "description": "a",
       "layout": "IPY_MODEL_89709a57198a4ec4ac63d8d519fc1740",
       "max": 10,
       "min": -10,
       "style": "IPY_MODEL_21c55ecf806347fe945e0ee8a73a78c0",
       "value": 1
      }
     },
     "e29bde0d124c4cf39a2526d49a983649": {
      "model_module": "@jupyter-widgets/base",
      "model_module_version": "1.2.0",
      "model_name": "LayoutModel",
      "state": {}
     },
     "e3284c4b17544bacbde44ba9bba14d62": {
      "model_module": "@jupyter-widgets/controls",
      "model_module_version": "1.5.0",
      "model_name": "DropdownModel",
      "state": {
       "_options_labels": [
        "0",
        "1"
       ],
       "description": "b4",
       "index": 0,
       "layout": "IPY_MODEL_0a02333a23514a3ea2e030786cbbb011",
       "style": "IPY_MODEL_2beb1667860e4c34a36d1f290e380050"
      }
     },
     "e8480ad196184a33ba56b974eab42669": {
      "model_module": "@jupyter-widgets/controls",
      "model_module_version": "1.5.0",
      "model_name": "SliderStyleModel",
      "state": {
       "description_width": ""
      }
     },
     "e8cd1a111f064914b8e03fad77e229c0": {
      "model_module": "@jupyter-widgets/base",
      "model_module_version": "1.2.0",
      "model_name": "LayoutModel",
      "state": {}
     },
     "e941b1949ef44972a64f29e0914c3f50": {
      "model_module": "@jupyter-widgets/controls",
      "model_module_version": "1.5.0",
      "model_name": "SliderStyleModel",
      "state": {
       "description_width": ""
      }
     },
     "eb60cb8e496441e8a9f8d575ef0fcaf5": {
      "model_module": "@jupyter-widgets/base",
      "model_module_version": "1.2.0",
      "model_name": "LayoutModel",
      "state": {}
     },
     "eb962828109445279a7a87ff04012dec": {
      "model_module": "@jupyter-widgets/output",
      "model_module_version": "1.0.0",
      "model_name": "OutputModel",
      "state": {
       "layout": "IPY_MODEL_2f7d9146e8a8499885da80bcaa51fe85",
       "outputs": [
        {
         "ename": "NameError",
         "evalue": "name 'length_of_hypotenus' is not defined",
         "output_type": "error",
         "traceback": [
          "\u001b[0;31m---------------------------------------------------------------------------\u001b[0m",
          "\u001b[0;31mNameError\u001b[0m                                 Traceback (most recent call last)",
          "\u001b[0;32m/opt/anaconda/lib/python3.7/site-packages/ipywidgets/widgets/interaction.py\u001b[0m in \u001b[0;36mupdate\u001b[0;34m(self, *args)\u001b[0m\n\u001b[1;32m    254\u001b[0m                     \u001b[0mvalue\u001b[0m \u001b[0;34m=\u001b[0m \u001b[0mwidget\u001b[0m\u001b[0;34m.\u001b[0m\u001b[0mget_interact_value\u001b[0m\u001b[0;34m(\u001b[0m\u001b[0;34m)\u001b[0m\u001b[0;34m\u001b[0m\u001b[0;34m\u001b[0m\u001b[0m\n\u001b[1;32m    255\u001b[0m                     \u001b[0mself\u001b[0m\u001b[0;34m.\u001b[0m\u001b[0mkwargs\u001b[0m\u001b[0;34m[\u001b[0m\u001b[0mwidget\u001b[0m\u001b[0;34m.\u001b[0m\u001b[0m_kwarg\u001b[0m\u001b[0;34m]\u001b[0m \u001b[0;34m=\u001b[0m \u001b[0mvalue\u001b[0m\u001b[0;34m\u001b[0m\u001b[0;34m\u001b[0m\u001b[0m\n\u001b[0;32m--> 256\u001b[0;31m                 \u001b[0mself\u001b[0m\u001b[0;34m.\u001b[0m\u001b[0mresult\u001b[0m \u001b[0;34m=\u001b[0m \u001b[0mself\u001b[0m\u001b[0;34m.\u001b[0m\u001b[0mf\u001b[0m\u001b[0;34m(\u001b[0m\u001b[0;34m**\u001b[0m\u001b[0mself\u001b[0m\u001b[0;34m.\u001b[0m\u001b[0mkwargs\u001b[0m\u001b[0;34m)\u001b[0m\u001b[0;34m\u001b[0m\u001b[0;34m\u001b[0m\u001b[0m\n\u001b[0m\u001b[1;32m    257\u001b[0m                 \u001b[0mshow_inline_matplotlib_plots\u001b[0m\u001b[0;34m(\u001b[0m\u001b[0;34m)\u001b[0m\u001b[0;34m\u001b[0m\u001b[0;34m\u001b[0m\u001b[0m\n\u001b[1;32m    258\u001b[0m                 \u001b[0;32mif\u001b[0m \u001b[0mself\u001b[0m\u001b[0;34m.\u001b[0m\u001b[0mauto_display\u001b[0m \u001b[0;32mand\u001b[0m \u001b[0mself\u001b[0m\u001b[0;34m.\u001b[0m\u001b[0mresult\u001b[0m \u001b[0;32mis\u001b[0m \u001b[0;32mnot\u001b[0m \u001b[0;32mNone\u001b[0m\u001b[0;34m:\u001b[0m\u001b[0;34m\u001b[0m\u001b[0;34m\u001b[0m\u001b[0m\n",
          "\u001b[0;32m<ipython-input-17-34a798c98941>\u001b[0m in \u001b[0;36mcalculate_hypotenuse_length\u001b[0;34m(a, b)\u001b[0m\n\u001b[1;32m      1\u001b[0m \u001b[0;34m@\u001b[0m\u001b[0minteract\u001b[0m\u001b[0;34m(\u001b[0m\u001b[0ma\u001b[0m\u001b[0;34m=\u001b[0m\u001b[0;34m(\u001b[0m\u001b[0;36m0\u001b[0m\u001b[0;34m,\u001b[0m \u001b[0;36m10\u001b[0m\u001b[0;34m,\u001b[0m \u001b[0;36m1\u001b[0m\u001b[0;34m)\u001b[0m\u001b[0;34m,\u001b[0m \u001b[0mb\u001b[0m\u001b[0;34m=\u001b[0m\u001b[0;34m(\u001b[0m\u001b[0;36m0\u001b[0m\u001b[0;34m,\u001b[0m \u001b[0;36m10\u001b[0m\u001b[0;34m,\u001b[0m \u001b[0;36m1\u001b[0m\u001b[0;34m)\u001b[0m\u001b[0;34m)\u001b[0m\u001b[0;34m\u001b[0m\u001b[0;34m\u001b[0m\u001b[0m\n\u001b[1;32m      2\u001b[0m \u001b[0;32mdef\u001b[0m \u001b[0mcalculate_hypotenuse_length\u001b[0m\u001b[0;34m(\u001b[0m\u001b[0ma\u001b[0m\u001b[0;34m=\u001b[0m\u001b[0;36m3\u001b[0m\u001b[0;34m,\u001b[0m \u001b[0mb\u001b[0m\u001b[0;34m=\u001b[0m\u001b[0;36m4\u001b[0m\u001b[0;34m)\u001b[0m\u001b[0;34m:\u001b[0m\u001b[0;34m\u001b[0m\u001b[0;34m\u001b[0m\u001b[0m\n\u001b[0;32m----> 3\u001b[0;31m     \u001b[0mprint\u001b[0m\u001b[0;34m(\u001b[0m\u001b[0;34m'c: {:.2f}'\u001b[0m\u001b[0;34m.\u001b[0m\u001b[0mformat\u001b[0m\u001b[0;34m(\u001b[0m\u001b[0mlength_of_hypotenus\u001b[0m\u001b[0;34m(\u001b[0m\u001b[0ma\u001b[0m\u001b[0;34m,\u001b[0m \u001b[0mb\u001b[0m\u001b[0;34m)\u001b[0m\u001b[0;34m)\u001b[0m\u001b[0;34m)\u001b[0m\u001b[0;34m\u001b[0m\u001b[0;34m\u001b[0m\u001b[0m\n\u001b[0m",
          "\u001b[0;31mNameError\u001b[0m: name 'length_of_hypotenus' is not defined"
         ]
        }
       ]
      }
     },
     "efe7a7d0532e4c3c92e38bd71b060fa6": {
      "model_module": "@jupyter-widgets/base",
      "model_module_version": "1.2.0",
      "model_name": "LayoutModel",
      "state": {}
     },
     "f09d712201184c9b94c00e25903f8e3a": {
      "model_module": "@jupyter-widgets/base",
      "model_module_version": "1.2.0",
      "model_name": "LayoutModel",
      "state": {}
     },
     "f17aa215f3f24c359d05ecb68977e5bd": {
      "model_module": "@jupyter-widgets/controls",
      "model_module_version": "1.5.0",
      "model_name": "DropdownModel",
      "state": {
       "_options_labels": [
        "0",
        "1"
       ],
       "description": "b3",
       "index": 0,
       "layout": "IPY_MODEL_20e92dcf6fd342b2ac47f05b6f9e4734",
       "style": "IPY_MODEL_0a279905beaa44d384065e1c8ab37d0b"
      }
     },
     "f1f6d749081c4faca17acb58693dadac": {
      "model_module": "@jupyter-widgets/base",
      "model_module_version": "1.2.0",
      "model_name": "LayoutModel",
      "state": {}
     },
     "f4347b9b90a7454eb5bb48997c76b83a": {
      "model_module": "@jupyter-widgets/base",
      "model_module_version": "1.2.0",
      "model_name": "LayoutModel",
      "state": {}
     },
     "f7cd89217fbd45748e57a2e525f13028": {
      "model_module": "@jupyter-widgets/base",
      "model_module_version": "1.2.0",
      "model_name": "LayoutModel",
      "state": {}
     },
     "faf70cd1f04543f18232f891044d9409": {
      "model_module": "@jupyter-widgets/base",
      "model_module_version": "1.2.0",
      "model_name": "LayoutModel",
      "state": {}
     },
     "fc131f372f1846d9b8715402f28c8810": {
      "model_module": "@jupyter-widgets/base",
      "model_module_version": "1.2.0",
      "model_name": "LayoutModel",
      "state": {}
     },
     "fcb0fe9eef934ae8b3e79fd981eeb7bc": {
      "model_module": "@jupyter-widgets/controls",
      "model_module_version": "1.5.0",
      "model_name": "IntSliderModel",
      "state": {
       "description": "a",
       "layout": "IPY_MODEL_aa7965a3bb534df59919a39042fc5c12",
       "max": 10,
       "min": -10,
       "style": "IPY_MODEL_c7870247a42147698dfd6eee0fab2881"
      }
     },
     "fcd42c6f375e41c78391767fa7efdc06": {
      "model_module": "@jupyter-widgets/base",
      "model_module_version": "1.2.0",
      "model_name": "LayoutModel",
      "state": {}
     },
     "fd6f04f13b2646f7ac1f57bc90b080ec": {
      "model_module": "@jupyter-widgets/controls",
      "model_module_version": "1.5.0",
      "model_name": "IntSliderModel",
      "state": {
       "description": "a",
       "layout": "IPY_MODEL_124fd741dba248f58f72cb54c2cfb2cd",
       "max": 10,
       "style": "IPY_MODEL_ab481efba8cd440999e30fbe9414b634",
       "value": 3
      }
     },
     "fe12a74ac60c41e78b77818528b21cc7": {
      "model_module": "@jupyter-widgets/controls",
      "model_module_version": "1.5.0",
      "model_name": "IntSliderModel",
      "state": {
       "description": "c",
       "layout": "IPY_MODEL_bcf273001bbe4f9cb422982dff0c3d3d",
       "max": 10,
       "min": -10,
       "style": "IPY_MODEL_cec62cbb12004a10a969885260df23d5",
       "value": 1
      }
     },
     "fe4b44296409452eb4cd514ab6d5a788": {
      "model_module": "@jupyter-widgets/base",
      "model_module_version": "1.2.0",
      "model_name": "LayoutModel",
      "state": {}
     }
    },
    "version_major": 2,
    "version_minor": 0
   }
  }
 },
 "nbformat": 4,
 "nbformat_minor": 4
}