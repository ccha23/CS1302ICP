{
 "cells": [
  {
   "cell_type": "markdown",
   "metadata": {
    "slideshow": {
     "slide_type": "slide"
    }
   },
   "source": [
    "# Cybersecurity"
   ]
  },
  {
   "cell_type": "markdown",
   "metadata": {
    "slideshow": {
     "slide_type": "-"
    },
    "tags": [
     "remove-cell"
    ]
   },
   "source": [
    "**CS1302 Introduction to Computer Programming**\n",
    "___"
   ]
  },
  {
   "cell_type": "markdown",
   "metadata": {
    "slideshow": {
     "slide_type": "subslide"
    }
   },
   "source": [
    "Python is a popular tool among hackers and engineers. In this lab, you will learn Cryptology in cybersecurity, which covers\n",
    "- [Cryptography](https://en.wikipedia.org/wiki/Cryptography): Encryption and decryption using a cipher.\n",
    "- [Cryptanalysis](https://en.wikipedia.org/wiki/Cryptanalysis): Devising an attack to break a cipher."
   ]
  },
  {
   "cell_type": "markdown",
   "metadata": {
    "slideshow": {
     "slide_type": "slide"
    }
   },
   "source": [
    "## Caesar symmetric key cipher"
   ]
  },
  {
   "cell_type": "markdown",
   "metadata": {
    "slideshow": {
     "slide_type": "fragment"
    }
   },
   "source": [
    "We first implements a simple cipher called the [Caesar cipher](https://en.wikipedia.org/wiki/Caesar_cipher)."
   ]
  },
  {
   "cell_type": "code",
   "execution_count": null,
   "metadata": {
    "ExecuteTime": {
     "end_time": "2020-11-09T04:49:05.347986Z",
     "start_time": "2020-11-09T04:49:05.333249Z"
    },
    "slideshow": {
     "slide_type": "-"
    }
   },
   "outputs": [],
   "source": [
    "%%html\n",
    "<iframe width=\"912\" height=\"513\" src=\"https://www.youtube.com/embed/sMOZf4GN3oc\" frameborder=\"0\" allow=\"accelerometer; autoplay; clipboard-write; encrypted-media; gyroscope; picture-in-picture\" allowfullscreen></iframe>"
   ]
  },
  {
   "cell_type": "markdown",
   "metadata": {
    "slideshow": {
     "slide_type": "subslide"
    }
   },
   "source": [
    "### Encrypt/decrypt a character"
   ]
  },
  {
   "cell_type": "markdown",
   "metadata": {
    "slideshow": {
     "slide_type": "fragment"
    }
   },
   "source": [
    "**How to encrypt a character?**"
   ]
  },
  {
   "cell_type": "markdown",
   "metadata": {
    "slideshow": {
     "slide_type": "fragment"
    }
   },
   "source": [
    "The following code encrypts a character `char` using a non-negative integer `key`."
   ]
  },
  {
   "cell_type": "code",
   "execution_count": null,
   "metadata": {
    "ExecuteTime": {
     "end_time": "2020-11-17T03:08:20.638346Z",
     "start_time": "2020-11-17T03:08:20.634560Z"
    },
    "code_folding": [],
    "slideshow": {
     "slide_type": "-"
    }
   },
   "outputs": [],
   "source": [
    "cc_n = 1114112\n",
    "\n",
    "\n",
    "def cc_encrypt_character(char, key):\n",
    "    '''\n",
    "    Return the encryption of a character by an integer key using Caesar cipher.\n",
    "    \n",
    "    Parameters\n",
    "    ----------\n",
    "    char (str): a unicode (UTF-8) character to be encrypted.\n",
    "    key (int): secret key to encrypt char.\n",
    "    '''\n",
    "    char_code = ord(char)\n",
    "    shifted_char_code = (char_code + key) % cc_n\n",
    "    encrypted_char = chr(shifted_char_code)\n",
    "    return encrypted_char"
   ]
  },
  {
   "cell_type": "markdown",
   "metadata": {
    "slideshow": {
     "slide_type": "fragment"
    }
   },
   "source": [
    "For example, to encrypt the letter `'A'` using a secret key `5`:"
   ]
  },
  {
   "cell_type": "code",
   "execution_count": null,
   "metadata": {
    "ExecuteTime": {
     "end_time": "2020-11-17T03:08:23.886021Z",
     "start_time": "2020-11-17T03:08:23.875412Z"
    },
    "slideshow": {
     "slide_type": "-"
    }
   },
   "outputs": [],
   "source": [
    "cc_encrypt_character('A', 5)"
   ]
  },
  {
   "cell_type": "markdown",
   "metadata": {
    "slideshow": {
     "slide_type": "fragment"
    }
   },
   "source": [
    "The character `'A'` is encrypted to the character `'F'` as follows:\n",
    "\n",
    "1. `ord(char)` return the integer `65` that is the code point (integer representation) of the unicode of `'A'`. \n",
    "2. `(char_code + key) % cc_n` cyclic shifts the code by the key `5`.\n",
    "3. `chr(shifted_char_code)` converts the shifted code back to a character, which is `'F'`.\n",
    "\n",
    "| Encryption                      |     |       |     |     |     |     |     |     |\n",
    "| ------------------------------- | --- | ----- | --- | --- | --- | --- | --- | --- |\n",
    "| `char`                          | ... | **A** | B   | C   | D   | E   | F   | ... |\n",
    "| `ord(char)`                     | ... | **65**| 66  | 67  | 68  | 69  | 70  | ... |\n",
    "| `(ord(char) + key) % cc_n`      | ... | **70**| 71  | 72  | 73  | 74  | 75  | ... |\n",
    "| `(chr(ord(char) + key) % cc_n)` | ... | **F** | G   | H   | I   | J   | K   | ... |"
   ]
  },
  {
   "cell_type": "markdown",
   "metadata": {
    "slideshow": {
     "slide_type": "fragment"
    }
   },
   "source": [
    "You may learn more about `ord` and `chr` from their docstrings:"
   ]
  },
  {
   "cell_type": "code",
   "execution_count": null,
   "metadata": {
    "ExecuteTime": {
     "end_time": "2020-11-17T03:08:26.346900Z",
     "start_time": "2020-11-17T03:08:26.339271Z"
    },
    "slideshow": {
     "slide_type": "-"
    }
   },
   "outputs": [],
   "source": [
    "help(ord)\n",
    "help(chr)"
   ]
  },
  {
   "cell_type": "markdown",
   "metadata": {
    "slideshow": {
     "slide_type": "subslide"
    }
   },
   "source": [
    "**How to decrypt a character?**"
   ]
  },
  {
   "cell_type": "markdown",
   "metadata": {
    "slideshow": {
     "slide_type": "fragment"
    }
   },
   "source": [
    "Mathematically, we define the encryption and decryption of a character for Caesar cipher as\n",
    "\n",
    "$$ \\begin{aligned} E(x,k) &:= x + k \\mod n & \\text{(encryption)} \\\\\n",
    "D(x,k) &:= x - k \\mod n & \\text{(decryption),} \\end{aligned}\n",
    "$$\n",
    "where $x$ is the character code in $\\{0,\\dots,n\\}$ and $k$ is the secret key. `mod` operator above is the modulo operator. In Mathematics, it has a lower precedence than addition and multiplication and is typeset with an extra space accordingly."
   ]
  },
  {
   "cell_type": "markdown",
   "metadata": {
    "slideshow": {
     "slide_type": "fragment"
    }
   },
   "source": [
    "The encryption and decryption satisfies the recoverability condition\n",
    "\n",
    "$$ D(E(x,k),k) = x $$\n",
    "so two people with a common secret key can encrypt and decrypt a character, but others not knowing the key cannot. This is a defining property of a [symmetric cipher](https://en.wikipedia.org/wiki/Symmetric-key_algorithm).  "
   ]
  },
  {
   "cell_type": "markdown",
   "metadata": {
    "slideshow": {
     "slide_type": "fragment"
    }
   },
   "source": [
    "The following code decrypts a character using a key."
   ]
  },
  {
   "cell_type": "code",
   "execution_count": null,
   "metadata": {
    "ExecuteTime": {
     "end_time": "2020-11-17T03:08:29.865342Z",
     "start_time": "2020-11-17T03:08:29.859315Z"
    },
    "slideshow": {
     "slide_type": "-"
    }
   },
   "outputs": [],
   "source": [
    "def cc_decrypt_character(char, key):\n",
    "    '''\n",
    "    Return the decryption of a character by the key using Caesar cipher.\n",
    "    \n",
    "    Parameters\n",
    "    ----------\n",
    "    char (str): a unicode (UTF-8) character to be decrypted.\n",
    "    key (int): secret key to decrypt char.\n",
    "    '''\n",
    "    char_code = ord(char)\n",
    "    shifted_char_code = (char_code - key) % cc_n\n",
    "    decrypted_char = chr(shifted_char_code)\n",
    "    return decrypted_char"
   ]
  },
  {
   "cell_type": "markdown",
   "metadata": {
    "slideshow": {
     "slide_type": "fragment"
    }
   },
   "source": [
    "For instance, to decrypt the letter `'F'` by the secret key `5`:"
   ]
  },
  {
   "cell_type": "code",
   "execution_count": null,
   "metadata": {
    "ExecuteTime": {
     "end_time": "2020-11-17T03:08:32.041347Z",
     "start_time": "2020-11-17T03:08:32.035063Z"
    },
    "slideshow": {
     "slide_type": "-"
    }
   },
   "outputs": [],
   "source": [
    "cc_decrypt_character('F',5)"
   ]
  },
  {
   "cell_type": "markdown",
   "metadata": {
    "slideshow": {
     "slide_type": "fragment"
    }
   },
   "source": [
    "The character `'F'` is decrypted back to `'A'` because\n",
    "`(char_code - key) % cc_n` reverse cyclic shifts the code by the key `5`.\n",
    "\n",
    "| Encryption                      |     |       |     |     |     |     |     |     | Decryption                      |\n",
    "| ------------------------------- | --- | ----- | --- | --- | --- | --- | --- | --- | ------------------------------- |\n",
    "| `char`                          | ... | **A** | B   | C   | D   | E   | F   | ... | `(chr(ord(char) - key) % cc_n)` |\n",
    "| `ord(char)`                     | ... | **65**| 66  | 67  | 68  | 69  | 70  | ... | `(ord(char) - key) % cc_n`      |\n",
    "| `(ord(char) + key) % cc_n`      | ... | **70**| 71  | 72  | 73  | 74  | 75  | ... | `ord(char)`                     |\n",
    "| `(chr(ord(char) + key) % cc_n)` | ... | **F** | G   | H   | I   | J   | K   | ... | `char`                          |"
   ]
  },
  {
   "cell_type": "markdown",
   "metadata": {
    "slideshow": {
     "slide_type": "subslide"
    }
   },
   "source": [
    "**Exercise** Why did we set `cc_n = 1114112`? Explain whether the recoverability property may fail if we set `cc_n` to a bigger number or remove `% cc_n` for both `cc_encrypt_character` and `cc_decrypt_character`."
   ]
  },
  {
   "cell_type": "markdown",
   "metadata": {
    "deletable": false,
    "nbgrader": {
     "cell_type": "markdown",
     "checksum": "e73c497e70f1a86fe0ead6483b3a7d17",
     "grade": true,
     "grade_id": "modulo",
     "locked": false,
     "points": 1,
     "schema_version": 3,
     "solution": true,
     "task": false
    },
    "slideshow": {
     "slide_type": "-"
    }
   },
   "source": [
    "YOUR ANSWER HERE"
   ]
  },
  {
   "cell_type": "markdown",
   "metadata": {
    "slideshow": {
     "slide_type": "slide"
    }
   },
   "source": [
    "### Encrypt a plaintext and decrypt a ciphertext"
   ]
  },
  {
   "cell_type": "markdown",
   "metadata": {
    "slideshow": {
     "slide_type": "fragment"
    }
   },
   "source": [
    "Of course, it is more interesting to encrypt a string instead of a character. The following code implements this in one line."
   ]
  },
  {
   "cell_type": "code",
   "execution_count": null,
   "metadata": {
    "ExecuteTime": {
     "end_time": "2020-11-17T03:08:34.917549Z",
     "start_time": "2020-11-17T03:08:34.914069Z"
    },
    "slideshow": {
     "slide_type": "-"
    }
   },
   "outputs": [],
   "source": [
    "def cc_encrypt(plaintext, key):\n",
    "    '''\n",
    "    Return the ciphertext of a plaintext by the key using Caesar cipher.\n",
    "    \n",
    "    Parameters\n",
    "    ----------\n",
    "    plaintext (str): a unicode (UTF-8) message in to be encrypted.\n",
    "    key (int): secret key to encrypt plaintext.\n",
    "    '''\n",
    "    return ''.join([chr((ord(char) + key) % cc_n) for char in plaintext])"
   ]
  },
  {
   "cell_type": "markdown",
   "metadata": {
    "slideshow": {
     "slide_type": "fragment"
    }
   },
   "source": [
    "The above function encrypts a message, referred to as the *plaintext*, by replacing each character with its encryption.  \n",
    "This is referred to as a [*substitution cipher*](https://en.wikipedia.org/wiki/Substitution_cipher)."
   ]
  },
  {
   "cell_type": "markdown",
   "metadata": {
    "slideshow": {
     "slide_type": "subslide"
    }
   },
   "source": [
    "**Exercise** Define a function `cc_decrypt` that\n",
    "- takes a string `ciphertext` and an integer `key`, and\n",
    "- returns the plaintext that encrypts to `ciphertext` by the key using Caesar cipher."
   ]
  },
  {
   "cell_type": "code",
   "execution_count": null,
   "metadata": {
    "ExecuteTime": {
     "end_time": "2020-11-17T03:08:37.286329Z",
     "start_time": "2020-11-17T03:08:37.282400Z"
    },
    "deletable": false,
    "nbgrader": {
     "cell_type": "code",
     "checksum": "d09d1366e8a92562ab14937d0195d974",
     "grade": false,
     "grade_id": "cc_decrypt",
     "locked": false,
     "schema_version": 3,
     "solution": true,
     "task": false
    },
    "slideshow": {
     "slide_type": "-"
    }
   },
   "outputs": [],
   "source": [
    "def cc_decrypt(ciphertext, key):\n",
    "    '''\n",
    "    Return the plaintext that encrypts to ciphertext by the key using Caesar cipher.\n",
    "    \n",
    "    Parameters\n",
    "    ----------\n",
    "    ciphertext (str): message to be decrypted.\n",
    "    key (int): secret key to decrypt the ciphertext.\n",
    "    '''\n",
    "    # YOUR CODE HERE\n",
    "    raise NotImplementedError()"
   ]
  },
  {
   "cell_type": "code",
   "execution_count": null,
   "metadata": {
    "ExecuteTime": {
     "end_time": "2020-11-17T03:08:42.313379Z",
     "start_time": "2020-11-17T03:08:42.307611Z"
    },
    "code_folding": [],
    "deletable": false,
    "editable": false,
    "nbgrader": {
     "cell_type": "code",
     "checksum": "3bdf0e0e2e2ab8544e072ed122ee980b",
     "grade": true,
     "grade_id": "test-cc_decrypt",
     "locked": true,
     "points": 1,
     "schema_version": 3,
     "solution": false,
     "task": false
    },
    "slideshow": {
     "slide_type": "-"
    }
   },
   "outputs": [],
   "source": [
    "# tests\n",
    "assert cc_decrypt(r'bcdefghijklmnopqrstuvwxyz{',1) == 'abcdefghijklmnopqrstuvwxyz'\n",
    "assert cc_decrypt(r'Mjqqt1%\\twqi&',5) == 'Hello, World!'"
   ]
  },
  {
   "cell_type": "markdown",
   "metadata": {
    "slideshow": {
     "slide_type": "slide"
    }
   },
   "source": [
    "## Brute-force attack"
   ]
  },
  {
   "cell_type": "markdown",
   "metadata": {},
   "source": [
    "### Create an English dictionary"
   ]
  },
  {
   "cell_type": "markdown",
   "metadata": {
    "slideshow": {
     "slide_type": "fragment"
    }
   },
   "source": [
    "You will launch a brute-force attack to guess the key that encrypts an English text. The idea is simple: \n",
    "\n",
    "- You try decrypting the ciphertext with different keys, and \n",
    "- see which of the resulting plaintexts make most sense (most english-like)."
   ]
  },
  {
   "cell_type": "markdown",
   "metadata": {
    "slideshow": {
     "slide_type": "fragment"
    }
   },
   "source": [
    "To check whether a plaintext is English-like, we need to have a list of English words. One way is to type them out\n",
    "but this is tedious. Alternatively, we can obtain the list from the *Natural Language Toolkit (NLTK)*: "
   ]
  },
  {
   "cell_type": "code",
   "execution_count": null,
   "metadata": {
    "ExecuteTime": {
     "end_time": "2020-11-17T03:08:46.906664Z",
     "start_time": "2020-11-17T03:08:46.235389Z"
    },
    "slideshow": {
     "slide_type": "-"
    }
   },
   "outputs": [],
   "source": [
    "import nltk\n",
    "nltk.download('words')\n",
    "from nltk.corpus import words"
   ]
  },
  {
   "cell_type": "markdown",
   "metadata": {
    "slideshow": {
     "slide_type": "subslide"
    }
   },
   "source": [
    "`words.words()` returns a list of words. We can check whether a string is in the list using the operator `in`. "
   ]
  },
  {
   "cell_type": "code",
   "execution_count": null,
   "metadata": {
    "ExecuteTime": {
     "end_time": "2020-11-17T03:08:49.796413Z",
     "start_time": "2020-11-17T03:08:49.523596Z"
    },
    "slideshow": {
     "slide_type": "-"
    }
   },
   "outputs": [],
   "source": [
    "for word in 'Ada', 'ada', 'Hello', 'hello':\n",
    "    print('{!r} in dictionary? {}'.format(word, word in words.words()))"
   ]
  },
  {
   "cell_type": "markdown",
   "metadata": {
    "slideshow": {
     "slide_type": "fragment"
    }
   },
   "source": [
    "However there are two issues:\n",
    "- Checking membership is slow for a long list.\n",
    "- Both 'Hello' and 'ada' are English-like but they are not in the words_list."
   ]
  },
  {
   "cell_type": "markdown",
   "metadata": {
    "slideshow": {
     "slide_type": "subslide"
    }
   },
   "source": [
    "**Exercise** Using the method `lower` of `str` and the constructor `set`, assign `dictionary` to a set of lowercase English words from `words.words()`."
   ]
  },
  {
   "cell_type": "code",
   "execution_count": null,
   "metadata": {
    "ExecuteTime": {
     "end_time": "2020-11-17T03:08:53.279779Z",
     "start_time": "2020-11-17T03:08:53.011557Z"
    },
    "deletable": false,
    "nbgrader": {
     "cell_type": "code",
     "checksum": "c088033e9235e017fc574ee035ead4ba",
     "grade": false,
     "grade_id": "nltk",
     "locked": false,
     "schema_version": 3,
     "solution": true,
     "task": false
    },
    "slideshow": {
     "slide_type": "-"
    }
   },
   "outputs": [],
   "source": [
    "# YOUR CODE HERE\n",
    "raise NotImplementedError()"
   ]
  },
  {
   "cell_type": "code",
   "execution_count": null,
   "metadata": {
    "ExecuteTime": {
     "end_time": "2020-11-17T03:08:55.290548Z",
     "start_time": "2020-11-17T03:08:55.283215Z"
    },
    "code_folding": [],
    "deletable": false,
    "editable": false,
    "nbgrader": {
     "cell_type": "code",
     "checksum": "c07d5fad71ff980f1896b88c297e6ef1",
     "grade": true,
     "grade_id": "test-nltk",
     "locked": true,
     "points": 1,
     "schema_version": 3,
     "solution": false,
     "task": false
    },
    "slideshow": {
     "slide_type": "-"
    }
   },
   "outputs": [],
   "source": [
    "# tests\n",
    "assert isinstance(dictionary,set) and len(dictionary) == 234377\n",
    "assert all(word in dictionary for word in ('ada', 'hello'))\n",
    "assert all(word not in dictionary for word in ('Ada', 'hola'))\n",
    "### BEGIN TESTS\n",
    "assert 'world' in dictionary\n",
    "assert not 'mundo' in dictionary\n",
    "### END TESTS"
   ]
  },
  {
   "cell_type": "markdown",
   "metadata": {
    "slideshow": {
     "slide_type": "subslide"
    }
   },
   "source": [
    "### Identify English-like text"
   ]
  },
  {
   "cell_type": "markdown",
   "metadata": {
    "slideshow": {
     "slide_type": "fragment"
    }
   },
   "source": [
    "To determine how English-like a text is, we calculate the following score:\n",
    "\n",
    "$$\n",
    "\\frac{\\text{number of English words in the text}}{\\text{number of tokens in the text}} \n",
    "$$\n",
    "where tokens are substrings (not necessarily an English word) separated by white space characters in the text."
   ]
  },
  {
   "cell_type": "code",
   "execution_count": null,
   "metadata": {
    "ExecuteTime": {
     "end_time": "2020-11-17T03:09:04.979585Z",
     "start_time": "2020-11-17T03:09:04.947293Z"
    },
    "slideshow": {
     "slide_type": "-"
    }
   },
   "outputs": [],
   "source": [
    "def tokenizer(text):\n",
    "    '''Returns the list of tokens of the text.'''\n",
    "    return text.split()\n",
    "\n",
    "def get_score(text):\n",
    "    '''Return the fraction of tokens which appear in dictionary.'''\n",
    "    tokens = tokenizer(text)\n",
    "    words = [token for token in tokens if token in dictionary]\n",
    "    return len(words)/len(tokens)\n",
    "\n",
    "# tests\n",
    "get_score('hello world'), get_score('Hello, World!')"
   ]
  },
  {
   "cell_type": "markdown",
   "metadata": {
    "slideshow": {
     "slide_type": "fragment"
    }
   },
   "source": [
    "As shown in tests above, the code fails to handle text with punctuations and uppercase letters properly.  \n",
    "In particular, \n",
    "- while `get_score` recognizes `hello world` as English-like and returns the maximum score of 1, \n",
    "- it fails to recognize `Hello, World!` as English-like and returns the minimum score of 0."
   ]
  },
  {
   "cell_type": "markdown",
   "metadata": {
    "slideshow": {
     "slide_type": "fragment"
    }
   },
   "source": [
    "Why? This is because every words in `dictionary`\n",
    "- are in lowercase, and\n",
    "- have no leading/trailing punctuations."
   ]
  },
  {
   "cell_type": "markdown",
   "metadata": {
    "slideshow": {
     "slide_type": "subslide"
    }
   },
   "source": [
    "**Exercise** Define a funtion `tokenizer` that \n",
    "- takes a string `text` as an argument, and\n",
    "- returns a `list` of tokens obtained by\n",
    "  1. splitting `text` into a list using `split()`;\n",
    "  2. removing leading/trailing punctuations in `string.punctuation` using the `strip` method; and\n",
    "  3. converting all items of the list to lowercase using `lower()`."
   ]
  },
  {
   "cell_type": "code",
   "execution_count": null,
   "metadata": {
    "ExecuteTime": {
     "end_time": "2020-11-17T03:09:09.393746Z",
     "start_time": "2020-11-17T03:09:09.387569Z"
    },
    "deletable": false,
    "nbgrader": {
     "cell_type": "code",
     "checksum": "9247e682967c8c3e7486a3a069f9b646",
     "grade": false,
     "grade_id": "tokenizer",
     "locked": false,
     "schema_version": 3,
     "solution": true,
     "task": false
    },
    "slideshow": {
     "slide_type": "-"
    }
   },
   "outputs": [],
   "source": [
    "import string\n",
    "\n",
    "def tokenizer(text):\n",
    "    '''Returns the list of tokens of the text such that \n",
    "    1) each token has no leading or training spaces/punctuations, and \n",
    "    2) all letters in each tokens are in lowercase.'''\n",
    "    # YOUR CODE HERE\n",
    "    raise NotImplementedError()"
   ]
  },
  {
   "cell_type": "code",
   "execution_count": null,
   "metadata": {
    "ExecuteTime": {
     "end_time": "2020-11-17T03:09:12.148792Z",
     "start_time": "2020-11-17T03:09:12.139611Z"
    },
    "code_folding": [],
    "deletable": false,
    "editable": false,
    "nbgrader": {
     "cell_type": "code",
     "checksum": "f02c8337f50c9078d12c224bdc8a6c90",
     "grade": true,
     "grade_id": "test-tokenizer",
     "locked": true,
     "points": 1,
     "schema_version": 3,
     "solution": false,
     "task": false
    },
    "slideshow": {
     "slide_type": "-"
    }
   },
   "outputs": [],
   "source": [
    "# tests\n",
    "assert tokenizer('Hello, World!') == ['hello', 'world']\n",
    "assert get_score('Hello, World!') >= 0.99999\n",
    "assert tokenizer('Do you know Jean-Pierre?') == ['do', 'you', 'know', 'jean-pierre']\n",
    "assert get_score('Do you know Jean-Pierre?') >= 0.99999"
   ]
  },
  {
   "cell_type": "markdown",
   "metadata": {
    "slideshow": {
     "slide_type": "slide"
    }
   },
   "source": [
    "### Launch a brute-force attack"
   ]
  },
  {
   "cell_type": "markdown",
   "metadata": {
    "slideshow": {
     "slide_type": "subslide"
    }
   },
   "source": [
    "**Exercise** Define the function `cc_attack` that \n",
    "- takes as arguments\n",
    "    - a string `ciphertext`,\n",
    "    - a floating point number `threshold` in the interval $(0,1)$ with a default value of $0.6$, and\n",
    "- returns a generator that  \n",
    "    - generates one-by-one in ascending order guesses of the key that\n",
    "    - decrypt `ciphertext` to texts with scores at least the `threshold`."
   ]
  },
  {
   "cell_type": "code",
   "execution_count": null,
   "metadata": {
    "ExecuteTime": {
     "end_time": "2020-11-17T03:09:28.289722Z",
     "start_time": "2020-11-17T03:09:28.283197Z"
    },
    "deletable": false,
    "nbgrader": {
     "cell_type": "code",
     "checksum": "164ae0302fc76ba33e73d32c87ca2aaf",
     "grade": false,
     "grade_id": "cc_attack",
     "locked": false,
     "schema_version": 3,
     "solution": true,
     "task": false
    },
    "slideshow": {
     "slide_type": "-"
    }
   },
   "outputs": [],
   "source": [
    "def cc_attack(ciphertext, threshold = 0.6):\n",
    "    '''Returns a generator that generates the next guess of the key that \n",
    "    decrypts the ciphertext to a text with get_score(text) at least the threshold.\n",
    "    '''\n",
    "    # YOUR CODE HERE\n",
    "    raise NotImplementedError()"
   ]
  },
  {
   "cell_type": "code",
   "execution_count": null,
   "metadata": {
    "ExecuteTime": {
     "end_time": "2020-11-17T03:09:34.144056Z",
     "start_time": "2020-11-17T03:09:34.059676Z"
    },
    "code_folding": [],
    "deletable": false,
    "editable": false,
    "nbgrader": {
     "cell_type": "code",
     "checksum": "8332c0ce06af0207eefd4552efde6f80",
     "grade": true,
     "grade_id": "test-cc_attack",
     "locked": true,
     "points": 1,
     "schema_version": 3,
     "solution": false,
     "task": false
    },
    "slideshow": {
     "slide_type": "-"
    }
   },
   "outputs": [],
   "source": [
    "# tests\n",
    "ciphertext = cc_encrypt(\"Hello, World!\",12345)\n",
    "key_generator = cc_attack(ciphertext)\n",
    "key_guess = next(key_generator)\n",
    "assert key_guess == 12345\n",
    "text = cc_decrypt(ciphertext, key_guess)\n",
    "print('guess of the key: {}\\nscore: {}\\ntext :{}'.format(key_guess,get_score(text),text))"
   ]
  },
  {
   "cell_type": "markdown",
   "metadata": {
    "slideshow": {
     "slide_type": "slide"
    }
   },
   "source": [
    "## Challenge"
   ]
  },
  {
   "cell_type": "markdown",
   "metadata": {},
   "source": [
    "Another symmetric key cipher is [columnar transposition cipher](https://en.wikipedia.org/wiki/Transposition_cipher#Columnar_transposition). A transposition cipher encrypts a text by permuting instead of substituting characters."
   ]
  },
  {
   "cell_type": "markdown",
   "metadata": {
    "ExecuteTime": {
     "end_time": "2020-11-02T16:48:02.519406Z",
     "start_time": "2020-11-02T16:48:02.515508Z"
    },
    "slideshow": {
     "slide_type": "subslide"
    }
   },
   "source": [
    "**Exercise** Study and implement the irregular case of the [columnar transposition cipher](https://en.wikipedia.org/wiki/Transposition_cipher#Columnar_transposition) as described in Wikipedia page. Define the functions \n",
    "- `ct_encrypt(plaintext, key)` for encryption, and \n",
    "- `ct_decrypt(ciphertext, key)` for decryption. \n",
    "\n",
    "You can assume the plaintext is in uppercase and has no spaces/punctuations. "
   ]
  },
  {
   "cell_type": "markdown",
   "metadata": {},
   "source": [
    "*Hints:* See the text cases for an example of `plaintext`, `key`, and the corresponding `ciphertext`. You can but are not required to follow the solution template below:\n",
    "\n",
    "```Python\n",
    "def argsort(seq):\n",
    "    '''A helper function that returns the tuple of indices that would sort the\n",
    "    sequence seq.'''\n",
    "    return tuple(x[0] for x in sorted(enumerate(seq), key=lambda x: x[1]))\n",
    "\n",
    "\n",
    "def ct_idx(length, key):\n",
    "    '''A helper function that returns the tuple of indices that would permute \n",
    "    the letters of a message according to the key using the irregular case of \n",
    "    columnar transposition cipher.'''\n",
    "    seq = tuple(range(length))\n",
    "    return [i for j in argsort(key) for i in _______________]\n",
    "\n",
    "\n",
    "def ct_encrypt(plaintext, key):\n",
    "    '''\n",
    "    Return the ciphertext of a plaintext by the key using the irregular case\n",
    "    of columnar transposition cipher.\n",
    "    \n",
    "    Parameters\n",
    "    ----------\n",
    "    plaintext (str): a message in uppercase without punctuations/spaces.\n",
    "    key (str): secret key to encrypt plaintext.\n",
    "    '''\n",
    "    return ''.join([plaintext[i] for i in ct_idx(len(plaintext), key)])\n",
    "\n",
    "\n",
    "def ct_decrypt(ciphertext, key):\n",
    "    '''\n",
    "    Return the plaintext of the ciphertext by the key using the irregular case\n",
    "    of columnar transposition cipher.\n",
    "    \n",
    "    Parameters\n",
    "    ----------\n",
    "    ciphertext (str): a string in uppercase without punctuations/spaces.\n",
    "    key (str): secret key to decrypt ciphertext.\n",
    "    '''        \n",
    "    return _______________________________________________________________________\n",
    "```"
   ]
  },
  {
   "cell_type": "code",
   "execution_count": null,
   "metadata": {
    "ExecuteTime": {
     "end_time": "2020-11-24T04:05:49.137601Z",
     "start_time": "2020-11-24T04:05:49.118597Z"
    },
    "deletable": false,
    "nbgrader": {
     "cell_type": "code",
     "checksum": "98df17cad7f85438965c855febc2b736",
     "grade": false,
     "grade_id": "ct",
     "locked": false,
     "schema_version": 3,
     "solution": true,
     "task": false
    },
    "slideshow": {
     "slide_type": "-"
    }
   },
   "outputs": [],
   "source": [
    "# YOUR CODE HERE\n",
    "raise NotImplementedError()"
   ]
  },
  {
   "cell_type": "code",
   "execution_count": null,
   "metadata": {
    "ExecuteTime": {
     "end_time": "2020-11-24T04:03:39.288318Z",
     "start_time": "2020-11-24T04:03:39.284254Z"
    },
    "deletable": false,
    "editable": false,
    "nbgrader": {
     "cell_type": "code",
     "checksum": "9c49b1d04cedd8e23783f1a4c47319c3",
     "grade": true,
     "grade_id": "test-ct",
     "locked": true,
     "points": 1,
     "schema_version": 3,
     "solution": false,
     "task": false
    },
    "slideshow": {
     "slide_type": "-"
    }
   },
   "outputs": [],
   "source": [
    "# tests\n",
    "key = 'ZEBRAS'\n",
    "plaintext = 'WEAREDISCOVEREDFLEEATONCE'\n",
    "ciphertext = 'EVLNACDTESEAROFODEECWIREE'\n",
    "assert ct_encrypt(plaintext, key) == ciphertext\n",
    "assert ct_decrypt(ciphertext, key) == plaintext"
   ]
  }
 ],
 "metadata": {
  "kernelspec": {
   "display_name": "Python 3.7",
   "language": "python",
   "name": "python3"
  },
  "language_info": {
   "codemirror_mode": {
    "name": "ipython",
    "version": 3
   },
   "file_extension": ".py",
   "mimetype": "text/x-python",
   "name": "python",
   "nbconvert_exporter": "python",
   "pygments_lexer": "ipython3",
   "version": "3.7.6"
  },
  "latex_envs": {
   "LaTeX_envs_menu_present": true,
   "autoclose": false,
   "autocomplete": true,
   "bibliofile": "biblio.bib",
   "cite_by": "apalike",
   "current_citInitial": 1,
   "eqLabelWithNumbers": true,
   "eqNumInitial": 1,
   "hotkeys": {
    "equation": "Ctrl-E",
    "itemize": "Ctrl-I"
   },
   "labels_anchors": false,
   "latex_user_defs": false,
   "report_style_numbering": false,
   "user_envs_cfg": false
  },
  "rise": {
   "enable_chalkboard": true,
   "scroll": true,
   "theme": "white"
  },
  "toc": {
   "base_numbering": 1,
   "nav_menu": {
    "height": "195px",
    "width": "330px"
   },
   "number_sections": true,
   "sideBar": true,
   "skip_h1_title": true,
   "title_cell": "Table of Contents",
   "title_sidebar": "Contents",
   "toc_cell": false,
   "toc_position": {
    "height": "454.418px",
    "left": "1533px",
    "top": "110.284px",
    "width": "435.327px"
   },
   "toc_section_display": true,
   "toc_window_display": false
  }
 },
 "nbformat": 4,
 "nbformat_minor": 4
}