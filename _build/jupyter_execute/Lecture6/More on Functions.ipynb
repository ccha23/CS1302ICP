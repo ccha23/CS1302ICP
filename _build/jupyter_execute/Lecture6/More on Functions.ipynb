{
 "cells": [
  {
   "cell_type": "markdown",
   "metadata": {
    "cell_style": "center",
    "slideshow": {
     "slide_type": "slide"
    }
   },
   "source": [
    "# More on Functions"
   ]
  },
  {
   "cell_type": "markdown",
   "metadata": {
    "slideshow": {
     "slide_type": "-"
    },
    "tags": [
     "remove-cell"
    ]
   },
   "source": [
    "**CS1302 Introduction to Computer Programming**\n",
    "___"
   ]
  },
  {
   "cell_type": "code",
   "execution_count": 1,
   "metadata": {
    "ExecuteTime": {
     "end_time": "2020-11-27T11:20:04.656873Z",
     "start_time": "2020-11-27T11:20:04.651575Z"
    },
    "slideshow": {
     "slide_type": "fragment"
    },
    "tags": [
     "remove-cell"
    ]
   },
   "outputs": [],
   "source": [
    "%reload_ext mytutor"
   ]
  },
  {
   "cell_type": "markdown",
   "metadata": {
    "hide_input": true,
    "slideshow": {
     "slide_type": "slide"
    }
   },
   "source": [
    "## Recursion"
   ]
  },
  {
   "cell_type": "markdown",
   "metadata": {
    "slideshow": {
     "slide_type": "fragment"
    }
   },
   "source": [
    "Consider computing the [Fibonacci number](https://en.wikipedia.org/wiki/Fibonacci_number) of order $n$:\n",
    "\n",
    "$$\n",
    "F_n := \n",
    "\\begin{cases}\n",
    "F_{n-1}+F_{n-2} & n>1 \\kern1em \\text{(recurrence)}\\\\\n",
    "1 & n=1 \\kern1em \\text{(base case)}\\\\\n",
    "0 & n=0 \\kern1em \\text{(base case)}.\n",
    "\\end{cases}$$\n",
    "Fibonacci numbers have practical applications in generating [pseudorandom numbers](https://en.wikipedia.org/wiki/Lagged_Fibonacci_generator)."
   ]
  },
  {
   "cell_type": "markdown",
   "metadata": {
    "slideshow": {
     "slide_type": "subslide"
    }
   },
   "source": [
    "**Can we define the function by calling the function itself?**"
   ]
  },
  {
   "cell_type": "code",
   "execution_count": 2,
   "metadata": {
    "ExecuteTime": {
     "end_time": "2020-10-31T02:43:46.140516Z",
     "start_time": "2020-10-31T02:43:46.133048Z"
    },
    "code_folding": [],
    "collapsed": true,
    "jupyter": {
     "outputs_hidden": true
    },
    "slideshow": {
     "slide_type": "fragment"
    }
   },
   "outputs": [
    {
     "data": {
      "text/plain": [
       "1"
      ]
     },
     "execution_count": 2,
     "metadata": {},
     "output_type": "execute_result"
    },
    {
     "data": {
      "text/html": [
       "\n",
       "<iframe\n",
       "    width=\"1100\"\n",
       "    height=\"450\"\n",
       "    src=\"https://e-quiz.cs.cityu.edu.hk/opt/cs1302visualize.html#mode=display&code=def%20fibonacci%28n%29%3A%0A%20%20%20%20if%20n%20%3E%201%3A%0A%20%20%20%20%20%20%20%20return%20fibonacci%28n%20-%201%29%20%2B%20fibonacci%28n%20-%202%29%20%20%23%20recursion%0A%20%20%20%20elif%20n%20%3D%3D%201%3A%0A%20%20%20%20%20%20%20%20return%201%0A%20%20%20%20else%3A%0A%20%20%20%20%20%20%20%20return%200%0A%0Afibonacci%282%29%0A\"\n",
       "    frameborder=\"0\"\n",
       "    allowfullscreen\n",
       "></iframe>\n"
      ],
      "text/plain": [
       "<IPython.lib.display.IFrame at 0x7f8e1815b898>"
      ]
     },
     "metadata": {},
     "output_type": "display_data"
    }
   ],
   "source": [
    "%%mytutor -r -h 450\n",
    "def fibonacci(n):\n",
    "    if n > 1:\n",
    "        return fibonacci(n - 1) + fibonacci(n - 2)  # recursion\n",
    "    elif n == 1:\n",
    "        return 1\n",
    "    else:\n",
    "        return 0\n",
    "\n",
    "fibonacci(2)"
   ]
  },
  {
   "cell_type": "markdown",
   "metadata": {
    "slideshow": {
     "slide_type": "fragment"
    }
   },
   "source": [
    "[*Recursion*](https://en.wikipedia.org/wiki/Recursion_(computer_science)) is a function that calls itself (*recurs*)."
   ]
  },
  {
   "cell_type": "markdown",
   "metadata": {
    "slideshow": {
     "slide_type": "subslide"
    }
   },
   "source": [
    "**Exercise** Write a function `gcd` that implements the [Euclidean algorithm for the greatest common divisor](https://en.wikipedia.org/wiki/Euclidean_algorithm): \n",
    "\n",
    "$$\\operatorname{gcd}(a,b)=\\begin{cases}a & b=0\\\\ \\operatorname{gcd}(b, a\\operatorname{mod}b) & \\text{otherwise} \\end{cases}$$"
   ]
  },
  {
   "cell_type": "code",
   "execution_count": 3,
   "metadata": {
    "ExecuteTime": {
     "end_time": "2020-10-31T02:43:46.711458Z",
     "start_time": "2020-10-31T02:43:46.694334Z"
    },
    "nbgrader": {
     "grade": false,
     "grade_id": "gcd",
     "locked": false,
     "schema_version": 3,
     "solution": true,
     "task": false
    },
    "slideshow": {
     "slide_type": "-"
    }
   },
   "outputs": [
    {
     "data": {
      "text/plain": [
       "5"
      ]
     },
     "execution_count": 3,
     "metadata": {},
     "output_type": "execute_result"
    },
    {
     "data": {
      "text/html": [
       "\n",
       "<iframe\n",
       "    width=\"1100\"\n",
       "    height=\"550\"\n",
       "    src=\"https://e-quiz.cs.cityu.edu.hk/opt/cs1302visualize.html#mode=display&code=def%20gcd%28a%2C%20b%29%3A%0A%20%20%20%20%23%23%23%20BEGIN%20SOLUTION%0A%20%20%20%20return%20gcd%28b%2C%20a%20%25%20b%29%20if%20b%20else%20a%0A%20%20%20%20%23%23%23%20END%20SOLUTION%0A%0A%0Agcd%283%20%2A%205%2C%205%20%2A%207%29%0A\"\n",
       "    frameborder=\"0\"\n",
       "    allowfullscreen\n",
       "></iframe>\n"
      ],
      "text/plain": [
       "<IPython.lib.display.IFrame at 0x7f8e1815bef0>"
      ]
     },
     "metadata": {},
     "output_type": "display_data"
    }
   ],
   "source": [
    "%%mytutor -r -h 550\n",
    "def gcd(a, b):\n",
    "    ### BEGIN SOLUTION\n",
    "    return gcd(b, a % b) if b else a\n",
    "    ### END SOLUTION\n",
    "\n",
    "\n",
    "gcd(3 * 5, 5 * 7)"
   ]
  },
  {
   "cell_type": "markdown",
   "metadata": {
    "slideshow": {
     "slide_type": "subslide"
    }
   },
   "source": [
    "**Is recursion strictly necessary?**  "
   ]
  },
  {
   "cell_type": "markdown",
   "metadata": {
    "slideshow": {
     "slide_type": "fragment"
    }
   },
   "source": [
    "No. We can always convert a recursion to an iteration.  \n",
    "E.g., the following computes the Fibonnacci number of order using a while loop instead."
   ]
  },
  {
   "cell_type": "code",
   "execution_count": 4,
   "metadata": {
    "ExecuteTime": {
     "end_time": "2020-10-31T02:43:47.362797Z",
     "start_time": "2020-10-31T02:43:47.353483Z"
    },
    "slideshow": {
     "slide_type": "-"
    }
   },
   "outputs": [
    {
     "data": {
      "text/plain": [
       "2"
      ]
     },
     "execution_count": 4,
     "metadata": {},
     "output_type": "execute_result"
    },
    {
     "data": {
      "text/html": [
       "\n",
       "<iframe\n",
       "    width=\"1100\"\n",
       "    height=\"550\"\n",
       "    src=\"https://e-quiz.cs.cityu.edu.hk/opt/cs1302visualize.html#mode=display&code=def%20fibonacci_iteration%28n%29%3A%0A%20%20%20%20if%20n%20%3E%201%3A%0A%20%20%20%20%20%20%20%20_%2C%20F%20%3D%200%2C%201%20%20%23%20next%20two%20Fibonacci%20numbers%0A%20%20%20%20%20%20%20%20while%20n%20%3E%201%3A%0A%20%20%20%20%20%20%20%20%20%20%20%20_%2C%20F%2C%20n%20%3D%20F%2C%20F%20%2B%20_%2C%20n%20-%201%0A%20%20%20%20%20%20%20%20return%20F%0A%20%20%20%20elif%20n%20%3D%3D%201%3A%0A%20%20%20%20%20%20%20%20return%201%0A%20%20%20%20else%3A%0A%20%20%20%20%20%20%20%20return%200%0A%20%20%20%20%0Afibonacci_iteration%283%29%0A\"\n",
       "    frameborder=\"0\"\n",
       "    allowfullscreen\n",
       "></iframe>\n"
      ],
      "text/plain": [
       "<IPython.lib.display.IFrame at 0x7f8e1819b358>"
      ]
     },
     "metadata": {},
     "output_type": "display_data"
    }
   ],
   "source": [
    "%%mytutor -r -h 550\n",
    "def fibonacci_iteration(n):\n",
    "    if n > 1:\n",
    "        _, F = 0, 1  # next two Fibonacci numbers\n",
    "        while n > 1:\n",
    "            _, F, n = F, F + _, n - 1\n",
    "        return F\n",
    "    elif n == 1:\n",
    "        return 1\n",
    "    else:\n",
    "        return 0\n",
    "    \n",
    "fibonacci_iteration(3)"
   ]
  },
  {
   "cell_type": "code",
   "execution_count": 5,
   "metadata": {
    "ExecuteTime": {
     "end_time": "2020-10-31T02:43:47.372595Z",
     "start_time": "2020-10-31T02:43:47.364331Z"
    }
   },
   "outputs": [],
   "source": [
    "# more tests\n",
    "for n in range(5):\n",
    "    assert fibonacci(n) == fibonacci_iteration(n)"
   ]
  },
  {
   "cell_type": "markdown",
   "metadata": {
    "slideshow": {
     "slide_type": "fragment"
    }
   },
   "source": [
    "**Exercise** Implement `gcd_iteration` using a while loop instead of a recursion."
   ]
  },
  {
   "cell_type": "code",
   "execution_count": 6,
   "metadata": {
    "ExecuteTime": {
     "end_time": "2020-10-31T02:43:47.618077Z",
     "start_time": "2020-10-31T02:43:47.608529Z"
    },
    "code_folding": [],
    "nbgrader": {
     "grade": false,
     "grade_id": "gcd_iteration",
     "locked": false,
     "schema_version": 3,
     "solution": true,
     "task": false
    },
    "slideshow": {
     "slide_type": "-"
    }
   },
   "outputs": [
    {
     "data": {
      "text/plain": [
       "5"
      ]
     },
     "execution_count": 6,
     "metadata": {},
     "output_type": "execute_result"
    },
    {
     "data": {
      "text/html": [
       "\n",
       "<iframe\n",
       "    width=\"1100\"\n",
       "    height=\"550\"\n",
       "    src=\"https://e-quiz.cs.cityu.edu.hk/opt/cs1302visualize.html#mode=display&code=def%20gcd_iteration%28a%2C%20b%29%3A%0A%20%20%20%20%23%23%23%20BEGIN%20SOLUTION%0A%20%20%20%20while%20b%3A%0A%20%20%20%20%20%20%20%20a%2C%20b%20%3D%20b%2C%20a%20%25%20b%0A%20%20%20%20return%20a%0A%20%20%20%20%23%23%23%20END%20SOLUTION%0A%0A%0Agcd_iteration%283%20%2A%205%2C%205%20%2A%207%29%0A\"\n",
       "    frameborder=\"0\"\n",
       "    allowfullscreen\n",
       "></iframe>\n"
      ],
      "text/plain": [
       "<IPython.lib.display.IFrame at 0x7f8e18122940>"
      ]
     },
     "metadata": {},
     "output_type": "display_data"
    }
   ],
   "source": [
    "%%mytutor -r -h 550\n",
    "def gcd_iteration(a, b):\n",
    "    ### BEGIN SOLUTION\n",
    "    while b:\n",
    "        a, b = b, a % b\n",
    "    return a\n",
    "    ### END SOLUTION\n",
    "\n",
    "\n",
    "gcd_iteration(3 * 5, 5 * 7)"
   ]
  },
  {
   "cell_type": "code",
   "execution_count": 7,
   "metadata": {
    "ExecuteTime": {
     "end_time": "2020-10-31T02:43:47.626870Z",
     "start_time": "2020-10-31T02:43:47.619853Z"
    },
    "collapsed": true,
    "jupyter": {
     "outputs_hidden": true
    },
    "slideshow": {
     "slide_type": "fragment"
    }
   },
   "outputs": [],
   "source": [
    "# test\n",
    "for n in range(5):\n",
    "    assert fibonacci(n) == fibonacci_iteration(n)"
   ]
  },
  {
   "cell_type": "markdown",
   "metadata": {
    "slideshow": {
     "slide_type": "subslide"
    }
   },
   "source": [
    "**What is the benefit of recursion?**"
   ]
  },
  {
   "cell_type": "markdown",
   "metadata": {
    "slideshow": {
     "slide_type": "fragment"
    }
   },
   "source": [
    "- Recursion is often shorter and easier to understand.\n",
    "- It is also easier to write code by *wishful thinking* or *[declarative programming](https://en.wikipedia.org/wiki/Declarative_programming)*."
   ]
  },
  {
   "cell_type": "markdown",
   "metadata": {
    "slideshow": {
     "slide_type": "slide"
    }
   },
   "source": [
    "**Is recusion more efficient than iteration?**"
   ]
  },
  {
   "cell_type": "markdown",
   "metadata": {
    "slideshow": {
     "slide_type": "fragment"
    }
   },
   "source": [
    "**Exercise** Find the smallest values of `n` for`fibonacci(n)` and `fibonacci_iteration(n)` respectively to run for more than a second."
   ]
  },
  {
   "cell_type": "code",
   "execution_count": 8,
   "metadata": {
    "ExecuteTime": {
     "end_time": "2020-10-31T02:43:49.568032Z",
     "start_time": "2020-10-31T02:43:48.577448Z"
    },
    "collapsed": true,
    "jupyter": {
     "outputs_hidden": true
    },
    "nbgrader": {
     "grade": false,
     "grade_id": "fib_recursion",
     "locked": false,
     "schema_version": 3,
     "solution": true,
     "task": false
    },
    "slideshow": {
     "slide_type": "fragment"
    }
   },
   "outputs": [],
   "source": [
    "# Assign n\n",
    "### BEGIN SOLUTION\n",
    "n = 33\n",
    "### END SOLUTION\n",
    "fib_recursion = fibonacci(n)"
   ]
  },
  {
   "cell_type": "code",
   "execution_count": 9,
   "metadata": {
    "ExecuteTime": {
     "end_time": "2020-10-31T02:43:50.313458Z",
     "start_time": "2020-10-31T02:43:49.569918Z"
    },
    "collapsed": true,
    "jupyter": {
     "outputs_hidden": true
    },
    "nbgrader": {
     "grade": false,
     "grade_id": "fib_iteration",
     "locked": false,
     "schema_version": 3,
     "solution": true,
     "task": false
    },
    "slideshow": {
     "slide_type": "fragment"
    }
   },
   "outputs": [],
   "source": [
    "# Assign n\n",
    "### BEGIN SOLUTION\n",
    "n = 300000\n",
    "### END SOLUTION\n",
    "fib_iteration = fibonacci_iteration(n)"
   ]
  },
  {
   "cell_type": "markdown",
   "metadata": {
    "slideshow": {
     "slide_type": "subslide"
    }
   },
   "source": [
    "To see why recursion is slow, we will modify `fibonacci` to print each function call as follows."
   ]
  },
  {
   "cell_type": "code",
   "execution_count": 10,
   "metadata": {
    "ExecuteTime": {
     "end_time": "2020-10-31T02:43:50.324561Z",
     "start_time": "2020-10-31T02:43:50.315516Z"
    },
    "collapsed": true,
    "jupyter": {
     "outputs_hidden": true
    },
    "slideshow": {
     "slide_type": "-"
    }
   },
   "outputs": [
    {
     "name": "stdout",
     "output_type": "stream",
     "text": [
      "fibonacci(5)\n",
      "fibonacci(4)\n",
      "fibonacci(3)\n",
      "fibonacci(2)\n",
      "fibonacci(1)\n",
      "fibonacci(0)\n",
      "fibonacci(1)\n",
      "fibonacci(2)\n",
      "fibonacci(1)\n",
      "fibonacci(0)\n",
      "fibonacci(3)\n",
      "fibonacci(2)\n",
      "fibonacci(1)\n",
      "fibonacci(0)\n",
      "fibonacci(1)\n"
     ]
    },
    {
     "data": {
      "text/plain": [
       "5"
      ]
     },
     "execution_count": 10,
     "metadata": {},
     "output_type": "execute_result"
    }
   ],
   "source": [
    "def fibonacci(n):\n",
    "    '''Returns the Fibonacci number of order n.'''\n",
    "    print('fibonacci({!r})'.format(n))\n",
    "    return fibonacci(n - 1) + fibonacci(n - 2) if n > 1 else 1 if n == 1 else 0\n",
    "\n",
    "\n",
    "fibonacci(5)"
   ]
  },
  {
   "cell_type": "markdown",
   "metadata": {
    "slideshow": {
     "slide_type": "fragment"
    }
   },
   "source": [
    "`fibonacci(5)` calls `fibonacci(3)` and `fibonacci(4)`, which in turn call `fibonacci(2)` and `fibonacci(3)`. `fibonacci(3)` is called twice."
   ]
  },
  {
   "cell_type": "markdown",
   "metadata": {
    "slideshow": {
     "slide_type": "slide"
    }
   },
   "source": [
    "## Global Variables"
   ]
  },
  {
   "cell_type": "markdown",
   "metadata": {
    "slideshow": {
     "slide_type": "fragment"
    }
   },
   "source": [
    "Consider the problem of generating a sequence of Fibonacci numbers."
   ]
  },
  {
   "cell_type": "code",
   "execution_count": 11,
   "metadata": {
    "ExecuteTime": {
     "end_time": "2020-10-31T02:43:50.334349Z",
     "start_time": "2020-10-31T02:43:50.326085Z"
    },
    "slideshow": {
     "slide_type": "-"
    }
   },
   "outputs": [
    {
     "name": "stdout",
     "output_type": "stream",
     "text": [
      "0\n",
      "1\n",
      "1\n",
      "2\n",
      "3\n"
     ]
    }
   ],
   "source": [
    "for n in range(5):\n",
    "    print(fibonacci_iteration(n))"
   ]
  },
  {
   "cell_type": "markdown",
   "metadata": {
    "slideshow": {
     "slide_type": "fragment"
    }
   },
   "source": [
    "**Is the above loop efficient?**"
   ]
  },
  {
   "cell_type": "markdown",
   "metadata": {
    "slideshow": {
     "slide_type": "fragment"
    }
   },
   "source": [
    "No. Each call to `fibonacci_iteration(n)` recomputes the last two Fibonacci numbers $F_{n-1}$ and $F_{n-2}$ for $n\\geq 2$."
   ]
  },
  {
   "cell_type": "markdown",
   "metadata": {
    "slideshow": {
     "slide_type": "fragment"
    }
   },
   "source": [
    "**How to avoid redundant computations?**"
   ]
  },
  {
   "cell_type": "markdown",
   "metadata": {
    "slideshow": {
     "slide_type": "fragment"
    }
   },
   "source": [
    "One way is to store the last two computed Fibonacci numbers."
   ]
  },
  {
   "cell_type": "code",
   "execution_count": 12,
   "metadata": {
    "ExecuteTime": {
     "end_time": "2020-10-31T02:43:50.712718Z",
     "start_time": "2020-10-31T02:43:50.705710Z"
    },
    "code_folding": [],
    "collapsed": true,
    "jupyter": {
     "outputs_hidden": true
    },
    "slideshow": {
     "slide_type": "-"
    }
   },
   "outputs": [
    {
     "data": {
      "text/html": [
       "\n",
       "<iframe\n",
       "    width=\"1100\"\n",
       "    height=\"600\"\n",
       "    src=\"https://e-quiz.cs.cityu.edu.hk/opt/cs1302visualize.html#mode=display&code=def%20next_fibonacci%28%29%3A%0A%20%20%20%20%27%27%27Returns%20the%20next%20Fibonacci%20number.%27%27%27%0A%20%20%20%20global%20_Fn%2C%20_Fn1%2C%20_n%20%20%23%20global%20declaration%0A%20%20%20%20value%20%3D%20_Fn%0A%20%20%20%20_Fn%2C%20_Fn1%2C%20_n%20%3D%20_Fn1%2C%20_Fn%20%2B%20_Fn1%2C%20_n%20%2B%201%0A%20%20%20%20return%20value%0A%0Adef%20print_fibonacci_state%28%29%3A%0A%20%20%20%20print%28%27%27%27States%3A%0A%20%20%20%20_Fn%20%20%3A%20Next%20Fibonacci%20number%20%20%20%20%20%20%3D%20%7B%7D%0A%20%20%20%20_Fn1%20%3A%20Next%20next%20Fibonacci%20number%20%3D%20%7B%7D%0A%20%20%20%20_n%20%20%20%3A%20Next%20order%20%20%20%20%20%20%20%20%20%20%20%20%20%20%20%20%20%3D%20%7B%7D%27%27%27.format%28_Fn%2C_Fn1%2C_n%29%29%0A%0A%23%20global%20variables%20for%20next_fibonacci%20and%20print_fibonacci_state%0A_Fn%2C%20_Fn1%2C%20_n%20%3D%200%2C%201%2C%200%0A%0Afor%20n%20in%20range%285%29%3A%0A%20%20%20%20print%28next_fibonacci%28%29%29%0Aprint_fibonacci_state%28%29%0A\"\n",
       "    frameborder=\"0\"\n",
       "    allowfullscreen\n",
       "></iframe>\n"
      ],
      "text/plain": [
       "<IPython.lib.display.IFrame at 0x7f8e180fc0b8>"
      ]
     },
     "metadata": {},
     "output_type": "display_data"
    }
   ],
   "source": [
    "%%mytutor -h 600\n",
    "def next_fibonacci():\n",
    "    '''Returns the next Fibonacci number.'''\n",
    "    global _Fn, _Fn1, _n  # global declaration\n",
    "    value = _Fn\n",
    "    _Fn, _Fn1, _n = _Fn1, _Fn + _Fn1, _n + 1\n",
    "    return value\n",
    "\n",
    "def print_fibonacci_state():\n",
    "    print('''States:\n",
    "    _Fn  : Next Fibonacci number      = {}\n",
    "    _Fn1 : Next next Fibonacci number = {}\n",
    "    _n   : Next order                 = {}'''.format(_Fn,_Fn1,_n))\n",
    "\n",
    "# global variables for next_fibonacci and print_fibonacci_state\n",
    "_Fn, _Fn1, _n = 0, 1, 0\n",
    "\n",
    "for n in range(5):\n",
    "    print(next_fibonacci())\n",
    "print_fibonacci_state()"
   ]
  },
  {
   "cell_type": "markdown",
   "metadata": {
    "slideshow": {
     "slide_type": "fragment"
    }
   },
   "source": [
    "Rules for [*global/local variables*](https://docs.python.org/3/faq/programming.html#what-are-the-rules-for-local-and-global-variables-in-python):\n",
    "1. A local variable must be defined within a function.\n",
    "1. An assignment defines a local variable except in a [`global` statement](https://docs.python.org/3/reference/simple_stmts.html#the-global-statement)."
   ]
  },
  {
   "cell_type": "markdown",
   "metadata": {
    "slideshow": {
     "slide_type": "fragment"
    }
   },
   "source": [
    "**Why `global` is NOT needed in `print_fibonacci_state`?**"
   ]
  },
  {
   "cell_type": "markdown",
   "metadata": {
    "slideshow": {
     "slide_type": "fragment"
    }
   },
   "source": [
    "Without ambiguity, `_Fn, _Fn1, _n` in `print_fibonacci_state` are not local variables by Rule 1 because they are not defined within the function."
   ]
  },
  {
   "cell_type": "markdown",
   "metadata": {
    "slideshow": {
     "slide_type": "fragment"
    }
   },
   "source": [
    "**Why `global` is needed in `next_fibonacci`?**"
   ]
  },
  {
   "cell_type": "markdown",
   "metadata": {
    "slideshow": {
     "slide_type": "fragment"
    }
   },
   "source": [
    "What happens otherwise:"
   ]
  },
  {
   "cell_type": "code",
   "execution_count": 13,
   "metadata": {
    "ExecuteTime": {
     "end_time": "2020-10-31T02:43:52.064075Z",
     "start_time": "2020-10-31T02:43:52.022388Z"
    },
    "collapsed": true,
    "jupyter": {
     "outputs_hidden": true
    },
    "slideshow": {
     "slide_type": "-"
    }
   },
   "outputs": [
    {
     "ename": "UnboundLocalError",
     "evalue": "local variable '_Fn' referenced before assignment",
     "output_type": "error",
     "traceback": [
      "\u001b[0;31m---------------------------------------------------------------------------\u001b[0m",
      "\u001b[0;31mUnboundLocalError\u001b[0m                         Traceback (most recent call last)",
      "\u001b[0;32m<ipython-input-13-44c8c496bfd8>\u001b[0m in \u001b[0;36m<module>\u001b[0;34m\u001b[0m\n\u001b[1;32m      6\u001b[0m     \u001b[0;32mreturn\u001b[0m \u001b[0mvalue\u001b[0m\u001b[0;34m\u001b[0m\u001b[0;34m\u001b[0m\u001b[0m\n\u001b[1;32m      7\u001b[0m \u001b[0;34m\u001b[0m\u001b[0m\n\u001b[0;32m----> 8\u001b[0;31m \u001b[0mnext_fibonacci\u001b[0m\u001b[0;34m(\u001b[0m\u001b[0;34m)\u001b[0m\u001b[0;34m\u001b[0m\u001b[0;34m\u001b[0m\u001b[0m\n\u001b[0m",
      "\u001b[0;32m<ipython-input-13-44c8c496bfd8>\u001b[0m in \u001b[0;36mnext_fibonacci\u001b[0;34m()\u001b[0m\n\u001b[1;32m      2\u001b[0m     \u001b[0;34m'''Returns the next Fibonacci number.'''\u001b[0m\u001b[0;34m\u001b[0m\u001b[0;34m\u001b[0m\u001b[0m\n\u001b[1;32m      3\u001b[0m     \u001b[0;31m# global _Fn, _Fn1, _n\u001b[0m\u001b[0;34m\u001b[0m\u001b[0;34m\u001b[0m\u001b[0;34m\u001b[0m\u001b[0m\n\u001b[0;32m----> 4\u001b[0;31m     \u001b[0mvalue\u001b[0m \u001b[0;34m=\u001b[0m \u001b[0m_Fn\u001b[0m\u001b[0;34m\u001b[0m\u001b[0;34m\u001b[0m\u001b[0m\n\u001b[0m\u001b[1;32m      5\u001b[0m     \u001b[0m_Fn\u001b[0m\u001b[0;34m,\u001b[0m \u001b[0m_Fn1\u001b[0m\u001b[0;34m,\u001b[0m \u001b[0m_n\u001b[0m \u001b[0;34m=\u001b[0m \u001b[0m_Fn1\u001b[0m\u001b[0;34m,\u001b[0m \u001b[0m_Fn\u001b[0m \u001b[0;34m+\u001b[0m \u001b[0m_Fn1\u001b[0m\u001b[0;34m,\u001b[0m \u001b[0m_n\u001b[0m \u001b[0;34m+\u001b[0m \u001b[0;36m1\u001b[0m\u001b[0;34m\u001b[0m\u001b[0;34m\u001b[0m\u001b[0m\n\u001b[1;32m      6\u001b[0m     \u001b[0;32mreturn\u001b[0m \u001b[0mvalue\u001b[0m\u001b[0;34m\u001b[0m\u001b[0;34m\u001b[0m\u001b[0m\n",
      "\u001b[0;31mUnboundLocalError\u001b[0m: local variable '_Fn' referenced before assignment"
     ]
    }
   ],
   "source": [
    "def next_fibonacci():\n",
    "    '''Returns the next Fibonacci number.'''\n",
    "    # global _Fn, _Fn1, _n\n",
    "    value = _Fn\n",
    "    _Fn, _Fn1, _n = _Fn1, _Fn + _Fn1, _n + 1\n",
    "    return value\n",
    "\n",
    "next_fibonacci()"
   ]
  },
  {
   "cell_type": "markdown",
   "metadata": {
    "slideshow": {
     "slide_type": "fragment"
    }
   },
   "source": [
    "Why is there an `UnboundLocalError`?"
   ]
  },
  {
   "cell_type": "markdown",
   "metadata": {
    "slideshow": {
     "slide_type": "fragment"
    }
   },
   "source": [
    "- The assignment defines `_Fn` as a local variable by Rule 2.  \n",
    "- However, the assignment requires first evaluating `_Fn`, which is not yet defined."
   ]
  },
  {
   "cell_type": "markdown",
   "metadata": {
    "slideshow": {
     "slide_type": "subslide"
    }
   },
   "source": [
    "**Are global variables preferred over local ones?**"
   ]
  },
  {
   "cell_type": "markdown",
   "metadata": {},
   "source": [
    "Suppose for aesthetic reasons we remove the underscores in global variable names?"
   ]
  },
  {
   "cell_type": "code",
   "execution_count": 16,
   "metadata": {
    "ExecuteTime": {
     "end_time": "2020-10-31T02:43:53.266823Z",
     "start_time": "2020-10-31T02:43:53.262288Z"
    },
    "code_folding": [],
    "collapsed": true,
    "jupyter": {
     "outputs_hidden": true
    }
   },
   "outputs": [
    {
     "data": {
      "text/html": [
       "\n",
       "<iframe\n",
       "    width=\"1100\"\n",
       "    height=\"600\"\n",
       "    src=\"https://e-quiz.cs.cityu.edu.hk/opt/cs1302visualize.html#mode=display&code=def%20next_fibonacci%28%29%3A%0A%20%20%20%20%27%27%27Returns%20the%20next%20Fibonacci%20number.%27%27%27%0A%20%20%20%20global%20Fn%2C%20Fn1%2C%20n%0A%20%20%20%20value%20%3D%20Fn%0A%20%20%20%20Fn%2C%20Fn1%2C%20n%20%3D%20Fn1%2C%20Fn%20%2B%20Fn1%2C%20n%20%2B%201%0A%20%20%20%20return%20value%0A%0Adef%20print_fibonacci_state%28%29%3A%0A%20%20%20%20print%28%27%27%27States%3A%0A%20%20%20%20Fn%20%20%3A%20Next%20Fibonacci%20number%20%20%20%20%20%20%3D%20%7B%7D%0A%20%20%20%20Fn1%20%3A%20Next%20next%20Fibonacci%20number%20%3D%20%7B%7D%0A%20%20%20%20n%20%20%20%3A%20Next%20order%20%20%20%20%20%20%20%20%20%20%20%20%20%20%20%20%20%3D%20%7B%7D%27%27%27.format%28Fn%2CFn1%2Cn%29%29%0A%0A%23%20global%20variables%20renamed%20without%20underscores%0AFn%2C%20Fn1%2C%20n%20%3D%200%2C%201%2C%200%0A%0An%20%3D%200%0Awhile%20n%20%3C%205%3A%0A%20%20%20%20print%28next_fibonacci%28%29%29%0A%20%20%20%20n%20%2B%3D%201%0Aprint_fibonacci_state%28%29%0A\"\n",
       "    frameborder=\"0\"\n",
       "    allowfullscreen\n",
       "></iframe>\n"
      ],
      "text/plain": [
       "<IPython.lib.display.IFrame at 0x7f8bc0783d90>"
      ]
     },
     "metadata": {},
     "output_type": "display_data"
    }
   ],
   "source": [
    "%%mytutor -h 600\n",
    "def next_fibonacci():\n",
    "    '''Returns the next Fibonacci number.'''\n",
    "    global Fn, Fn1, n\n",
    "    value = Fn\n",
    "    Fn, Fn1, n = Fn1, Fn + Fn1, n + 1\n",
    "    return value\n",
    "\n",
    "def print_fibonacci_state():\n",
    "    print('''States:\n",
    "    Fn  : Next Fibonacci number      = {}\n",
    "    Fn1 : Next next Fibonacci number = {}\n",
    "    n   : Next order                 = {}'''.format(Fn,Fn1,n))\n",
    "\n",
    "# global variables renamed without underscores\n",
    "Fn, Fn1, n = 0, 1, 0\n",
    "\n",
    "n = 0\n",
    "while n < 5:\n",
    "    print(next_fibonacci())\n",
    "    n += 1\n",
    "print_fibonacci_state()"
   ]
  },
  {
   "cell_type": "markdown",
   "metadata": {
    "slideshow": {
     "slide_type": "fragment"
    }
   },
   "source": [
    "**Exercise** Why does the while loop prints only 3 instead of 5 Fibonacci numbers?"
   ]
  },
  {
   "cell_type": "markdown",
   "metadata": {
    "nbgrader": {
     "grade": true,
     "grade_id": "global_bug",
     "locked": false,
     "points": 0,
     "schema_version": 3,
     "solution": true,
     "task": false
    },
    "slideshow": {
     "slide_type": "-"
    }
   },
   "source": [
    "There is a name collision. `n` is also incremented by `next_fibonacci()`, and so the while loop is only executed 3 times in total. "
   ]
  },
  {
   "cell_type": "markdown",
   "metadata": {
    "slideshow": {
     "slide_type": "fragment"
    }
   },
   "source": [
    "With global variables\n",
    "- codes are less predictable, more difficult to reuse/extend, and\n",
    "- tests cannot be isolated, making debugging difficult."
   ]
  },
  {
   "cell_type": "markdown",
   "metadata": {
    "slideshow": {
     "slide_type": "subslide"
    }
   },
   "source": [
    "**Is it possible to store the function states without using global variables?**"
   ]
  },
  {
   "cell_type": "markdown",
   "metadata": {
    "slideshow": {
     "slide_type": "fragment"
    }
   },
   "source": [
    "Yes. We can use nested functions and [`nonlocal` variables](https://docs.python.org/3/reference/simple_stmts.html#grammar-token-nonlocal-stmt)."
   ]
  },
  {
   "cell_type": "code",
   "execution_count": 17,
   "metadata": {
    "ExecuteTime": {
     "end_time": "2020-10-31T02:43:54.554619Z",
     "start_time": "2020-10-31T02:43:54.548561Z"
    },
    "code_folding": [],
    "collapsed": true,
    "jupyter": {
     "outputs_hidden": true
    },
    "slideshow": {
     "slide_type": "-"
    }
   },
   "outputs": [
    {
     "name": "stdout",
     "output_type": "stream",
     "text": [
      "0\n",
      "1\n",
      "1\n",
      "2\n",
      "3\n",
      "States:\n",
      "        Next Fibonacci number      = 5\n",
      "        Next next Fibonacci number = 8\n",
      "        Next order                 = 5\n"
     ]
    }
   ],
   "source": [
    "def fibonacci_closure(Fn, Fn1):\n",
    "    def next_fibonacci():\n",
    "        '''Returns the next (generalized) Fibonacci number starting with \n",
    "        Fn and Fn1 as the first two numbers.'''\n",
    "        nonlocal Fn, Fn1, n  # declare nonlocal variables\n",
    "        value = Fn\n",
    "        Fn, Fn1, n = Fn1, Fn + Fn1, n + 1\n",
    "        return value\n",
    "\n",
    "    def print_fibonacci_state():\n",
    "        print('''States:\n",
    "        Next Fibonacci number      = {}\n",
    "        Next next Fibonacci number = {}\n",
    "        Next order                 = {}'''.format(Fn, Fn1, n))\n",
    "\n",
    "    n = 0  # Fn and Fn1 specified in the function arguments\n",
    "    return next_fibonacci, print_fibonacci_state\n",
    "\n",
    "\n",
    "next_fibonacci, print_fibonacci_state = fibonacci_closure(0, 1)\n",
    "n = 0\n",
    "while n < 5:\n",
    "    print(next_fibonacci())\n",
    "    n += 1\n",
    "print_fibonacci_state()"
   ]
  },
  {
   "cell_type": "markdown",
   "metadata": {
    "slideshow": {
     "slide_type": "fragment"
    }
   },
   "source": [
    "The state variables `Fn, Fn1, n` are now *encapsulated*, and so    \n",
    "the functions returned by `fibonacci_closure` no longer depends on any global variables."
   ]
  },
  {
   "cell_type": "markdown",
   "metadata": {
    "slideshow": {
     "slide_type": "subslide"
    }
   },
   "source": [
    "Another benefit of using nested functions is that we can also create different Fibonacci sequence with different base cases."
   ]
  },
  {
   "cell_type": "code",
   "execution_count": 18,
   "metadata": {
    "ExecuteTime": {
     "end_time": "2020-10-31T02:43:55.098142Z",
     "start_time": "2020-10-31T02:43:55.091975Z"
    },
    "collapsed": true,
    "jupyter": {
     "outputs_hidden": true
    },
    "slideshow": {
     "slide_type": "-"
    }
   },
   "outputs": [
    {
     "name": "stdout",
     "output_type": "stream",
     "text": [
      "cs\n",
      "1302\n",
      "cs1302\n",
      "1302cs1302\n",
      "cs13021302cs1302\n",
      "States:\n",
      "        Next Fibonacci number      = 1302cs1302cs13021302cs1302\n",
      "        Next next Fibonacci number = cs13021302cs13021302cs1302cs13021302cs1302\n",
      "        Next order                 = 5\n"
     ]
    }
   ],
   "source": [
    "my_next_fibonacci, my_print_fibonacci_state = fibonacci_closure('cs', '1302')\n",
    "for n in range(5):\n",
    "    print(my_next_fibonacci())\n",
    "my_print_fibonacci_state()"
   ]
  },
  {
   "cell_type": "markdown",
   "metadata": {
    "slideshow": {
     "slide_type": "fragment"
    }
   },
   "source": [
    "`next_fibonacci` and `print_fibonacci_state` are *local functions* of `fibonacci_closure`.  \n",
    "- They can access (*capture*) the other local variables of `fibonacci_closure` by forming the so-called *closures*.\n",
    "- Similar to the use of `global` statement, a [`non-local` statement](https://docs.python.org/3/reference/simple_stmts.html#the-nonlocal-statement) is needed for assigning nonlocal variables."
   ]
  },
  {
   "cell_type": "markdown",
   "metadata": {
    "slideshow": {
     "slide_type": "fragment"
    }
   },
   "source": [
    "Each local function has an attribute named `__closure__` that stores the captured local variables."
   ]
  },
  {
   "cell_type": "code",
   "execution_count": 19,
   "metadata": {
    "ExecuteTime": {
     "end_time": "2020-10-31T02:43:55.587635Z",
     "start_time": "2020-10-31T02:43:55.580308Z"
    },
    "collapsed": true,
    "jupyter": {
     "outputs_hidden": true
    },
    "slideshow": {
     "slide_type": "-"
    }
   },
   "outputs": [
    {
     "name": "stdout",
     "output_type": "stream",
     "text": [
      "closure of  next_fibonacci\n",
      "    <cell at 0x7f8bc06d3b10: int object at 0x5622be35f380> content: 5\n",
      "    <cell at 0x7f8bc06d3b90: int object at 0x5622be35f3e0> content: 8\n",
      "    <cell at 0x7f8bc06d3c10: int object at 0x5622be35f380> content: 5\n",
      "closure of  print_fibonacci_state\n",
      "    <cell at 0x7f8bc06d3b10: int object at 0x5622be35f380> content: 5\n",
      "    <cell at 0x7f8bc06d3b90: int object at 0x5622be35f3e0> content: 8\n",
      "    <cell at 0x7f8bc06d3c10: int object at 0x5622be35f380> content: 5\n"
     ]
    }
   ],
   "source": [
    "def print_closure(f):\n",
    "    '''Print the closure of a function.'''\n",
    "    print('closure of ', f.__name__)\n",
    "    for cell in f.__closure__:\n",
    "        print('    {} content: {!r}'.format(cell, cell.cell_contents))\n",
    "\n",
    "\n",
    "print_closure(next_fibonacci)\n",
    "print_closure(print_fibonacci_state)"
   ]
  },
  {
   "cell_type": "markdown",
   "metadata": {
    "slideshow": {
     "slide_type": "slide"
    }
   },
   "source": [
    "## Generator"
   ]
  },
  {
   "cell_type": "markdown",
   "metadata": {
    "slideshow": {
     "slide_type": "fragment"
    }
   },
   "source": [
    "Another way to generate a sequence of objects one-by-one is to write a *generator*."
   ]
  },
  {
   "cell_type": "code",
   "execution_count": 20,
   "metadata": {
    "ExecuteTime": {
     "end_time": "2020-10-31T02:43:56.056953Z",
     "start_time": "2020-10-31T02:43:56.053130Z"
    },
    "code_folding": [],
    "collapsed": true,
    "jupyter": {
     "outputs_hidden": true
    },
    "slideshow": {
     "slide_type": "-"
    }
   },
   "outputs": [
    {
     "data": {
      "text/plain": [
       "<generator object <genexpr> at 0x7f8bc07762d0>"
      ]
     },
     "execution_count": 20,
     "metadata": {},
     "output_type": "execute_result"
    }
   ],
   "source": [
    "fibonacci_generator = (fibonacci_iteration(n) for n in range(3))\n",
    "fibonacci_generator"
   ]
  },
  {
   "cell_type": "markdown",
   "metadata": {
    "slideshow": {
     "slide_type": "fragment"
    }
   },
   "source": [
    "The above uses a [*generator expression*](https://docs.python.org/3/reference/expressions.html#grammar-token-generator-expression) to define `fibonacci_generator`."
   ]
  },
  {
   "cell_type": "markdown",
   "metadata": {
    "slideshow": {
     "slide_type": "subslide"
    }
   },
   "source": [
    "**How to obtain items from a generator?**"
   ]
  },
  {
   "cell_type": "markdown",
   "metadata": {
    "slideshow": {
     "slide_type": "fragment"
    }
   },
   "source": [
    "We can use the [`next` function](https://docs.python.org/3/library/functions.html#next)."
   ]
  },
  {
   "cell_type": "code",
   "execution_count": 21,
   "metadata": {
    "ExecuteTime": {
     "end_time": "2020-10-31T02:43:56.941808Z",
     "start_time": "2020-10-31T02:43:56.933889Z"
    },
    "slideshow": {
     "slide_type": "-"
    }
   },
   "outputs": [
    {
     "name": "stdout",
     "output_type": "stream",
     "text": [
      "0\n",
      "1\n",
      "1\n"
     ]
    },
    {
     "ename": "StopIteration",
     "evalue": "",
     "output_type": "error",
     "traceback": [
      "\u001b[0;31m---------------------------------------------------------------------------\u001b[0m",
      "\u001b[0;31mStopIteration\u001b[0m                             Traceback (most recent call last)",
      "\u001b[0;32m<ipython-input-21-e6f031ce2829>\u001b[0m in \u001b[0;36m<module>\u001b[0;34m\u001b[0m\n\u001b[1;32m      1\u001b[0m \u001b[0;32mwhile\u001b[0m \u001b[0;32mTrue\u001b[0m\u001b[0;34m:\u001b[0m\u001b[0;34m\u001b[0m\u001b[0;34m\u001b[0m\u001b[0m\n\u001b[0;32m----> 2\u001b[0;31m     \u001b[0mprint\u001b[0m\u001b[0;34m(\u001b[0m\u001b[0mnext\u001b[0m\u001b[0;34m(\u001b[0m\u001b[0mfibonacci_generator\u001b[0m\u001b[0;34m)\u001b[0m\u001b[0;34m)\u001b[0m \u001b[0;31m# raises StopIterationException eventually\u001b[0m\u001b[0;34m\u001b[0m\u001b[0;34m\u001b[0m\u001b[0m\n\u001b[0m",
      "\u001b[0;31mStopIteration\u001b[0m: "
     ]
    }
   ],
   "source": [
    "while True: \n",
    "    print(next(fibonacci_generator)) # raises StopIterationException eventually"
   ]
  },
  {
   "cell_type": "markdown",
   "metadata": {
    "slideshow": {
     "slide_type": "fragment"
    }
   },
   "source": [
    "A generator object is [*iterable*](https://www.programiz.com/python-programming/iterator), i.e., it implements both `__iter__` and `__next__` methods that are automatically called in a `for` loop as well as the `next` function."
   ]
  },
  {
   "cell_type": "code",
   "execution_count": 22,
   "metadata": {
    "ExecuteTime": {
     "end_time": "2020-10-31T02:43:57.261618Z",
     "start_time": "2020-10-31T02:43:57.256104Z"
    },
    "slideshow": {
     "slide_type": "-"
    }
   },
   "outputs": [
    {
     "name": "stdout",
     "output_type": "stream",
     "text": [
      "0\n",
      "1\n",
      "1\n",
      "2\n",
      "3\n"
     ]
    }
   ],
   "source": [
    "fibonacci_generator = (fibonacci_iteration(n) for n in range(5))\n",
    "for fib in fibonacci_generator:  # StopIterationException handled by for loop\n",
    "    print(fib)"
   ]
  },
  {
   "cell_type": "markdown",
   "metadata": {
    "slideshow": {
     "slide_type": "subslide"
    }
   },
   "source": [
    "**Is `fibonacci_generator` efficient?**"
   ]
  },
  {
   "cell_type": "markdown",
   "metadata": {
    "slideshow": {
     "slide_type": "subslide"
    }
   },
   "source": [
    "No again due to redundant computations.  \n",
    "A better way to define the generator is to use the keyword [`yield`](https://docs.python.org/3/reference/expressions.html?highlight=yield#yield-expressions):"
   ]
  },
  {
   "cell_type": "code",
   "execution_count": 23,
   "metadata": {
    "ExecuteTime": {
     "end_time": "2020-10-31T02:43:57.716343Z",
     "start_time": "2020-10-31T02:43:57.711570Z"
    },
    "collapsed": true,
    "jupyter": {
     "outputs_hidden": true
    }
   },
   "outputs": [
    {
     "data": {
      "text/html": [
       "\n",
       "<iframe\n",
       "    width=\"1100\"\n",
       "    height=\"450\"\n",
       "    src=\"https://e-quiz.cs.cityu.edu.hk/opt/cs1302visualize.html#mode=display&code=def%20fibonacci_sequence%28Fn%2C%20Fn1%2C%20stop%29%3A%0A%20%20%20%20%27%27%27Return%20a%20generator%20that%20generates%20Fibonacci%20numbers%0A%20%20%20%20starting%20from%20Fn%20and%20Fn1%20until%20stop%20%28exclusive%29.%27%27%27%0A%20%20%20%20while%20Fn%20%3C%20stop%3A%0A%20%20%20%20%20%20%20%20yield%20Fn%20%20%23%20return%20Fn%20and%20pause%20execution%0A%20%20%20%20%20%20%20%20Fn%2C%20Fn1%20%3D%20Fn1%2C%20Fn1%20%2B%20Fn%0A%0A%0Afor%20fib%20in%20fibonacci_sequence%280%2C%201%2C%205%29%3A%0A%20%20%20%20print%28fib%29%0A\"\n",
       "    frameborder=\"0\"\n",
       "    allowfullscreen\n",
       "></iframe>\n"
      ],
      "text/plain": [
       "<IPython.lib.display.IFrame at 0x7f8bc06fe3d0>"
      ]
     },
     "metadata": {},
     "output_type": "display_data"
    }
   ],
   "source": [
    "%%mytutor -h 450\n",
    "def fibonacci_sequence(Fn, Fn1, stop):\n",
    "    '''Return a generator that generates Fibonacci numbers\n",
    "    starting from Fn and Fn1 until stop (exclusive).'''\n",
    "    while Fn < stop:\n",
    "        yield Fn  # return Fn and pause execution\n",
    "        Fn, Fn1 = Fn1, Fn1 + Fn\n",
    "\n",
    "\n",
    "for fib in fibonacci_sequence(0, 1, 5):\n",
    "    print(fib)"
   ]
  },
  {
   "cell_type": "markdown",
   "metadata": {
    "slideshow": {
     "slide_type": "fragment"
    }
   },
   "source": [
    "1. `yield` causes the function to return a *generator* without executing the function body.\n",
    "1. Calling `__next__` resumes the execution, which \n",
    "    - pauses at the next `yield` expression, or\n",
    "    - raises the `StopIterationException` at the end."
   ]
  },
  {
   "cell_type": "markdown",
   "metadata": {
    "slideshow": {
     "slide_type": "fragment"
    }
   },
   "source": [
    "**Exercise** The yield expression `yield ...` is mistaken in [Halterman17] to be a statement. It is actually an expression because \n",
    "- The value of a `yield` expression is `None` by default, but \n",
    "- it can be set by the `generator.send` method.\n",
    "\n",
    "Add the document string to the following function. In particular, explain the effect of calling the method `send` on the returned generator."
   ]
  },
  {
   "cell_type": "code",
   "execution_count": 24,
   "metadata": {
    "ExecuteTime": {
     "end_time": "2020-10-31T02:43:58.225871Z",
     "start_time": "2020-10-31T02:43:58.216334Z"
    },
    "code_folding": [],
    "collapsed": true,
    "jupyter": {
     "outputs_hidden": true
    },
    "nbgrader": {
     "grade": false,
     "grade_id": "send",
     "locked": false,
     "schema_version": 3,
     "solution": true,
     "task": false
    },
    "slideshow": {
     "slide_type": "-"
    }
   },
   "outputs": [
    {
     "data": {
      "text/html": [
       "\n",
       "<iframe\n",
       "    width=\"1100\"\n",
       "    height=\"500\"\n",
       "    src=\"https://e-quiz.cs.cityu.edu.hk/opt/cs1302visualize.html#mode=display&code=def%20fibonacci_sequence%28Fn%2C%20Fn1%2C%20stop%29%3A%0A%20%20%20%20%23%23%23%20BEGIN%20SOLUTION%0A%20%20%20%20%27%27%27Return%20a%20generator%20that%20generates%20Fibonacci%20numbers%0A%20%20%20%20starting%20from%20Fn%20and%20Fn1%20to%20stop%20%28exclusive%29.%20%0A%20%20%20%20generator.send%28value%29%20sets%20next%20number%20to%20value.%27%27%27%0A%20%20%20%20%23%23%23%20END%20SOLUTION%0A%20%20%20%20while%20Fn%20%3C%20stop%3A%0A%20%20%20%20%20%20%20%20value%20%3D%20yield%20Fn%0A%20%20%20%20%20%20%20%20if%20value%20is%20not%20None%3A%20%0A%20%20%20%20%20%20%20%20%20%20%20%20Fn1%20%3D%20value%20%20%23%20set%20next%20number%20to%20the%20value%20of%20yield%20expression%0A%20%20%20%20%20%20%20%20Fn%2C%20Fn1%20%3D%20Fn1%2C%20Fn1%20%2B%20Fn%20%0A\"\n",
       "    frameborder=\"0\"\n",
       "    allowfullscreen\n",
       "></iframe>\n"
      ],
      "text/plain": [
       "<IPython.lib.display.IFrame at 0x7f8bc0783950>"
      ]
     },
     "metadata": {},
     "output_type": "display_data"
    }
   ],
   "source": [
    "%%mytutor -r -h 500\n",
    "def fibonacci_sequence(Fn, Fn1, stop):\n",
    "    ### BEGIN SOLUTION\n",
    "    '''Return a generator that generates Fibonacci numbers\n",
    "    starting from Fn and Fn1 to stop (exclusive). \n",
    "    generator.send(value) sets next number to value.'''\n",
    "    ### END SOLUTION\n",
    "    while Fn < stop:\n",
    "        value = yield Fn\n",
    "        if value is not None: \n",
    "            Fn1 = value  # set next number to the value of yield expression\n",
    "        Fn, Fn1 = Fn1, Fn1 + Fn "
   ]
  },
  {
   "cell_type": "markdown",
   "metadata": {
    "slideshow": {
     "slide_type": "slide"
    }
   },
   "source": [
    "## Optional Arguments"
   ]
  },
  {
   "cell_type": "markdown",
   "metadata": {},
   "source": [
    "**How to make function arguments optional?**"
   ]
  },
  {
   "cell_type": "code",
   "execution_count": 25,
   "metadata": {
    "ExecuteTime": {
     "end_time": "2020-10-31T02:43:58.713936Z",
     "start_time": "2020-10-31T02:43:58.708189Z"
    }
   },
   "outputs": [],
   "source": [
    "def fibonacci_sequence(Fn=0, Fn1=1, stop=None):\n",
    "    while stop is None or Fn < stop:\n",
    "        value = yield Fn\n",
    "        Fn, Fn1 = Fn1, Fn1 + Fn"
   ]
  },
  {
   "cell_type": "code",
   "execution_count": 26,
   "metadata": {
    "ExecuteTime": {
     "end_time": "2020-10-31T02:43:58.726622Z",
     "start_time": "2020-10-31T02:43:58.716951Z"
    }
   },
   "outputs": [
    {
     "name": "stdout",
     "output_type": "stream",
     "text": [
      "0\n",
      "1\n",
      "1\n",
      "2\n",
      "3\n"
     ]
    }
   ],
   "source": [
    "for fib in fibonacci_sequence(0,1,5):\n",
    "    print(fib)  # with all arguments specified"
   ]
  },
  {
   "cell_type": "code",
   "execution_count": 27,
   "metadata": {
    "ExecuteTime": {
     "end_time": "2020-10-31T02:43:58.738329Z",
     "start_time": "2020-10-31T02:43:58.728501Z"
    }
   },
   "outputs": [
    {
     "name": "stdout",
     "output_type": "stream",
     "text": [
      "0\n",
      "1\n",
      "1\n",
      "2\n",
      "3\n"
     ]
    }
   ],
   "source": [
    "for fib in fibonacci_sequence(stop=5):\n",
    "    print(fib)  # with default Fn=0, Fn1=1"
   ]
  },
  {
   "cell_type": "markdown",
   "metadata": {
    "slideshow": {
     "slide_type": "fragment"
    }
   },
   "source": [
    "`stop=5` is called a [keyword argument](https://docs.python.org/3/glossary.html#term-keyword-argument). Unlike `positional arguments`, it specifies the name of the argument explicitly."
   ]
  },
  {
   "cell_type": "markdown",
   "metadata": {
    "slideshow": {
     "slide_type": "fragment"
    }
   },
   "source": [
    "**Exercise** `stop` is an [optional argument](https://docs.python.org/3/tutorial/controlflow.html#default-argument-values) with the *default value* `None`. What is the behavior of the following code?"
   ]
  },
  {
   "cell_type": "code",
   "execution_count": 28,
   "metadata": {
    "ExecuteTime": {
     "end_time": "2020-10-31T02:43:59.297944Z",
     "start_time": "2020-10-31T02:43:59.292358Z"
    },
    "slideshow": {
     "slide_type": "-"
    }
   },
   "outputs": [
    {
     "name": "stdout",
     "output_type": "stream",
     "text": [
      "5\n",
      "1\n",
      "6\n",
      "7\n",
      "13\n"
     ]
    }
   ],
   "source": [
    "for fib in fibonacci_sequence(5):\n",
    "    print(fib)\n",
    "    if fib > 10:  \n",
    "        break  # Will this be executed?"
   ]
  },
  {
   "cell_type": "markdown",
   "metadata": {
    "nbgrader": {
     "grade": true,
     "grade_id": "stop",
     "locked": false,
     "points": 0,
     "schema_version": 3,
     "solution": true,
     "task": false
    },
    "slideshow": {
     "slide_type": "-"
    }
   },
   "source": [
    "With the default value of `None`, the while loop becomes an infinite loop. The generator will keep generating the next Fibonacci number without any bound on the order. In particular, `fibonacci_sequence(5)` creates an unstoppable (default) generator with base case `Fn=5` (specified) and `Fn1=1` (default)."
   ]
  },
  {
   "cell_type": "markdown",
   "metadata": {
    "slideshow": {
     "slide_type": "subslide"
    }
   },
   "source": [
    "Rules for specifying arguments:\n",
    "1. Keyword arguments must be after all positional arguments.\n",
    "1. Duplicate assignments to an argument are not allowed."
   ]
  },
  {
   "cell_type": "markdown",
   "metadata": {
    "slideshow": {
     "slide_type": "fragment"
    }
   },
   "source": [
    "E.g., the following results in error:"
   ]
  },
  {
   "cell_type": "code",
   "execution_count": 29,
   "metadata": {
    "ExecuteTime": {
     "end_time": "2020-10-31T02:44:00.150820Z",
     "start_time": "2020-10-31T02:44:00.144212Z"
    },
    "slideshow": {
     "slide_type": "-"
    }
   },
   "outputs": [
    {
     "ename": "SyntaxError",
     "evalue": "positional argument follows keyword argument (<ipython-input-29-c4b4809b18c1>, line 1)",
     "output_type": "error",
     "traceback": [
      "\u001b[0;36m  File \u001b[0;32m\"<ipython-input-29-c4b4809b18c1>\"\u001b[0;36m, line \u001b[0;32m1\u001b[0m\n\u001b[0;31m    fibonacci_sequence(stop=10, 1)\u001b[0m\n\u001b[0m                               ^\u001b[0m\n\u001b[0;31mSyntaxError\u001b[0m\u001b[0;31m:\u001b[0m positional argument follows keyword argument\n"
     ]
    }
   ],
   "source": [
    "fibonacci_sequence(stop=10, 1)"
   ]
  },
  {
   "cell_type": "code",
   "execution_count": null,
   "metadata": {
    "ExecuteTime": {
     "end_time": "2020-10-31T02:44:00.153925Z",
     "start_time": "2020-10-31T02:44:00.040Z"
    },
    "slideshow": {
     "slide_type": "-"
    }
   },
   "outputs": [],
   "source": [
    "fibonacci_sequence(1, Fn=1)"
   ]
  },
  {
   "cell_type": "markdown",
   "metadata": {
    "slideshow": {
     "slide_type": "subslide"
    }
   },
   "source": [
    "The following shows that the behavior of `range` is different."
   ]
  },
  {
   "cell_type": "code",
   "execution_count": 30,
   "metadata": {
    "ExecuteTime": {
     "end_time": "2020-10-31T02:44:00.435983Z",
     "start_time": "2020-10-31T02:44:00.423137Z"
    },
    "scrolled": true,
    "slideshow": {
     "slide_type": "fragment"
    }
   },
   "outputs": [
    {
     "name": "stdout",
     "output_type": "stream",
     "text": [
      "1 3 5 7 9 \n",
      "1 2 3 4 5 6 7 8 9 \n",
      "0 1 2 3 4 5 6 7 8 9 "
     ]
    },
    {
     "ename": "TypeError",
     "evalue": "range() takes no keyword arguments",
     "output_type": "error",
     "traceback": [
      "\u001b[0;31m---------------------------------------------------------------------------\u001b[0m",
      "\u001b[0;31mTypeError\u001b[0m                                 Traceback (most recent call last)",
      "\u001b[0;32m<ipython-input-30-f3395132058b>\u001b[0m in \u001b[0;36m<module>\u001b[0;34m\u001b[0m\n\u001b[1;32m      7\u001b[0m \u001b[0;32mfor\u001b[0m \u001b[0mcount\u001b[0m \u001b[0;32min\u001b[0m \u001b[0mrange\u001b[0m\u001b[0;34m(\u001b[0m\u001b[0;36m10\u001b[0m\u001b[0;34m)\u001b[0m\u001b[0;34m:\u001b[0m\u001b[0;34m\u001b[0m\u001b[0;34m\u001b[0m\u001b[0m\n\u001b[1;32m      8\u001b[0m     \u001b[0mprint\u001b[0m\u001b[0;34m(\u001b[0m\u001b[0mcount\u001b[0m\u001b[0;34m,\u001b[0m \u001b[0mend\u001b[0m\u001b[0;34m=\u001b[0m\u001b[0;34m' '\u001b[0m\u001b[0;34m)\u001b[0m  \u001b[0;31m# default start=0, step=1\u001b[0m\u001b[0;34m\u001b[0m\u001b[0;34m\u001b[0m\u001b[0m\n\u001b[0;32m----> 9\u001b[0;31m \u001b[0mrange\u001b[0m\u001b[0;34m(\u001b[0m\u001b[0mstop\u001b[0m\u001b[0;34m=\u001b[0m\u001b[0;36m10\u001b[0m\u001b[0;34m)\u001b[0m  \u001b[0;31m# fails\u001b[0m\u001b[0;34m\u001b[0m\u001b[0;34m\u001b[0m\u001b[0m\n\u001b[0m",
      "\u001b[0;31mTypeError\u001b[0m: range() takes no keyword arguments"
     ]
    }
   ],
   "source": [
    "for count in range(1, 10, 2):\n",
    "    print(count, end=' ')  # counts from 1 to 10 in steps of 2\n",
    "print()\n",
    "for count in range(1, 10):\n",
    "    print(count, end=' ')  # default step=1\n",
    "print()\n",
    "for count in range(10):\n",
    "    print(count, end=' ')  # default start=0, step=1\n",
    "range(stop=10)  # fails"
   ]
  },
  {
   "cell_type": "markdown",
   "metadata": {
    "slideshow": {
     "slide_type": "fragment"
    }
   },
   "source": [
    "`range` takes only positional arguments.  \n",
    "However, the first positional argument has different intepretations (`start` or `stop`) depending on the number of arguments (2 or 1)."
   ]
  },
  {
   "cell_type": "markdown",
   "metadata": {
    "slideshow": {
     "slide_type": "fragment"
    }
   },
   "source": [
    "`range` is indeed NOT a generator."
   ]
  },
  {
   "cell_type": "code",
   "execution_count": 31,
   "metadata": {
    "ExecuteTime": {
     "end_time": "2020-10-31T02:44:00.927005Z",
     "start_time": "2020-10-31T02:44:00.921731Z"
    },
    "collapsed": true,
    "jupyter": {
     "outputs_hidden": true
    },
    "scrolled": true,
    "slideshow": {
     "slide_type": "fragment"
    }
   },
   "outputs": [
    {
     "name": "stdout",
     "output_type": "stream",
     "text": [
      "<class 'type'> <class 'range'>\n"
     ]
    }
   ],
   "source": [
    "print(type(range),type(range(10)))"
   ]
  },
  {
   "cell_type": "markdown",
   "metadata": {
    "slideshow": {
     "slide_type": "subslide"
    }
   },
   "source": [
    "## Variable number of arguments"
   ]
  },
  {
   "cell_type": "markdown",
   "metadata": {
    "slideshow": {
     "slide_type": "fragment"
    }
   },
   "source": [
    "We can simulate the behavior of range by having a [variable number of arguments](https://docs.python.org/3.4/tutorial/controlflow.html#arbitrary-argument-lists)."
   ]
  },
  {
   "cell_type": "code",
   "execution_count": 32,
   "metadata": {
    "ExecuteTime": {
     "end_time": "2020-10-31T02:44:01.642620Z",
     "start_time": "2020-10-31T02:44:01.634575Z"
    },
    "slideshow": {
     "slide_type": "fragment"
    }
   },
   "outputs": [
    {
     "name": "stdout",
     "output_type": "stream",
     "text": [
      "args (<class 'tuple'>): (0, 10, 2)\n",
      "kwargs (<class 'dict'>): {'start': 1, 'stop': 2}\n",
      "8 *\n"
     ]
    }
   ],
   "source": [
    "def print_arguments(*args, **kwargs):\n",
    "    '''Take any number of arguments and prints them'''\n",
    "    print('args ({}): {}'.format(type(args),args))\n",
    "    print('kwargs ({}): {}'.format(type(kwargs),kwargs))\n",
    "\n",
    "print_arguments(0, 10, 2, start=1, stop=2)\n",
    "print(\"{k}\".format(greeting=\"Hello\",k=8),\"*\"  )"
   ]
  },
  {
   "cell_type": "markdown",
   "metadata": {
    "slideshow": {
     "slide_type": "fragment"
    }
   },
   "source": [
    "- `args` is a tuple of positional arguments.\n",
    "- `kwargs` is a dictionary of keyword arguments."
   ]
  },
  {
   "cell_type": "markdown",
   "metadata": {
    "slideshow": {
     "slide_type": "fragment"
    }
   },
   "source": [
    "`*` and `**` are *unpacking operators* for tuple/list and dictionary respectively:"
   ]
  },
  {
   "cell_type": "code",
   "execution_count": 33,
   "metadata": {
    "ExecuteTime": {
     "end_time": "2020-10-31T02:44:02.336627Z",
     "start_time": "2020-10-31T02:44:02.332934Z"
    },
    "scrolled": true,
    "slideshow": {
     "slide_type": "fragment"
    }
   },
   "outputs": [
    {
     "name": "stdout",
     "output_type": "stream",
     "text": [
      "args (<class 'tuple'>): (0, 10, 2)\n",
      "kwargs (<class 'dict'>): {'start': 1, 'stop': 2}\n"
     ]
    }
   ],
   "source": [
    "args = (0, 10, 2)\n",
    "kwargs = {'start': 1, 'stop': 2}\n",
    "print_arguments(*args, **kwargs)"
   ]
  },
  {
   "cell_type": "markdown",
   "metadata": {},
   "source": [
    "The following function converts all the arguments to a string.  \n",
    "It will be useful later on."
   ]
  },
  {
   "cell_type": "code",
   "execution_count": 34,
   "metadata": {
    "ExecuteTime": {
     "end_time": "2020-10-31T02:44:02.594868Z",
     "start_time": "2020-10-31T02:44:02.584464Z"
    },
    "slideshow": {
     "slide_type": "fragment"
    }
   },
   "outputs": [
    {
     "data": {
      "text/plain": [
       "'(0, 10, 2, start=1, stop=2)'"
      ]
     },
     "execution_count": 34,
     "metadata": {},
     "output_type": "execute_result"
    }
   ],
   "source": [
    "def argument_string(*args, **kwargs):\n",
    "    '''Return the string representation of the list of arguments.'''\n",
    "    return '({})'.format(', '.join([\n",
    "        *['{!r}'.format(v) for v in args],  # arguments\n",
    "        *['{}={!r}'.format(k, v)\n",
    "          for k, v in kwargs.items()]  # keyword arguments\n",
    "    ]))\n",
    "\n",
    "argument_string(0, 10, 2, start=1, stop=2)"
   ]
  },
  {
   "cell_type": "markdown",
   "metadata": {
    "slideshow": {
     "slide_type": "subslide"
    }
   },
   "source": [
    "**Exercise** Redefine `fibonacci_sequence` so that the positional arguments depend on the number of arguments:"
   ]
  },
  {
   "cell_type": "code",
   "execution_count": 35,
   "metadata": {
    "ExecuteTime": {
     "end_time": "2020-10-31T02:44:02.842063Z",
     "start_time": "2020-10-31T02:44:02.826424Z"
    },
    "code_folding": [
     19
    ],
    "nbgrader": {
     "grade": false,
     "grade_id": "optional",
     "locked": false,
     "schema_version": 3,
     "solution": true,
     "task": false
    },
    "slideshow": {
     "slide_type": "-"
    }
   },
   "outputs": [],
   "source": [
    "def fibonacci_sequence(*args):\n",
    "    '''Return a generator that generates Fibonacci numbers\n",
    "    starting from Fn and Fn1 to stop (exclusive). \n",
    "    generator.send(value) sets next number to value.\n",
    "    \n",
    "    fibonacci_sequence(stop)\n",
    "    fibonacci_sequence(Fn,Fn1)\n",
    "    fibonacci_sequence(Fn,Fn1,stop)\n",
    "    '''\n",
    "    Fn, Fn1, stop = 0, 1, None  # default values\n",
    "\n",
    "    # handle different number of arguments\n",
    "    if len(args) is 1:\n",
    "        ### BEGIN SOLUTION\n",
    "        stop = args[0]\n",
    "        ### END SOLUTION\n",
    "    elif len(args) is 2:\n",
    "        Fn, Fn1 = args[0], args[1]\n",
    "    elif len(args) > 2:\n",
    "        Fn, Fn1, stop = args[0], args[1], args[2]\n",
    "    \n",
    "    while stop is None or Fn < stop:\n",
    "        value = yield Fn\n",
    "        if value is not None: \n",
    "            Fn1 = value  # set next number to the value of yield expression\n",
    "        Fn, Fn1 = Fn1, Fn1 + Fn"
   ]
  },
  {
   "cell_type": "code",
   "execution_count": 36,
   "metadata": {
    "ExecuteTime": {
     "end_time": "2020-10-31T02:44:02.849615Z",
     "start_time": "2020-10-31T02:44:02.843656Z"
    },
    "slideshow": {
     "slide_type": "fragment"
    }
   },
   "outputs": [
    {
     "name": "stdout",
     "output_type": "stream",
     "text": [
      "0\n",
      "1\n",
      "1\n",
      "2\n",
      "3\n"
     ]
    }
   ],
   "source": [
    "for fib in fibonacci_sequence(5): # default Fn=0, Fn=1\n",
    "    print(fib)"
   ]
  },
  {
   "cell_type": "code",
   "execution_count": 37,
   "metadata": {
    "ExecuteTime": {
     "end_time": "2020-10-31T02:44:02.860976Z",
     "start_time": "2020-10-31T02:44:02.851994Z"
    },
    "slideshow": {
     "slide_type": "fragment"
    }
   },
   "outputs": [
    {
     "name": "stdout",
     "output_type": "stream",
     "text": [
      "1\n",
      "2\n",
      "3\n",
      "5\n",
      "8\n"
     ]
    }
   ],
   "source": [
    "for fib in fibonacci_sequence(1, 2): # default stop=None\n",
    "    print(fib)  \n",
    "    if fib>5:\n",
    "        break"
   ]
  },
  {
   "cell_type": "code",
   "execution_count": 38,
   "metadata": {
    "ExecuteTime": {
     "end_time": "2020-10-31T02:44:02.872022Z",
     "start_time": "2020-10-31T02:44:02.862892Z"
    },
    "slideshow": {
     "slide_type": "fragment"
    }
   },
   "outputs": [
    {
     "name": "stdout",
     "output_type": "stream",
     "text": [
      "1\n",
      "2\n",
      "3\n"
     ]
    }
   ],
   "source": [
    "args = (1, 2, 5)\n",
    "for fib in fibonacci_sequence(*args): # default stop=None\n",
    "    print(fib) "
   ]
  },
  {
   "cell_type": "markdown",
   "metadata": {
    "slideshow": {
     "slide_type": "slide"
    }
   },
   "source": [
    "## Decorator"
   ]
  },
  {
   "cell_type": "markdown",
   "metadata": {
    "slideshow": {
     "slide_type": "subslide"
    }
   },
   "source": [
    "**What is function decoration?**  \n",
    "**Why decorate a function?**"
   ]
  },
  {
   "cell_type": "code",
   "execution_count": 39,
   "metadata": {
    "ExecuteTime": {
     "end_time": "2020-10-31T02:44:03.368911Z",
     "start_time": "2020-10-31T02:44:03.348824Z"
    },
    "collapsed": true,
    "jupyter": {
     "outputs_hidden": true
    },
    "slideshow": {
     "slide_type": "-"
    }
   },
   "outputs": [
    {
     "name": "stdout",
     "output_type": "stream",
     "text": [
      "  1: fibonacci(0)\n",
      "Done\n",
      "0\n",
      "  1: fibonacci(1)\n",
      "Done\n",
      "1\n",
      "  1: fibonacci(2)\n",
      "  2: |fibonacci(1)\n",
      "  3: |fibonacci(0)\n",
      "Done\n",
      "1\n",
      "  1: fibonacci(3)\n",
      "  2: |fibonacci(2)\n",
      "  3: ||fibonacci(1)\n",
      "  4: ||fibonacci(0)\n",
      "  5: |fibonacci(1)\n",
      "Done\n",
      "2\n",
      "  1: fibonacci(4)\n",
      "  2: |fibonacci(3)\n",
      "  3: ||fibonacci(2)\n",
      "  4: |||fibonacci(1)\n",
      "  5: |||fibonacci(0)\n",
      "  6: ||fibonacci(1)\n",
      "  7: |fibonacci(2)\n",
      "  8: ||fibonacci(1)\n",
      "  9: ||fibonacci(0)\n",
      "Done\n",
      "3\n",
      "  1: fibonacci(5)\n",
      "  2: |fibonacci(4)\n",
      "  3: ||fibonacci(3)\n",
      "  4: |||fibonacci(2)\n",
      "  5: ||||fibonacci(1)\n",
      "  6: ||||fibonacci(0)\n",
      "  7: |||fibonacci(1)\n",
      "  8: ||fibonacci(2)\n",
      "  9: |||fibonacci(1)\n",
      " 10: |||fibonacci(0)\n",
      " 11: |fibonacci(3)\n",
      " 12: ||fibonacci(2)\n",
      " 13: |||fibonacci(1)\n",
      " 14: |||fibonacci(0)\n",
      " 15: ||fibonacci(1)\n",
      "Done\n",
      "5\n"
     ]
    }
   ],
   "source": [
    "def fibonacci(n):\n",
    "    '''Returns the Fibonacci number of order n.'''\n",
    "    global count, depth\n",
    "    count += 1\n",
    "    depth += 1\n",
    "    print('{:>3}: {}fibonacci({!r})'.format(count, '|' * depth, n))\n",
    "    \n",
    "    value = fibonacci(n - 1) + fibonacci(n - 2) if n > 1 else 1 if n == 1 else 0\n",
    "    \n",
    "    depth -= 1\n",
    "    if depth is -1:  # recursion done\n",
    "        print('Done')\n",
    "        count = 0  # reset count for subsequent recursions\n",
    "    return value\n",
    "\n",
    "\n",
    "count, depth = 0, -1\n",
    "for n in range(6):\n",
    "    print(fibonacci(n))"
   ]
  },
  {
   "cell_type": "markdown",
   "metadata": {
    "slideshow": {
     "slide_type": "fragment"
    }
   },
   "source": [
    "The code decorates the `fibonacci` function by printing each recursive call and the depth of the call stack.  \n",
    "The decoration is useful in showing the efficiency of the function, but it rewrites the function definition."
   ]
  },
  {
   "cell_type": "markdown",
   "metadata": {
    "slideshow": {
     "slide_type": "subslide"
    }
   },
   "source": [
    "**How to decorate a function without changing its code?**"
   ]
  },
  {
   "cell_type": "markdown",
   "metadata": {
    "slideshow": {
     "slide_type": "fragment"
    }
   },
   "source": [
    "- What if the decorations are temporary and should be removed later?  \n",
    "- Go through the source codes of all decorated functions to remove the decorations?  \n",
    "- When updating a piece of code, switch back and forth between original and decorated codes?"
   ]
  },
  {
   "cell_type": "markdown",
   "metadata": {
    "slideshow": {
     "slide_type": "subslide"
    }
   },
   "source": [
    "What about defining a new function that calls and decorates the original function?"
   ]
  },
  {
   "cell_type": "code",
   "execution_count": 40,
   "metadata": {
    "ExecuteTime": {
     "end_time": "2020-10-31T02:44:04.465212Z",
     "start_time": "2020-10-31T02:44:04.456584Z"
    },
    "code_folding": [
     0
    ],
    "slideshow": {
     "slide_type": "fragment"
    }
   },
   "outputs": [
    {
     "name": "stdout",
     "output_type": "stream",
     "text": [
      "  1: fibonacci(0)\n",
      "Done\n",
      "0\n",
      "  1: fibonacci(1)\n",
      "Done\n",
      "1\n",
      "  1: fibonacci(2)\n",
      "Done\n",
      "1\n",
      "  1: fibonacci(3)\n",
      "Done\n",
      "2\n",
      "  1: fibonacci(4)\n",
      "Done\n",
      "3\n",
      "  1: fibonacci(5)\n",
      "Done\n",
      "5\n"
     ]
    }
   ],
   "source": [
    "def fibonacci(n):\n",
    "    '''Returns the Fibonacci number of order n.'''\n",
    "    return fibonacci(n - 1) + fibonacci(n - 2) if n > 1 else 1 if n is 1 else 0\n",
    "\n",
    "def fibonacci_decorated(n):\n",
    "    '''Returns the Fibonacci number of order n.'''\n",
    "    global count, depth\n",
    "    count += 1\n",
    "    depth += 1\n",
    "    print('{:>3}: {}fibonacci({!r})'.format(count, '|' * depth, n))\n",
    "    \n",
    "    value = fibonacci(n)\n",
    "    \n",
    "    depth -= 1\n",
    "    if depth is -1:  # recursion done\n",
    "        print('Done')\n",
    "        count = 0  # reset count for subsequent recursions\n",
    "    return value\n",
    "\n",
    "\n",
    "count, depth = 0, -1\n",
    "for n in range(6):\n",
    "    print(fibonacci_decorated(n))    "
   ]
  },
  {
   "cell_type": "markdown",
   "metadata": {
    "slideshow": {
     "slide_type": "fragment"
    }
   },
   "source": [
    "We want `fibonacci` to call `fibonacci_decorated` instead.  \n",
    "What about renaming `fibonacci_decorated` to `fibonacci`?\n",
    "\n",
    "```Python\n",
    "fibonacci = fibonacci_decorated\n",
    "count, depth = 0, -1\n",
    "fibonacci_decorated(10)\n",
    "```\n",
    "\n",
    "(If you are faint-hearted, don't run the above code.)"
   ]
  },
  {
   "cell_type": "markdown",
   "metadata": {
    "slideshow": {
     "slide_type": "fragment"
    }
   },
   "source": [
    "We want `fibonacci_decorated` to call the original `fibonacci`."
   ]
  },
  {
   "cell_type": "markdown",
   "metadata": {
    "slideshow": {
     "slide_type": "subslide"
    }
   },
   "source": [
    "The solution is to capture the original `fibonacci` in a closure:"
   ]
  },
  {
   "cell_type": "code",
   "execution_count": 41,
   "metadata": {
    "ExecuteTime": {
     "end_time": "2020-10-31T02:44:05.067305Z",
     "start_time": "2020-10-31T02:44:05.056730Z"
    },
    "code_folding": [],
    "collapsed": true,
    "jupyter": {
     "outputs_hidden": true
    },
    "slideshow": {
     "slide_type": "fragment"
    }
   },
   "outputs": [],
   "source": [
    "import functools\n",
    "\n",
    "\n",
    "def print_function_call(f):\n",
    "    '''Return a decorator that prints function calls.'''\n",
    "    @functools.wraps(f)  # give wrapper the identity of f and more\n",
    "    def wrapper(*args, **kwargs):\n",
    "        nonlocal count, depth\n",
    "        count += 1\n",
    "        depth += 1\n",
    "        call = '{}{}'.format(f.__name__, argument_string(*args, **kwargs))\n",
    "        print('{:>3}:{}{}'.format(count, '|' * depth, call))\n",
    "\n",
    "        value = f(*args, **kwargs)  # wrapper calls f\n",
    "\n",
    "        depth -= 1\n",
    "        if depth is -1:\n",
    "            print('Done')\n",
    "            count = 0\n",
    "        return value\n",
    "\n",
    "    count, depth = 0, -1\n",
    "    return wrapper  # return the decorated function"
   ]
  },
  {
   "cell_type": "markdown",
   "metadata": {
    "slideshow": {
     "slide_type": "fragment"
    }
   },
   "source": [
    "`print_function_call` takes in `f` and returns `wrapper`, which captures and decorates `f`:\n",
    "- `wrapper` expects the same set of arguments for `f`,  \n",
    "- returns the same value returned by `f` on the arguments, but\n",
    "- can execute additional codes before and after calling `f` to print the function call."
   ]
  },
  {
   "cell_type": "markdown",
   "metadata": {
    "slideshow": {
     "slide_type": "fragment"
    }
   },
   "source": [
    "By redefining `fibonacci` as the returned `wrapper`, the original `fibonacci` captured by `wrapper` calls `wrapper` as desired."
   ]
  },
  {
   "cell_type": "code",
   "execution_count": 42,
   "metadata": {
    "ExecuteTime": {
     "end_time": "2020-10-31T02:44:05.613215Z",
     "start_time": "2020-10-31T02:44:05.603533Z"
    },
    "code_folding": [
     0
    ]
   },
   "outputs": [
    {
     "name": "stdout",
     "output_type": "stream",
     "text": [
      "  1:fibonacci(5)\n",
      "  2:|fibonacci(4)\n",
      "  3:||fibonacci(3)\n",
      "  4:|||fibonacci(2)\n",
      "  5:||||fibonacci(1)\n",
      "  6:||||fibonacci(0)\n",
      "  7:|||fibonacci(1)\n",
      "  8:||fibonacci(2)\n",
      "  9:|||fibonacci(1)\n",
      " 10:|||fibonacci(0)\n",
      " 11:|fibonacci(3)\n",
      " 12:||fibonacci(2)\n",
      " 13:|||fibonacci(1)\n",
      " 14:|||fibonacci(0)\n",
      " 15:||fibonacci(1)\n",
      "Done\n"
     ]
    },
    {
     "data": {
      "text/plain": [
       "5"
      ]
     },
     "execution_count": 42,
     "metadata": {},
     "output_type": "execute_result"
    }
   ],
   "source": [
    "def fibonacci(n):\n",
    "    return fibonacci(n - 1) + fibonacci(n - 2) if n > 1 else 1 if n is 1 else 0\n",
    "\n",
    "\n",
    "fibonacci = print_function_call(\n",
    "    fibonacci)  # so original fibonnacci calls wrapper\n",
    "fibonacci(5)"
   ]
  },
  {
   "cell_type": "markdown",
   "metadata": {
    "slideshow": {
     "slide_type": "fragment"
    }
   },
   "source": [
    "The redefinition does not change the original `fibonacci` captured by `wrapper`."
   ]
  },
  {
   "cell_type": "code",
   "execution_count": 43,
   "metadata": {
    "ExecuteTime": {
     "end_time": "2020-10-31T02:44:05.865764Z",
     "start_time": "2020-10-31T02:44:05.857623Z"
    },
    "slideshow": {
     "slide_type": "fragment"
    }
   },
   "outputs": [
    {
     "name": "stdout",
     "output_type": "stream",
     "text": [
      "def fibonacci(n):\n",
      "    return fibonacci(n - 1) + fibonacci(n - 2) if n > 1 else 1 if n is 1 else 0\n",
      "\n"
     ]
    }
   ],
   "source": [
    "import inspect\n",
    "for cell in fibonacci.__closure__:\n",
    "    if callable(cell.cell_contents):\n",
    "        print(inspect.getsource(cell.cell_contents))"
   ]
  },
  {
   "cell_type": "markdown",
   "metadata": {
    "slideshow": {
     "slide_type": "subslide"
    }
   },
   "source": [
    "Python provides the syntatic sugar below to simplify the redefinition."
   ]
  },
  {
   "cell_type": "code",
   "execution_count": 44,
   "metadata": {
    "ExecuteTime": {
     "end_time": "2020-10-31T02:44:06.147287Z",
     "start_time": "2020-10-31T02:44:06.133616Z"
    },
    "code_folding": [
     1
    ],
    "collapsed": true,
    "jupyter": {
     "outputs_hidden": true
    },
    "slideshow": {
     "slide_type": "-"
    }
   },
   "outputs": [
    {
     "name": "stdout",
     "output_type": "stream",
     "text": [
      "  1:fibonacci(5)\n",
      "  2:|fibonacci(4)\n",
      "  3:||fibonacci(3)\n",
      "  4:|||fibonacci(2)\n",
      "  5:||||fibonacci(1)\n",
      "  6:||||fibonacci(0)\n",
      "  7:|||fibonacci(1)\n",
      "  8:||fibonacci(2)\n",
      "  9:|||fibonacci(1)\n",
      " 10:|||fibonacci(0)\n",
      " 11:|fibonacci(3)\n",
      " 12:||fibonacci(2)\n",
      " 13:|||fibonacci(1)\n",
      " 14:|||fibonacci(0)\n",
      " 15:||fibonacci(1)\n",
      "Done\n"
     ]
    },
    {
     "data": {
      "text/plain": [
       "5"
      ]
     },
     "execution_count": 44,
     "metadata": {},
     "output_type": "execute_result"
    }
   ],
   "source": [
    "@print_function_call\n",
    "def fibonacci(n):\n",
    "    return fibonacci(n - 1) + fibonacci(n - 2) if n > 1 else 1 if n is 1 else 0\n",
    "\n",
    "\n",
    "fibonacci(5)"
   ]
  },
  {
   "cell_type": "markdown",
   "metadata": {
    "slideshow": {
     "slide_type": "subslide"
    }
   },
   "source": [
    "There are many techniques used in the above decorator."
   ]
  },
  {
   "cell_type": "markdown",
   "metadata": {
    "slideshow": {
     "slide_type": "fragment"
    }
   },
   "source": [
    "**Why use a variable number of arguments in `wrapper`**"
   ]
  },
  {
   "cell_type": "markdown",
   "metadata": {
    "slideshow": {
     "slide_type": "fragment"
    }
   },
   "source": [
    "To decorate any function with possibly different number of arguments."
   ]
  },
  {
   "cell_type": "markdown",
   "metadata": {
    "slideshow": {
     "slide_type": "subslide"
    }
   },
   "source": [
    "**Why decorate the wrapper with `@functools.wraps(f)`?**"
   ]
  },
  {
   "cell_type": "markdown",
   "metadata": {
    "slideshow": {
     "slide_type": "fragment"
    }
   },
   "source": [
    "- Ensures some attributes (such as `__name__`) of the wrapper function is the same as those of `f`.\n",
    "- Add useful attributes. E.g., `__wrapped__` stores the original function so we can undo the decoration.\n"
   ]
  },
  {
   "cell_type": "code",
   "execution_count": 45,
   "metadata": {
    "ExecuteTime": {
     "end_time": "2020-10-31T02:44:08.151683Z",
     "start_time": "2020-10-31T02:44:08.140353Z"
    },
    "slideshow": {
     "slide_type": "fragment"
    }
   },
   "outputs": [
    {
     "name": "stdout",
     "output_type": "stream",
     "text": [
      "original fibonacci:\n",
      "5\n",
      "decorated fibonacci:\n",
      "  1:fibonacci(5)\n",
      "  2:|fibonacci(4)\n",
      "  3:||fibonacci(3)\n",
      "  4:|||fibonacci(2)\n",
      "  5:||||fibonacci(1)\n",
      "  6:||||fibonacci(0)\n",
      "  7:|||fibonacci(1)\n",
      "  8:||fibonacci(2)\n",
      "  9:|||fibonacci(1)\n",
      " 10:|||fibonacci(0)\n",
      " 11:|fibonacci(3)\n",
      " 12:||fibonacci(2)\n",
      " 13:|||fibonacci(1)\n",
      " 14:|||fibonacci(0)\n",
      " 15:||fibonacci(1)\n",
      "Done\n",
      "5\n"
     ]
    }
   ],
   "source": [
    "fibonacci, fibonacci_decorated = fibonacci.__wrapped__, fibonacci  # recover\n",
    "print('original fibonacci:')\n",
    "print(fibonacci(5))\n",
    "\n",
    "fibonacci = fibonacci_decorated  # decorate\n",
    "print('decorated fibonacci:')\n",
    "print(fibonacci(5))"
   ]
  },
  {
   "cell_type": "markdown",
   "metadata": {
    "slideshow": {
     "slide_type": "subslide"
    }
   },
   "source": [
    "**How to use decorator to improve recursion?**"
   ]
  },
  {
   "cell_type": "markdown",
   "metadata": {
    "slideshow": {
     "slide_type": "fragment"
    }
   },
   "source": [
    "We can also use a decorator to make recursion more efficient by caching the return values.  \n",
    "`cache` is a dictionary where `cache[n]` stores the computed value of $F_n$ to avoid redundant computations."
   ]
  },
  {
   "cell_type": "code",
   "execution_count": 46,
   "metadata": {
    "ExecuteTime": {
     "end_time": "2020-10-31T02:44:08.641679Z",
     "start_time": "2020-10-31T02:44:08.632945Z"
    },
    "collapsed": true,
    "jupyter": {
     "outputs_hidden": true
    },
    "scrolled": true,
    "slideshow": {
     "slide_type": "fragment"
    }
   },
   "outputs": [],
   "source": [
    "def caching(f):\n",
    "    '''Return a decorator that caches a function with a single argument.'''\n",
    "    @functools.wraps(f)\n",
    "    def wrapper(n):\n",
    "        if n not in cache:\n",
    "            cache[n] = f(n)\n",
    "        else:\n",
    "            print('read from cache')\n",
    "        return cache[n]\n",
    "\n",
    "    cache = {}\n",
    "    wrapper.clear_cache = lambda : cache.clear()  # add method to clear cache\n",
    "    return wrapper\n",
    "\n",
    "\n",
    "@print_function_call\n",
    "@caching\n",
    "def fibonacci(n):\n",
    "    return fibonacci(n - 1) + fibonacci(n - 2) if n > 1 else 1 if n == 1 else 0"
   ]
  },
  {
   "cell_type": "code",
   "execution_count": 47,
   "metadata": {
    "ExecuteTime": {
     "end_time": "2020-10-31T02:44:08.660463Z",
     "start_time": "2020-10-31T02:44:08.643793Z"
    },
    "collapsed": true,
    "jupyter": {
     "outputs_hidden": true
    },
    "slideshow": {
     "slide_type": "fragment"
    }
   },
   "outputs": [
    {
     "name": "stdout",
     "output_type": "stream",
     "text": [
      "  1:fibonacci(5)\n",
      "  2:|fibonacci(4)\n",
      "  3:||fibonacci(3)\n",
      "  4:|||fibonacci(2)\n",
      "  5:||||fibonacci(1)\n",
      "  6:||||fibonacci(0)\n",
      "  7:|||fibonacci(1)\n",
      "read from cache\n",
      "  8:||fibonacci(2)\n",
      "read from cache\n",
      "  9:|fibonacci(3)\n",
      "read from cache\n",
      "Done\n",
      "  1:fibonacci(5)\n",
      "read from cache\n",
      "Done\n",
      "  1:fibonacci(5)\n",
      "  2:|fibonacci(4)\n",
      "  3:||fibonacci(3)\n",
      "  4:|||fibonacci(2)\n",
      "  5:||||fibonacci(1)\n",
      "  6:||||fibonacci(0)\n",
      "  7:|||fibonacci(1)\n",
      "read from cache\n",
      "  8:||fibonacci(2)\n",
      "read from cache\n",
      "  9:|fibonacci(3)\n",
      "read from cache\n",
      "Done\n"
     ]
    },
    {
     "data": {
      "text/plain": [
       "5"
      ]
     },
     "execution_count": 47,
     "metadata": {},
     "output_type": "execute_result"
    }
   ],
   "source": [
    "fibonacci(5)\n",
    "fibonacci(5)\n",
    "fibonacci.clear_cache()\n",
    "fibonacci(5)"
   ]
  },
  {
   "cell_type": "markdown",
   "metadata": {
    "slideshow": {
     "slide_type": "fragment"
    }
   },
   "source": [
    "A method `clear_cache` is added to the wrapper to clear the cache.   \n",
    "`lambda <argument list> : <expression>`is called a [*lambda* expression](https://docs.python.org/3/reference/expressions.html#lambda), which conveniently defines an *anonymous function*."
   ]
  },
  {
   "cell_type": "code",
   "execution_count": 48,
   "metadata": {
    "ExecuteTime": {
     "end_time": "2020-10-31T02:44:08.918456Z",
     "start_time": "2020-10-31T02:44:08.912645Z"
    },
    "slideshow": {
     "slide_type": "fragment"
    }
   },
   "outputs": [
    {
     "data": {
      "text/plain": [
       "(function, '<lambda>')"
      ]
     },
     "execution_count": 48,
     "metadata": {},
     "output_type": "execute_result"
    }
   ],
   "source": [
    "type(fibonacci.clear_cache), fibonacci.clear_cache.__name__"
   ]
  },
  {
   "cell_type": "markdown",
   "metadata": {
    "slideshow": {
     "slide_type": "slide"
    }
   },
   "source": [
    "## Module"
   ]
  },
  {
   "cell_type": "markdown",
   "metadata": {
    "slideshow": {
     "slide_type": "subslide"
    }
   },
   "source": [
    "**How to create a module?**"
   ]
  },
  {
   "cell_type": "markdown",
   "metadata": {
    "slideshow": {
     "slide_type": "fragment"
    }
   },
   "source": [
    "To create a module, simply put the code in a python source file `<module name>.py` in\n",
    "- the current directory, or\n",
    "- a python *site-packages* directory in system path."
   ]
  },
  {
   "cell_type": "code",
   "execution_count": 49,
   "metadata": {
    "ExecuteTime": {
     "end_time": "2020-10-31T02:44:09.980305Z",
     "start_time": "2020-10-31T02:44:09.975970Z"
    },
    "slideshow": {
     "slide_type": "-"
    }
   },
   "outputs": [
    {
     "name": "stdout",
     "output_type": "stream",
     "text": [
      "['/home/course/cs1302/.github/nbgrader/source/Lecture6', '/opt/anaconda/lib/python37.zip', '/opt/anaconda/lib/python3.7', '/opt/anaconda/lib/python3.7/lib-dynload', '', '/home/course/cs1302/.local/lib/python3.7/site-packages', '/opt/anaconda/lib/python3.7/site-packages', '/opt/anaconda/lib/python3.7/site-packages/IPython/extensions', '/home/course/cs1302/.ipython', '/home/course/cs1302/site-packages']\n"
     ]
    }
   ],
   "source": [
    "import sys\n",
    "print(sys.path)"
   ]
  },
  {
   "cell_type": "markdown",
   "metadata": {
    "slideshow": {
     "slide_type": "subslide"
    }
   },
   "source": [
    "For example, to create a module for generating Fibonacci numbers:"
   ]
  },
  {
   "cell_type": "code",
   "execution_count": 50,
   "metadata": {
    "ExecuteTime": {
     "end_time": "2020-10-31T02:44:10.235662Z",
     "start_time": "2020-10-31T02:44:10.226972Z"
    },
    "slideshow": {
     "slide_type": "-"
    }
   },
   "outputs": [],
   "source": [
    "%more fibonacci.py"
   ]
  },
  {
   "cell_type": "code",
   "execution_count": 51,
   "metadata": {
    "ExecuteTime": {
     "end_time": "2020-10-31T02:44:10.246664Z",
     "start_time": "2020-10-31T02:44:10.238773Z"
    },
    "slideshow": {
     "slide_type": "-"
    }
   },
   "outputs": [
    {
     "name": "stdout",
     "output_type": "stream",
     "text": [
      "Help on module fibonacci:\n",
      "\n",
      "NAME\n",
      "    fibonacci - Contain functions for generating fibonacci numbers.\n",
      "\n",
      "FUNCTIONS\n",
      "    fibonacci(n)\n",
      "        Returns the Fibonacci number of order n.\n",
      "    \n",
      "    fibonacci_iteration(n)\n",
      "        Returns the Fibonacci number of order n but without recursion.\n",
      "\n",
      "FILE\n",
      "    /home/course/cs1302/.github/nbgrader/source/Lecture6/fibonacci.py\n",
      "\n",
      "\n"
     ]
    }
   ],
   "source": [
    "import fibonacci as fib # as statement shortens name\n",
    "help(fib)"
   ]
  },
  {
   "cell_type": "code",
   "execution_count": 52,
   "metadata": {
    "ExecuteTime": {
     "end_time": "2020-10-31T02:44:10.254591Z",
     "start_time": "2020-10-31T02:44:10.249209Z"
    },
    "slideshow": {
     "slide_type": "-"
    }
   },
   "outputs": [
    {
     "name": "stdout",
     "output_type": "stream",
     "text": [
      "5\n",
      "5\n"
     ]
    }
   ],
   "source": [
    "print(fib.fibonacci(5))\n",
    "print(fib.fibonacci_iteration(5))"
   ]
  }
 ],
 "metadata": {
  "celltoolbar": "Slideshow",
  "kernelspec": {
   "display_name": "Python 3.7",
   "language": "python",
   "name": "python3"
  },
  "language_info": {
   "codemirror_mode": {
    "name": "ipython",
    "version": 3
   },
   "file_extension": ".py",
   "mimetype": "text/x-python",
   "name": "python",
   "nbconvert_exporter": "python",
   "pygments_lexer": "ipython3",
   "version": "3.7.3"
  },
  "latex_envs": {
   "LaTeX_envs_menu_present": true,
   "autoclose": false,
   "autocomplete": true,
   "bibliofile": "biblio.bib",
   "cite_by": "apalike",
   "current_citInitial": 1,
   "eqLabelWithNumbers": true,
   "eqNumInitial": 1,
   "hotkeys": {
    "equation": "Ctrl-E",
    "itemize": "Ctrl-I"
   },
   "labels_anchors": false,
   "latex_user_defs": false,
   "report_style_numbering": false,
   "user_envs_cfg": false
  },
  "rise": {
   "enable_chalkboard": true,
   "scroll": true,
   "theme": "white"
  },
  "toc": {
   "base_numbering": 1,
   "nav_menu": {
    "height": "195px",
    "width": "330px"
   },
   "number_sections": true,
   "sideBar": true,
   "skip_h1_title": true,
   "title_cell": "Table of Contents",
   "title_sidebar": "Contents",
   "toc_cell": false,
   "toc_position": {
    "height": "454.418px",
    "left": "1533px",
    "top": "110.284px",
    "width": "261px"
   },
   "toc_section_display": true,
   "toc_window_display": false
  }
 },
 "nbformat": 4,
 "nbformat_minor": 4
}