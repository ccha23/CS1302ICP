{
 "cells": [
  {
   "cell_type": "markdown",
   "metadata": {
    "slideshow": {
     "slide_type": "slide"
    }
   },
   "source": [
    "# Monte Carlo Simulation and Linear Algebra"
   ]
  },
  {
   "cell_type": "markdown",
   "metadata": {
    "slideshow": {
     "slide_type": "-"
    },
    "tags": [
     "remove-cell"
    ]
   },
   "source": [
    "**CS1302 Introduction to Computer Programming**\n",
    "___"
   ]
  },
  {
   "cell_type": "code",
   "execution_count": 1,
   "metadata": {
    "ExecuteTime": {
     "end_time": "2020-11-27T11:20:04.656873Z",
     "start_time": "2020-11-27T11:20:04.651575Z"
    },
    "slideshow": {
     "slide_type": "fragment"
    },
    "tags": [
     "remove-cell"
    ]
   },
   "outputs": [],
   "source": [
    "%reload_ext mytutor"
   ]
  },
  {
   "cell_type": "markdown",
   "metadata": {
    "slideshow": {
     "slide_type": "subslide"
    }
   },
   "source": [
    "## Monte Carlo simulation"
   ]
  },
  {
   "cell_type": "markdown",
   "metadata": {
    "slideshow": {
     "slide_type": "subslide"
    }
   },
   "source": [
    "**What is Monte Carlo simulation?**"
   ]
  },
  {
   "cell_type": "markdown",
   "metadata": {
    "slideshow": {
     "slide_type": "fragment"
    }
   },
   "source": [
    " > The name Monte Carlo refers to the [Monte Carlo Casino in Monaco](https://en.wikipedia.org/wiki/Monte_Carlo_Casino) where Ulam's uncle would borrow money from relatives to gamble."
   ]
  },
  {
   "cell_type": "markdown",
   "metadata": {
    "slideshow": {
     "slide_type": "fragment"
    }
   },
   "source": [
    "It would be nice to simulate the casino, so Ulam's uncle did not need to borrow money to go.  \n",
    "Actually...,\n",
    "- Monte Carlo is the code name of the secret project for creating the [hydrogen bomb](https://en.wikipedia.org/wiki/Monte_Carlo_method). \n",
    "- [Ulam](https://en.wikipedia.org/wiki/Stanislaw_Ulam) worked with [John von Neumann](https://en.wikipedia.org/wiki/John_von_Neumann) to program the first electronic computer ENIAC to simulate a computational model of a thermonuclear reaction.\n",
    "\n",
    "(See also [The Beginning of the Monte Carlo Method](https://permalink.lanl.gov/object/tr?what=info:lanl-repo/lareport/LA-UR-88-9067) for a more detailed account.)"
   ]
  },
  {
   "cell_type": "markdown",
   "metadata": {
    "slideshow": {
     "slide_type": "subslide"
    }
   },
   "source": [
    "**How to compute the value of $\\pi$**?"
   ]
  },
  {
   "cell_type": "markdown",
   "metadata": {
    "slideshow": {
     "slide_type": "fragment"
    }
   },
   "source": [
    "An application of Monte Carlo simulation is in approximating $\\pi$ using \n",
    "the [Buffon's needle](https://en.wikipedia.org/wiki/Buffon%27s_needle_problem).  \n",
    "There is [a program](https://www.khanacademy.org/computer-programming/pi-by-buffons-needle/6695500989890560) written in javascript to do this."
   ]
  },
  {
   "cell_type": "markdown",
   "metadata": {
    "slideshow": {
     "slide_type": "fragment"
    }
   },
   "source": [
    "The javascript program a bit long to digest, so we will use an alternative simulation that is easier to understand/program."
   ]
  },
  {
   "cell_type": "markdown",
   "metadata": {
    "slideshow": {
     "slide_type": "subslide"
    }
   },
   "source": [
    "If we uniformly randomly pick a point in a square. What is the chance it is in the inscribed circle, i.e., the biggest circle inside the square?"
   ]
  },
  {
   "cell_type": "markdown",
   "metadata": {
    "slideshow": {
     "slide_type": "-"
    }
   },
   "source": [
    "The chance is the area of the circle divided by the area of the square. Suppose the square has length $\\ell$, then the chance is\n",
    "\n",
    "$$ \\frac{\\pi (\\ell /2)^2}{ (\\ell)^2 } = \\frac{\\pi}4 $$\n",
    "independent of the length $\\ell$."
   ]
  },
  {
   "cell_type": "markdown",
   "metadata": {
    "slideshow": {
     "slide_type": "subslide"
    }
   },
   "source": [
    "**Exercise** Complete the following function to return an approximation of $\\pi$ as follows:\n",
    "1. Simulate the random process of picking a point from a square repeatedly `n` times by  \n",
    "  generating the $x$ and $y$ coordinates uniformly randomly from a unit interval $[0,1)$.\n",
    "2. Compute the fraction of times the point is in the first quadrant of the inscribed circle as shown in the figure below.\n",
    "3. Return $4$ times the fraction as the approximation.\n",
    "<p><a href=\"https://commons.wikimedia.org/wiki/File:Pi_30K.gif#/media/File:Pi_30K.gif\"><img src=\"https://upload.wikimedia.org/wikipedia/commons/8/84/Pi_30K.gif\" alt=\"Pi 30K.gif\"></a></p>"
   ]
  },
  {
   "cell_type": "code",
   "execution_count": 2,
   "metadata": {
    "ExecuteTime": {
     "end_time": "2020-11-17T05:05:07.672010Z",
     "start_time": "2020-11-17T05:05:04.428686Z"
    },
    "nbgrader": {
     "grade": false,
     "grade_id": "approximate_pi",
     "locked": false,
     "schema_version": 3,
     "solution": true,
     "task": false
    },
    "slideshow": {
     "slide_type": "-"
    }
   },
   "outputs": [
    {
     "name": "stdout",
     "output_type": "stream",
     "text": [
      "Approximate: 3.141502\n",
      "Ground truth: 3.141592653589793\n"
     ]
    }
   ],
   "source": [
    "import random, math\n",
    "\n",
    "def approximate_pi(n):\n",
    "    ### BEGIN SOLUTION\n",
    "     return 4*len([True for i in range(n) \n",
    "                   if random.random()**2 + random.random()**2 < 1])/n\n",
    "    ### END SOLUTION\n",
    "print(f'Approximate: {approximate_pi(int(1e7))}\\nGround truth: {math.pi}')"
   ]
  },
  {
   "cell_type": "markdown",
   "metadata": {
    "slideshow": {
     "slide_type": "subslide"
    }
   },
   "source": [
    "**How accurate is the approximation?**"
   ]
  },
  {
   "cell_type": "markdown",
   "metadata": {
    "slideshow": {
     "slide_type": "fragment"
    }
   },
   "source": [
    "The following uses a powerful library `numpy` for computing to return a [$95\\%$-confidence interval](http://onlinestatbook.com/2/estimation/mean.html#:~:text=To%20compute%20the%2095%25%20confidence,be%20between%20the%20cutoff%20points.)."
   ]
  },
  {
   "cell_type": "code",
   "execution_count": 3,
   "metadata": {
    "ExecuteTime": {
     "end_time": "2020-11-17T05:05:08.218178Z",
     "start_time": "2020-11-17T05:05:07.673752Z"
    },
    "slideshow": {
     "slide_type": "-"
    }
   },
   "outputs": [
    {
     "name": "stdout",
     "output_type": "stream",
     "text": [
      "95%-confidence interval: [3.1408107 3.1428877]\n",
      "Estimate: 3.1418 ± 0.0010\n",
      "Ground truth: 3.141592653589793\n"
     ]
    }
   ],
   "source": [
    "import numpy as np\n",
    "\n",
    "def np_approximate_pi(n):\n",
    "    in_circle = (np.random.random((n,2))**2).sum(axis=-1) < 1\n",
    "    mean = 4 * in_circle.mean()\n",
    "    std = 4 * in_circle.std() / n**0.5\n",
    "    return np.array([mean - 2*std, mean + 2*std])\n",
    "\n",
    "interval = np_approximate_pi(int(1e7))\n",
    "print(f'''95%-confidence interval: {interval}\n",
    "Estimate: {interval.mean():.4f} ± {(interval[1]-interval[0])/2:.4f}\n",
    "Ground truth: {math.pi}''')"
   ]
  },
  {
   "cell_type": "markdown",
   "metadata": {
    "slideshow": {
     "slide_type": "fragment"
    }
   },
   "source": [
    "Note that the computation done using `numpy` is over $5$ times faster despite the additional computation of the standard deviation."
   ]
  },
  {
   "cell_type": "markdown",
   "metadata": {
    "slideshow": {
     "slide_type": "subslide"
    }
   },
   "source": [
    "There are faster methods to approximate $\\pi$ such as the [Chudnovsky_algorithm](https://en.wikipedia.org/wiki/Chudnovsky_algorithm), but Monte-Carlo method is still useful in more complicated situations.   \n",
    "E.g., see the Monte Carlo simulation of a [real-life situation](https://www.youtube.com/watch?v=-fCVxTTAtFQ) in playing basketball:\n",
    "> \"When down by three and left with only 30 seconds is it better to attempt a hard 3-point shot or an easy 2-point shot and get another possession?\"   --LeBron James"
   ]
  },
  {
   "cell_type": "markdown",
   "metadata": {
    "slideshow": {
     "slide_type": "slide"
    }
   },
   "source": [
    "## Linear Algebra"
   ]
  },
  {
   "cell_type": "markdown",
   "metadata": {
    "slideshow": {
     "slide_type": "subslide"
    }
   },
   "source": [
    "**How to solve a linear equation?**"
   ]
  },
  {
   "cell_type": "markdown",
   "metadata": {
    "slideshow": {
     "slide_type": "fragment"
    }
   },
   "source": [
    "Given the following linear equation in variable $x$ with real-valued coefficient $a$ and $b$,\n",
    "\n",
    "$$ a x = b,$$\n",
    "what is the value of $x$ that satisfies the equation?"
   ]
  },
  {
   "cell_type": "markdown",
   "metadata": {
    "slideshow": {
     "slide_type": "subslide"
    }
   },
   "source": [
    "**Exercise** Complete the following function to return either the unique solution of $x$ or `None` if a unique solution does not exist."
   ]
  },
  {
   "cell_type": "code",
   "execution_count": 4,
   "metadata": {
    "ExecuteTime": {
     "end_time": "2020-11-17T05:05:08.250889Z",
     "start_time": "2020-11-17T05:05:08.220095Z"
    },
    "nbgrader": {
     "grade": false,
     "grade_id": "solve_linear_equation",
     "locked": false,
     "schema_version": 3,
     "solution": true,
     "task": false
    },
    "slideshow": {
     "slide_type": "-"
    }
   },
   "outputs": [
    {
     "data": {
      "application/vnd.jupyter.widget-view+json": {
       "model_id": "8aa825bc8b804326b559eb6e6eb31f15",
       "version_major": 2,
       "version_minor": 0
      },
      "text/plain": [
       "interactive(children=(IntSlider(value=2, description='a', max=5), IntSlider(value=3, description='b', max=5), …"
      ]
     },
     "metadata": {},
     "output_type": "display_data"
    }
   ],
   "source": [
    "def solve_linear_equation(a,b):\n",
    "    ### BEGIN SOLUTION\n",
    "    return b/a if a != 0 else None\n",
    "    ### END SOLUTION\n",
    "\n",
    "import ipywidgets as widgets\n",
    "@widgets.interact(a=(0,5,1),b=(0,5,1))\n",
    "def linear_equation_solver(a=2, b=3):\n",
    "    print(f'''linear equation: {a}x = {b}\n",
    "       solution: x = {solve_linear_equation(a,b)}''')"
   ]
  },
  {
   "cell_type": "markdown",
   "metadata": {
    "slideshow": {
     "slide_type": "subslide"
    }
   },
   "source": [
    "**How to solve multiple linear equations?**"
   ]
  },
  {
   "cell_type": "markdown",
   "metadata": {
    "slideshow": {
     "slide_type": "fragment"
    }
   },
   "source": [
    "In the general case, we have a system of $m$ linear equations and $n$ variables:\n",
    "\n",
    "$$ \\begin{aligned}\n",
    "a_{00} x_0 + a_{01} x_1 + \\dots + a_{0(n-1)} x_{n-1} &= b_0\\\\\n",
    "a_{10} x_0 + a_{11} x_1 + \\dots + a_{1(n-1)} x_{n-1} &= b_1\\\\\n",
    "\\vdots\\kern2em &= \\vdots\\\\\n",
    "a_{(m-1)0} x_0 + a_{(m-1)1} x_1 + \\dots + a_{(m-1)(n-1)} x_{n-1} &= b_{m-1}\\\\\n",
    "\\end{aligned}\n",
    "$$\n",
    "where\n",
    "- $x_j$ for $j\\in \\{0,\\dots,n-1\\}$ are the variables, and\n",
    "- $a_{ij}$ and $b_j$ for $i\\in \\{0,\\dots,m-1\\}$ and $j\\in \\{0,\\dots,n-1\\}$ are the coefficients.\n",
    "\n",
    "A fundamental problem in linear algebra is to compute the unique solution to the system if it exists."
   ]
  },
  {
   "cell_type": "markdown",
   "metadata": {
    "slideshow": {
     "slide_type": "fragment"
    }
   },
   "source": [
    "We will consider the simpler 2-by-2 system with 2 variables and 2 equations:\n",
    "\n",
    "$$ \\begin{aligned}\n",
    "a_{00} x_0 + a_{01} x_1 &= b_0\\\\\n",
    "a_{10} x_0 + a_{11} x_1 &= b_1.\n",
    "\\end{aligned}\n",
    "$$"
   ]
  },
  {
   "cell_type": "markdown",
   "metadata": {
    "slideshow": {
     "slide_type": "subslide"
    }
   },
   "source": [
    "To get an idea of the solution, suppose \n",
    "\n",
    "$$a_{00}=a_{11}=1, a_{01} = a_{10} = 0.$$\n",
    "The system of equations become\n",
    "\n",
    "$$ \\begin{aligned}\n",
    "x_0 \\hphantom{+ x_1} &= b_0\\\\\n",
    "\\hphantom{x_0 +}  x_1 &= b_1,\n",
    "\\end{aligned}\n",
    "$$\n",
    "which gives the solution directly."
   ]
  },
  {
   "cell_type": "markdown",
   "metadata": {
    "slideshow": {
     "slide_type": "fragment"
    }
   },
   "source": [
    "What about $a_{00}=a_{11}=2$ instead?\n",
    "\n",
    "$$ \\begin{aligned}\n",
    "2x_0 \\hphantom{+ x_1} &= b_0\\\\\n",
    "\\hphantom{2x_0 +}  2x_1 &= b_1,\n",
    "\\end{aligned}$$"
   ]
  },
  {
   "cell_type": "markdown",
   "metadata": {
    "slideshow": {
     "slide_type": "fragment"
    }
   },
   "source": [
    "To obtain the solution, we simply divide both equations by 2:\n",
    "\n",
    "$$ \\begin{aligned}\n",
    "x_0 \\hphantom{+ x_1} &= \\frac{b_0}2\\\\\n",
    "\\hphantom{x_0 +}  x_1 &= \\frac{b_1}2.\n",
    "\\end{aligned}\n",
    "$$"
   ]
  },
  {
   "cell_type": "markdown",
   "metadata": {
    "slideshow": {
     "slide_type": "fragment"
    }
   },
   "source": [
    "What if $a_{01}=2$ instead?\n",
    "\n",
    "$$ \\begin{aligned}\n",
    "2x_0 + 2x_1 &= b_0\\\\\n",
    "\\hphantom{2x_0 +}  2x_1 &= b_1\\\\\n",
    "\\end{aligned}\n",
    "$$"
   ]
  },
  {
   "cell_type": "markdown",
   "metadata": {
    "slideshow": {
     "slide_type": "fragment"
    }
   },
   "source": [
    "The second equation gives the solution of $x_1$, and we can use the solution in the first equation to solve for $x_0$. More precisely:\n",
    "- Subtract the second equation from the first one:\n",
    "\n",
    "$$ \\begin{aligned}\n",
    "2x_0 \\hphantom{+2x_1} &= b_0 - b_1\\\\\n",
    "\\hphantom{2x_0 +}  2x_1 &= b_1\\\\\n",
    "\\end{aligned}\n",
    "$$\n",
    "- Divide both equation by 2:\n",
    "\n",
    "$$ \\begin{aligned}\n",
    "x_0 \\hphantom{+ x_1} &= \\frac{b_0 - b_1}2\\\\\n",
    "\\hphantom{x_0 +}  x_1 &= \\frac{b_1}2\\\\\n",
    "\\end{aligned}\n",
    "$$"
   ]
  },
  {
   "cell_type": "markdown",
   "metadata": {
    "slideshow": {
     "slide_type": "subslide"
    }
   },
   "source": [
    "The above operations are called *row operations* in linear algebra: each row is an equation.  \n",
    "A system of linear equations can be solved by the linear operations of \n",
    "1. multiplying an equation by a constant, and\n",
    "2. subtracting one equation from another."
   ]
  },
  {
   "cell_type": "markdown",
   "metadata": {
    "slideshow": {
     "slide_type": "fragment"
    }
   },
   "source": [
    "How to write a program to solve a general 2-by-2 system? We will use the `numpy` library."
   ]
  },
  {
   "cell_type": "markdown",
   "metadata": {
    "slideshow": {
     "slide_type": "subslide"
    }
   },
   "source": [
    "### Creating `numpy` arrays"
   ]
  },
  {
   "cell_type": "markdown",
   "metadata": {
    "slideshow": {
     "slide_type": "subslide"
    }
   },
   "source": [
    "**How to store the coefficients?**"
   ]
  },
  {
   "cell_type": "markdown",
   "metadata": {
    "slideshow": {
     "slide_type": "fragment"
    }
   },
   "source": [
    "In linear algebra, a system of equations such as\n",
    "\n",
    "$$ \\begin{aligned}\n",
    "a_{00} x_0 + a_{01} x_1 &= b_0\\\\\n",
    "a_{10} x_0 + a_{11} x_1 &= b_1\n",
    "\\end{aligned}\n",
    "$$\n",
    "is written concisely in *matrix* form as $ \\mathbf{A} \\mathbf{x} = \\mathbf{b} $:\n",
    "\n",
    "$$\\overbrace{\\begin{bmatrix}\n",
    "a_{00} & a_{01}\\\\\n",
    "a_{10} & a_{11}\n",
    "\\end{bmatrix}}^{\\mathbf{A}}\n",
    "\\overbrace{\n",
    "\\begin{bmatrix}\n",
    "x_0\\\\\n",
    "x_1\n",
    "\\end{bmatrix}}\n",
    "^{\\mathbf{x}}\n",
    "= \\overbrace{\\begin{bmatrix}\n",
    "b_0\\\\\n",
    "b_1\n",
    "\\end{bmatrix}}^{\\mathbf{b}},\n",
    "$$\n",
    "where\n",
    "$ \\mathbf{A} \\mathbf{x}$ is the *matrix multiplication*\n",
    "\n",
    "$$ \\mathbf{A} \\mathbf{x} = \\begin{bmatrix}\n",
    "a_{00} x_0 + a_{01} x_1\\\\\n",
    "a_{10} x_0 + a_{11} x_1\n",
    "\\end{bmatrix}.\n",
    "$$"
   ]
  },
  {
   "cell_type": "markdown",
   "metadata": {
    "slideshow": {
     "slide_type": "fragment"
    }
   },
   "source": [
    "We say that $\\mathbf{A}$ is a [*matrix*](https://en.wikipedia.org/wiki/Matrix_(mathematics)) and its dimension/shape is $2$-by-$2$:\n",
    "- The first dimension/axis has size $2$. We also say that the matrix has $2$ rows.\n",
    "- The second dimension/axis has size $2$. We also say that the matrix has $2$ columns.\n",
    "$\\mathbf{x}$ and $\\mathbf{b}$ are called column vectors, which are matrices with one column."
   ]
  },
  {
   "cell_type": "markdown",
   "metadata": {
    "slideshow": {
     "slide_type": "subslide"
    }
   },
   "source": [
    "Consider the example\n",
    "$$ \\begin{aligned}\n",
    "2x_0 + 2x_1 &= 1\\\\\n",
    "\\hphantom{2x_0 +}  2x_1 &= 1,\n",
    "\\end{aligned}$$\n",
    "or in matrix form with\n",
    "$$ \\begin{aligned}\n",
    "\\mathbf{A}&=\\begin{bmatrix}\n",
    "a_{00} & a_{01} \\\\\n",
    "a_{10} & a_{11} \n",
    "\\end{bmatrix} \n",
    "= \\begin{bmatrix}\n",
    "2 & 2 \\\\\n",
    "0 & 2 \n",
    "\\end{bmatrix}\\\\\n",
    "\\mathbf{b}&=\\begin{bmatrix}\n",
    "b_0\\\\\n",
    "b_1\n",
    "\\end{bmatrix} = \\begin{bmatrix}\n",
    "1\\\\\n",
    "1\n",
    "\\end{bmatrix}\\end{aligned}$$"
   ]
  },
  {
   "cell_type": "markdown",
   "metadata": {
    "slideshow": {
     "slide_type": "fragment"
    }
   },
   "source": [
    "Instead of using `list` to store the matrix, we will use a `numpy` array."
   ]
  },
  {
   "cell_type": "code",
   "execution_count": 5,
   "metadata": {
    "ExecuteTime": {
     "end_time": "2020-11-17T05:05:08.258666Z",
     "start_time": "2020-11-17T05:05:08.252256Z"
    },
    "slideshow": {
     "slide_type": "-"
    }
   },
   "outputs": [
    {
     "data": {
      "text/plain": [
       "(array([[2., 2.],\n",
       "        [0., 2.]]),\n",
       " array([1., 1.]))"
      ]
     },
     "execution_count": 5,
     "metadata": {},
     "output_type": "execute_result"
    }
   ],
   "source": [
    "A = np.array([[2.,2],[0,2]])\n",
    "b = np.array([1.,1])\n",
    "A, b"
   ]
  },
  {
   "cell_type": "markdown",
   "metadata": {
    "slideshow": {
     "slide_type": "subslide"
    }
   },
   "source": [
    "Compared to `list`, `numpy` array is often more efficient and has more useful attributes."
   ]
  },
  {
   "cell_type": "code",
   "execution_count": 6,
   "metadata": {
    "ExecuteTime": {
     "end_time": "2020-11-17T05:05:08.277037Z",
     "start_time": "2020-11-17T05:05:08.259940Z"
    },
    "slideshow": {
     "slide_type": "-"
    }
   },
   "outputs": [
    {
     "name": "stdout",
     "output_type": "stream",
     "text": [
      "\n",
      "Common attributes:\n",
      " sort copy\n",
      "\n",
      "Array-specific attributes:\n",
      " dump T argmin repeat itemsize diagonal prod choose compress setfield ndim ptp argmax swapaxes squeeze conj all item trace tofile partition fill mean byteswap getfield max conjugate clip imag ctypes cumprod size data astype reshape dtype std nbytes ravel round resize var setflags newbyteorder argsort dot flatten sum tostring put flags real cumsum flat transpose base dumps tobytes searchsorted strides tolist view min itemset shape any argpartition take nonzero\n",
      "\n",
      "List-specific attributes:\n",
      " remove insert append pop reverse clear extend index count\n"
     ]
    }
   ],
   "source": [
    "array_attributes = set(attr for attr in dir(np.array([])) if attr[0]!='_')\n",
    "list_attributes = set(attr for attr in dir(list) if attr[0]!='_')\n",
    "print('\\nCommon attributes:\\n',*(array_attributes & list_attributes))\n",
    "print('\\nArray-specific attributes:\\n', *(array_attributes - list_attributes))\n",
    "print('\\nList-specific attributes:\\n',*(list_attributes - array_attributes))"
   ]
  },
  {
   "cell_type": "markdown",
   "metadata": {
    "slideshow": {
     "slide_type": "subslide"
    }
   },
   "source": [
    "The following attributes give the dimension/shape, number of dimensions, size, and datatype."
   ]
  },
  {
   "cell_type": "code",
   "execution_count": 7,
   "metadata": {
    "ExecuteTime": {
     "end_time": "2020-11-17T05:05:08.284772Z",
     "start_time": "2020-11-17T05:05:08.278614Z"
    },
    "slideshow": {
     "slide_type": "-"
    }
   },
   "outputs": [
    {
     "name": "stdout",
     "output_type": "stream",
     "text": [
      "[[2. 2.]\n",
      " [0. 2.]]\n",
      "    shape: (2, 2)\n",
      "    ndim: 2\n",
      "    size: 4\n",
      "    dtype: float64\n",
      "    \n",
      "[1. 1.]\n",
      "    shape: (2,)\n",
      "    ndim: 1\n",
      "    size: 2\n",
      "    dtype: float64\n",
      "    \n"
     ]
    }
   ],
   "source": [
    "for array in A, b:\n",
    "    print(f'''{array}\n",
    "    shape: {array.shape}\n",
    "    ndim: {array.ndim}\n",
    "    size: {array.size}\n",
    "    dtype: {array.dtype}\n",
    "    ''')"
   ]
  },
  {
   "cell_type": "markdown",
   "metadata": {
    "slideshow": {
     "slide_type": "fragment"
    }
   },
   "source": [
    "Note that the function `len` only returns the size of the first dimension:"
   ]
  },
  {
   "cell_type": "code",
   "execution_count": 8,
   "metadata": {
    "ExecuteTime": {
     "end_time": "2020-11-17T05:05:08.316025Z",
     "start_time": "2020-11-17T05:05:08.310303Z"
    },
    "slideshow": {
     "slide_type": "-"
    }
   },
   "outputs": [
    {
     "data": {
      "text/plain": [
       "2"
      ]
     },
     "execution_count": 8,
     "metadata": {},
     "output_type": "execute_result"
    }
   ],
   "source": [
    "assert A.shape[0] == len(A)\n",
    "len(A)"
   ]
  },
  {
   "cell_type": "markdown",
   "metadata": {
    "slideshow": {
     "slide_type": "subslide"
    }
   },
   "source": [
    "Unlike `list`, every `numpy` array has a data type. For efficient computation/storage, numpy implements different data types with different storage sizes:\n",
    "* integer: `int8`, `int16`, `int32`, `int64`, `uint8`, ...\n",
    "* float: `float16`, `float32`, `float64`, ...\n",
    "* complex: `complex64`, `complex128`, ...\n",
    "* boolean: `bool8`\n",
    "* Unicode: `string`\n",
    "* Object: `object`"
   ]
  },
  {
   "cell_type": "markdown",
   "metadata": {
    "slideshow": {
     "slide_type": "fragment"
    }
   },
   "source": [
    "E.g., `int64` is the 64-bit integer. Unlike `int`, `int64` has a range."
   ]
  },
  {
   "cell_type": "code",
   "execution_count": 9,
   "metadata": {
    "ExecuteTime": {
     "end_time": "2020-11-17T05:05:08.580209Z",
     "start_time": "2020-11-17T05:05:08.528600Z"
    },
    "slideshow": {
     "slide_type": "-"
    }
   },
   "outputs": [
    {
     "name": "stdout",
     "output_type": "stream",
     "text": [
      "range: -9223372036854775808 to 9223372036854775807\n"
     ]
    },
    {
     "ename": "OverflowError",
     "evalue": "Python int too large to convert to C long",
     "output_type": "error",
     "traceback": [
      "\u001b[0;31m---------------------------------------------------------------------------\u001b[0m",
      "\u001b[0;31mOverflowError\u001b[0m                             Traceback (most recent call last)",
      "\u001b[0;32m<ipython-input-9-b5ecbde7f9e9>\u001b[0m in \u001b[0;36m<module>\u001b[0;34m\u001b[0m\n\u001b[1;32m      1\u001b[0m \u001b[0mget_ipython\u001b[0m\u001b[0;34m(\u001b[0m\u001b[0;34m)\u001b[0m\u001b[0;34m.\u001b[0m\u001b[0mrun_line_magic\u001b[0m\u001b[0;34m(\u001b[0m\u001b[0;34m'pinfo'\u001b[0m\u001b[0;34m,\u001b[0m \u001b[0;34m'np.int64'\u001b[0m\u001b[0;34m)\u001b[0m\u001b[0;34m\u001b[0m\u001b[0;34m\u001b[0m\u001b[0m\n\u001b[1;32m      2\u001b[0m \u001b[0mprint\u001b[0m\u001b[0;34m(\u001b[0m\u001b[0;34mf'range: {np.int64(-2**63)} to {np.int64(2**63-1)}'\u001b[0m\u001b[0;34m)\u001b[0m\u001b[0;34m\u001b[0m\u001b[0;34m\u001b[0m\u001b[0m\n\u001b[0;32m----> 3\u001b[0;31m \u001b[0mnp\u001b[0m\u001b[0;34m.\u001b[0m\u001b[0mint64\u001b[0m\u001b[0;34m(\u001b[0m\u001b[0;36m2\u001b[0m\u001b[0;34m**\u001b[0m\u001b[0;36m63\u001b[0m\u001b[0;34m)\u001b[0m   \u001b[0;31m# overflow error\u001b[0m\u001b[0;34m\u001b[0m\u001b[0;34m\u001b[0m\u001b[0m\n\u001b[0m",
      "\u001b[0;31mOverflowError\u001b[0m: Python int too large to convert to C long"
     ]
    }
   ],
   "source": [
    "np.int64?\n",
    "print(f'range: {np.int64(-2**63)} to {np.int64(2**63-1)}')\n",
    "np.int64(2**63)   # overflow error"
   ]
  },
  {
   "cell_type": "markdown",
   "metadata": {
    "slideshow": {
     "slide_type": "subslide"
    }
   },
   "source": [
    "We can use the `astype` method to convert the data type:"
   ]
  },
  {
   "cell_type": "code",
   "execution_count": 10,
   "metadata": {
    "ExecuteTime": {
     "end_time": "2020-11-17T05:05:08.690620Z",
     "start_time": "2020-11-17T05:05:08.683292Z"
    },
    "slideshow": {
     "slide_type": "-"
    }
   },
   "outputs": [
    {
     "name": "stdout",
     "output_type": "stream",
     "text": [
      "[[2 2]\n",
      " [0 2]] int64\n",
      "[[2. 2.]\n",
      " [0. 2.]] float32\n"
     ]
    }
   ],
   "source": [
    "A_int64 = A.astype(int)       # converts to int64 by default\n",
    "A_float32 = A.astype(np.float32)  # converts to float32\n",
    "for array in A_int64, A_float32:\n",
    "    print(array, array.dtype)"
   ]
  },
  {
   "cell_type": "markdown",
   "metadata": {
    "slideshow": {
     "slide_type": "fragment"
    }
   },
   "source": [
    "We have to be careful about assigning items of different types to an array."
   ]
  },
  {
   "cell_type": "code",
   "execution_count": 11,
   "metadata": {
    "ExecuteTime": {
     "end_time": "2020-11-17T05:05:08.757719Z",
     "start_time": "2020-11-17T05:05:08.747989Z"
    },
    "slideshow": {
     "slide_type": "-"
    }
   },
   "outputs": [
    {
     "name": "stdout",
     "output_type": "stream",
     "text": [
      "[[1 2]\n",
      " [0 2]]\n",
      "[[0 2]\n",
      " [0 2]]\n"
     ]
    },
    {
     "data": {
      "text/plain": [
       "array([1., 1.])"
      ]
     },
     "execution_count": 11,
     "metadata": {},
     "output_type": "execute_result"
    }
   ],
   "source": [
    "A_int64[0,0] = 1\n",
    "print(A_int64)\n",
    "A_int64[0,0] = 0.5\n",
    "print(A_int64)                # intended assignment fails\n",
    "np.array([int(1), float(1)])  # will be all floating point numbers"
   ]
  },
  {
   "cell_type": "markdown",
   "metadata": {
    "ExecuteTime": {
     "end_time": "2020-11-12T14:52:46.259630Z",
     "start_time": "2020-11-12T14:52:46.252370Z"
    },
    "slideshow": {
     "slide_type": "subslide"
    }
   },
   "source": [
    "**Exercise** Create a heterogeneous numpy array to store both integer and strings:\n",
    "```Python\n",
    "[0, 1, 2, 'a', 'b', 'c']\n",
    "```\n",
    "*Hint:* There is an numpy data type called `object`."
   ]
  },
  {
   "cell_type": "code",
   "execution_count": 12,
   "metadata": {
    "ExecuteTime": {
     "end_time": "2020-11-17T05:05:08.771960Z",
     "start_time": "2020-11-17T05:05:08.760396Z"
    },
    "nbgrader": {
     "grade": false,
     "grade_id": "hetero",
     "locked": false,
     "schema_version": 3,
     "solution": true,
     "task": false
    },
    "slideshow": {
     "slide_type": "-"
    }
   },
   "outputs": [
    {
     "data": {
      "text/plain": [
       "array([0, 1, 2, 'a', 'b', 'c'], dtype=object)"
      ]
     },
     "execution_count": 12,
     "metadata": {},
     "output_type": "execute_result"
    }
   ],
   "source": [
    "np.object?\n",
    "### BEGIN SOLUTION\n",
    "heterogeneous_np_array = np.array([*range(3),*'abc'],dtype=object)\n",
    "### END SOLUTION\n",
    "heterogeneous_np_array"
   ]
  },
  {
   "cell_type": "markdown",
   "metadata": {
    "slideshow": {
     "slide_type": "fragment"
    }
   },
   "source": [
    "Be careful when creating arrays of `tuple`/`list`:"
   ]
  },
  {
   "cell_type": "code",
   "execution_count": 13,
   "metadata": {
    "ExecuteTime": {
     "end_time": "2020-11-17T05:05:08.873199Z",
     "start_time": "2020-11-17T05:05:08.863225Z"
    },
    "slideshow": {
     "slide_type": "-"
    }
   },
   "outputs": [
    {
     "name": "stdout",
     "output_type": "stream",
     "text": [
      "[(1, 2) list([3, 4, 5])] \n",
      "shape: (2,) length: 2 size: 2\n",
      "[[1 2]\n",
      " [3 4]] \n",
      "shape: (2, 2) length: 2 size: 4\n"
     ]
    }
   ],
   "source": [
    "for array in (np.array([(1,2),[3,4,5]],dtype=object),\n",
    "              np.array([(1,2),[3,4]],dtype=object)):\n",
    "    print(array, '\\nshape:', array.shape, 'length:', len(array), 'size:', array.size)"
   ]
  },
  {
   "cell_type": "markdown",
   "metadata": {
    "slideshow": {
     "slide_type": "subslide"
    }
   },
   "source": [
    "`numpy` provides many functions to create an array:"
   ]
  },
  {
   "cell_type": "code",
   "execution_count": 14,
   "metadata": {
    "ExecuteTime": {
     "end_time": "2020-11-17T05:05:08.983801Z",
     "start_time": "2020-11-17T05:05:08.973650Z"
    },
    "slideshow": {
     "slide_type": "-"
    }
   },
   "outputs": [
    {
     "data": {
      "text/plain": [
       "(array([], dtype=float64),\n",
       " array([0.]),\n",
       " array([[[0., 0., 0., 0.],\n",
       "         [0., 0., 0., 0.],\n",
       "         [0., 0., 0., 0.]],\n",
       " \n",
       "        [[0., 0., 0., 0.],\n",
       "         [0., 0., 0., 0.],\n",
       "         [0., 0., 0., 0.]]]))"
      ]
     },
     "execution_count": 14,
     "metadata": {},
     "output_type": "execute_result"
    }
   ],
   "source": [
    "np.zeros?\n",
    "np.zeros(0), np.zeros(1), np.zeros((2,3,4))  # Dimension can be higher than 2"
   ]
  },
  {
   "cell_type": "code",
   "execution_count": 15,
   "metadata": {
    "ExecuteTime": {
     "end_time": "2020-11-17T05:05:08.998200Z",
     "start_time": "2020-11-17T05:05:08.985389Z"
    },
    "slideshow": {
     "slide_type": "-"
    }
   },
   "outputs": [
    {
     "data": {
      "text/plain": [
       "(array([], dtype=int64),\n",
       " array([[[1, 1, 1, 1],\n",
       "         [1, 1, 1, 1],\n",
       "         [1, 1, 1, 1]],\n",
       " \n",
       "        [[1, 1, 1, 1],\n",
       "         [1, 1, 1, 1],\n",
       "         [1, 1, 1, 1]]]))"
      ]
     },
     "execution_count": 15,
     "metadata": {},
     "output_type": "execute_result"
    }
   ],
   "source": [
    "np.ones?\n",
    "np.ones(0, dtype=int), np.ones((2,3,4), dtype=int)  # initialize values to int 1"
   ]
  },
  {
   "cell_type": "code",
   "execution_count": 16,
   "metadata": {
    "ExecuteTime": {
     "end_time": "2020-11-17T05:05:09.012964Z",
     "start_time": "2020-11-17T05:05:09.000599Z"
    }
   },
   "outputs": [
    {
     "data": {
      "text/plain": [
       "(array([], shape=(0, 0), dtype=float64),\n",
       " array([[1.]]),\n",
       " array([[1., 0.],\n",
       "        [0., 1.]]),\n",
       " array([[1., 0., 0.],\n",
       "        [0., 1., 0.],\n",
       "        [0., 0., 1.]]))"
      ]
     },
     "execution_count": 16,
     "metadata": {},
     "output_type": "execute_result"
    }
   ],
   "source": [
    "np.eye?\n",
    "np.eye(0), np.eye(1), np.eye(2), np.eye(3)  # identity matrices"
   ]
  },
  {
   "cell_type": "code",
   "execution_count": 17,
   "metadata": {
    "ExecuteTime": {
     "end_time": "2020-11-17T05:05:09.028409Z",
     "start_time": "2020-11-17T05:05:09.014926Z"
    }
   },
   "outputs": [
    {
     "data": {
      "text/plain": [
       "(array([[0]]),\n",
       " array([[0, 0],\n",
       "        [0, 1]]),\n",
       " array([[0., 1., 0., 0.],\n",
       "        [0., 0., 1., 0.],\n",
       "        [0., 0., 0., 1.],\n",
       "        [0., 0., 0., 0.]]))"
      ]
     },
     "execution_count": 17,
     "metadata": {},
     "output_type": "execute_result"
    }
   ],
   "source": [
    "np.diag?\n",
    "np.diag(range(1)), np.diag(range(2)), np.diag(np.ones(3),k=1)  # diagonal matrices"
   ]
  },
  {
   "cell_type": "code",
   "execution_count": 18,
   "metadata": {
    "ExecuteTime": {
     "end_time": "2020-11-17T05:05:09.041080Z",
     "start_time": "2020-11-17T05:05:09.029954Z"
    },
    "slideshow": {
     "slide_type": "-"
    }
   },
   "outputs": [
    {
     "data": {
      "text/plain": [
       "(array([], dtype=float64),\n",
       " array([[[ 93838252494064,               0, 139638213065712,\n",
       "          139638235100976],\n",
       "         [139638213065776, 139638112650992, 139638112651056,\n",
       "          139638202180592],\n",
       "         [139638117153712, 139638117154288, 139638117154480,\n",
       "          139638117154032]],\n",
       " \n",
       "        [[139638186519088, 139638117153648, 139638112651120,\n",
       "          139638202049904],\n",
       "         [139638112651184, 139638233327216, 139638117164080,\n",
       "          139638202173520],\n",
       "         [139638117142240, 139638117154096, 139638112581168,\n",
       "          139638112580912]]]))"
      ]
     },
     "execution_count": 18,
     "metadata": {},
     "output_type": "execute_result"
    }
   ],
   "source": [
    "np.empty?\n",
    "np.empty(0), np.empty((2,3,4), dtype=int)  # create array faster without initialization"
   ]
  },
  {
   "cell_type": "markdown",
   "metadata": {
    "slideshow": {
     "slide_type": "subslide"
    }
   },
   "source": [
    "`numpy` also provides functions to build an array using rules."
   ]
  },
  {
   "cell_type": "code",
   "execution_count": 19,
   "metadata": {
    "ExecuteTime": {
     "end_time": "2020-11-17T05:05:09.109703Z",
     "start_time": "2020-11-17T05:05:09.099795Z"
    },
    "slideshow": {
     "slide_type": "-"
    }
   },
   "outputs": [
    {
     "data": {
      "text/plain": [
       "(array([0, 1, 2, 3, 4]), array([4]), array([4.5, 5. ]))"
      ]
     },
     "execution_count": 19,
     "metadata": {},
     "output_type": "execute_result"
    }
   ],
   "source": [
    "np.arange?\n",
    "np.arange(5), np.arange(4,5), np.arange(4.5,5.5,0.5)  # like range but allow non-integer parameters"
   ]
  },
  {
   "cell_type": "code",
   "execution_count": 20,
   "metadata": {
    "ExecuteTime": {
     "end_time": "2020-11-17T05:05:09.124941Z",
     "start_time": "2020-11-17T05:05:09.112456Z"
    },
    "slideshow": {
     "slide_type": "-"
    }
   },
   "outputs": [
    {
     "data": {
      "text/plain": [
       "(array([4.        , 4.02040816, 4.04081633, 4.06122449, 4.08163265,\n",
       "        4.10204082, 4.12244898, 4.14285714, 4.16326531, 4.18367347,\n",
       "        4.20408163, 4.2244898 , 4.24489796, 4.26530612, 4.28571429,\n",
       "        4.30612245, 4.32653061, 4.34693878, 4.36734694, 4.3877551 ,\n",
       "        4.40816327, 4.42857143, 4.44897959, 4.46938776, 4.48979592,\n",
       "        4.51020408, 4.53061224, 4.55102041, 4.57142857, 4.59183673,\n",
       "        4.6122449 , 4.63265306, 4.65306122, 4.67346939, 4.69387755,\n",
       "        4.71428571, 4.73469388, 4.75510204, 4.7755102 , 4.79591837,\n",
       "        4.81632653, 4.83673469, 4.85714286, 4.87755102, 4.89795918,\n",
       "        4.91836735, 4.93877551, 4.95918367, 4.97959184, 5.        ]),\n",
       " array([4. , 4.1, 4.2, 4.3, 4.4, 4.5, 4.6, 4.7, 4.8, 4.9, 5. ]),\n",
       " array([4. , 4.1, 4.2, 4.3, 4.4, 4.5, 4.6, 4.7, 4.8, 4.9, 5. ]))"
      ]
     },
     "execution_count": 20,
     "metadata": {},
     "output_type": "execute_result"
    }
   ],
   "source": [
    "np.linspace?\n",
    "np.linspace(4,5), np.linspace(4,5,11), np.linspace(4,5,11)  # can specify number of points instead of step"
   ]
  },
  {
   "cell_type": "code",
   "execution_count": 21,
   "metadata": {
    "ExecuteTime": {
     "end_time": "2020-11-17T05:05:09.133901Z",
     "start_time": "2020-11-17T05:05:09.126689Z"
    },
    "slideshow": {
     "slide_type": "-"
    }
   },
   "outputs": [
    {
     "data": {
      "text/plain": [
       "array([[0., 0., 0., 0.],\n",
       "       [0., 1., 2., 3.],\n",
       "       [0., 2., 4., 6.]])"
      ]
     },
     "execution_count": 21,
     "metadata": {},
     "output_type": "execute_result"
    }
   ],
   "source": [
    "np.fromfunction?\n",
    "np.fromfunction(lambda i, j: i * j, (3,4))  # can initialize using a function"
   ]
  },
  {
   "cell_type": "markdown",
   "metadata": {
    "slideshow": {
     "slide_type": "subslide"
    }
   },
   "source": [
    "We can also reshape an array using the `reshape` method/function:"
   ]
  },
  {
   "cell_type": "code",
   "execution_count": 22,
   "metadata": {
    "ExecuteTime": {
     "end_time": "2020-11-17T05:05:09.225964Z",
     "start_time": "2020-11-17T05:05:09.214048Z"
    },
    "slideshow": {
     "slide_type": "-"
    }
   },
   "outputs": [
    {
     "data": {
      "text/plain": [
       "(array([ 0,  1,  2,  3,  4,  5,  6,  7,  8,  9, 10, 11, 12, 13, 14, 15, 16,\n",
       "        17, 18, 19, 20, 21, 22, 23]),\n",
       " array([[[ 0,  1,  2,  3],\n",
       "         [ 4,  5,  6,  7],\n",
       "         [ 8,  9, 10, 11]],\n",
       " \n",
       "        [[12, 13, 14, 15],\n",
       "         [16, 17, 18, 19],\n",
       "         [20, 21, 22, 23]]]),\n",
       " array([[[ 0,  1,  2,  3],\n",
       "         [ 4,  5,  6,  7],\n",
       "         [ 8,  9, 10, 11]],\n",
       " \n",
       "        [[12, 13, 14, 15],\n",
       "         [16, 17, 18, 19],\n",
       "         [20, 21, 22, 23]]]),\n",
       " array([[[ 0,  6, 12, 18],\n",
       "         [ 2,  8, 14, 20],\n",
       "         [ 4, 10, 16, 22]],\n",
       " \n",
       "        [[ 1,  7, 13, 19],\n",
       "         [ 3,  9, 15, 21],\n",
       "         [ 5, 11, 17, 23]]]))"
      ]
     },
     "execution_count": 22,
     "metadata": {},
     "output_type": "execute_result"
    }
   ],
   "source": [
    "array = np.arange(2*3*4)\n",
    "array.reshape?\n",
    "(array, \n",
    " array.reshape(2,3,4),      # last axis index changes fastest\n",
    " array.reshape(2,3,-1),     # size of last axis calculated automatically\n",
    " array.reshape((2,3,4), order='F')) # first axis index changes fastest"
   ]
  },
  {
   "cell_type": "markdown",
   "metadata": {
    "slideshow": {
     "slide_type": "fragment"
    }
   },
   "source": [
    "`flatten` is a special case of reshaping an array to one dimension.  \n",
    "(Indeed, `flatten` returns a copy of the array but `reshape` returns a dynamic view whenever possible.)"
   ]
  },
  {
   "cell_type": "code",
   "execution_count": 23,
   "metadata": {
    "ExecuteTime": {
     "end_time": "2020-11-17T05:05:09.335182Z",
     "start_time": "2020-11-17T05:05:09.326890Z"
    },
    "slideshow": {
     "slide_type": "-"
    }
   },
   "outputs": [
    {
     "data": {
      "text/plain": [
       "(array([[[ 0,  1,  2,  3],\n",
       "         [ 4,  5,  6,  7],\n",
       "         [ 8,  9, 10, 11]],\n",
       " \n",
       "        [[12, 13, 14, 15],\n",
       "         [16, 17, 18, 19],\n",
       "         [20, 21, 22, 23]]]),\n",
       " array([ 0,  1,  2,  3,  4,  5,  6,  7,  8,  9, 10, 11, 12, 13, 14, 15, 16,\n",
       "        17, 18, 19, 20, 21, 22, 23]),\n",
       " array([ 0,  1,  2,  3,  4,  5,  6,  7,  8,  9, 10, 11, 12, 13, 14, 15, 16,\n",
       "        17, 18, 19, 20, 21, 22, 23]),\n",
       " array([ 0, 12,  4, 16,  8, 20,  1, 13,  5, 17,  9, 21,  2, 14,  6, 18, 10,\n",
       "        22,  3, 15,  7, 19, 11, 23]))"
      ]
     },
     "execution_count": 23,
     "metadata": {},
     "output_type": "execute_result"
    }
   ],
   "source": [
    "array = np.arange(2*3*4).reshape(2,3,4)\n",
    "array, array.flatten(), array.reshape(-1), array.flatten(order='F')"
   ]
  },
  {
   "cell_type": "markdown",
   "metadata": {
    "slideshow": {
     "slide_type": "subslide"
    }
   },
   "source": [
    "**Exercise** Correct the following function to print every element of an array line-by-line.\n",
    "```Python\n",
    "def print_array_entries_line_by_line(array):\n",
    "    for i in array:\n",
    "        print(i)\n",
    "```"
   ]
  },
  {
   "cell_type": "code",
   "execution_count": 24,
   "metadata": {
    "ExecuteTime": {
     "end_time": "2020-11-17T05:05:15.307473Z",
     "start_time": "2020-11-17T05:05:15.296495Z"
    },
    "nbgrader": {
     "grade": false,
     "grade_id": "flatten",
     "locked": false,
     "schema_version": 3,
     "solution": true,
     "task": false
    },
    "slideshow": {
     "slide_type": "-"
    },
    "tags": [
     "remove-output"
    ]
   },
   "outputs": [
    {
     "name": "stdout",
     "output_type": "stream",
     "text": [
      "0\n",
      "1\n",
      "2\n",
      "3\n",
      "4\n",
      "5\n",
      "6\n",
      "7\n",
      "8\n",
      "9\n",
      "10\n",
      "11\n",
      "12\n",
      "13\n",
      "14\n",
      "15\n",
      "16\n",
      "17\n",
      "18\n",
      "19\n",
      "20\n",
      "21\n",
      "22\n",
      "23\n"
     ]
    }
   ],
   "source": [
    "def print_array_entries_line_by_line(array):\n",
    "    ### BEGIN SOLUTION\n",
    "    for i in array.flatten():\n",
    "        print(i)\n",
    "    ### END SOLUTION\n",
    "    \n",
    "print_array_entries_line_by_line(np.arange(2*3*4).reshape(2,3,4))"
   ]
  },
  {
   "cell_type": "markdown",
   "metadata": {
    "slideshow": {
     "slide_type": "slide"
    }
   },
   "source": [
    "### Operating on `numpy` arrays"
   ]
  },
  {
   "cell_type": "markdown",
   "metadata": {
    "slideshow": {
     "slide_type": "subslide"
    }
   },
   "source": [
    "**How to verify the solution of a system of linear equations?**"
   ]
  },
  {
   "cell_type": "markdown",
   "metadata": {
    "slideshow": {
     "slide_type": "fragment"
    }
   },
   "source": [
    "Before solving the system of linear equations, let us try to verify a solution to the equations:\n",
    "\n",
    "$$ \\begin{aligned}\n",
    "2x_0 + 2x_1 &= 1\\\\\n",
    "\\hphantom{2x_0 +}  2x_1 &= 1\n",
    "\\end{aligned}\n",
    "$$"
   ]
  },
  {
   "cell_type": "markdown",
   "metadata": {
    "slideshow": {
     "slide_type": "fragment"
    }
   },
   "source": [
    "`numpy` provides the function `matmul` and the operator `@` for matrix multiplication."
   ]
  },
  {
   "cell_type": "code",
   "execution_count": 25,
   "metadata": {
    "ExecuteTime": {
     "end_time": "2020-11-13T07:30:32.601700Z",
     "start_time": "2020-11-13T07:30:32.592763Z"
    },
    "slideshow": {
     "slide_type": "-"
    }
   },
   "outputs": [
    {
     "name": "stdout",
     "output_type": "stream",
     "text": [
      "[False False]\n",
      "[ True  True]\n"
     ]
    }
   ],
   "source": [
    "print(np.matmul(A,np.array([0,0])) == b)\n",
    "print(A @ np.array([0,0.5]) == b)"
   ]
  },
  {
   "cell_type": "markdown",
   "metadata": {
    "slideshow": {
     "slide_type": "subslide"
    }
   },
   "source": [
    "Note that the comparison on `numpy` arrays returns a boolean array instead of a boolean value, unlike the comparison operations on lists."
   ]
  },
  {
   "cell_type": "markdown",
   "metadata": {
    "slideshow": {
     "slide_type": "fragment"
    }
   },
   "source": [
    "To check whether all items are true, we use the `all` method."
   ]
  },
  {
   "cell_type": "code",
   "execution_count": 26,
   "metadata": {
    "ExecuteTime": {
     "end_time": "2020-11-13T07:40:09.717569Z",
     "start_time": "2020-11-13T07:40:09.708770Z"
    },
    "slideshow": {
     "slide_type": "-"
    }
   },
   "outputs": [
    {
     "name": "stdout",
     "output_type": "stream",
     "text": [
      "False\n",
      "True\n"
     ]
    }
   ],
   "source": [
    "print((np.matmul(A,np.array([0,0])) == b).all())\n",
    "print((A @ np.array([0,0.5]) == b).all())"
   ]
  },
  {
   "cell_type": "markdown",
   "metadata": {
    "slideshow": {
     "slide_type": "subslide"
    }
   },
   "source": [
    "**How to concatenate arrays?**"
   ]
  },
  {
   "cell_type": "markdown",
   "metadata": {
    "slideshow": {
     "slide_type": "-"
    }
   },
   "source": [
    "We will operate on an augmented matrix of the coefficients:\n",
    "\n",
    "$$ \\begin{aligned} \\mathbf{C} &= \\begin{bmatrix}\n",
    "\\mathbf{A} & \\mathbf{b}\n",
    "\\end{bmatrix}\\\\\n",
    "&= \\begin{bmatrix}\n",
    "a_{00} & a_{01} & b_0 \\\\\n",
    "a_{10} & a_{11} & b_1\n",
    "\\end{bmatrix} \n",
    "\\end{aligned}\n",
    "$$\n"
   ]
  },
  {
   "cell_type": "markdown",
   "metadata": {
    "slideshow": {
     "slide_type": "fragment"
    }
   },
   "source": [
    "`numpy` provides functions to create block matrices:"
   ]
  },
  {
   "cell_type": "code",
   "execution_count": 27,
   "metadata": {
    "ExecuteTime": {
     "end_time": "2020-11-13T05:59:47.144831Z",
     "start_time": "2020-11-13T05:59:47.133871Z"
    },
    "slideshow": {
     "slide_type": "-"
    }
   },
   "outputs": [
    {
     "data": {
      "text/plain": [
       "array([[2., 2., 1.],\n",
       "       [0., 2., 1.]])"
      ]
     },
     "execution_count": 27,
     "metadata": {},
     "output_type": "execute_result"
    }
   ],
   "source": [
    "np.block?\n",
    "C = np.block([A,b.reshape(-1,1)])  # reshape to ensure same ndim\n",
    "C"
   ]
  },
  {
   "cell_type": "markdown",
   "metadata": {
    "slideshow": {
     "slide_type": "fragment"
    }
   },
   "source": [
    "To stack an array along different axes:"
   ]
  },
  {
   "cell_type": "code",
   "execution_count": 28,
   "metadata": {
    "ExecuteTime": {
     "end_time": "2020-11-13T05:24:28.765762Z",
     "start_time": "2020-11-13T05:24:28.755161Z"
    },
    "slideshow": {
     "slide_type": "-"
    }
   },
   "outputs": [
    {
     "name": "stdout",
     "output_type": "stream",
     "text": [
      "[[[0 1 2]\n",
      "  [3 4 5]]] \n",
      "shape: (1, 2, 3)\n",
      "[[[0 1 2]\n",
      "  [3 4 5]\n",
      "  [0 1 2]\n",
      "  [3 4 5]]] \n",
      "shape: (1, 4, 3)\n",
      "[[[0 1 2]\n",
      "  [3 4 5]]\n",
      "\n",
      " [[0 1 2]\n",
      "  [3 4 5]]] \n",
      "shape: (2, 2, 3)\n",
      "[[[0 1 2 0 1 2]\n",
      "  [3 4 5 3 4 5]]] \n",
      "shape:"
     ]
    },
    {
     "name": "stdout",
     "output_type": "stream",
     "text": [
      " (1, 2, 6)\n",
      "[[[[0 1 2]\n",
      "   [3 4 5]]]\n",
      "\n",
      "\n",
      " [[[0 1 2]\n",
      "   [3 4 5]]]] \n",
      "shape: (2, 1, 2, 3)\n"
     ]
    }
   ],
   "source": [
    "array = np.arange(1*2*3).reshape(1,2,3)\n",
    "for concat_array in [array,\n",
    "                     np.hstack((array,array)),   # stack along the first axis\n",
    "                     np.vstack((array,array)),                  # second axis\n",
    "                     np.concatenate((array,array), axis=-1),    # last axis\n",
    "                     np.stack((array,array), axis=0)]:          # new axis\n",
    "    print(concat_array, '\\nshape:', concat_array.shape)"
   ]
  },
  {
   "cell_type": "markdown",
   "metadata": {
    "slideshow": {
     "slide_type": "subslide"
    }
   },
   "source": [
    "**How to perform arithmetic operations on a `numpy` array?**"
   ]
  },
  {
   "cell_type": "markdown",
   "metadata": {
    "slideshow": {
     "slide_type": "fragment"
    }
   },
   "source": [
    "To divide all the coefficients by $2$, we can simply write:"
   ]
  },
  {
   "cell_type": "code",
   "execution_count": 29,
   "metadata": {
    "ExecuteTime": {
     "end_time": "2020-11-13T06:01:45.331879Z",
     "start_time": "2020-11-13T06:01:45.324345Z"
    },
    "slideshow": {
     "slide_type": "-"
    }
   },
   "outputs": [
    {
     "data": {
      "text/plain": [
       "array([[1. , 1. , 0.5],\n",
       "       [0. , 1. , 0.5]])"
      ]
     },
     "execution_count": 29,
     "metadata": {},
     "output_type": "execute_result"
    }
   ],
   "source": [
    "D = C / 2\n",
    "D"
   ]
  },
  {
   "cell_type": "markdown",
   "metadata": {
    "slideshow": {
     "slide_type": "fragment"
    }
   },
   "source": [
    "Note that the above does not work for `list`."
   ]
  },
  {
   "cell_type": "code",
   "execution_count": 30,
   "metadata": {
    "ExecuteTime": {
     "end_time": "2020-11-13T06:01:49.982673Z",
     "start_time": "2020-11-13T06:01:49.969793Z"
    },
    "slideshow": {
     "slide_type": "-"
    }
   },
   "outputs": [
    {
     "ename": "TypeError",
     "evalue": "unsupported operand type(s) for /: 'list' and 'int'",
     "output_type": "error",
     "traceback": [
      "\u001b[0;31m---------------------------------------------------------------------------\u001b[0m",
      "\u001b[0;31mTypeError\u001b[0m                                 Traceback (most recent call last)",
      "\u001b[0;32m<ipython-input-30-7f30faff9f2c>\u001b[0m in \u001b[0;36m<module>\u001b[0;34m\u001b[0m\n\u001b[0;32m----> 1\u001b[0;31m \u001b[0mC\u001b[0m\u001b[0;34m.\u001b[0m\u001b[0mtolist\u001b[0m\u001b[0;34m(\u001b[0m\u001b[0;34m)\u001b[0m \u001b[0;34m/\u001b[0m \u001b[0;36m2\u001b[0m \u001b[0;31m# deep convert to list\u001b[0m\u001b[0;34m\u001b[0m\u001b[0;34m\u001b[0m\u001b[0m\n\u001b[0m",
      "\u001b[0;31mTypeError\u001b[0m: unsupported operand type(s) for /: 'list' and 'int'"
     ]
    }
   ],
   "source": [
    "C.tolist() / 2 # deep convert to list"
   ]
  },
  {
   "cell_type": "markdown",
   "metadata": {
    "slideshow": {
     "slide_type": "subslide"
    }
   },
   "source": [
    "Arithmetic operations on `numpy` arrays apply if the arrays have compatible dimensions. Two dimensions are compatible when\n",
    "- they are equal, except for\n",
    "- components equal to 1."
   ]
  },
  {
   "cell_type": "markdown",
   "metadata": {
    "slideshow": {
     "slide_type": "fragment"
    }
   },
   "source": [
    "`numpy` uses [broadcasting rules](https://numpy.org/doc/stable/user/basics.broadcasting.html#general-broadcasting-rules) to stretch the axis of size 1 up to match the corresponding axis in other arrays.  \n",
    "`C / 2` is a example where the second operand $2$ is broadcasted to a $2$-by-$2$ matrix before the elementwise division. Another example is as follows. "
   ]
  },
  {
   "cell_type": "code",
   "execution_count": 31,
   "metadata": {
    "ExecuteTime": {
     "end_time": "2020-11-13T06:00:08.500533Z",
     "start_time": "2020-11-13T06:00:08.492469Z"
    },
    "slideshow": {
     "slide_type": "-"
    }
   },
   "outputs": [
    {
     "name": "stdout",
     "output_type": "stream",
     "text": [
      "\n",
      "[[0]\n",
      " [1]\n",
      " [2]]\n",
      "*\n",
      "[[0 1 2 3]]\n",
      "==\n",
      "[[0 0 0 0]\n",
      " [0 1 2 3]\n",
      " [0 2 4 6]]\n",
      "\n"
     ]
    }
   ],
   "source": [
    "three_by_one = np.arange(3).reshape(3,1)\n",
    "one_by_four = np.arange(4).reshape(1,4)\n",
    "print(f'''\n",
    "{three_by_one}\n",
    "*\n",
    "{one_by_four}\n",
    "==\n",
    "{three_by_one * one_by_four}\n",
    "''')"
   ]
  },
  {
   "cell_type": "markdown",
   "metadata": {
    "slideshow": {
     "slide_type": "subslide"
    }
   },
   "source": [
    "Next, to subtract the second row of the coefficients from the first row:"
   ]
  },
  {
   "cell_type": "code",
   "execution_count": 32,
   "metadata": {
    "ExecuteTime": {
     "end_time": "2020-11-13T06:01:59.606165Z",
     "start_time": "2020-11-13T06:01:59.597364Z"
    },
    "slideshow": {
     "slide_type": "-"
    }
   },
   "outputs": [
    {
     "data": {
      "text/plain": [
       "array([[1. , 0. , 0. ],\n",
       "       [0. , 1. , 0.5]])"
      ]
     },
     "execution_count": 32,
     "metadata": {},
     "output_type": "execute_result"
    }
   ],
   "source": [
    "D[0,:] = D[0,:] - D[1,:]\n",
    "D"
   ]
  },
  {
   "cell_type": "markdown",
   "metadata": {
    "slideshow": {
     "slide_type": "fragment"
    }
   },
   "source": [
    "Notice the use of commas to index different dimensions instead of using multiple brackets:"
   ]
  },
  {
   "cell_type": "code",
   "execution_count": 33,
   "metadata": {
    "ExecuteTime": {
     "end_time": "2020-11-13T07:21:01.471294Z",
     "start_time": "2020-11-13T07:21:01.467371Z"
    },
    "slideshow": {
     "slide_type": "-"
    }
   },
   "outputs": [],
   "source": [
    "assert (D[0][:] == D[0,:]).all()"
   ]
  },
  {
   "cell_type": "markdown",
   "metadata": {
    "slideshow": {
     "slide_type": "subslide"
    }
   },
   "source": [
    "Using this indexing technique, it is easy extract the last column as the solution to the system of linear equations:"
   ]
  },
  {
   "cell_type": "code",
   "execution_count": 34,
   "metadata": {
    "ExecuteTime": {
     "end_time": "2020-11-13T06:02:32.769524Z",
     "start_time": "2020-11-13T06:02:32.762270Z"
    },
    "slideshow": {
     "slide_type": "-"
    }
   },
   "outputs": [
    {
     "data": {
      "text/plain": [
       "array([0. , 0.5])"
      ]
     },
     "execution_count": 34,
     "metadata": {},
     "output_type": "execute_result"
    }
   ],
   "source": [
    "x = D[:,-1]\n",
    "x"
   ]
  },
  {
   "cell_type": "markdown",
   "metadata": {
    "slideshow": {
     "slide_type": "fragment"
    }
   },
   "source": [
    "This gives the desired solution $x_0=0$ and $x_1=0.5$ for\n",
    "\n",
    "$$ \\begin{aligned}\n",
    "2x_0 + 2x_1 &= 1\\\\\n",
    "\\hphantom{2x_0 +}  2x_1 &= 1\\\\\n",
    "\\end{aligned}$$"
   ]
  },
  {
   "cell_type": "markdown",
   "metadata": {
    "slideshow": {
     "slide_type": "subslide"
    }
   },
   "source": [
    "`numpy` provides many [convenient ways](https://numpy.org/doc/stable/reference/arrays.indexing.html#advanced-indexing) to index an array."
   ]
  },
  {
   "cell_type": "code",
   "execution_count": 35,
   "metadata": {
    "ExecuteTime": {
     "end_time": "2020-11-14T00:26:10.075502Z",
     "start_time": "2020-11-14T00:26:10.069327Z"
    },
    "slideshow": {
     "slide_type": "-"
    }
   },
   "outputs": [
    {
     "data": {
      "text/plain": [
       "(array([[0, 1, 2],\n",
       "        [3, 4, 5]]),\n",
       " array([2, 3]))"
      ]
     },
     "execution_count": 35,
     "metadata": {},
     "output_type": "execute_result"
    }
   ],
   "source": [
    "B = np.arange(2*3).reshape(2,3)\n",
    "B, B[(0,1),(2,0)]  # selecting the corners using integer array"
   ]
  },
  {
   "cell_type": "code",
   "execution_count": 36,
   "metadata": {
    "ExecuteTime": {
     "end_time": "2020-11-13T06:03:04.487294Z",
     "start_time": "2020-11-13T06:03:04.476670Z"
    },
    "slideshow": {
     "slide_type": "-"
    }
   },
   "outputs": [
    {
     "data": {
      "text/plain": [
       "(array([[[ 0,  1,  2,  3],\n",
       "         [ 4,  5,  6,  7],\n",
       "         [ 8,  9, 10, 11]],\n",
       " \n",
       "        [[12, 13, 14, 15],\n",
       "         [16, 17, 18, 19],\n",
       "         [20, 21, 22, 23]]]),\n",
       " array([[ 0,  1,  2,  3],\n",
       "        [ 4,  5,  6,  7],\n",
       "        [ 8,  9, 10, 11]]),\n",
       " array([[ 4,  5,  6,  7],\n",
       "        [ 8,  9, 10, 11]]),\n",
       " array([ 6, 11]),\n",
       " array([[ 6, 11],\n",
       "        [18, 23]]))"
      ]
     },
     "execution_count": 36,
     "metadata": {},
     "output_type": "execute_result"
    }
   ],
   "source": [
    "B = np.arange(2*3*4).reshape(2,3,4)\n",
    "B, B[0], B[0,(1,2)], B[0,(1,2),(2,3)], B[:,(1,2),(2,3)]  # pay attention to the last two cases"
   ]
  },
  {
   "cell_type": "code",
   "execution_count": 37,
   "metadata": {
    "ExecuteTime": {
     "end_time": "2020-11-13T06:03:09.699021Z",
     "start_time": "2020-11-13T06:03:09.690560Z"
    },
    "slideshow": {
     "slide_type": "-"
    }
   },
   "outputs": [
    {
     "data": {
      "text/plain": [
       "array([[ 3,  7, 11],\n",
       "       [15, 19, 23]])"
      ]
     },
     "execution_count": 37,
     "metadata": {},
     "output_type": "execute_result"
    }
   ],
   "source": [
    "assert (B[...,-1] == B[:,:,-1]).all()\n",
    "B[...,-1]  # ... expands to selecting all elements of all previous dimensions"
   ]
  },
  {
   "cell_type": "code",
   "execution_count": 38,
   "metadata": {
    "ExecuteTime": {
     "end_time": "2020-11-13T06:03:10.191541Z",
     "start_time": "2020-11-13T06:03:10.184760Z"
    },
    "slideshow": {
     "slide_type": "-"
    }
   },
   "outputs": [
    {
     "data": {
      "text/plain": [
       "array([ 6,  7,  8,  9, 10, 11, 12, 13, 14, 15, 16, 17, 18, 19, 20, 21, 22,\n",
       "       23])"
      ]
     },
     "execution_count": 38,
     "metadata": {},
     "output_type": "execute_result"
    }
   ],
   "source": [
    "B[B>5]  # indexing using boolean array"
   ]
  },
  {
   "cell_type": "markdown",
   "metadata": {
    "slideshow": {
     "slide_type": "subslide"
    }
   },
   "source": [
    "Finally, the following function solves a system of 2 linear equations with 2 variables."
   ]
  },
  {
   "cell_type": "code",
   "execution_count": 39,
   "metadata": {
    "ExecuteTime": {
     "end_time": "2020-11-13T13:42:20.247584Z",
     "start_time": "2020-11-13T13:42:20.241223Z"
    },
    "slideshow": {
     "slide_type": "-"
    }
   },
   "outputs": [],
   "source": [
    "def solve_2_by_2_system(A,b):\n",
    "    '''Returns the unique solution of the linear system, if exists, \n",
    "    else returns None.'''\n",
    "    C = np.hstack((A,b.reshape(-1,1)))\n",
    "    if C[0,0] == 0: C = C[(1,0),:]\n",
    "    if C[0,0] == 0: return None\n",
    "    C[0,:] = C[0,:] / C[0,0]\n",
    "    C[1,:] = C[1,:] - C[0,:] * C[1,0]\n",
    "    if C[1,1] == 0: return None\n",
    "    C[1,:] = C[1,:] / C[1,1]\n",
    "    C[0,:] = C[0,:] - C[1,:] * C[0,1]\n",
    "    return C[:,-1]"
   ]
  },
  {
   "cell_type": "code",
   "execution_count": 40,
   "metadata": {
    "ExecuteTime": {
     "end_time": "2020-11-13T13:44:31.275619Z",
     "start_time": "2020-11-13T13:44:31.267479Z"
    },
    "slideshow": {
     "slide_type": "-"
    }
   },
   "outputs": [
    {
     "name": "stdout",
     "output_type": "stream",
     "text": [
      "A=[[1. 0.]\n",
      " [0. 1.]]\n",
      "b=[1. 1.]\n",
      "x=[1. 1.]\n",
      "\n",
      "A=[[1. 1.]\n",
      " [1. 1.]]\n",
      "b=[1. 1.]\n",
      "x=None\n",
      "\n",
      "A=[[1. 1.]\n",
      " [0. 0.]]\n",
      "b=[1. 1.]\n",
      "x=None\n",
      "\n",
      "A=[[1. 0.]\n",
      " [1. 0.]]\n",
      "b=[1. 1.]\n",
      "x=None\n",
      "\n"
     ]
    }
   ],
   "source": [
    "# tests\n",
    "for A in (np.eye(2),\n",
    "          np.ones((2,2)),\n",
    "          np.stack((np.ones(2),np.zeros(2))),\n",
    "          np.stack((np.ones(2),np.zeros(2)),axis=1)):\n",
    "    print(f'A={A}\\nb={b}\\nx={solve_2_by_2_system(A,b)}\\n')"
   ]
  },
  {
   "cell_type": "markdown",
   "metadata": {},
   "source": [
    "### Universal functions"
   ]
  },
  {
   "cell_type": "markdown",
   "metadata": {
    "slideshow": {
     "slide_type": "subslide"
    }
   },
   "source": [
    "Why does the first line of code below return two arrays but the second code return only one array? Shouldn't the first line of code return the following?\n",
    "```Python\n",
    "array([[(0,1), (0,2), (0,3)],\n",
    "       [(1,1), (1,2), (1,3)]])\n",
    "```"
   ]
  },
  {
   "cell_type": "code",
   "execution_count": 41,
   "metadata": {
    "ExecuteTime": {
     "end_time": "2020-11-14T00:34:59.921029Z",
     "start_time": "2020-11-14T00:34:59.914787Z"
    },
    "slideshow": {
     "slide_type": "-"
    }
   },
   "outputs": [
    {
     "name": "stdout",
     "output_type": "stream",
     "text": [
      "(array([[0, 0, 0],\n",
      "       [1, 1, 1]]), array([[0, 1, 2],\n",
      "       [0, 1, 2]]))\n",
      "[[0 0 0]\n",
      " [0 1 2]]\n"
     ]
    }
   ],
   "source": [
    "print(np.fromfunction(lambda i,j:(i,j), (2,3), dtype=int))\n",
    "print(np.fromfunction(lambda i,j:(i*j), (2,3), dtype=int))"
   ]
  },
  {
   "cell_type": "markdown",
   "metadata": {
    "slideshow": {
     "slide_type": "-"
    }
   },
   "source": [
    "From the documentation, `fromfunction` applies the given function to the two arrays as arguments.\n",
    "- The first line of code returns a tuple of the arrays.\n",
    "- The second line of code multiplies the two arrays to give one array, according to how multiplication works for numpy arrays."
   ]
  },
  {
   "cell_type": "markdown",
   "metadata": {
    "slideshow": {
     "slide_type": "subslide"
    }
   },
   "source": [
    "Indeed, `numpy` implements [universal/vectorized functions/operators](https://numpy.org/doc/stable/reference/ufuncs.html) that take arrays as arguments and perform operations with appropriate broadcasting rules. The following is an example that uses the universal function `np.sin`:"
   ]
  },
  {
   "cell_type": "code",
   "execution_count": 42,
   "metadata": {
    "ExecuteTime": {
     "end_time": "2020-11-14T00:46:58.019048Z",
     "start_time": "2020-11-14T00:46:57.697504Z"
    },
    "slideshow": {
     "slide_type": "-"
    }
   },
   "outputs": [
    {
     "data": {
      "application/vnd.jupyter.widget-view+json": {
       "model_id": "1c60f3965ecf4711a2525742bcc32aec",
       "version_major": 2,
       "version_minor": 0
      },
      "text/plain": [
       "interactive(children=(IntSlider(value=1, description='a', max=5), FloatSlider(value=0.0, description='b', max=…"
      ]
     },
     "metadata": {},
     "output_type": "display_data"
    }
   ],
   "source": [
    "import matplotlib.pyplot as plt\n",
    "\n",
    "@widgets.interact(a=(0,5,1),b=(-1,1,0.1))\n",
    "def plot_sin(a=1,b=0):\n",
    "    x = np.linspace(0,2*math.pi)\n",
    "    plt.plot(x,np.sin(a*x+b*math.pi))  # np.sin, *, + are universal functions\n",
    "    plt.title(r'$\\sin(ax+b\\pi)$')\n",
    "    plt.xlabel(r'$x$ (radian)')"
   ]
  },
  {
   "cell_type": "markdown",
   "metadata": {
    "slideshow": {
     "slide_type": "subslide"
    }
   },
   "source": [
    "In addition to making the code shorter, universal functions are both efficient and flexible. (Recall the Monte Carlo simulation to approximate $\\pi$.)"
   ]
  },
  {
   "cell_type": "markdown",
   "metadata": {
    "slideshow": {
     "slide_type": "fragment"
    }
   },
   "source": [
    "**Exercise** Explain how the Monte Carlo simulation work using universal functions:\n",
    "```Python\n",
    "def np_approximate_pi(n):\n",
    "    in_circle = (np.random.random((n,2))**2).sum(axis=-1) < 1\n",
    "    mean = 4 * in_circle.mean()\n",
    "    std = 4 * in_circle.std() / n**0.5\n",
    "    return np.array([mean - 2*std, mean + 2*std])\n",
    "```"
   ]
  },
  {
   "cell_type": "markdown",
   "metadata": {
    "nbgrader": {
     "grade": true,
     "grade_id": "universal",
     "locked": false,
     "points": 0,
     "schema_version": 3,
     "solution": true,
     "task": false
    }
   },
   "source": [
    "- `random.random` generates a numpy array for $n$ points in the unit square randomly.\n",
    "- `sum` sums up the element along the last axis to give the squared distance.\n",
    "- `<` returns the boolean array indicating whether each point is in the first quadrant of the inscribed circle.\n",
    "- `mean` and `std` returns the mean and standard deviation of the boolean array with True and False interpreted as 1 and 0 respectively."
   ]
  }
 ],
 "metadata": {
  "celltoolbar": "Create Assignment",
  "kernelspec": {
   "display_name": "Python 3.7",
   "language": "python",
   "name": "python3"
  },
  "language_info": {
   "codemirror_mode": {
    "name": "ipython",
    "version": 3
   },
   "file_extension": ".py",
   "mimetype": "text/x-python",
   "name": "python",
   "nbconvert_exporter": "python",
   "pygments_lexer": "ipython3",
   "version": "3.7.9"
  },
  "latex_envs": {
   "LaTeX_envs_menu_present": true,
   "autoclose": false,
   "autocomplete": true,
   "bibliofile": "biblio.bib",
   "cite_by": "apalike",
   "current_citInitial": 1,
   "eqLabelWithNumbers": true,
   "eqNumInitial": 1,
   "hotkeys": {
    "equation": "Ctrl-E",
    "itemize": "Ctrl-I"
   },
   "labels_anchors": false,
   "latex_user_defs": false,
   "report_style_numbering": false,
   "user_envs_cfg": false
  },
  "rise": {
   "enable_chalkboard": true,
   "scroll": true,
   "theme": "white"
  },
  "toc": {
   "base_numbering": 1,
   "nav_menu": {
    "height": "195px",
    "width": "330px"
   },
   "number_sections": true,
   "sideBar": true,
   "skip_h1_title": true,
   "title_cell": "Table of Contents",
   "title_sidebar": "Contents",
   "toc_cell": false,
   "toc_position": {
    "height": "454.418px",
    "left": "1533px",
    "top": "110.284px",
    "width": "261px"
   },
   "toc_section_display": true,
   "toc_window_display": false
  },
  "widgets": {
   "application/vnd.jupyter.widget-state+json": {
    "state": {
     "0d841265d43e46fabaf4417a4b344677": {
      "model_module": "@jupyter-widgets/base",
      "model_module_version": "1.2.0",
      "model_name": "LayoutModel",
      "state": {
       "_model_module": "@jupyter-widgets/base",
       "_model_module_version": "1.2.0",
       "_model_name": "LayoutModel",
       "_view_count": null,
       "_view_module": "@jupyter-widgets/base",
       "_view_module_version": "1.2.0",
       "_view_name": "LayoutView",
       "align_content": null,
       "align_items": null,
       "align_self": null,
       "border": null,
       "bottom": null,
       "display": null,
       "flex": null,
       "flex_flow": null,
       "grid_area": null,
       "grid_auto_columns": null,
       "grid_auto_flow": null,
       "grid_auto_rows": null,
       "grid_column": null,
       "grid_gap": null,
       "grid_row": null,
       "grid_template_areas": null,
       "grid_template_columns": null,
       "grid_template_rows": null,
       "height": null,
       "justify_content": null,
       "justify_items": null,
       "left": null,
       "margin": null,
       "max_height": null,
       "max_width": null,
       "min_height": null,
       "min_width": null,
       "object_fit": null,
       "object_position": null,
       "order": null,
       "overflow": null,
       "overflow_x": null,
       "overflow_y": null,
       "padding": null,
       "right": null,
       "top": null,
       "visibility": null,
       "width": null
      }
     },
     "1c60f3965ecf4711a2525742bcc32aec": {
      "model_module": "@jupyter-widgets/controls",
      "model_module_version": "1.5.0",
      "model_name": "VBoxModel",
      "state": {
       "_dom_classes": [
        "widget-interact"
       ],
       "_model_module": "@jupyter-widgets/controls",
       "_model_module_version": "1.5.0",
       "_model_name": "VBoxModel",
       "_view_count": null,
       "_view_module": "@jupyter-widgets/controls",
       "_view_module_version": "1.5.0",
       "_view_name": "VBoxView",
       "box_style": "",
       "children": [
        "IPY_MODEL_915ad7f517174c73af08dc68fac30c28",
        "IPY_MODEL_79f631575ae446828912ff63378a9dfc",
        "IPY_MODEL_6672014b479c403c939bf5b46307ad5e"
       ],
       "layout": "IPY_MODEL_0d841265d43e46fabaf4417a4b344677"
      }
     },
     "2f2adc3bec1c42d69abf3ecbce74149f": {
      "model_module": "@jupyter-widgets/controls",
      "model_module_version": "1.5.0",
      "model_name": "IntSliderModel",
      "state": {
       "_dom_classes": [],
       "_model_module": "@jupyter-widgets/controls",
       "_model_module_version": "1.5.0",
       "_model_name": "IntSliderModel",
       "_view_count": null,
       "_view_module": "@jupyter-widgets/controls",
       "_view_module_version": "1.5.0",
       "_view_name": "IntSliderView",
       "continuous_update": true,
       "description": "b",
       "description_tooltip": null,
       "disabled": false,
       "layout": "IPY_MODEL_b3fe2b1606a64e85a9a7dac2921a6e62",
       "max": 5,
       "min": 0,
       "orientation": "horizontal",
       "readout": true,
       "readout_format": "d",
       "step": 1,
       "style": "IPY_MODEL_b0f84474cc68476ebe50fdec60ba0380",
       "value": 3
      }
     },
     "45c9640b3e074c00840b0da18fc69d32": {
      "model_module": "@jupyter-widgets/controls",
      "model_module_version": "1.5.0",
      "model_name": "SliderStyleModel",
      "state": {
       "_model_module": "@jupyter-widgets/controls",
       "_model_module_version": "1.5.0",
       "_model_name": "SliderStyleModel",
       "_view_count": null,
       "_view_module": "@jupyter-widgets/base",
       "_view_module_version": "1.2.0",
       "_view_name": "StyleView",
       "description_width": "",
       "handle_color": null
      }
     },
     "4fe7752f35974f1bb463f379b3065a2d": {
      "model_module": "@jupyter-widgets/controls",
      "model_module_version": "1.5.0",
      "model_name": "SliderStyleModel",
      "state": {
       "_model_module": "@jupyter-widgets/controls",
       "_model_module_version": "1.5.0",
       "_model_name": "SliderStyleModel",
       "_view_count": null,
       "_view_module": "@jupyter-widgets/base",
       "_view_module_version": "1.2.0",
       "_view_name": "StyleView",
       "description_width": "",
       "handle_color": null
      }
     },
     "579b72afbb7d4f579a1c7f07e43738d9": {
      "model_module": "@jupyter-widgets/base",
      "model_module_version": "1.2.0",
      "model_name": "LayoutModel",
      "state": {
       "_model_module": "@jupyter-widgets/base",
       "_model_module_version": "1.2.0",
       "_model_name": "LayoutModel",
       "_view_count": null,
       "_view_module": "@jupyter-widgets/base",
       "_view_module_version": "1.2.0",
       "_view_name": "LayoutView",
       "align_content": null,
       "align_items": null,
       "align_self": null,
       "border": null,
       "bottom": null,
       "display": null,
       "flex": null,
       "flex_flow": null,
       "grid_area": null,
       "grid_auto_columns": null,
       "grid_auto_flow": null,
       "grid_auto_rows": null,
       "grid_column": null,
       "grid_gap": null,
       "grid_row": null,
       "grid_template_areas": null,
       "grid_template_columns": null,
       "grid_template_rows": null,
       "height": null,
       "justify_content": null,
       "justify_items": null,
       "left": null,
       "margin": null,
       "max_height": null,
       "max_width": null,
       "min_height": null,
       "min_width": null,
       "object_fit": null,
       "object_position": null,
       "order": null,
       "overflow": null,
       "overflow_x": null,
       "overflow_y": null,
       "padding": null,
       "right": null,
       "top": null,
       "visibility": null,
       "width": null
      }
     },
     "5d621fb4f58541baadb0cad1c9d94068": {
      "model_module": "@jupyter-widgets/output",
      "model_module_version": "1.0.0",
      "model_name": "OutputModel",
      "state": {
       "_dom_classes": [],
       "_model_module": "@jupyter-widgets/output",
       "_model_module_version": "1.0.0",
       "_model_name": "OutputModel",
       "_view_count": null,
       "_view_module": "@jupyter-widgets/output",
       "_view_module_version": "1.0.0",
       "_view_name": "OutputView",
       "layout": "IPY_MODEL_d07e036d846c4d58a00a98f9eb6ce517",
       "msg_id": "",
       "outputs": [
        {
         "name": "stdout",
         "output_type": "stream",
         "text": "linear equation: 2x = 3\n       solution: x = 1.5\n"
        }
       ]
      }
     },
     "6672014b479c403c939bf5b46307ad5e": {
      "model_module": "@jupyter-widgets/output",
      "model_module_version": "1.0.0",
      "model_name": "OutputModel",
      "state": {
       "_dom_classes": [],
       "_model_module": "@jupyter-widgets/output",
       "_model_module_version": "1.0.0",
       "_model_name": "OutputModel",
       "_view_count": null,
       "_view_module": "@jupyter-widgets/output",
       "_view_module_version": "1.0.0",
       "_view_name": "OutputView",
       "layout": "IPY_MODEL_579b72afbb7d4f579a1c7f07e43738d9",
       "msg_id": "",
       "outputs": [
        {
         "data": {
          "image/png": "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\n",
          "text/plain": "<Figure size 432x288 with 1 Axes>"
         },
         "metadata": {
          "needs_background": "light"
         },
         "output_type": "display_data"
        }
       ]
      }
     },
     "726e312df8394fcdb4203ba61f3fe620": {
      "model_module": "@jupyter-widgets/controls",
      "model_module_version": "1.5.0",
      "model_name": "IntSliderModel",
      "state": {
       "_dom_classes": [],
       "_model_module": "@jupyter-widgets/controls",
       "_model_module_version": "1.5.0",
       "_model_name": "IntSliderModel",
       "_view_count": null,
       "_view_module": "@jupyter-widgets/controls",
       "_view_module_version": "1.5.0",
       "_view_name": "IntSliderView",
       "continuous_update": true,
       "description": "a",
       "description_tooltip": null,
       "disabled": false,
       "layout": "IPY_MODEL_8775e6c1d57444efb76574aecf9a7ded",
       "max": 5,
       "min": 0,
       "orientation": "horizontal",
       "readout": true,
       "readout_format": "d",
       "step": 1,
       "style": "IPY_MODEL_4fe7752f35974f1bb463f379b3065a2d",
       "value": 2
      }
     },
     "79f631575ae446828912ff63378a9dfc": {
      "model_module": "@jupyter-widgets/controls",
      "model_module_version": "1.5.0",
      "model_name": "FloatSliderModel",
      "state": {
       "_dom_classes": [],
       "_model_module": "@jupyter-widgets/controls",
       "_model_module_version": "1.5.0",
       "_model_name": "FloatSliderModel",
       "_view_count": null,
       "_view_module": "@jupyter-widgets/controls",
       "_view_module_version": "1.5.0",
       "_view_name": "FloatSliderView",
       "continuous_update": true,
       "description": "b",
       "description_tooltip": null,
       "disabled": false,
       "layout": "IPY_MODEL_e40eee0ebcc848b9bc7a2759808fe6eb",
       "max": 1.0,
       "min": -1.0,
       "orientation": "horizontal",
       "readout": true,
       "readout_format": ".2f",
       "step": 0.1,
       "style": "IPY_MODEL_45c9640b3e074c00840b0da18fc69d32",
       "value": 0.0
      }
     },
     "8407e73775a9455ab8efd5e37a9ed9fd": {
      "model_module": "@jupyter-widgets/base",
      "model_module_version": "1.2.0",
      "model_name": "LayoutModel",
      "state": {
       "_model_module": "@jupyter-widgets/base",
       "_model_module_version": "1.2.0",
       "_model_name": "LayoutModel",
       "_view_count": null,
       "_view_module": "@jupyter-widgets/base",
       "_view_module_version": "1.2.0",
       "_view_name": "LayoutView",
       "align_content": null,
       "align_items": null,
       "align_self": null,
       "border": null,
       "bottom": null,
       "display": null,
       "flex": null,
       "flex_flow": null,
       "grid_area": null,
       "grid_auto_columns": null,
       "grid_auto_flow": null,
       "grid_auto_rows": null,
       "grid_column": null,
       "grid_gap": null,
       "grid_row": null,
       "grid_template_areas": null,
       "grid_template_columns": null,
       "grid_template_rows": null,
       "height": null,
       "justify_content": null,
       "justify_items": null,
       "left": null,
       "margin": null,
       "max_height": null,
       "max_width": null,
       "min_height": null,
       "min_width": null,
       "object_fit": null,
       "object_position": null,
       "order": null,
       "overflow": null,
       "overflow_x": null,
       "overflow_y": null,
       "padding": null,
       "right": null,
       "top": null,
       "visibility": null,
       "width": null
      }
     },
     "8775e6c1d57444efb76574aecf9a7ded": {
      "model_module": "@jupyter-widgets/base",
      "model_module_version": "1.2.0",
      "model_name": "LayoutModel",
      "state": {
       "_model_module": "@jupyter-widgets/base",
       "_model_module_version": "1.2.0",
       "_model_name": "LayoutModel",
       "_view_count": null,
       "_view_module": "@jupyter-widgets/base",
       "_view_module_version": "1.2.0",
       "_view_name": "LayoutView",
       "align_content": null,
       "align_items": null,
       "align_self": null,
       "border": null,
       "bottom": null,
       "display": null,
       "flex": null,
       "flex_flow": null,
       "grid_area": null,
       "grid_auto_columns": null,
       "grid_auto_flow": null,
       "grid_auto_rows": null,
       "grid_column": null,
       "grid_gap": null,
       "grid_row": null,
       "grid_template_areas": null,
       "grid_template_columns": null,
       "grid_template_rows": null,
       "height": null,
       "justify_content": null,
       "justify_items": null,
       "left": null,
       "margin": null,
       "max_height": null,
       "max_width": null,
       "min_height": null,
       "min_width": null,
       "object_fit": null,
       "object_position": null,
       "order": null,
       "overflow": null,
       "overflow_x": null,
       "overflow_y": null,
       "padding": null,
       "right": null,
       "top": null,
       "visibility": null,
       "width": null
      }
     },
     "8aa825bc8b804326b559eb6e6eb31f15": {
      "model_module": "@jupyter-widgets/controls",
      "model_module_version": "1.5.0",
      "model_name": "VBoxModel",
      "state": {
       "_dom_classes": [
        "widget-interact"
       ],
       "_model_module": "@jupyter-widgets/controls",
       "_model_module_version": "1.5.0",
       "_model_name": "VBoxModel",
       "_view_count": null,
       "_view_module": "@jupyter-widgets/controls",
       "_view_module_version": "1.5.0",
       "_view_name": "VBoxView",
       "box_style": "",
       "children": [
        "IPY_MODEL_726e312df8394fcdb4203ba61f3fe620",
        "IPY_MODEL_2f2adc3bec1c42d69abf3ecbce74149f",
        "IPY_MODEL_5d621fb4f58541baadb0cad1c9d94068"
       ],
       "layout": "IPY_MODEL_8407e73775a9455ab8efd5e37a9ed9fd"
      }
     },
     "915ad7f517174c73af08dc68fac30c28": {
      "model_module": "@jupyter-widgets/controls",
      "model_module_version": "1.5.0",
      "model_name": "IntSliderModel",
      "state": {
       "_dom_classes": [],
       "_model_module": "@jupyter-widgets/controls",
       "_model_module_version": "1.5.0",
       "_model_name": "IntSliderModel",
       "_view_count": null,
       "_view_module": "@jupyter-widgets/controls",
       "_view_module_version": "1.5.0",
       "_view_name": "IntSliderView",
       "continuous_update": true,
       "description": "a",
       "description_tooltip": null,
       "disabled": false,
       "layout": "IPY_MODEL_cb91634ac0464b4b89baf202b1decc07",
       "max": 5,
       "min": 0,
       "orientation": "horizontal",
       "readout": true,
       "readout_format": "d",
       "step": 1,
       "style": "IPY_MODEL_f60f2b339608457ab01a4e6095576fe4",
       "value": 1
      }
     },
     "b0f84474cc68476ebe50fdec60ba0380": {
      "model_module": "@jupyter-widgets/controls",
      "model_module_version": "1.5.0",
      "model_name": "SliderStyleModel",
      "state": {
       "_model_module": "@jupyter-widgets/controls",
       "_model_module_version": "1.5.0",
       "_model_name": "SliderStyleModel",
       "_view_count": null,
       "_view_module": "@jupyter-widgets/base",
       "_view_module_version": "1.2.0",
       "_view_name": "StyleView",
       "description_width": "",
       "handle_color": null
      }
     },
     "b3fe2b1606a64e85a9a7dac2921a6e62": {
      "model_module": "@jupyter-widgets/base",
      "model_module_version": "1.2.0",
      "model_name": "LayoutModel",
      "state": {
       "_model_module": "@jupyter-widgets/base",
       "_model_module_version": "1.2.0",
       "_model_name": "LayoutModel",
       "_view_count": null,
       "_view_module": "@jupyter-widgets/base",
       "_view_module_version": "1.2.0",
       "_view_name": "LayoutView",
       "align_content": null,
       "align_items": null,
       "align_self": null,
       "border": null,
       "bottom": null,
       "display": null,
       "flex": null,
       "flex_flow": null,
       "grid_area": null,
       "grid_auto_columns": null,
       "grid_auto_flow": null,
       "grid_auto_rows": null,
       "grid_column": null,
       "grid_gap": null,
       "grid_row": null,
       "grid_template_areas": null,
       "grid_template_columns": null,
       "grid_template_rows": null,
       "height": null,
       "justify_content": null,
       "justify_items": null,
       "left": null,
       "margin": null,
       "max_height": null,
       "max_width": null,
       "min_height": null,
       "min_width": null,
       "object_fit": null,
       "object_position": null,
       "order": null,
       "overflow": null,
       "overflow_x": null,
       "overflow_y": null,
       "padding": null,
       "right": null,
       "top": null,
       "visibility": null,
       "width": null
      }
     },
     "cb91634ac0464b4b89baf202b1decc07": {
      "model_module": "@jupyter-widgets/base",
      "model_module_version": "1.2.0",
      "model_name": "LayoutModel",
      "state": {
       "_model_module": "@jupyter-widgets/base",
       "_model_module_version": "1.2.0",
       "_model_name": "LayoutModel",
       "_view_count": null,
       "_view_module": "@jupyter-widgets/base",
       "_view_module_version": "1.2.0",
       "_view_name": "LayoutView",
       "align_content": null,
       "align_items": null,
       "align_self": null,
       "border": null,
       "bottom": null,
       "display": null,
       "flex": null,
       "flex_flow": null,
       "grid_area": null,
       "grid_auto_columns": null,
       "grid_auto_flow": null,
       "grid_auto_rows": null,
       "grid_column": null,
       "grid_gap": null,
       "grid_row": null,
       "grid_template_areas": null,
       "grid_template_columns": null,
       "grid_template_rows": null,
       "height": null,
       "justify_content": null,
       "justify_items": null,
       "left": null,
       "margin": null,
       "max_height": null,
       "max_width": null,
       "min_height": null,
       "min_width": null,
       "object_fit": null,
       "object_position": null,
       "order": null,
       "overflow": null,
       "overflow_x": null,
       "overflow_y": null,
       "padding": null,
       "right": null,
       "top": null,
       "visibility": null,
       "width": null
      }
     },
     "d07e036d846c4d58a00a98f9eb6ce517": {
      "model_module": "@jupyter-widgets/base",
      "model_module_version": "1.2.0",
      "model_name": "LayoutModel",
      "state": {
       "_model_module": "@jupyter-widgets/base",
       "_model_module_version": "1.2.0",
       "_model_name": "LayoutModel",
       "_view_count": null,
       "_view_module": "@jupyter-widgets/base",
       "_view_module_version": "1.2.0",
       "_view_name": "LayoutView",
       "align_content": null,
       "align_items": null,
       "align_self": null,
       "border": null,
       "bottom": null,
       "display": null,
       "flex": null,
       "flex_flow": null,
       "grid_area": null,
       "grid_auto_columns": null,
       "grid_auto_flow": null,
       "grid_auto_rows": null,
       "grid_column": null,
       "grid_gap": null,
       "grid_row": null,
       "grid_template_areas": null,
       "grid_template_columns": null,
       "grid_template_rows": null,
       "height": null,
       "justify_content": null,
       "justify_items": null,
       "left": null,
       "margin": null,
       "max_height": null,
       "max_width": null,
       "min_height": null,
       "min_width": null,
       "object_fit": null,
       "object_position": null,
       "order": null,
       "overflow": null,
       "overflow_x": null,
       "overflow_y": null,
       "padding": null,
       "right": null,
       "top": null,
       "visibility": null,
       "width": null
      }
     },
     "e40eee0ebcc848b9bc7a2759808fe6eb": {
      "model_module": "@jupyter-widgets/base",
      "model_module_version": "1.2.0",
      "model_name": "LayoutModel",
      "state": {
       "_model_module": "@jupyter-widgets/base",
       "_model_module_version": "1.2.0",
       "_model_name": "LayoutModel",
       "_view_count": null,
       "_view_module": "@jupyter-widgets/base",
       "_view_module_version": "1.2.0",
       "_view_name": "LayoutView",
       "align_content": null,
       "align_items": null,
       "align_self": null,
       "border": null,
       "bottom": null,
       "display": null,
       "flex": null,
       "flex_flow": null,
       "grid_area": null,
       "grid_auto_columns": null,
       "grid_auto_flow": null,
       "grid_auto_rows": null,
       "grid_column": null,
       "grid_gap": null,
       "grid_row": null,
       "grid_template_areas": null,
       "grid_template_columns": null,
       "grid_template_rows": null,
       "height": null,
       "justify_content": null,
       "justify_items": null,
       "left": null,
       "margin": null,
       "max_height": null,
       "max_width": null,
       "min_height": null,
       "min_width": null,
       "object_fit": null,
       "object_position": null,
       "order": null,
       "overflow": null,
       "overflow_x": null,
       "overflow_y": null,
       "padding": null,
       "right": null,
       "top": null,
       "visibility": null,
       "width": null
      }
     },
     "f60f2b339608457ab01a4e6095576fe4": {
      "model_module": "@jupyter-widgets/controls",
      "model_module_version": "1.5.0",
      "model_name": "SliderStyleModel",
      "state": {
       "_model_module": "@jupyter-widgets/controls",
       "_model_module_version": "1.5.0",
       "_model_name": "SliderStyleModel",
       "_view_count": null,
       "_view_module": "@jupyter-widgets/base",
       "_view_module_version": "1.2.0",
       "_view_name": "StyleView",
       "description_width": "",
       "handle_color": null
      }
     }
    },
    "version_major": 2,
    "version_minor": 0
   }
  }
 },
 "nbformat": 4,
 "nbformat_minor": 4
}