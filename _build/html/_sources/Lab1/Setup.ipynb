{
 "cells": [
  {
   "cell_type": "markdown",
   "metadata": {
    "slideshow": {
     "slide_type": "slide"
    }
   },
   "source": [
    "# Setup\n",
    "CS1302 Introduction to Computer Programming\n",
    "___"
   ]
  },
  {
   "cell_type": "markdown",
   "metadata": {
    "slideshow": {
     "slide_type": "slide"
    }
   },
   "source": [
    "## JupyterHub"
   ]
  },
  {
   "cell_type": "markdown",
   "metadata": {
    "slideshow": {
     "slide_type": "fragment"
    }
   },
   "source": [
    "**What is JupyterHub?**"
   ]
  },
  {
   "cell_type": "markdown",
   "metadata": {
    "slideshow": {
     "slide_type": "subslide"
    }
   },
   "source": [
    "### How to access the JupyterHub Server?"
   ]
  },
  {
   "cell_type": "markdown",
   "metadata": {
    "deletable": false,
    "editable": false,
    "nbgrader": {
     "cell_type": "markdown",
     "checksum": "30f69ea2318c8f1a19b637f4f40202d5",
     "grade": false,
     "grade_id": "Login",
     "locked": true,
     "schema_version": 3,
     "solution": false,
     "task": false
    },
    "slideshow": {
     "slide_type": "fragment"
    }
   },
   "source": [
    "1. Enter the url [ltjh.cs.cityu.edu.hk](https://ltjh.cs.cityu.edu.hk) in a web browser.\n",
    "1. Enter your [EID](https://www.cityu.edu.hk/esu/eid.htm) and Password in the fields `Username` and `Password` respectively.\n",
    "1. Click the `Sign In` button."
   ]
  },
  {
   "cell_type": "markdown",
   "metadata": {
    "slideshow": {
     "slide_type": "-"
    }
   },
   "source": [
    "<img src=\"https://www.cs.cityu.edu.hk/~ccha23/cs1302/Login.gif\" />"
   ]
  },
  {
   "cell_type": "markdown",
   "metadata": {
    "slideshow": {
     "slide_type": "subslide"
    }
   },
   "source": [
    "**Tips**\n",
    "- If the browser is stuck at the following page loading the server, `refresh` your browser.  \n",
    "  ![server stuck](https://www.cs.cityu.edu.hk/~ccha23/cs1302/server_stuck.png)\n",
    "- If you see the following page with ``My Server`` button, click on that button.  \n",
    "  ![server start](https://www.cs.cityu.edu.hk/~ccha23/cs1302/server_start.png)\n",
    "- If you see the ``Start My Server`` button instead, click on that button to start your server.  \n",
    "  ![server stopped](https://www.cs.cityu.edu.hk/~ccha23/cs1302/server_stopped.png)\n",
    "- For other issues, try logging out using the `Logout` button at the top right-hand corner, and then logging in again. You may also click the `Control Panel` button and restarting your server."
   ]
  },
  {
   "cell_type": "markdown",
   "metadata": {
    "slideshow": {
     "slide_type": "slide"
    }
   },
   "source": [
    "### How to access course materials?"
   ]
  },
  {
   "cell_type": "markdown",
   "metadata": {
    "deletable": false,
    "editable": false,
    "nbgrader": {
     "cell_type": "markdown",
     "checksum": "e1aeeecdbf18ca60134c968edf9caa92",
     "grade": false,
     "grade_id": "Fetch",
     "locked": true,
     "schema_version": 3,
     "solution": false,
     "task": false
    },
    "slideshow": {
     "slide_type": "fragment"
    }
   },
   "source": [
    "1. Click on the `Assignments` tab, and ensure `cs1302` is chosen in the drop down list.\n",
    "1. In the `Released assignments panel`, click the button `Fetch` to download `Lab1`. \n",
    "1. `Lab1` should appear in the `Downloaded assignments panel`. \n",
    "1. Click on the little arrow next to `Lab1` to shows its content.  \n",
    "1. Ctrl-Click on `Lab1` to open the assignment folder on a new browser tab. \n",
    "1. On the new browser, click the folder `cs1302` to navigate to the notebook `Setup.ipynb`.\n",
    "1. Click on `Setup.ipynb` to open the notebook."
   ]
  },
  {
   "cell_type": "markdown",
   "metadata": {
    "slideshow": {
     "slide_type": "-"
    }
   },
   "source": [
    "<img src=\"https://www.cs.cityu.edu.hk/~ccha23/cs1302/Fetch.gif\" />"
   ]
  },
  {
   "cell_type": "markdown",
   "metadata": {
    "slideshow": {
     "slide_type": "fragment"
    }
   },
   "source": [
    "**Tips**\n",
    "1. Note that all the downloaded course materials will be placed under the `cs1302` folder of your home directory by default, so you need not go to the `Assignments` tab again to open the downloaded materials. \n",
    "E.g., you can access the `Setup.ipynb` notebook as follows:\n",
    "    1. Going to the `File` tab, which is the default JupyterHub homepage after login or when you click the logo on the top left-hand corner.\n",
    "    1. Enter the notebook URL https://ltjh.cs.cityu.edu.hk/user-redirect/tree/cs1302/Lab1/Setup.ipynb. (See the [documentation](https://jupyterhub.readthedocs.io/en/stable/reference/urls.html) for details.)\n",
    "1. If for any reason you want to Fetch `Lab1` again, you have to first rename your `Lab1` folder to a different name such as `Lab1_orig`. You can do so by selecting the folder and click rename. You can also remove the folder by evaluating `!rm -rf ~/cs1302/Lab1` in a code cell. (Be very cautious as removed folders cannot be recovered.)\n",
    "1. You may also play with the new interface called JupyterLab https://ltjh.cs.cityu.edu.hk/user-redirect/lab/.\n",
    "However, the new interface does not support all the tools we need for lectures/labs. It is currently under [active development on GitHub](https://github.com/jupyterlab/jupyterlab), so be prepared to see [bugs](https://en.wikipedia.org/wiki/Software_bug)."
   ]
  },
  {
   "cell_type": "markdown",
   "metadata": {
    "slideshow": {
     "slide_type": "slide"
    }
   },
   "source": [
    "## Jupyter Notebook"
   ]
  },
  {
   "cell_type": "markdown",
   "metadata": {
    "slideshow": {
     "slide_type": "subslide"
    }
   },
   "source": [
    "### How to complete a lab assignment?"
   ]
  },
  {
   "cell_type": "markdown",
   "metadata": {
    "slideshow": {
     "slide_type": "fragment"
    }
   },
   "source": [
    "After opening the `Lab1` notebook `Setup.ipynb`:\n",
    "1. Click `Help->User Interface Tour` to learn the jupyter notebook interface. \n",
    "1. Click `Help->Notebook Help` and skim through the tutorials on `Running Code` and `Working with Markdown Cells`."
   ]
  },
  {
   "cell_type": "markdown",
   "metadata": {
    "slideshow": {
     "slide_type": "fragment"
    }
   },
   "source": [
    "Note that the tutorial page is static but you can copy to this notebook to run them. Let's run some code in this notebook."
   ]
  },
  {
   "cell_type": "markdown",
   "metadata": {
    "deletable": false,
    "editable": false,
    "nbgrader": {
     "cell_type": "markdown",
     "checksum": "976cf04852c86e335794c05fa3e2af21",
     "grade": false,
     "grade_id": "qNbExtension",
     "locked": true,
     "schema_version": 3,
     "solution": false,
     "task": false
    },
    "slideshow": {
     "slide_type": "subslide"
    }
   },
   "source": [
    "**Exercise** Run the following cell to enable and configure the notebook extensions for this course."
   ]
  },
  {
   "cell_type": "code",
   "execution_count": null,
   "metadata": {
    "ExecuteTime": {
     "end_time": "2020-08-17T16:10:01.549759Z",
     "start_time": "2020-08-17T16:10:01.541760Z"
    },
    "deletable": false,
    "editable": false,
    "nbgrader": {
     "cell_type": "code",
     "checksum": "45abfb25946ce1dcacd6e76654d65718",
     "grade": false,
     "grade_id": "NbExtension",
     "locked": true,
     "schema_version": 3,
     "solution": false,
     "task": false
    },
    "slideshow": {
     "slide_type": "-"
    }
   },
   "outputs": [],
   "source": [
    "%%javascript\n",
    "IPython.notebook.config.update({\n",
    "  \"load_extensions\": {\n",
    "    \"validate_assignment/main\": true,\n",
    "    \"execute_time/ExecuteTime\": true,\n",
    "    \"init_cell/main\": true,\n",
    "    \"printview/main\": true,\n",
    "    \"skip-traceback/main\": true,\n",
    "    \"hide_input/main\": true,\n",
    "    \"codefolding/main\": true,\n",
    "    \"scratchpad/main\": true,\n",
    "    \"spellchecker/main\": true,\n",
    "    \"create_assignment/main\": true,\n",
    "    \"ruler/main\": true,\n",
    "    \"collapsible_headings/main\": true,\n",
    "    \"latex_envs/latex_envs\": true,\n",
    "    \"exercise/main\": true,\n",
    "    \"select_keymap/main\": true,\n",
    "    \"toc2/main\": true,\n",
    "    \"code_prettify/code_prettify\": true\n",
    "  },\n",
    "  \"rise\": {\n",
    "    \"scroll\": true\n",
    "  },\n",
    "  \"toc\": {\n",
    "    \"skip_h1_title\": true\n",
    "  }\n",
    "})"
   ]
  },
  {
   "cell_type": "markdown",
   "metadata": {
    "slideshow": {
     "slide_type": "fragment"
    }
   },
   "source": [
    "- Refresh the page for the notebook extensions to take effect.\n",
    "- You can learn more about the extensions from the [nbextensions page](/user-redirect/nbextensions)."
   ]
  },
  {
   "cell_type": "markdown",
   "metadata": {
    "slideshow": {
     "slide_type": "subslide"
    }
   },
   "source": [
    "Instead of evaluation a code cell, we often ask you to write a code in a particular cell. Make sure you fill in any place that says `YOUR CODE HERE` or \"YOUR ANSWER HERE\"."
   ]
  },
  {
   "cell_type": "markdown",
   "metadata": {
    "deletable": false,
    "editable": false,
    "nbgrader": {
     "cell_type": "markdown",
     "checksum": "7b7d1b341d50cf691fc221f64349338b",
     "grade": false,
     "grade_id": "qHelloWorld",
     "locked": true,
     "schema_version": 3,
     "solution": false,
     "task": false
    },
    "slideshow": {
     "slide_type": "fragment"
    }
   },
   "source": [
    "**Exercise** In learning a new computer language, the first program to write is often the [\"Hello, World!\"](https://en.wikipedia.org/wiki/%22Hello,_World!%22_program) program, which says Hello to the world. Type the program `print('Hello, World!')` below and run it with `Shift+Enter`."
   ]
  },
  {
   "cell_type": "code",
   "execution_count": null,
   "metadata": {
    "ExecuteTime": {
     "end_time": "2020-08-18T11:16:16.622824Z",
     "start_time": "2020-08-18T11:16:16.617160Z"
    },
    "deletable": false,
    "nbgrader": {
     "cell_type": "code",
     "checksum": "812b9e72aca385927547e5e4527d8748",
     "grade": false,
     "grade_id": "HelloWorld",
     "locked": false,
     "schema_version": 3,
     "solution": true,
     "task": false
    },
    "slideshow": {
     "slide_type": "-"
    }
   },
   "outputs": [],
   "source": [
    "# YOUR CODE HERE\n",
    "raise NotImplementedError()"
   ]
  },
  {
   "cell_type": "markdown",
   "metadata": {
    "slideshow": {
     "slide_type": "fragment"
    }
   },
   "source": [
    "In order to check your work thoroughly, there will visible and hidden test cases. The following is a visible test you can run to check your answer: The test returns an assertion error only if your program does not print the correct message."
   ]
  },
  {
   "cell_type": "code",
   "execution_count": null,
   "metadata": {
    "ExecuteTime": {
     "end_time": "2020-08-18T11:16:17.611384Z",
     "start_time": "2020-08-18T11:16:17.604996Z"
    },
    "deletable": false,
    "editable": false,
    "nbgrader": {
     "cell_type": "code",
     "checksum": "7cb91c8509bf1bd8d1654fe7eebd9a41",
     "grade": true,
     "grade_id": "cell-4b2418298822abb8",
     "locked": true,
     "points": 1,
     "schema_version": 3,
     "solution": false,
     "task": false
    },
    "slideshow": {
     "slide_type": "-"
    }
   },
   "outputs": [],
   "source": [
    "# Run this test cell right after running your \"Hello, World!\" program.\n",
    "import sys, io\n",
    "old_stdout, sys.stdout = sys.stdout, io.StringIO()\n",
    "exec(In[-2])\n",
    "assert sys.stdout.getvalue() == 'Hello, World!\\n'\n",
    "sys.stdout = old_stdout"
   ]
  },
  {
   "cell_type": "markdown",
   "metadata": {
    "slideshow": {
     "slide_type": "subslide"
    }
   },
   "source": [
    "**Tips**\n",
    "1. You can repeatedly modify your solution and run the test cell your solution passes the test. You are not required to know how the test cell is written. \n",
    "1. To assess your solution thoroughly, we often run new tests hidden from you after you have submitted your notebook. There is no partial credit for a partially correct solution that works for the visible test but fails for the hidden test. Therefore, *you should ensure your solution works in general rather than just the visible tests*.\n",
    "1. You can click the `Validate` button to run all the visible tests.\n",
    "1. If you open the same notebook multiple times in different browser windows, be careful in making changes in different windows. Inconsistent changes may lead to conflicts or loss of your data.\n",
    "1. If your notebook fails to run any code, the Kernel might have died. You can restart the kernel with `Kernel->Restart`. If restarting fails, check your code cells to see if there are unsafe code that breaks the kernel."
   ]
  },
  {
   "cell_type": "markdown",
   "metadata": {
    "slideshow": {
     "slide_type": "slide"
    }
   },
   "source": [
    "### How to submit a notebook"
   ]
  },
  {
   "cell_type": "markdown",
   "metadata": {
    "deletable": false,
    "editable": false,
    "nbgrader": {
     "cell_type": "markdown",
     "checksum": "c2e6b8aa31ed3bb01a8dabcd91adb2d4",
     "grade": false,
     "grade_id": "Check",
     "locked": true,
     "schema_version": 3,
     "solution": false,
     "task": false
    },
    "slideshow": {
     "slide_type": "fragment"
    }
   },
   "source": [
    "- Although this Lab is not graded, you are required to submit it, to get familiar with the procedure.\n",
    "- Before you submit, however, make sure everything runs as expected:\n",
    "    1. **Restart the kernel**: `Kernel->Restart` \n",
    "    1. **run all cells**: `Cell->Run All`"
   ]
  },
  {
   "cell_type": "markdown",
   "metadata": {
    "deletable": false,
    "editable": false,
    "nbgrader": {
     "cell_type": "markdown",
     "checksum": "f4cd60a6b5ccba6422001e078fb19d26",
     "grade": false,
     "grade_id": "Submit",
     "locked": true,
     "schema_version": 3,
     "solution": false,
     "task": false
    },
    "slideshow": {
     "slide_type": "fragment"
    }
   },
   "source": [
    "To submit your notebook:\n",
    "1. Go to `Assignment` tab of JupyterHub where you fetched the Lab assignment. \n",
    "1. Expand the Lab folder and click the `validate` button next to the notebook(s) to check if all visible tests pass.\n",
    "1. Click the `Submit` to submit your notebook. \n",
    "1. You may submit as many time as your wish but we will only collect your latest submission before the [Lab 1 due date](https://canvas.cityu.edu.hk/courses/36768/assignments/128315?return_to=https%3A%2F%2Fcanvas.cityu.edu.hk%2Fcalendar%3Finclude_contexts%3Dcourse_36768%23view_name%3Dmonth%26view_start%3D2020-09-01) for grading."
   ]
  },
  {
   "cell_type": "markdown",
   "metadata": {
    "slideshow": {
     "slide_type": "fragment"
    }
   },
   "source": [
    "**Tips**\n",
    "1. You normally have at least 5 days to work on the lab after your lab session. \n",
    "1. You can check the due dates of all the labs from the [course homepage](https://canvas.cityu.edu.hk/courses/36768) or [course calendar](https://canvas.cityu.edu.hk/calendar?include_contexts=course_36768). \n",
    "1. You may seek help from us or your classmates. However, you must write your own solution and indicate who your collaborators are using the code `COLLABORATORS = 'WONG Xiu Fong, LEE Man Kit'`."
   ]
  },
  {
   "cell_type": "markdown",
   "metadata": {
    "slideshow": {
     "slide_type": "slide"
    }
   },
   "source": [
    "### How to print or backup a notebook?"
   ]
  },
  {
   "cell_type": "markdown",
   "metadata": {
    "slideshow": {
     "slide_type": "fragment"
    }
   },
   "source": [
    "To convert a notebook to pdf, we can print it to pdf instead: \n",
    "- `File->Print Preview`\n",
    "\n",
    "However, animation and video cannot be properly printed. You are highly recommended to takes notes on the dynamic notebook instead on the hard copy."
   ]
  },
  {
   "cell_type": "markdown",
   "metadata": {
    "slideshow": {
     "slide_type": "fragment"
    }
   },
   "source": [
    "To download a copy of your notebook:\n",
    "- `File->Download as->Notebook (.ipynb)`\n",
    "\n",
    "You can run the notebook\n",
    "- locally using [Anaconda](https://www.anaconda.com/products/individual), or\n",
    "- remotely on other JupyHub services such as [Google Colab](https://colab.research.google.com/).\n",
    "\n",
    "However, you would need to learn how to manage and install any additional packages required."
   ]
  }
 ],
 "metadata": {
  "kernelspec": {
   "display_name": "Python 3.7",
   "language": "python",
   "name": "python3"
  },
  "language_info": {
   "codemirror_mode": {
    "name": "ipython",
    "version": 3
   },
   "file_extension": ".py",
   "mimetype": "text/x-python",
   "name": "python",
   "nbconvert_exporter": "python",
   "pygments_lexer": "ipython3",
   "version": "3.7.7"
  },
  "latex_envs": {
   "LaTeX_envs_menu_present": true,
   "autoclose": false,
   "autocomplete": true,
   "bibliofile": "biblio.bib",
   "cite_by": "apalike",
   "current_citInitial": 1,
   "eqLabelWithNumbers": true,
   "eqNumInitial": 1,
   "hotkeys": {
    "equation": "Ctrl-E",
    "itemize": "Ctrl-I"
   },
   "labels_anchors": false,
   "latex_user_defs": false,
   "report_style_numbering": false,
   "user_envs_cfg": false
  },
  "toc": {
   "base_numbering": 1,
   "nav_menu": {},
   "number_sections": true,
   "sideBar": true,
   "skip_h1_title": true,
   "title_cell": "Table of Contents",
   "title_sidebar": "Contents",
   "toc_cell": false,
   "toc_position": {
    "height": "calc(100% - 180px)",
    "left": "10px",
    "top": "150px",
    "width": "283.396px"
   },
   "toc_section_display": true,
   "toc_window_display": true
  }
 },
 "nbformat": 4,
 "nbformat_minor": 4
}
