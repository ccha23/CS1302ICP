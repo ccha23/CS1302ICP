{
 "cells": [
  {
   "cell_type": "markdown",
   "metadata": {},
   "source": [
    "# Mock Exam Questions"
   ]
  },
  {
   "cell_type": "markdown",
   "metadata": {
    "slideshow": {
     "slide_type": "-"
    },
    "tags": [
     "remove-cell"
    ]
   },
   "source": [
    "**CS1302 Introduction to Computer Programming**\n",
    "___"
   ]
  },
  {
   "cell_type": "code",
   "execution_count": 7,
   "metadata": {
    "ExecuteTime": {
     "end_time": "2020-11-27T11:20:04.656873Z",
     "start_time": "2020-11-27T11:20:04.651575Z"
    },
    "slideshow": {
     "slide_type": "fragment"
    },
    "tags": [
     "remove-cell"
    ]
   },
   "outputs": [],
   "source": [
    "%reload_ext mytutor"
   ]
  },
  {
   "cell_type": "markdown",
   "metadata": {},
   "source": [
    "- Access the mock exam here: https://eq1302.cs.cityu.edu.hk/mod/quiz/view.php?id=226\n",
    "- The questions are slightly modified from E-Quiz exercises.\n",
    "- You may use this notebook to get additional hints, take notes, and record your answers.\n",
    "- This notebook does not contain all the questions, but you can see model answers to all the questions after attempting the mock exam."
   ]
  },
  {
   "cell_type": "markdown",
   "metadata": {},
   "source": [
    "## Dictionaries and Sets"
   ]
  },
  {
   "cell_type": "markdown",
   "metadata": {},
   "source": [
    "**Exercise (Concatenate two dictionaries with precedence)** Define a function `concat_two_dicts` that accepts two arguments of type `dict` such that `concat_two_dicts(a, b)` will return a new dictionary containing all the items in `a` and the items in `b` that have different keys than those in `a`.  The input dictionaries should not be mutated."
   ]
  },
  {
   "cell_type": "code",
   "execution_count": 1,
   "metadata": {
    "ExecuteTime": {
     "end_time": "2020-11-23T07:39:49.633762Z",
     "start_time": "2020-11-23T07:39:49.614955Z"
    },
    "nbgrader": {
     "grade": false,
     "grade_id": "concatenate-dict-with-precedence",
     "locked": false,
     "schema_version": 3,
     "solution": true,
     "task": false
    }
   },
   "outputs": [],
   "source": [
    "def concat_two_dicts(a, b):\n",
    "    ### BEGIN SOLUTION\n",
    "    return {**b, **a}\n",
    "    ### END SOLUTION"
   ]
  },
  {
   "cell_type": "code",
   "execution_count": 5,
   "metadata": {
    "ExecuteTime": {
     "end_time": "2020-11-23T07:46:50.655714Z",
     "start_time": "2020-11-23T07:46:50.646550Z"
    },
    "nbgrader": {
     "grade": true,
     "grade_id": "concatenate-with-precedence1",
     "locked": true,
     "points": 1,
     "schema_version": 3,
     "solution": false,
     "task": false
    }
   },
   "outputs": [],
   "source": [
    "#tests\n",
    "a={'x':10, 'z':30}; b={'y':20, 'z':40}\n",
    "a_copy = a.copy(); b_copy = b.copy()\n",
    "assert concat_two_dicts(a, b) == {'x': 10, 'z': 30, 'y': 20}\n",
    "assert concat_two_dicts(b, a) == {'x': 10, 'z': 40, 'y': 20}\n",
    "assert a == a_copy and b == b_copy\n",
    "### BEGIN HIDDEN TESTS\n",
    "a={'x':10, 'z':30}; b={'y':20}\n",
    "a_copy = a.copy(); b_copy = b.copy()\n",
    "assert concat_two_dicts(a, b) == {'x': 10, 'z': 30, 'y': 20}\n",
    "assert concat_two_dicts(b, a) == {'x': 10, 'z': 30, 'y': 20}\n",
    "assert a == a_copy and b == b_copy\n",
    "### END HIDDEN TESTS"
   ]
  },
  {
   "cell_type": "markdown",
   "metadata": {},
   "source": [
    "- `{**dict1,**dict2}` creates a new dictionary by unpacking the dictionaries `dict1` and `dict2`.\n",
    "- By default, `dict2` overwrites `dict1` if they have identical keys."
   ]
  },
  {
   "cell_type": "markdown",
   "metadata": {
    "ExecuteTime": {
     "end_time": "2020-11-23T07:49:28.830728Z",
     "start_time": "2020-11-23T07:49:28.823789Z"
    }
   },
   "source": [
    "**Exercise (Count characters)** Define a function `count_characters` which\n",
    "- accepts a string and counts the numbers of each character in the string, and \n",
    "- returns a dictionary that stores the results."
   ]
  },
  {
   "cell_type": "code",
   "execution_count": 7,
   "metadata": {
    "ExecuteTime": {
     "end_time": "2020-11-23T07:54:10.105803Z",
     "start_time": "2020-11-23T07:54:10.102533Z"
    },
    "nbgrader": {
     "grade": false,
     "grade_id": "count_characters",
     "locked": false,
     "schema_version": 3,
     "solution": true,
     "task": false
    }
   },
   "outputs": [],
   "source": [
    "def count_characters(string):\n",
    "    ### BEGIN SOLUTION\n",
    "    counts = {}\n",
    "    for char in string:\n",
    "        counts[char] = counts.get(char, 0) + 1\n",
    "    return counts\n",
    "    ### END SOLUTION"
   ]
  },
  {
   "cell_type": "code",
   "execution_count": 9,
   "metadata": {
    "ExecuteTime": {
     "end_time": "2020-11-23T07:57:10.595549Z",
     "start_time": "2020-11-23T07:57:10.590268Z"
    },
    "nbgrader": {
     "grade": true,
     "grade_id": "test-count_characters",
     "locked": true,
     "points": 1,
     "schema_version": 3,
     "solution": false,
     "task": false
    }
   },
   "outputs": [],
   "source": [
    "# tests\n",
    "assert count_characters('abcbabc') == {'a': 2, 'b': 3, 'c': 2}\n",
    "assert count_characters('aababcccabc') == {'a': 4, 'b': 3, 'c': 4}\n",
    "### BEGIN HIDDEN TESTS\n",
    "assert count_characters('abcdefgabc') == {'a': 2, 'b': 2, 'c': 2, 'd': 1, 'e': 1, 'f': 1, 'g': 1}\n",
    "assert count_characters('ab43cb324abc') == {'2': 1, '3': 2, '4': 2, 'a': 2, 'b': 3, 'c': 2}\n",
    "### END HIDDEN TESTS"
   ]
  },
  {
   "cell_type": "markdown",
   "metadata": {},
   "source": [
    "- Create an empty dictionary `counts`.\n",
    "- Use a `for` loop to iterate over each character of `string` to count their numbers of occurrences.\n",
    "- The `get` method of `dict` can initialize the count of a new character before incrementing it."
   ]
  },
  {
   "cell_type": "markdown",
   "metadata": {},
   "source": [
    "**Exercise (Count non-Fibonacci numbers)** Define a function `count_non_fibs` that \n",
    "- accepts a container as an argument, and \n",
    "- returns the number of items in the container that are not [fibonacci numbers](https://en.wikipedia.org/wiki/Fibonacci_number)."
   ]
  },
  {
   "cell_type": "code",
   "execution_count": 37,
   "metadata": {
    "ExecuteTime": {
     "end_time": "2020-11-23T08:41:44.277705Z",
     "start_time": "2020-11-23T08:41:44.261518Z"
    },
    "nbgrader": {
     "grade": false,
     "grade_id": "count_non_fibs",
     "locked": false,
     "schema_version": 3,
     "solution": true,
     "task": false
    }
   },
   "outputs": [],
   "source": [
    "def count_non_fibs(container):\n",
    "    ### BEGIN SOLUTION\n",
    "    def fib_sequence_inclusive(stop):\n",
    "        Fn, Fn1 = 0, 1\n",
    "        while Fn <= stop:\n",
    "            yield Fn\n",
    "            Fn, Fn1 = Fn1, Fn + Fn1\n",
    "\n",
    "    non_fibs = set(container)\n",
    "    non_fibs.difference_update(fib_sequence_inclusive(max(container)))\n",
    "    return len(non_fibs)\n",
    "    ### END SOLUTION"
   ]
  },
  {
   "cell_type": "code",
   "execution_count": 40,
   "metadata": {
    "ExecuteTime": {
     "end_time": "2020-11-23T09:00:07.206294Z",
     "start_time": "2020-11-23T09:00:07.197807Z"
    },
    "nbgrader": {
     "grade": true,
     "grade_id": "test-count_non_fibs",
     "locked": true,
     "points": 1,
     "schema_version": 3,
     "solution": false,
     "task": false
    }
   },
   "outputs": [],
   "source": [
    "# tests\n",
    "assert count_non_fibs([0, 1, 2, 3, 5, 8]) == 0\n",
    "assert count_non_fibs({13, 144, 99, 76, 1000}) == 3\n",
    "### BEGIN HIDDEN TESTS\n",
    "assert count_non_fibs({5, 8, 13, 21, 34, 100}) == 1\n",
    "assert count_non_fibs({0.1, 0}) == 1\n",
    "### END HIDDEN TESTS"
   ]
  },
  {
   "cell_type": "markdown",
   "metadata": {},
   "source": [
    "- Create a set of Fibonacci numbers up to the maximum of the items in the container.\n",
    "- Use `difference_update` method of `set` to create a set of items in the container but not in the set of Fibonacci numbers."
   ]
  },
  {
   "cell_type": "markdown",
   "metadata": {
    "ExecuteTime": {
     "end_time": "2020-11-23T08:21:26.126004Z",
     "start_time": "2020-11-23T08:21:26.118100Z"
    }
   },
   "source": [
    "**Exercise (Calculate total salaries)** Suppose `salary_dict` contains information about the name, salary, and working time about employees in a company. An example of `salary_dict` is as follows:  \n",
    "```Python\n",
    "salary_dict = {\n",
    "     'emp1': {'name': 'John', 'salary': 15000, 'working_time': 20},\n",
    "     'emp2': {'name': 'Tom', 'salary': 16000, 'working_time': 13},\n",
    "     'emp3': {'name': 'Jack', 'salary': 15500, 'working_time': 15},\n",
    "}\n",
    "```\n",
    "\n",
    "Define a function `calculate_total` that accepts `salary_dict` as an argument, and returns a `dict` that uses the same keys in `salary_dict` but the total salaries as their values.  The total salary of an employee is obtained by multiplying his/her salary and his/her working_time. \n",
    "E.g.,, for the `salary_dict` example above, `calculate_total(salary_dict)` should return\n",
    "```Python\n",
    "{'emp1': 300000, 'emp2': 208000, 'emp3': 232500}.\n",
    "```\n",
    "where the total salary of `emp1` is 15000 \\\\(\\times\\\\) 20 = 300000."
   ]
  },
  {
   "cell_type": "code",
   "execution_count": 44,
   "metadata": {
    "ExecuteTime": {
     "end_time": "2020-11-23T09:00:51.515965Z",
     "start_time": "2020-11-23T09:00:51.512821Z"
    },
    "nbgrader": {
     "grade": false,
     "grade_id": "calculate_total",
     "locked": false,
     "schema_version": 3,
     "solution": true,
     "task": false
    }
   },
   "outputs": [],
   "source": [
    "def calculate_total(salary_dict):\n",
    "    ### BEGIN SOLUTION\n",
    "    return {\n",
    "        emp: record['salary'] * record['working_time']\n",
    "        for emp, record in salary_dict.items()\n",
    "    }\n",
    "    ### END SOLUTION"
   ]
  },
  {
   "cell_type": "code",
   "execution_count": 43,
   "metadata": {
    "ExecuteTime": {
     "end_time": "2020-11-23T09:00:35.811080Z",
     "start_time": "2020-11-23T09:00:35.803410Z"
    },
    "nbgrader": {
     "grade": true,
     "grade_id": "test-calculate_total",
     "locked": true,
     "points": 1,
     "schema_version": 3,
     "solution": false,
     "task": false
    }
   },
   "outputs": [],
   "source": [
    "# tests\n",
    "salary_dict = {\n",
    "     'emp1': {'name': 'John', 'salary': 15000, 'working_time': 20},\n",
    "     'emp2': {'name': 'Tom', 'salary': 16000, 'working_time': 13},\n",
    "     'emp3': {'name': 'Jack', 'salary': 15500, 'working_time': 15},\n",
    "}\n",
    "assert calculate_total(salary_dict) == {'emp1': 300000, 'emp2': 208000, 'emp3': 232500}\n",
    "### BEGIN HIDDEN TESTS\n",
    "salary_dict = {\n",
    "     'emp1': {'name': 'John', 'salary': 15000, 'working_time': 20},\n",
    "     'emp2': {'name': 'Tom', 'salary': 16000, 'working_time': 13},\n",
    "     'emp3': {'name': 'Jack', 'salary': 15500, 'working_time': 15},\n",
    "     'emp4': {'name': 'Bob', 'salary': 20000, 'working_time': 10}\n",
    "}\n",
    "assert calculate_total(salary_dict) == {'emp1': 300000, 'emp2': 208000, 'emp3': 232500, 'emp4': 200000}\n",
    "### END HIDDEN TESTS"
   ]
  },
  {
   "cell_type": "markdown",
   "metadata": {},
   "source": [
    "- Use `items` method of `dict` to return the list of key values pairs, and\n",
    "- use a dictionary comprehension to create the desired dictionary by iterating through the list of items."
   ]
  },
  {
   "cell_type": "markdown",
   "metadata": {},
   "source": [
    "**Exercise (Delete items with value 0 in dictionary)** Define a function `zeros_removed` that \n",
    "- takes a dictionary as an argument,\n",
    "- mutates the dictionary to remove all the keys associated with values equal to `0`,\n",
    "- and return `True` if at least one key is removed else `False`."
   ]
  },
  {
   "cell_type": "code",
   "execution_count": 47,
   "metadata": {
    "ExecuteTime": {
     "end_time": "2020-11-23T10:04:05.341884Z",
     "start_time": "2020-11-23T10:04:05.336744Z"
    },
    "nbgrader": {
     "grade": false,
     "grade_id": "zeros_removed",
     "locked": false,
     "schema_version": 3,
     "solution": true,
     "task": false
    }
   },
   "outputs": [],
   "source": [
    "def zeros_removed(d):\n",
    "    ### BEGIN SOLUTION\n",
    "    to_delete = [k for k in d if d[k] == 0]\n",
    "    for k in to_delete:\n",
    "        del d[k]\n",
    "    return len(to_delete) > 0\n",
    "\n",
    "\n",
    "## Memory-efficient but not computationally efficient\n",
    "# def zeros_removed(d):\n",
    "#     has_deleted = False\n",
    "#     while True:\n",
    "#         for k in d:\n",
    "#             if d[k] == 0:\n",
    "#                 del d[k]\n",
    "#                 has_deleted = True\n",
    "#                 break\n",
    "#         else: return has_deleted\n",
    "\n",
    "### END SOLUTION"
   ]
  },
  {
   "cell_type": "code",
   "execution_count": 46,
   "metadata": {
    "ExecuteTime": {
     "end_time": "2020-11-23T09:47:50.274213Z",
     "start_time": "2020-11-23T09:47:50.267314Z"
    },
    "nbgrader": {
     "grade": true,
     "grade_id": "test-zeros_removed",
     "locked": true,
     "points": 1,
     "schema_version": 3,
     "solution": false,
     "task": false
    }
   },
   "outputs": [],
   "source": [
    "# tests\n",
    "d = {'a':0, 'b':1, 'c':0, 'd':2}\n",
    "assert zeros_removed(d) == True\n",
    "assert zeros_removed(d) == False\n",
    "assert d == {'b': 1, 'd': 2}\n",
    "### BEGIN HIDDEN TESTS\n",
    "d = {'a':0, 'b':1, 'c':0, 'd':2, 'e':0, 'f':'0'}\n",
    "assert zeros_removed(d) == True\n",
    "assert zeros_removed(d) == False\n",
    "assert d == {'b': 1, 'd': 2, 'f':'0'}\n",
    "### END HIDDEN TESTS"
   ]
  },
  {
   "cell_type": "markdown",
   "metadata": {},
   "source": [
    "- The main issue is that, for any dicionary `d`,\n",
    "```Python\n",
    "    for k in d: \n",
    "        if d[k] == 0: del d[k]\n",
    "```\n",
    "raises the [`RuntimeError: dictionary changed size during iteration`](https://www.geeksforgeeks.org/python-delete-items-from-dictionary-while-iterating/). \n",
    "- One solution is to duplicate the list of keys, but this is memory inefficient especially when the list of keys is large.\n",
    "- Another solution is to record the list of keys to delete before the actual deletion. This is memory efficient if the list of keys to delete is small."
   ]
  },
  {
   "cell_type": "markdown",
   "metadata": {},
   "source": [
    "**Exercise (Fuzzy search a set)** Define a function `search_fuzzy` that accepts two arguments `myset` and `word` such that\n",
    "- `myset` is a `set` of `str`s;\n",
    "- `word` is a `str`; and\n",
    "- `search_fuzzy(myset, word)` returns `True` if `word` is in `myset` by changing at most one character in `word`, and returns `False` otherwise.  "
   ]
  },
  {
   "cell_type": "code",
   "execution_count": 56,
   "metadata": {
    "ExecuteTime": {
     "end_time": "2020-11-23T11:27:21.358022Z",
     "start_time": "2020-11-23T11:27:21.349898Z"
    },
    "nbgrader": {
     "grade": false,
     "grade_id": "search_fuzzy",
     "locked": false,
     "schema_version": 3,
     "solution": true,
     "task": false
    }
   },
   "outputs": [],
   "source": [
    "def search_fuzzy(myset, word):\n",
    "    ### BEGIN SOLUTION\n",
    "    for myword in myset:\n",
    "        if len(myword) == len(word) and len(\n",
    "            [True\n",
    "             for mychar, char in zip(myword, word) if mychar != char]) <= 1:\n",
    "            return True\n",
    "    return False\n",
    "    ### END SOLUTION"
   ]
  },
  {
   "cell_type": "code",
   "execution_count": 58,
   "metadata": {
    "ExecuteTime": {
     "end_time": "2020-11-23T11:27:42.519492Z",
     "start_time": "2020-11-23T11:27:42.510275Z"
    },
    "nbgrader": {
     "grade": true,
     "grade_id": "test-search_fuzzy",
     "locked": true,
     "points": 1,
     "schema_version": 3,
     "solution": false,
     "task": false
    }
   },
   "outputs": [],
   "source": [
    "# tests\n",
    "assert search_fuzzy({'cat', 'dog'}, 'car') == True\n",
    "assert search_fuzzy({'cat', 'dog'}, 'fox') == False\n",
    "### BEGIN HIDDEN TESTS\n",
    "myset = {'cat', 'dog', 'dolphin', 'rabbit', 'monkey', 'tiger'}\n",
    "assert search_fuzzy(myset, 'lion') == False\n",
    "assert search_fuzzy(myset, 'cat') == True\n",
    "assert search_fuzzy(myset, 'cat ') == False\n",
    "assert search_fuzzy(myset, 'fox') == False\n",
    "assert search_fuzzy(myset, 'ccc') == False\n",
    "### END HIDDEN TESTS"
   ]
  },
  {
   "cell_type": "markdown",
   "metadata": {},
   "source": [
    "- Iterate over each word in `myset`.\n",
    "- Check whether the length of the word is the same as that of the word in the arguments.\n",
    "- If the above check passes, use a list comprehension check if the words differ by at most one character."
   ]
  },
  {
   "cell_type": "markdown",
   "metadata": {},
   "source": [
    "**Exercise (Get keys by value)** Define a function `get_keys_by_value` that accepts two arguments `d` and `value` where `d` is a dictionary, and returns a set containing all the keys in `d` that have `value` as its value. If no key has the query value `value`, then return an empty set."
   ]
  },
  {
   "cell_type": "code",
   "execution_count": 1,
   "metadata": {
    "ExecuteTime": {
     "end_time": "2020-11-23T13:38:07.323600Z",
     "start_time": "2020-11-23T13:38:07.318070Z"
    },
    "nbgrader": {
     "grade": false,
     "grade_id": "get_keys_by_value",
     "locked": false,
     "schema_version": 3,
     "solution": true,
     "task": false
    }
   },
   "outputs": [],
   "source": [
    "def get_keys_by_value(d, value):\n",
    "    ### BEGIN SOLUTION\n",
    "    return {k for k in d if d[k] == value}\n",
    "    ### END SOLUTION"
   ]
  },
  {
   "cell_type": "code",
   "execution_count": 3,
   "metadata": {
    "ExecuteTime": {
     "end_time": "2020-11-23T13:39:20.729705Z",
     "start_time": "2020-11-23T13:39:20.719583Z"
    },
    "nbgrader": {
     "grade": true,
     "grade_id": "test-get_keys_by_value",
     "locked": true,
     "points": 1,
     "schema_version": 3,
     "solution": false,
     "task": false
    }
   },
   "outputs": [],
   "source": [
    "# tests\n",
    "d = {'Tom':'99', 'John':'88', 'Lucy':'100', 'Lily':'90', 'Jason':'89', 'Jack':'100'}\n",
    "assert get_keys_by_value(d, '99') == {'Tom'}\n",
    "### BEGIN HIDDEN TESTS\n",
    "d = {'Tom':'99', 'John':'88', 'Lucy':'100', 'Lily':'90', 'Jason':'89', 'Jack':'100'}\n",
    "assert get_keys_by_value(d, '100') == {'Jack', 'Lucy'}\n",
    "d = {'Tom':'99', 'John':'88', 'Lucy':'100', 'Lily':'90', 'Jason':'89', 'Jack':'100'}\n",
    "assert get_keys_by_value(d, '0') == set()\n",
    "### END HIDDEN TESTS"
   ]
  },
  {
   "cell_type": "markdown",
   "metadata": {},
   "source": [
    "- Use set comprehension to create the set of keys whose associated values is `value`."
   ]
  },
  {
   "cell_type": "markdown",
   "metadata": {},
   "source": [
    "**Exercise (Count letters and digits)** Define a function `count_letters_and_digits` which  \n",
    "- take a string as an argument,\n",
    "- returns a dictionary that stores the number of letters and digits in the string using the keys 'LETTERS' and 'DIGITS' respectively."
   ]
  },
  {
   "cell_type": "code",
   "execution_count": 9,
   "metadata": {
    "ExecuteTime": {
     "end_time": "2020-11-23T14:02:19.144260Z",
     "start_time": "2020-11-23T14:02:19.136266Z"
    },
    "nbgrader": {
     "grade": false,
     "grade_id": "count_letters_and_digits",
     "locked": false,
     "schema_version": 3,
     "solution": true,
     "task": false
    }
   },
   "outputs": [],
   "source": [
    "def count_letters_and_digits(string):\n",
    "    ### BEGIN SOLUTION\n",
    "    check = {'LETTERS': str.isalpha, 'DIGITS': str.isdigit}\n",
    "    counts = dict.fromkeys(check.keys(), 0)\n",
    "    for char in string:\n",
    "        for t in check:\n",
    "            if check[t](char):\n",
    "                counts[t] += 1\n",
    "    return counts\n",
    "    ### END SOLUTION"
   ]
  },
  {
   "cell_type": "code",
   "execution_count": 8,
   "metadata": {
    "ExecuteTime": {
     "end_time": "2020-11-23T13:59:48.237919Z",
     "start_time": "2020-11-23T13:59:48.232794Z"
    },
    "nbgrader": {
     "grade": true,
     "grade_id": "test-count_letters_and_digits",
     "locked": true,
     "points": 1,
     "schema_version": 3,
     "solution": false,
     "task": false
    }
   },
   "outputs": [],
   "source": [
    "assert count_letters_and_digits('hello world! 2020') == {'DIGITS': 4, 'LETTERS': 10}\n",
    "assert count_letters_and_digits('I love CS1302') == {'DIGITS': 4, 'LETTERS': 7}\n",
    "### BEGIN HIDDEN TESTS\n",
    "assert count_letters_and_digits('Hi CityU see you in 2021') == {'DIGITS': 4, 'LETTERS': 15}\n",
    "assert count_letters_and_digits('When a dog runs at you, whistle for him. (Philosopher Henry David Thoreau, 1817-1862)') == {'DIGITS': 8, 'LETTERS': 58}\n",
    "### END HIDDEN TESTS"
   ]
  },
  {
   "cell_type": "markdown",
   "metadata": {},
   "source": [
    "- Use the class method `fromkeys` of `dict` to initial the dictionary of counts."
   ]
  },
  {
   "cell_type": "markdown",
   "metadata": {},
   "source": [
    "**Exercise (Dealers with lowest price)** Suppose `apple_price` is a list in which each element is a `dict` recording the dealer and the corresponding price, e.g., \n",
    "```Python\n",
    "apple_price = [{'dealer': 'dealer_A', 'price': 6799},\n",
    " {'dealer': 'dealer_B', 'price': 6749},\n",
    " {'dealer': 'dealer_C', 'price': 6798},\n",
    " {'dealer': 'dealer_D', 'price': 6749}]\n",
    "```\n",
    "Define a function `dealers_with_lowest_price` that takes `apple_price` as an argument, and returns the `set` of dealers providing the lowest price."
   ]
  },
  {
   "cell_type": "code",
   "execution_count": 30,
   "metadata": {
    "ExecuteTime": {
     "end_time": "2020-11-23T14:30:16.037424Z",
     "start_time": "2020-11-23T14:30:16.014173Z"
    },
    "nbgrader": {
     "grade": false,
     "grade_id": "dealers_with_lowest_price",
     "locked": false,
     "schema_version": 3,
     "solution": true,
     "task": false
    }
   },
   "outputs": [],
   "source": [
    "def dealers_with_lowest_price(apple_price):\n",
    "    ### BEGIN SOLUTION\n",
    "    dealers = {}\n",
    "    lowest_price = None\n",
    "    for pricing in apple_price:\n",
    "        if lowest_price == None or lowest_price > pricing['price']:\n",
    "            lowest_price = pricing['price']\n",
    "        dealers.setdefault(pricing['price'], set()).add(pricing['dealer'])\n",
    "    return dealers[lowest_price]\n",
    "\n",
    "## Shorter code that uses comprehension\n",
    "# def dealers_with_lowest_price(apple_price):\n",
    "#     lowest_price = min(pricing['price'] for pricing in apple_price)\n",
    "#     return set(pricing['dealer'] for pricing in apple_price\n",
    "#                if pricing['price'] == lowest_price)\n",
    "    ### END SOLUTION"
   ]
  },
  {
   "cell_type": "code",
   "execution_count": 31,
   "metadata": {
    "ExecuteTime": {
     "end_time": "2020-11-23T14:30:16.691574Z",
     "start_time": "2020-11-23T14:30:16.682250Z"
    },
    "nbgrader": {
     "grade": true,
     "grade_id": "test-dealers_with_lowest_price",
     "locked": true,
     "points": 1,
     "schema_version": 3,
     "solution": false,
     "task": false
    }
   },
   "outputs": [],
   "source": [
    "# tests\n",
    "apple_price = [{'dealer': 'dealer_A', 'price': 6799},\n",
    " {'dealer': 'dealer_B', 'price': 6749},\n",
    " {'dealer': 'dealer_C', 'price': 6798},\n",
    " {'dealer': 'dealer_D', 'price': 6749}]\n",
    "assert dealers_with_lowest_price(apple_price) == {'dealer_B', 'dealer_D'}\n",
    "### BEGIN HIDDEN TESTS\n",
    "apple_price = [{'dealer': 'dealer_A', 'price': 6799},\n",
    " {'dealer': 'dealer_B', 'price': 6799},\n",
    " {'dealer': 'dealer_C', 'price': 6799},\n",
    " {'dealer': 'dealer_D', 'price': 6799}]\n",
    "assert dealers_with_lowest_price(apple_price) == {'dealer_A', 'dealer_B', 'dealer_C', 'dealer_D'}\n",
    "### END HIDDEN TESTS"
   ]
  },
  {
   "cell_type": "markdown",
   "metadata": {},
   "source": [
    "- Use the class method `setdefault` of `dict` to create a dictionary that maps different prices to different sets of dealers.\n",
    "- Compute the lowest price at the same time.\n",
    "- Alternatively, use comprehension to find lowest price and then create the desired set of dealers with the lowest price.\n"
   ]
  },
  {
   "cell_type": "markdown",
   "metadata": {},
   "source": [
    "## Lists and Tuples"
   ]
  },
  {
   "cell_type": "markdown",
   "metadata": {},
   "source": [
    "**Exercise** (Binary addition) Define a function `add_binary` that \n",
    "- accepts two arguments of type `str` which represent two non-negative binary numbers, and \n",
    "- returns the binary number in `str` equal to the sum of the two given binary numbers."
   ]
  },
  {
   "cell_type": "code",
   "execution_count": 80,
   "metadata": {
    "ExecuteTime": {
     "end_time": "2020-11-23T15:55:43.806764Z",
     "start_time": "2020-11-23T15:55:43.800743Z"
    },
    "nbgrader": {
     "grade": false,
     "grade_id": "add_binary",
     "locked": false,
     "schema_version": 3,
     "solution": true,
     "task": false
    }
   },
   "outputs": [],
   "source": [
    "def add_binary(*binaries):\n",
    "    ### BEGIN SOLUTION\n",
    "    def binary_to_decimal(binary):\n",
    "        return sum(2**i * int(b) for i, b in enumerate(reversed(binary)))\n",
    "\n",
    "    def decimal_to_binary(decimal):\n",
    "        return ((decimal_to_binary(decimal // 2) if decimal > 1 else '') +\n",
    "                str(decimal % 2)) if decimal else '0'\n",
    "    \n",
    "    return decimal_to_binary(sum(binary_to_decimal(binary) for binary in binaries))\n",
    "\n",
    "## Alternative 1 using recursion\n",
    "# def add_binary(bin1, bin2, carry=False):\n",
    "#     if len(bin1) > len(bin2):\n",
    "#         return add_binary(bin2, bin1)\n",
    "#     if bin1 == '':\n",
    "#         return add_binary('1', bin2, False) if carry else bin2\n",
    "#     s = int(bin1[-1]) + int(bin2[-1]) + carry\n",
    "#     return add_binary(bin1[:-1], bin2[:-1], s > 1) + str(s % 2)\n",
    "\n",
    "## Alternatve 2 using iteration\n",
    "# def add_binary(a, b):\n",
    "#     answer = []\n",
    "#     n = max(len(a), len(b))\n",
    "#     # fill necessary '0' to the beginning to make a and b have the same length\n",
    "#     if len(a) < n: a = str('0' * (n -len(a))) + a \n",
    "#     if len(b) < n: b = str('0' * (n -len(b))) + b\n",
    "#     carry = 0\n",
    "#     for i in range(n-1, -1, -1):\n",
    "#         if a[i] == '1': carry += 1\n",
    "#         if b[i] == '1': carry += 1\n",
    "#         answer.insert(0, '1') if carry % 2 == 1 else answer.insert(0, '0')\n",
    "#         carry //= 2\n",
    "#     if carry == 1: answer.insert(0, '1')\n",
    "#     answer_str = ''.join(answer) # you can also use \"answer_str = '';  for x in answer: answer_str += x\"\n",
    "#     return answerastr\n",
    "\n",
    "    ### END SOLUTION"
   ]
  },
  {
   "cell_type": "code",
   "execution_count": 79,
   "metadata": {
    "ExecuteTime": {
     "end_time": "2020-11-23T15:49:16.101739Z",
     "start_time": "2020-11-23T15:49:16.094252Z"
    },
    "nbgrader": {
     "grade": true,
     "grade_id": "test-add_binary",
     "locked": true,
     "points": 1,
     "schema_version": 3,
     "solution": false,
     "task": false
    }
   },
   "outputs": [],
   "source": [
    "# tests\n",
    "assert add_binary('0', '0') == '0'\n",
    "assert add_binary('11', '11')  == '110'\n",
    "assert add_binary('101', '101')  == '1010'\n",
    "### BEGIN HIDDEN TESTS\n",
    "assert add_binary('1111', '10')  == '10001'\n",
    "assert add_binary('111110000011','110000111')  == '1000100001010'\n",
    "### END HIDDEN TESTS"
   ]
  },
  {
   "cell_type": "markdown",
   "metadata": {},
   "source": [
    "- Use comprehension to convert the binary numbers to decimal numbers.\n",
    "- Use comprehension to convert the sum of the decimal numbers to a binary number.\n",
    "- Alternatively, perform bitwise addition using a recursion or iteration."
   ]
  },
  {
   "cell_type": "markdown",
   "metadata": {},
   "source": [
    "**Exercise (Even-digit numbers)** Define a function `even_digit_numbers`, which finds all numbers between `lower_bound` and `upper_bound` such that each digit of the number is an even number. Please return the numbers as a list."
   ]
  },
  {
   "cell_type": "code",
   "execution_count": 88,
   "metadata": {
    "ExecuteTime": {
     "end_time": "2020-11-23T16:14:48.151588Z",
     "start_time": "2020-11-23T16:14:48.145181Z"
    },
    "nbgrader": {
     "grade": false,
     "grade_id": "even_digit_numbers",
     "locked": false,
     "schema_version": 3,
     "solution": true,
     "task": false
    }
   },
   "outputs": [],
   "source": [
    "def even_digit_numbers(lower_bound, upper_bound):\n",
    "    ### BEGIN SOLUTION\n",
    "    return [\n",
    "        x for x in range(lower_bound, upper_bound)\n",
    "        if not any(int(d) % 2 for d in str(x))\n",
    "    ]\n",
    "    ### END SOLUTION"
   ]
  },
  {
   "cell_type": "code",
   "execution_count": 89,
   "metadata": {
    "ExecuteTime": {
     "end_time": "2020-11-23T16:14:52.757608Z",
     "start_time": "2020-11-23T16:14:52.753381Z"
    },
    "nbgrader": {
     "grade": true,
     "grade_id": "test-even_digit_numbers",
     "locked": true,
     "points": 1,
     "schema_version": 3,
     "solution": false,
     "task": false
    }
   },
   "outputs": [],
   "source": [
    "# tests\n",
    "assert even_digit_numbers(1999, 2001) == [2000]\n",
    "assert even_digit_numbers(2805, 2821) == [2806,2808,2820]\n",
    "### BEGIN HIDDEN TESTS\n",
    "assert even_digit_numbers(1999, 2300) == [2000,2002,2004,2006,2008,2020,2022,2024,2026,2028,2040,2042,2044,2046,2048,2060,2062,2064,2066,2068,2080,2082,2084,2086,2088,2200,2202,2204,2206,2208,2220,2222,2224,2226,2228,2240,2242,2244,2246,2248,2260,2262,2264,2266,2268,2280,2282,2284,2286,2288]\n",
    "assert even_digit_numbers(8801, 8833) == [8802,8804,8806,8808,8820,8822,8824,8826,8828]\n",
    "assert even_digit_numbers(3662, 4001) == [4000]\n",
    "### END HIDDEN TESTS"
   ]
  },
  {
   "cell_type": "markdown",
   "metadata": {},
   "source": [
    "- Use list comprehension to generate numbers between the bounds, and\n",
    "- use comprehension and the `any` function to filter out those numbers containing odd digits. "
   ]
  },
  {
   "cell_type": "markdown",
   "metadata": {},
   "source": [
    "**Exercise (Maximum subsequence sum)** Define a function `max_subsequence_sum` that \n",
    "- accepts as an argument a sequence of numbers, and \n",
    "- returns the maximum sum over nonempty contiguous subsequences.  \n",
    "\n",
    "E.g., when `[-6, -4, 4, 1, -2, 2]` is given as the argument, the function returns `5` because the nonempty subsequence `[4, 1]` has the maximum sum `5`."
   ]
  },
  {
   "cell_type": "code",
   "execution_count": 109,
   "metadata": {
    "ExecuteTime": {
     "end_time": "2020-11-23T17:45:31.790323Z",
     "start_time": "2020-11-23T17:45:31.786284Z"
    },
    "nbgrader": {
     "grade": false,
     "grade_id": "max_subsequence_sum",
     "locked": false,
     "schema_version": 3,
     "solution": true,
     "task": false
    }
   },
   "outputs": [],
   "source": [
    "def max_subsequence_sum(a):\n",
    "    ### BEGIN SOLUTION\n",
    "    ## see https://en.wikipedia.org/wiki/Maximum_subarray_problem\n",
    "    t = s = 0\n",
    "    for x in a:\n",
    "        t = max(0, t + x)\n",
    "        s = max(s, t)\n",
    "    return s\n",
    "\n",
    "## Alternative (less efficient) solution using list comprehension\n",
    "# def max_subsequence_sum(a):\n",
    "#     return max(sum(a[i:j]) for i in range(len(a)) for j in range(i,len(a)+1))\n",
    "\n",
    "    ### END SOLUTION"
   ]
  },
  {
   "cell_type": "code",
   "execution_count": 111,
   "metadata": {
    "ExecuteTime": {
     "end_time": "2020-11-23T17:46:37.967363Z",
     "start_time": "2020-11-23T17:46:37.943521Z"
    },
    "nbgrader": {
     "grade": true,
     "grade_id": "test-max_subsequence_sum",
     "locked": true,
     "points": 1,
     "schema_version": 3,
     "solution": false,
     "task": false
    }
   },
   "outputs": [],
   "source": [
    "# tests\n",
    "assert max_subsequence_sum([-6, -4, 4, 1, -2, 2]) == 5\n",
    "assert max_subsequence_sum([2.5, 1.4, -2.5, 1.4, 1.5, 1.6]) == 5.9\n",
    "### BEGIN HIDDEN TESTS\n",
    "seq = [-24.81, 25.74, 37.29, -8.77, 0.78, -15.33, 30.21, 34.94, -40.64, -20.06]\n",
    "assert round(max_subsequence_sum(seq),2) == 104.86\n",
    "### BEGIN HIDDEN TESTS"
   ]
  },
  {
   "cell_type": "code",
   "execution_count": 118,
   "metadata": {
    "ExecuteTime": {
     "end_time": "2020-11-23T17:51:36.465818Z",
     "start_time": "2020-11-23T17:51:35.962061Z"
    },
    "nbgrader": {
     "grade": true,
     "grade_id": "efficiency-max_subsequence_sum",
     "locked": true,
     "points": 1,
     "schema_version": 3,
     "solution": false,
     "task": false
    }
   },
   "outputs": [],
   "source": [
    "# test of efficiency\n",
    "assert max_subsequence_sum([*range(1234567)]) == 762077221461"
   ]
  },
  {
   "cell_type": "markdown",
   "metadata": {},
   "source": [
    "- For a list $[a_0,a_1,\\dots]$, let \n",
    "\n",
    "$$\n",
    "t_k:=\\max_{j<k} \\sum_{i=j}^{k-1} a_i = \\max\\{t_{k-1}+a_{k-1},0\\},\n",
    "$$ \n",
    "namely the maximum tail sum of $[a_0,\\dots,a_{k-1}]$. \n",
    "- Then, the maximum subsequence sum of $[a_0,\\dots,a_{k-1}]$ is \n",
    "\n",
    "$$\n",
    "s_k:=\\max_{j\\leq k} t_j.\n",
    "$$"
   ]
  },
  {
   "cell_type": "markdown",
   "metadata": {},
   "source": [
    "**Exercise (Mergesort)** *For this question, do not use the `sort` method or `sorted` function.*\n",
    "\n",
    "Define a function called `merge` that\n",
    "\n",
    "- takes two sequences sorted in ascending orders, and\n",
    "- returns a sorted list of items from the two sequences.\n",
    "\n",
    "Then, define a function called `mergesort` that\n",
    "\n",
    "- takes a sequence, and\n",
    "- return a list of items from the sequence sorted in ascending order.\n",
    "\n",
    "The list should be constructed by \n",
    "\n",
    " - recursive calls to `mergesort` the first and second halves of the sequence individually, and\n",
    " - merge the sorted halves."
   ]
  },
  {
   "cell_type": "code",
   "execution_count": 119,
   "metadata": {
    "ExecuteTime": {
     "end_time": "2020-11-23T17:58:24.722794Z",
     "start_time": "2020-11-23T17:58:24.715156Z"
    },
    "nbgrader": {
     "grade": false,
     "grade_id": "merge",
     "locked": false,
     "schema_version": 3,
     "solution": true,
     "task": false
    }
   },
   "outputs": [],
   "source": [
    "def merge(left,right):\n",
    "    ### BEGIN SOLUTION\n",
    "    if left and right:\n",
    "        if left[-1] > right[-1]: left, right = right, left\n",
    "        return merge(left,right[:-1]) + [right[-1]]\n",
    "    return list(left or right)\n",
    "    ### END SOLUTION"
   ]
  },
  {
   "cell_type": "code",
   "execution_count": null,
   "metadata": {
    "nbgrader": {
     "grade": false,
     "grade_id": "mergesort",
     "locked": false,
     "schema_version": 3,
     "solution": true,
     "task": false
    }
   },
   "outputs": [],
   "source": [
    "def mergesort(seq):\n",
    "    ### BEGIN SOLUTION\n",
    "    if len(seq) <= 1:\n",
    "        return list(seq)\n",
    "    i = len(seq)//2\n",
    "    return merge(mergesort(seq[:i]),mergesort(seq[i:]))\n",
    "    ### END SOLUTION"
   ]
  },
  {
   "cell_type": "code",
   "execution_count": null,
   "metadata": {
    "nbgrader": {
     "grade": true,
     "grade_id": "test-mergesort",
     "locked": true,
     "points": 1,
     "schema_version": 3,
     "solution": false,
     "task": false
    }
   },
   "outputs": [],
   "source": [
    "# tests\n",
    "assert merge([1,3],[2,4]) == [1,2,3,4]\n",
    "assert mergesort([3,2,1]) == [1,2,3]\n",
    "### BEGIN HIDDEN TESTS\n",
    "assert mergesort([3,5,2,4,2,1]) == [1,2,2,3,4,5]\n",
    "### END HIDDEN TESTS"
   ]
  },
  {
   "cell_type": "markdown",
   "metadata": {},
   "source": [
    "## More Functions"
   ]
  },
  {
   "cell_type": "markdown",
   "metadata": {},
   "source": [
    "**Exercise (Arithmetic geometric mean)** Define a function `arithmetic_geometric_mean_sequence` which\n",
    "\n",
    "- takes two floating point numbers  `x` and `y` and \n",
    "- returns a generator that generates the tuple \\\\((a_n, g_n)\\\\) where\n",
    "\n",
    "$$\n",
    "\\begin{aligned}\n",
    "a_0 &= x, g_0 = y \\\\\n",
    "a_n &= \\frac{a_{n-1} + g_{n-1}}2 \\quad \\text{for }n>0\\\\\n",
    "g_n &= \\sqrt{a_{n-1} g_{n-1}}\n",
    "\\end{aligned}\n",
    "$$"
   ]
  },
  {
   "cell_type": "code",
   "execution_count": 83,
   "metadata": {
    "ExecuteTime": {
     "end_time": "2020-11-23T16:05:01.507575Z",
     "start_time": "2020-11-23T16:05:01.486238Z"
    },
    "nbgrader": {
     "grade": false,
     "grade_id": "arithmetic_geometric_mean_sequence",
     "locked": false,
     "schema_version": 3,
     "solution": true,
     "task": false
    }
   },
   "outputs": [],
   "source": [
    "def arithmetic_geometric_mean_sequence(x, y):\n",
    "    ### BEGIN SOLUTION\n",
    "    a, g = x, y\n",
    "    while True:\n",
    "        yield a, g\n",
    "        a, g = (a + g)/2, (a*g)**0.5\n",
    "    ### END SOLUTION"
   ]
  },
  {
   "cell_type": "code",
   "execution_count": 84,
   "metadata": {
    "ExecuteTime": {
     "end_time": "2020-11-23T16:05:02.134997Z",
     "start_time": "2020-11-23T16:05:02.127105Z"
    },
    "nbgrader": {
     "grade": true,
     "grade_id": "test-arithmetic_geometric_mean_sequence",
     "locked": true,
     "points": 1,
     "schema_version": 3,
     "solution": false,
     "task": false
    }
   },
   "outputs": [],
   "source": [
    "# tests\n",
    "agm = arithmetic_geometric_mean_sequence(6,24)\n",
    "assert [next(agm) for i in range(2)] == [(6, 24), (15.0, 12.0)]\n",
    "### BEGIN HIDDEN TESTS\n",
    "agm = arithmetic_geometric_mean_sequence(100,400)\n",
    "for sol, ans in zip([next(agm) for i in range(5)], [(100, 400), (250.0, 200.0), (225.0, 223.60679774997897), (224.30339887498948, 224.30231718318308), (224.30285802908628, 224.30285802843423)]):\n",
    "    for a, b in zip(sol,ans):\n",
    "        assert round(a,5) == round(b,5)\n",
    "### END HIDDEN TESTS"
   ]
  },
  {
   "cell_type": "markdown",
   "metadata": {},
   "source": [
    "- Use the `yield` expression to return each tuple of $(a_n,g_n)$ efficiently without redundant computations."
   ]
  }
 ],
 "metadata": {
  "celltoolbar": "Create Assignment",
  "kernelspec": {
   "display_name": "Python 3.7",
   "language": "python",
   "name": "python3"
  },
  "language_info": {
   "codemirror_mode": {
    "name": "ipython",
    "version": 3
   },
   "file_extension": ".py",
   "mimetype": "text/x-python",
   "name": "python",
   "nbconvert_exporter": "python",
   "pygments_lexer": "ipython3",
   "version": "3.7.6"
  },
  "latex_envs": {
   "LaTeX_envs_menu_present": true,
   "autoclose": false,
   "autocomplete": true,
   "bibliofile": "biblio.bib",
   "cite_by": "apalike",
   "current_citInitial": 1,
   "eqLabelWithNumbers": true,
   "eqNumInitial": 1,
   "hotkeys": {
    "equation": "Ctrl-E",
    "itemize": "Ctrl-I"
   },
   "labels_anchors": false,
   "latex_user_defs": false,
   "report_style_numbering": false,
   "user_envs_cfg": false
  },
  "rise": {
   "enable_chalkboard": true,
   "scroll": true,
   "theme": "white"
  },
  "toc": {
   "base_numbering": 1,
   "nav_menu": {
    "height": "195px",
    "width": "330px"
   },
   "number_sections": true,
   "sideBar": true,
   "skip_h1_title": true,
   "title_cell": "Table of Contents",
   "title_sidebar": "Contents",
   "toc_cell": false,
   "toc_position": {
    "height": "454.418px",
    "left": "1533px",
    "top": "110.284px",
    "width": "435.327px"
   },
   "toc_section_display": true,
   "toc_window_display": false
  }
 },
 "nbformat": 4,
 "nbformat_minor": 4
}
